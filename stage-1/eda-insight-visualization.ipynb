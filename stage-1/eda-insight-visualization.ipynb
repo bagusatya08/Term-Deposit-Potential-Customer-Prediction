{
 "cells": [
  {
   "cell_type": "code",
   "execution_count": 1,
   "id": "cb71f7f2-825b-463e-9211-0723064b6d3f",
   "metadata": {
    "tags": []
   },
   "outputs": [],
   "source": [
    "# install dulu kalo belom punya\n",
    "# !pip install session_info "
   ]
  },
  {
   "cell_type": "code",
   "execution_count": 2,
   "id": "d9d6c3fc-a2ff-49ab-9eaa-557981c27073",
   "metadata": {
    "tags": []
   },
   "outputs": [],
   "source": [
    "# math & tables module\n",
    "import numpy as np\n",
    "import pandas as pd\n",
    "\n",
    "# plotting module\n",
    "from matplotlib import pyplot as plt\n",
    "import seaborn as sns\n",
    "\n",
    "# module to show version used in project\n",
    "import session_info\n",
    "\n",
    "# statistics module\n",
    "from scipy import stats as st\n",
    "import statsmodels.stats.proportion as sp\n"
   ]
  },
  {
   "cell_type": "code",
   "execution_count": 3,
   "id": "707e796c-1d78-4301-a0c8-bded47e04091",
   "metadata": {
    "tags": []
   },
   "outputs": [
    {
     "data": {
      "text/html": [
       "<details>\n",
       "<summary>Click to view session information</summary>\n",
       "<pre>\n",
       "-----\n",
       "matplotlib          3.8.0\n",
       "numpy               1.26.1\n",
       "pandas              2.1.1\n",
       "scipy               1.11.3\n",
       "seaborn             0.13.0\n",
       "session_info        1.0.0\n",
       "statsmodels         0.14.0\n",
       "-----\n",
       "</pre>\n",
       "<details>\n",
       "<summary>Click to view modules imported as dependencies</summary>\n",
       "<pre>\n",
       "PIL                 10.1.0\n",
       "appnope             0.1.3\n",
       "asttokens           NA\n",
       "backcall            0.2.0\n",
       "comm                0.1.4\n",
       "cycler              0.12.1\n",
       "cython_runtime      NA\n",
       "dateutil            2.8.2\n",
       "debugpy             1.8.0\n",
       "decorator           5.1.1\n",
       "executing           2.0.0\n",
       "ipykernel           6.25.2\n",
       "jedi                0.19.1\n",
       "kiwisolver          1.4.5\n",
       "mpl_toolkits        NA\n",
       "packaging           23.2\n",
       "parso               0.8.3\n",
       "patsy               0.5.3\n",
       "pexpect             4.8.0\n",
       "pickleshare         0.7.5\n",
       "platformdirs        3.11.0\n",
       "prompt_toolkit      3.0.39\n",
       "psutil              5.9.6\n",
       "ptyprocess          0.7.0\n",
       "pure_eval           0.2.2\n",
       "pydev_ipython       NA\n",
       "pydevconsole        NA\n",
       "pydevd              2.9.5\n",
       "pydevd_file_utils   NA\n",
       "pydevd_plugins      NA\n",
       "pydevd_tracing      NA\n",
       "pygments            2.16.1\n",
       "pyparsing           3.1.1\n",
       "pytz                2023.3.post1\n",
       "six                 1.16.0\n",
       "stack_data          0.6.3\n",
       "tornado             6.3.3\n",
       "traitlets           5.11.2\n",
       "wcwidth             0.2.8\n",
       "zmq                 25.1.1\n",
       "</pre>\n",
       "</details> <!-- seems like this ends pre, so might as well be explicit -->\n",
       "<pre>\n",
       "-----\n",
       "IPython             8.16.1\n",
       "jupyter_client      8.4.0\n",
       "jupyter_core        5.4.0\n",
       "-----\n",
       "Python 3.11.4 (main, Jul  5 2023, 08:54:11) [Clang 14.0.6 ]\n",
       "macOS-13.5.2-arm64-i386-64bit\n",
       "-----\n",
       "Session information updated at 2023-10-22 15:13\n",
       "</pre>\n",
       "</details>"
      ],
      "text/plain": [
       "<IPython.core.display.HTML object>"
      ]
     },
     "execution_count": 3,
     "metadata": {},
     "output_type": "execute_result"
    }
   ],
   "source": [
    "# session module version\n",
    "session_info.show()"
   ]
  },
  {
   "cell_type": "code",
   "execution_count": 4,
   "id": "72bc1196-81f4-4340-997b-c649bb1219b1",
   "metadata": {
    "tags": []
   },
   "outputs": [],
   "source": [
    "# reading dataset\n",
    "data = pd.read_csv(\"train.csv\", sep=';')"
   ]
  },
  {
   "cell_type": "code",
   "execution_count": 5,
   "id": "0d1ae074-9505-4ce8-8d42-96a648fc982b",
   "metadata": {
    "tags": []
   },
   "outputs": [
    {
     "data": {
      "text/html": [
       "<div>\n",
       "<style scoped>\n",
       "    .dataframe tbody tr th:only-of-type {\n",
       "        vertical-align: middle;\n",
       "    }\n",
       "\n",
       "    .dataframe tbody tr th {\n",
       "        vertical-align: top;\n",
       "    }\n",
       "\n",
       "    .dataframe thead th {\n",
       "        text-align: right;\n",
       "    }\n",
       "</style>\n",
       "<table border=\"1\" class=\"dataframe\">\n",
       "  <thead>\n",
       "    <tr style=\"text-align: right;\">\n",
       "      <th></th>\n",
       "      <th>age</th>\n",
       "      <th>job</th>\n",
       "      <th>marital</th>\n",
       "      <th>education</th>\n",
       "      <th>default</th>\n",
       "      <th>balance</th>\n",
       "      <th>housing</th>\n",
       "      <th>loan</th>\n",
       "      <th>contact</th>\n",
       "      <th>day</th>\n",
       "      <th>month</th>\n",
       "      <th>duration</th>\n",
       "      <th>campaign</th>\n",
       "      <th>pdays</th>\n",
       "      <th>previous</th>\n",
       "      <th>poutcome</th>\n",
       "      <th>y</th>\n",
       "    </tr>\n",
       "  </thead>\n",
       "  <tbody>\n",
       "    <tr>\n",
       "      <th>0</th>\n",
       "      <td>58</td>\n",
       "      <td>management</td>\n",
       "      <td>married</td>\n",
       "      <td>tertiary</td>\n",
       "      <td>no</td>\n",
       "      <td>2143</td>\n",
       "      <td>yes</td>\n",
       "      <td>no</td>\n",
       "      <td>unknown</td>\n",
       "      <td>5</td>\n",
       "      <td>may</td>\n",
       "      <td>261</td>\n",
       "      <td>1</td>\n",
       "      <td>-1</td>\n",
       "      <td>0</td>\n",
       "      <td>unknown</td>\n",
       "      <td>no</td>\n",
       "    </tr>\n",
       "    <tr>\n",
       "      <th>1</th>\n",
       "      <td>44</td>\n",
       "      <td>technician</td>\n",
       "      <td>single</td>\n",
       "      <td>secondary</td>\n",
       "      <td>no</td>\n",
       "      <td>29</td>\n",
       "      <td>yes</td>\n",
       "      <td>no</td>\n",
       "      <td>unknown</td>\n",
       "      <td>5</td>\n",
       "      <td>may</td>\n",
       "      <td>151</td>\n",
       "      <td>1</td>\n",
       "      <td>-1</td>\n",
       "      <td>0</td>\n",
       "      <td>unknown</td>\n",
       "      <td>no</td>\n",
       "    </tr>\n",
       "    <tr>\n",
       "      <th>2</th>\n",
       "      <td>33</td>\n",
       "      <td>entrepreneur</td>\n",
       "      <td>married</td>\n",
       "      <td>secondary</td>\n",
       "      <td>no</td>\n",
       "      <td>2</td>\n",
       "      <td>yes</td>\n",
       "      <td>yes</td>\n",
       "      <td>unknown</td>\n",
       "      <td>5</td>\n",
       "      <td>may</td>\n",
       "      <td>76</td>\n",
       "      <td>1</td>\n",
       "      <td>-1</td>\n",
       "      <td>0</td>\n",
       "      <td>unknown</td>\n",
       "      <td>no</td>\n",
       "    </tr>\n",
       "    <tr>\n",
       "      <th>3</th>\n",
       "      <td>47</td>\n",
       "      <td>blue-collar</td>\n",
       "      <td>married</td>\n",
       "      <td>unknown</td>\n",
       "      <td>no</td>\n",
       "      <td>1506</td>\n",
       "      <td>yes</td>\n",
       "      <td>no</td>\n",
       "      <td>unknown</td>\n",
       "      <td>5</td>\n",
       "      <td>may</td>\n",
       "      <td>92</td>\n",
       "      <td>1</td>\n",
       "      <td>-1</td>\n",
       "      <td>0</td>\n",
       "      <td>unknown</td>\n",
       "      <td>no</td>\n",
       "    </tr>\n",
       "    <tr>\n",
       "      <th>4</th>\n",
       "      <td>33</td>\n",
       "      <td>unknown</td>\n",
       "      <td>single</td>\n",
       "      <td>unknown</td>\n",
       "      <td>no</td>\n",
       "      <td>1</td>\n",
       "      <td>no</td>\n",
       "      <td>no</td>\n",
       "      <td>unknown</td>\n",
       "      <td>5</td>\n",
       "      <td>may</td>\n",
       "      <td>198</td>\n",
       "      <td>1</td>\n",
       "      <td>-1</td>\n",
       "      <td>0</td>\n",
       "      <td>unknown</td>\n",
       "      <td>no</td>\n",
       "    </tr>\n",
       "  </tbody>\n",
       "</table>\n",
       "</div>"
      ],
      "text/plain": [
       "   age           job  marital  education default  balance housing loan  \\\n",
       "0   58    management  married   tertiary      no     2143     yes   no   \n",
       "1   44    technician   single  secondary      no       29     yes   no   \n",
       "2   33  entrepreneur  married  secondary      no        2     yes  yes   \n",
       "3   47   blue-collar  married    unknown      no     1506     yes   no   \n",
       "4   33       unknown   single    unknown      no        1      no   no   \n",
       "\n",
       "   contact  day month  duration  campaign  pdays  previous poutcome   y  \n",
       "0  unknown    5   may       261         1     -1         0  unknown  no  \n",
       "1  unknown    5   may       151         1     -1         0  unknown  no  \n",
       "2  unknown    5   may        76         1     -1         0  unknown  no  \n",
       "3  unknown    5   may        92         1     -1         0  unknown  no  \n",
       "4  unknown    5   may       198         1     -1         0  unknown  no  "
      ]
     },
     "execution_count": 5,
     "metadata": {},
     "output_type": "execute_result"
    }
   ],
   "source": [
    "data.head()"
   ]
  },
  {
   "cell_type": "markdown",
   "id": "787fa6f4-2546-49e4-9886-a58705d41ccb",
   "metadata": {
    "tags": []
   },
   "source": [
    "## Descriptive Analysis"
   ]
  },
  {
   "cell_type": "code",
   "execution_count": 6,
   "id": "40d2206e-4514-4844-bab3-400e7c397af4",
   "metadata": {
    "tags": []
   },
   "outputs": [
    {
     "name": "stdout",
     "output_type": "stream",
     "text": [
      "<class 'pandas.core.frame.DataFrame'>\n",
      "RangeIndex: 45211 entries, 0 to 45210\n",
      "Data columns (total 17 columns):\n",
      " #   Column     Non-Null Count  Dtype \n",
      "---  ------     --------------  ----- \n",
      " 0   age        45211 non-null  int64 \n",
      " 1   job        45211 non-null  object\n",
      " 2   marital    45211 non-null  object\n",
      " 3   education  45211 non-null  object\n",
      " 4   default    45211 non-null  object\n",
      " 5   balance    45211 non-null  int64 \n",
      " 6   housing    45211 non-null  object\n",
      " 7   loan       45211 non-null  object\n",
      " 8   contact    45211 non-null  object\n",
      " 9   day        45211 non-null  int64 \n",
      " 10  month      45211 non-null  object\n",
      " 11  duration   45211 non-null  int64 \n",
      " 12  campaign   45211 non-null  int64 \n",
      " 13  pdays      45211 non-null  int64 \n",
      " 14  previous   45211 non-null  int64 \n",
      " 15  poutcome   45211 non-null  object\n",
      " 16  y          45211 non-null  object\n",
      "dtypes: int64(7), object(10)\n",
      "memory usage: 5.9+ MB\n"
     ]
    }
   ],
   "source": [
    "data.info()"
   ]
  },
  {
   "cell_type": "code",
   "execution_count": 7,
   "id": "ab3a71a3-4065-4949-b3ab-dc883e393830",
   "metadata": {
    "tags": []
   },
   "outputs": [
    {
     "name": "stdout",
     "output_type": "stream",
     "text": [
      "Index(['age', 'balance', 'day', 'duration', 'campaign', 'pdays', 'previous'], dtype='object')\n"
     ]
    }
   ],
   "source": [
    "num_dtypes = ['int16', 'int32', 'int64', 'float16', 'float32', 'float64']\n",
    "num_df = data.select_dtypes(include=num_dtypes)\n",
    "\n",
    "numericals = num_df.columns  \n",
    "print(numericals)\n"
   ]
  },
  {
   "cell_type": "code",
   "execution_count": 8,
   "id": "6895d275-5239-4067-a886-f79e9fa00d36",
   "metadata": {
    "tags": []
   },
   "outputs": [],
   "source": [
    "category = ['job','marital','education','default','housing','loan','contact','month','poutcome','y']\n",
    "numerical = ['age','balance','day','duration','campaign','pdays','previous']"
   ]
  },
  {
   "cell_type": "code",
   "execution_count": 9,
   "id": "117e94ff-7b10-4075-a23e-8fc87be15350",
   "metadata": {},
   "outputs": [],
   "source": [
    "ordinal = ['education','default','housing','loan','month','y','marital','poutcome']\n",
    "nominal = ['job','contact']"
   ]
  },
  {
   "cell_type": "markdown",
   "id": "aeaf2ccd-7ce4-4b6d-ad49-23950160c3c2",
   "metadata": {
    "tags": []
   },
   "source": [
    "### categorical variable detail"
   ]
  },
  {
   "cell_type": "code",
   "execution_count": 10,
   "id": "ff18b322-ce77-42a0-9f81-701de6c90314",
   "metadata": {
    "tags": []
   },
   "outputs": [
    {
     "data": {
      "text/html": [
       "<div>\n",
       "<style scoped>\n",
       "    .dataframe tbody tr th:only-of-type {\n",
       "        vertical-align: middle;\n",
       "    }\n",
       "\n",
       "    .dataframe tbody tr th {\n",
       "        vertical-align: top;\n",
       "    }\n",
       "\n",
       "    .dataframe thead th {\n",
       "        text-align: right;\n",
       "    }\n",
       "</style>\n",
       "<table border=\"1\" class=\"dataframe\">\n",
       "  <thead>\n",
       "    <tr style=\"text-align: right;\">\n",
       "      <th></th>\n",
       "      <th>job</th>\n",
       "      <th>marital</th>\n",
       "      <th>education</th>\n",
       "      <th>default</th>\n",
       "      <th>housing</th>\n",
       "      <th>loan</th>\n",
       "      <th>contact</th>\n",
       "      <th>month</th>\n",
       "      <th>poutcome</th>\n",
       "      <th>y</th>\n",
       "    </tr>\n",
       "  </thead>\n",
       "  <tbody>\n",
       "    <tr>\n",
       "      <th>count</th>\n",
       "      <td>45211</td>\n",
       "      <td>45211</td>\n",
       "      <td>45211</td>\n",
       "      <td>45211</td>\n",
       "      <td>45211</td>\n",
       "      <td>45211</td>\n",
       "      <td>45211</td>\n",
       "      <td>45211</td>\n",
       "      <td>45211</td>\n",
       "      <td>45211</td>\n",
       "    </tr>\n",
       "    <tr>\n",
       "      <th>unique</th>\n",
       "      <td>12</td>\n",
       "      <td>3</td>\n",
       "      <td>4</td>\n",
       "      <td>2</td>\n",
       "      <td>2</td>\n",
       "      <td>2</td>\n",
       "      <td>3</td>\n",
       "      <td>12</td>\n",
       "      <td>4</td>\n",
       "      <td>2</td>\n",
       "    </tr>\n",
       "    <tr>\n",
       "      <th>top</th>\n",
       "      <td>blue-collar</td>\n",
       "      <td>married</td>\n",
       "      <td>secondary</td>\n",
       "      <td>no</td>\n",
       "      <td>yes</td>\n",
       "      <td>no</td>\n",
       "      <td>cellular</td>\n",
       "      <td>may</td>\n",
       "      <td>unknown</td>\n",
       "      <td>no</td>\n",
       "    </tr>\n",
       "    <tr>\n",
       "      <th>freq</th>\n",
       "      <td>9732</td>\n",
       "      <td>27214</td>\n",
       "      <td>23202</td>\n",
       "      <td>44396</td>\n",
       "      <td>25130</td>\n",
       "      <td>37967</td>\n",
       "      <td>29285</td>\n",
       "      <td>13766</td>\n",
       "      <td>36959</td>\n",
       "      <td>39922</td>\n",
       "    </tr>\n",
       "  </tbody>\n",
       "</table>\n",
       "</div>"
      ],
      "text/plain": [
       "                job  marital  education default housing   loan   contact  \\\n",
       "count         45211    45211      45211   45211   45211  45211     45211   \n",
       "unique           12        3          4       2       2      2         3   \n",
       "top     blue-collar  married  secondary      no     yes     no  cellular   \n",
       "freq           9732    27214      23202   44396   25130  37967     29285   \n",
       "\n",
       "        month poutcome      y  \n",
       "count   45211    45211  45211  \n",
       "unique     12        4      2  \n",
       "top       may  unknown     no  \n",
       "freq    13766    36959  39922  "
      ]
     },
     "execution_count": 10,
     "metadata": {},
     "output_type": "execute_result"
    }
   ],
   "source": [
    "data[category].describe()"
   ]
  },
  {
   "cell_type": "markdown",
   "id": "d9558866-c315-4fc7-8a4d-0ba35b55523b",
   "metadata": {},
   "source": [
    "#### investigation for unknown value in categorical variable"
   ]
  },
  {
   "cell_type": "markdown",
   "id": "c3f67b72-b5b4-4f0f-8688-7dfd99ecf332",
   "metadata": {
    "tags": []
   },
   "source": [
    "##### there are unknown & other value"
   ]
  },
  {
   "cell_type": "code",
   "execution_count": 11,
   "id": "58a286d3-831f-4c1d-949b-391780df61a4",
   "metadata": {
    "tags": []
   },
   "outputs": [
    {
     "data": {
      "text/html": [
       "<div>\n",
       "<style scoped>\n",
       "    .dataframe tbody tr th:only-of-type {\n",
       "        vertical-align: middle;\n",
       "    }\n",
       "\n",
       "    .dataframe tbody tr th {\n",
       "        vertical-align: top;\n",
       "    }\n",
       "\n",
       "    .dataframe thead th {\n",
       "        text-align: right;\n",
       "    }\n",
       "</style>\n",
       "<table border=\"1\" class=\"dataframe\">\n",
       "  <thead>\n",
       "    <tr style=\"text-align: right;\">\n",
       "      <th>job</th>\n",
       "      <th>blue-collar</th>\n",
       "      <th>management</th>\n",
       "      <th>technician</th>\n",
       "      <th>admin.</th>\n",
       "      <th>services</th>\n",
       "      <th>retired</th>\n",
       "      <th>self-employed</th>\n",
       "      <th>entrepreneur</th>\n",
       "      <th>unemployed</th>\n",
       "      <th>housemaid</th>\n",
       "      <th>student</th>\n",
       "      <th>unknown</th>\n",
       "    </tr>\n",
       "  </thead>\n",
       "  <tbody>\n",
       "    <tr>\n",
       "      <th>count</th>\n",
       "      <td>9732</td>\n",
       "      <td>9458</td>\n",
       "      <td>7597</td>\n",
       "      <td>5171</td>\n",
       "      <td>4154</td>\n",
       "      <td>2264</td>\n",
       "      <td>1579</td>\n",
       "      <td>1487</td>\n",
       "      <td>1303</td>\n",
       "      <td>1240</td>\n",
       "      <td>938</td>\n",
       "      <td>288</td>\n",
       "    </tr>\n",
       "  </tbody>\n",
       "</table>\n",
       "</div>"
      ],
      "text/plain": [
       "job    blue-collar  management  technician  admin.  services  retired  \\\n",
       "count         9732        9458        7597    5171      4154     2264   \n",
       "\n",
       "job    self-employed  entrepreneur  unemployed  housemaid  student  unknown  \n",
       "count           1579          1487        1303       1240      938      288  "
      ]
     },
     "execution_count": 11,
     "metadata": {},
     "output_type": "execute_result"
    }
   ],
   "source": [
    "data.job.value_counts().to_frame().T"
   ]
  },
  {
   "cell_type": "code",
   "execution_count": 12,
   "id": "c43d4e5d-6c01-4ff3-9dc1-e061398cef82",
   "metadata": {
    "tags": []
   },
   "outputs": [
    {
     "data": {
      "text/html": [
       "<div>\n",
       "<style scoped>\n",
       "    .dataframe tbody tr th:only-of-type {\n",
       "        vertical-align: middle;\n",
       "    }\n",
       "\n",
       "    .dataframe tbody tr th {\n",
       "        vertical-align: top;\n",
       "    }\n",
       "\n",
       "    .dataframe thead th {\n",
       "        text-align: right;\n",
       "    }\n",
       "</style>\n",
       "<table border=\"1\" class=\"dataframe\">\n",
       "  <thead>\n",
       "    <tr style=\"text-align: right;\">\n",
       "      <th>education</th>\n",
       "      <th>secondary</th>\n",
       "      <th>tertiary</th>\n",
       "      <th>primary</th>\n",
       "      <th>unknown</th>\n",
       "    </tr>\n",
       "  </thead>\n",
       "  <tbody>\n",
       "    <tr>\n",
       "      <th>count</th>\n",
       "      <td>23202</td>\n",
       "      <td>13301</td>\n",
       "      <td>6851</td>\n",
       "      <td>1857</td>\n",
       "    </tr>\n",
       "  </tbody>\n",
       "</table>\n",
       "</div>"
      ],
      "text/plain": [
       "education  secondary  tertiary  primary  unknown\n",
       "count          23202     13301     6851     1857"
      ]
     },
     "execution_count": 12,
     "metadata": {},
     "output_type": "execute_result"
    }
   ],
   "source": [
    "data.education.value_counts().to_frame().T"
   ]
  },
  {
   "cell_type": "code",
   "execution_count": 13,
   "id": "cdd99e0a-4c84-480d-8b97-789b0d839566",
   "metadata": {
    "tags": []
   },
   "outputs": [
    {
     "data": {
      "text/html": [
       "<div>\n",
       "<style scoped>\n",
       "    .dataframe tbody tr th:only-of-type {\n",
       "        vertical-align: middle;\n",
       "    }\n",
       "\n",
       "    .dataframe tbody tr th {\n",
       "        vertical-align: top;\n",
       "    }\n",
       "\n",
       "    .dataframe thead th {\n",
       "        text-align: right;\n",
       "    }\n",
       "</style>\n",
       "<table border=\"1\" class=\"dataframe\">\n",
       "  <thead>\n",
       "    <tr style=\"text-align: right;\">\n",
       "      <th>contact</th>\n",
       "      <th>cellular</th>\n",
       "      <th>unknown</th>\n",
       "      <th>telephone</th>\n",
       "    </tr>\n",
       "  </thead>\n",
       "  <tbody>\n",
       "    <tr>\n",
       "      <th>count</th>\n",
       "      <td>29285</td>\n",
       "      <td>13020</td>\n",
       "      <td>2906</td>\n",
       "    </tr>\n",
       "  </tbody>\n",
       "</table>\n",
       "</div>"
      ],
      "text/plain": [
       "contact  cellular  unknown  telephone\n",
       "count       29285    13020       2906"
      ]
     },
     "execution_count": 13,
     "metadata": {},
     "output_type": "execute_result"
    }
   ],
   "source": [
    "data.contact.value_counts().to_frame().T"
   ]
  },
  {
   "cell_type": "markdown",
   "id": "f1192790-3f9f-48f3-8118-811dca5be0e4",
   "metadata": {
    "tags": []
   },
   "source": [
    "##### normal value"
   ]
  },
  {
   "cell_type": "code",
   "execution_count": 14,
   "id": "5008fa11-70de-4087-b7f6-486c1a8d7e4b",
   "metadata": {
    "tags": []
   },
   "outputs": [
    {
     "data": {
      "text/html": [
       "<div>\n",
       "<style scoped>\n",
       "    .dataframe tbody tr th:only-of-type {\n",
       "        vertical-align: middle;\n",
       "    }\n",
       "\n",
       "    .dataframe tbody tr th {\n",
       "        vertical-align: top;\n",
       "    }\n",
       "\n",
       "    .dataframe thead th {\n",
       "        text-align: right;\n",
       "    }\n",
       "</style>\n",
       "<table border=\"1\" class=\"dataframe\">\n",
       "  <thead>\n",
       "    <tr style=\"text-align: right;\">\n",
       "      <th>marital</th>\n",
       "      <th>married</th>\n",
       "      <th>single</th>\n",
       "      <th>divorced</th>\n",
       "    </tr>\n",
       "  </thead>\n",
       "  <tbody>\n",
       "    <tr>\n",
       "      <th>count</th>\n",
       "      <td>27214</td>\n",
       "      <td>12790</td>\n",
       "      <td>5207</td>\n",
       "    </tr>\n",
       "  </tbody>\n",
       "</table>\n",
       "</div>"
      ],
      "text/plain": [
       "marital  married  single  divorced\n",
       "count      27214   12790      5207"
      ]
     },
     "execution_count": 14,
     "metadata": {},
     "output_type": "execute_result"
    }
   ],
   "source": [
    "data.marital.value_counts().to_frame().T"
   ]
  },
  {
   "cell_type": "code",
   "execution_count": 15,
   "id": "b55ecea6-7425-45d1-9665-d4feb39bef91",
   "metadata": {
    "tags": []
   },
   "outputs": [
    {
     "data": {
      "text/html": [
       "<div>\n",
       "<style scoped>\n",
       "    .dataframe tbody tr th:only-of-type {\n",
       "        vertical-align: middle;\n",
       "    }\n",
       "\n",
       "    .dataframe tbody tr th {\n",
       "        vertical-align: top;\n",
       "    }\n",
       "\n",
       "    .dataframe thead th {\n",
       "        text-align: right;\n",
       "    }\n",
       "</style>\n",
       "<table border=\"1\" class=\"dataframe\">\n",
       "  <thead>\n",
       "    <tr style=\"text-align: right;\">\n",
       "      <th>default</th>\n",
       "      <th>no</th>\n",
       "      <th>yes</th>\n",
       "    </tr>\n",
       "  </thead>\n",
       "  <tbody>\n",
       "    <tr>\n",
       "      <th>count</th>\n",
       "      <td>44396</td>\n",
       "      <td>815</td>\n",
       "    </tr>\n",
       "  </tbody>\n",
       "</table>\n",
       "</div>"
      ],
      "text/plain": [
       "default     no  yes\n",
       "count    44396  815"
      ]
     },
     "execution_count": 15,
     "metadata": {},
     "output_type": "execute_result"
    }
   ],
   "source": [
    "data.default.value_counts().to_frame().T"
   ]
  },
  {
   "cell_type": "code",
   "execution_count": 16,
   "id": "7347ac06-73a9-4152-a38a-87beb983a72c",
   "metadata": {
    "tags": []
   },
   "outputs": [
    {
     "data": {
      "text/html": [
       "<div>\n",
       "<style scoped>\n",
       "    .dataframe tbody tr th:only-of-type {\n",
       "        vertical-align: middle;\n",
       "    }\n",
       "\n",
       "    .dataframe tbody tr th {\n",
       "        vertical-align: top;\n",
       "    }\n",
       "\n",
       "    .dataframe thead th {\n",
       "        text-align: right;\n",
       "    }\n",
       "</style>\n",
       "<table border=\"1\" class=\"dataframe\">\n",
       "  <thead>\n",
       "    <tr style=\"text-align: right;\">\n",
       "      <th>poutcome</th>\n",
       "      <th>unknown</th>\n",
       "      <th>failure</th>\n",
       "      <th>other</th>\n",
       "      <th>success</th>\n",
       "    </tr>\n",
       "  </thead>\n",
       "  <tbody>\n",
       "    <tr>\n",
       "      <th>count</th>\n",
       "      <td>36959</td>\n",
       "      <td>4901</td>\n",
       "      <td>1840</td>\n",
       "      <td>1511</td>\n",
       "    </tr>\n",
       "  </tbody>\n",
       "</table>\n",
       "</div>"
      ],
      "text/plain": [
       "poutcome  unknown  failure  other  success\n",
       "count       36959     4901   1840     1511"
      ]
     },
     "execution_count": 16,
     "metadata": {},
     "output_type": "execute_result"
    }
   ],
   "source": [
    "data.poutcome.value_counts().to_frame().T"
   ]
  },
  {
   "cell_type": "code",
   "execution_count": 17,
   "id": "2dd6abe8-dbf7-484b-9404-09f43bea52ce",
   "metadata": {
    "tags": []
   },
   "outputs": [
    {
     "data": {
      "text/html": [
       "<div>\n",
       "<style scoped>\n",
       "    .dataframe tbody tr th:only-of-type {\n",
       "        vertical-align: middle;\n",
       "    }\n",
       "\n",
       "    .dataframe tbody tr th {\n",
       "        vertical-align: top;\n",
       "    }\n",
       "\n",
       "    .dataframe thead th {\n",
       "        text-align: right;\n",
       "    }\n",
       "</style>\n",
       "<table border=\"1\" class=\"dataframe\">\n",
       "  <thead>\n",
       "    <tr style=\"text-align: right;\">\n",
       "      <th>housing</th>\n",
       "      <th>yes</th>\n",
       "      <th>no</th>\n",
       "    </tr>\n",
       "  </thead>\n",
       "  <tbody>\n",
       "    <tr>\n",
       "      <th>count</th>\n",
       "      <td>25130</td>\n",
       "      <td>20081</td>\n",
       "    </tr>\n",
       "  </tbody>\n",
       "</table>\n",
       "</div>"
      ],
      "text/plain": [
       "housing    yes     no\n",
       "count    25130  20081"
      ]
     },
     "execution_count": 17,
     "metadata": {},
     "output_type": "execute_result"
    }
   ],
   "source": [
    "data.housing.value_counts().to_frame().T"
   ]
  },
  {
   "cell_type": "code",
   "execution_count": 18,
   "id": "fdd6acf9-17dd-42ef-8a4a-de62abaecb44",
   "metadata": {
    "tags": []
   },
   "outputs": [
    {
     "data": {
      "text/html": [
       "<div>\n",
       "<style scoped>\n",
       "    .dataframe tbody tr th:only-of-type {\n",
       "        vertical-align: middle;\n",
       "    }\n",
       "\n",
       "    .dataframe tbody tr th {\n",
       "        vertical-align: top;\n",
       "    }\n",
       "\n",
       "    .dataframe thead th {\n",
       "        text-align: right;\n",
       "    }\n",
       "</style>\n",
       "<table border=\"1\" class=\"dataframe\">\n",
       "  <thead>\n",
       "    <tr style=\"text-align: right;\">\n",
       "      <th>loan</th>\n",
       "      <th>no</th>\n",
       "      <th>yes</th>\n",
       "    </tr>\n",
       "  </thead>\n",
       "  <tbody>\n",
       "    <tr>\n",
       "      <th>count</th>\n",
       "      <td>37967</td>\n",
       "      <td>7244</td>\n",
       "    </tr>\n",
       "  </tbody>\n",
       "</table>\n",
       "</div>"
      ],
      "text/plain": [
       "loan      no   yes\n",
       "count  37967  7244"
      ]
     },
     "execution_count": 18,
     "metadata": {},
     "output_type": "execute_result"
    }
   ],
   "source": [
    "data.loan.value_counts().to_frame().T"
   ]
  },
  {
   "cell_type": "code",
   "execution_count": 19,
   "id": "23a1ba3e-c0fd-4354-80ac-474c54c2fb50",
   "metadata": {
    "tags": []
   },
   "outputs": [
    {
     "data": {
      "text/html": [
       "<div>\n",
       "<style scoped>\n",
       "    .dataframe tbody tr th:only-of-type {\n",
       "        vertical-align: middle;\n",
       "    }\n",
       "\n",
       "    .dataframe tbody tr th {\n",
       "        vertical-align: top;\n",
       "    }\n",
       "\n",
       "    .dataframe thead th {\n",
       "        text-align: right;\n",
       "    }\n",
       "</style>\n",
       "<table border=\"1\" class=\"dataframe\">\n",
       "  <thead>\n",
       "    <tr style=\"text-align: right;\">\n",
       "      <th>month</th>\n",
       "      <th>may</th>\n",
       "      <th>jul</th>\n",
       "      <th>aug</th>\n",
       "      <th>jun</th>\n",
       "      <th>nov</th>\n",
       "      <th>apr</th>\n",
       "      <th>feb</th>\n",
       "      <th>jan</th>\n",
       "      <th>oct</th>\n",
       "      <th>sep</th>\n",
       "      <th>mar</th>\n",
       "      <th>dec</th>\n",
       "    </tr>\n",
       "  </thead>\n",
       "  <tbody>\n",
       "    <tr>\n",
       "      <th>count</th>\n",
       "      <td>13766</td>\n",
       "      <td>6895</td>\n",
       "      <td>6247</td>\n",
       "      <td>5341</td>\n",
       "      <td>3970</td>\n",
       "      <td>2932</td>\n",
       "      <td>2649</td>\n",
       "      <td>1403</td>\n",
       "      <td>738</td>\n",
       "      <td>579</td>\n",
       "      <td>477</td>\n",
       "      <td>214</td>\n",
       "    </tr>\n",
       "  </tbody>\n",
       "</table>\n",
       "</div>"
      ],
      "text/plain": [
       "month    may   jul   aug   jun   nov   apr   feb   jan  oct  sep  mar  dec\n",
       "count  13766  6895  6247  5341  3970  2932  2649  1403  738  579  477  214"
      ]
     },
     "execution_count": 19,
     "metadata": {},
     "output_type": "execute_result"
    }
   ],
   "source": [
    "data.month.value_counts().to_frame().T"
   ]
  },
  {
   "cell_type": "code",
   "execution_count": 20,
   "id": "0ff6ac86-d725-4c83-a656-e710d3bcf63c",
   "metadata": {
    "tags": []
   },
   "outputs": [
    {
     "data": {
      "text/html": [
       "<div>\n",
       "<style scoped>\n",
       "    .dataframe tbody tr th:only-of-type {\n",
       "        vertical-align: middle;\n",
       "    }\n",
       "\n",
       "    .dataframe tbody tr th {\n",
       "        vertical-align: top;\n",
       "    }\n",
       "\n",
       "    .dataframe thead th {\n",
       "        text-align: right;\n",
       "    }\n",
       "</style>\n",
       "<table border=\"1\" class=\"dataframe\">\n",
       "  <thead>\n",
       "    <tr style=\"text-align: right;\">\n",
       "      <th>y</th>\n",
       "      <th>no</th>\n",
       "      <th>yes</th>\n",
       "    </tr>\n",
       "  </thead>\n",
       "  <tbody>\n",
       "    <tr>\n",
       "      <th>count</th>\n",
       "      <td>39922</td>\n",
       "      <td>5289</td>\n",
       "    </tr>\n",
       "  </tbody>\n",
       "</table>\n",
       "</div>"
      ],
      "text/plain": [
       "y         no   yes\n",
       "count  39922  5289"
      ]
     },
     "execution_count": 20,
     "metadata": {},
     "output_type": "execute_result"
    }
   ],
   "source": [
    "data.y.value_counts().to_frame().T"
   ]
  },
  {
   "cell_type": "markdown",
   "id": "07097b75-652d-40c4-893d-38d5cdb12643",
   "metadata": {
    "tags": []
   },
   "source": [
    "### numerical variabel detail"
   ]
  },
  {
   "cell_type": "code",
   "execution_count": 21,
   "id": "a110538d-7c35-4f32-b567-d6d640cd25b5",
   "metadata": {
    "tags": []
   },
   "outputs": [
    {
     "data": {
      "text/html": [
       "<div>\n",
       "<style scoped>\n",
       "    .dataframe tbody tr th:only-of-type {\n",
       "        vertical-align: middle;\n",
       "    }\n",
       "\n",
       "    .dataframe tbody tr th {\n",
       "        vertical-align: top;\n",
       "    }\n",
       "\n",
       "    .dataframe thead th {\n",
       "        text-align: right;\n",
       "    }\n",
       "</style>\n",
       "<table border=\"1\" class=\"dataframe\">\n",
       "  <thead>\n",
       "    <tr style=\"text-align: right;\">\n",
       "      <th></th>\n",
       "      <th>age</th>\n",
       "      <th>balance</th>\n",
       "      <th>day</th>\n",
       "      <th>duration</th>\n",
       "      <th>campaign</th>\n",
       "      <th>pdays</th>\n",
       "      <th>previous</th>\n",
       "    </tr>\n",
       "  </thead>\n",
       "  <tbody>\n",
       "    <tr>\n",
       "      <th>count</th>\n",
       "      <td>45211.000000</td>\n",
       "      <td>45211.000000</td>\n",
       "      <td>45211.000000</td>\n",
       "      <td>45211.000000</td>\n",
       "      <td>45211.000000</td>\n",
       "      <td>45211.000000</td>\n",
       "      <td>45211.000000</td>\n",
       "    </tr>\n",
       "    <tr>\n",
       "      <th>mean</th>\n",
       "      <td>40.936210</td>\n",
       "      <td>1362.272058</td>\n",
       "      <td>15.806419</td>\n",
       "      <td>258.163080</td>\n",
       "      <td>2.763841</td>\n",
       "      <td>40.197828</td>\n",
       "      <td>0.580323</td>\n",
       "    </tr>\n",
       "    <tr>\n",
       "      <th>std</th>\n",
       "      <td>10.618762</td>\n",
       "      <td>3044.765829</td>\n",
       "      <td>8.322476</td>\n",
       "      <td>257.527812</td>\n",
       "      <td>3.098021</td>\n",
       "      <td>100.128746</td>\n",
       "      <td>2.303441</td>\n",
       "    </tr>\n",
       "    <tr>\n",
       "      <th>min</th>\n",
       "      <td>18.000000</td>\n",
       "      <td>-8019.000000</td>\n",
       "      <td>1.000000</td>\n",
       "      <td>0.000000</td>\n",
       "      <td>1.000000</td>\n",
       "      <td>-1.000000</td>\n",
       "      <td>0.000000</td>\n",
       "    </tr>\n",
       "    <tr>\n",
       "      <th>25%</th>\n",
       "      <td>33.000000</td>\n",
       "      <td>72.000000</td>\n",
       "      <td>8.000000</td>\n",
       "      <td>103.000000</td>\n",
       "      <td>1.000000</td>\n",
       "      <td>-1.000000</td>\n",
       "      <td>0.000000</td>\n",
       "    </tr>\n",
       "    <tr>\n",
       "      <th>50%</th>\n",
       "      <td>39.000000</td>\n",
       "      <td>448.000000</td>\n",
       "      <td>16.000000</td>\n",
       "      <td>180.000000</td>\n",
       "      <td>2.000000</td>\n",
       "      <td>-1.000000</td>\n",
       "      <td>0.000000</td>\n",
       "    </tr>\n",
       "    <tr>\n",
       "      <th>75%</th>\n",
       "      <td>48.000000</td>\n",
       "      <td>1428.000000</td>\n",
       "      <td>21.000000</td>\n",
       "      <td>319.000000</td>\n",
       "      <td>3.000000</td>\n",
       "      <td>-1.000000</td>\n",
       "      <td>0.000000</td>\n",
       "    </tr>\n",
       "    <tr>\n",
       "      <th>max</th>\n",
       "      <td>95.000000</td>\n",
       "      <td>102127.000000</td>\n",
       "      <td>31.000000</td>\n",
       "      <td>4918.000000</td>\n",
       "      <td>63.000000</td>\n",
       "      <td>871.000000</td>\n",
       "      <td>275.000000</td>\n",
       "    </tr>\n",
       "  </tbody>\n",
       "</table>\n",
       "</div>"
      ],
      "text/plain": [
       "                age        balance           day      duration      campaign  \\\n",
       "count  45211.000000   45211.000000  45211.000000  45211.000000  45211.000000   \n",
       "mean      40.936210    1362.272058     15.806419    258.163080      2.763841   \n",
       "std       10.618762    3044.765829      8.322476    257.527812      3.098021   \n",
       "min       18.000000   -8019.000000      1.000000      0.000000      1.000000   \n",
       "25%       33.000000      72.000000      8.000000    103.000000      1.000000   \n",
       "50%       39.000000     448.000000     16.000000    180.000000      2.000000   \n",
       "75%       48.000000    1428.000000     21.000000    319.000000      3.000000   \n",
       "max       95.000000  102127.000000     31.000000   4918.000000     63.000000   \n",
       "\n",
       "              pdays      previous  \n",
       "count  45211.000000  45211.000000  \n",
       "mean      40.197828      0.580323  \n",
       "std      100.128746      2.303441  \n",
       "min       -1.000000      0.000000  \n",
       "25%       -1.000000      0.000000  \n",
       "50%       -1.000000      0.000000  \n",
       "75%       -1.000000      0.000000  \n",
       "max      871.000000    275.000000  "
      ]
     },
     "execution_count": 21,
     "metadata": {},
     "output_type": "execute_result"
    }
   ],
   "source": [
    "data[numerical].describe()"
   ]
  },
  {
   "cell_type": "markdown",
   "id": "718329a2-a08d-427f-bd5b-73a209d9ad20",
   "metadata": {},
   "source": [
    "Aneh: balance, pdays, previous"
   ]
  },
  {
   "cell_type": "markdown",
   "id": "8be1ae98-6dae-4d41-a0ff-ef0c2800bf1b",
   "metadata": {
    "tags": []
   },
   "source": [
    "## Univariate Analysis"
   ]
  },
  {
   "cell_type": "markdown",
   "id": "4e9b51d7-0a7c-4733-a2dc-5141a5e6a37e",
   "metadata": {
    "tags": []
   },
   "source": [
    "### numerical"
   ]
  },
  {
   "cell_type": "code",
   "execution_count": 22,
   "id": "c8c930fd-0234-485f-98e4-2148467efe7a",
   "metadata": {
    "tags": []
   },
   "outputs": [
    {
     "data": {
      "text/plain": [
       "32"
      ]
     },
     "execution_count": 22,
     "metadata": {},
     "output_type": "execute_result"
    }
   ],
   "source": [
    "data.age.mode()[0]"
   ]
  },
  {
   "cell_type": "code",
   "execution_count": 23,
   "id": "3018d27b",
   "metadata": {},
   "outputs": [
    {
     "data": {
      "text/html": [
       "<div>\n",
       "<style scoped>\n",
       "    .dataframe tbody tr th:only-of-type {\n",
       "        vertical-align: middle;\n",
       "    }\n",
       "\n",
       "    .dataframe tbody tr th {\n",
       "        vertical-align: top;\n",
       "    }\n",
       "\n",
       "    .dataframe thead th {\n",
       "        text-align: right;\n",
       "    }\n",
       "</style>\n",
       "<table border=\"1\" class=\"dataframe\">\n",
       "  <thead>\n",
       "    <tr style=\"text-align: right;\">\n",
       "      <th></th>\n",
       "      <th>age</th>\n",
       "      <th>balance</th>\n",
       "      <th>day</th>\n",
       "      <th>duration</th>\n",
       "      <th>campaign</th>\n",
       "      <th>pdays</th>\n",
       "      <th>previous</th>\n",
       "    </tr>\n",
       "  </thead>\n",
       "  <tbody>\n",
       "    <tr>\n",
       "      <th>count</th>\n",
       "      <td>45211.000000</td>\n",
       "      <td>45211.000000</td>\n",
       "      <td>45211.000000</td>\n",
       "      <td>45211.000000</td>\n",
       "      <td>45211.000000</td>\n",
       "      <td>45211.000000</td>\n",
       "      <td>45211.000000</td>\n",
       "    </tr>\n",
       "    <tr>\n",
       "      <th>mean</th>\n",
       "      <td>40.936210</td>\n",
       "      <td>1362.272058</td>\n",
       "      <td>15.806419</td>\n",
       "      <td>258.163080</td>\n",
       "      <td>2.763841</td>\n",
       "      <td>40.197828</td>\n",
       "      <td>0.580323</td>\n",
       "    </tr>\n",
       "    <tr>\n",
       "      <th>std</th>\n",
       "      <td>10.618762</td>\n",
       "      <td>3044.765829</td>\n",
       "      <td>8.322476</td>\n",
       "      <td>257.527812</td>\n",
       "      <td>3.098021</td>\n",
       "      <td>100.128746</td>\n",
       "      <td>2.303441</td>\n",
       "    </tr>\n",
       "    <tr>\n",
       "      <th>min</th>\n",
       "      <td>18.000000</td>\n",
       "      <td>-8019.000000</td>\n",
       "      <td>1.000000</td>\n",
       "      <td>0.000000</td>\n",
       "      <td>1.000000</td>\n",
       "      <td>-1.000000</td>\n",
       "      <td>0.000000</td>\n",
       "    </tr>\n",
       "    <tr>\n",
       "      <th>25%</th>\n",
       "      <td>33.000000</td>\n",
       "      <td>72.000000</td>\n",
       "      <td>8.000000</td>\n",
       "      <td>103.000000</td>\n",
       "      <td>1.000000</td>\n",
       "      <td>-1.000000</td>\n",
       "      <td>0.000000</td>\n",
       "    </tr>\n",
       "    <tr>\n",
       "      <th>50%</th>\n",
       "      <td>39.000000</td>\n",
       "      <td>448.000000</td>\n",
       "      <td>16.000000</td>\n",
       "      <td>180.000000</td>\n",
       "      <td>2.000000</td>\n",
       "      <td>-1.000000</td>\n",
       "      <td>0.000000</td>\n",
       "    </tr>\n",
       "    <tr>\n",
       "      <th>75%</th>\n",
       "      <td>48.000000</td>\n",
       "      <td>1428.000000</td>\n",
       "      <td>21.000000</td>\n",
       "      <td>319.000000</td>\n",
       "      <td>3.000000</td>\n",
       "      <td>-1.000000</td>\n",
       "      <td>0.000000</td>\n",
       "    </tr>\n",
       "    <tr>\n",
       "      <th>max</th>\n",
       "      <td>95.000000</td>\n",
       "      <td>102127.000000</td>\n",
       "      <td>31.000000</td>\n",
       "      <td>4918.000000</td>\n",
       "      <td>63.000000</td>\n",
       "      <td>871.000000</td>\n",
       "      <td>275.000000</td>\n",
       "    </tr>\n",
       "  </tbody>\n",
       "</table>\n",
       "</div>"
      ],
      "text/plain": [
       "                age        balance           day      duration      campaign  \\\n",
       "count  45211.000000   45211.000000  45211.000000  45211.000000  45211.000000   \n",
       "mean      40.936210    1362.272058     15.806419    258.163080      2.763841   \n",
       "std       10.618762    3044.765829      8.322476    257.527812      3.098021   \n",
       "min       18.000000   -8019.000000      1.000000      0.000000      1.000000   \n",
       "25%       33.000000      72.000000      8.000000    103.000000      1.000000   \n",
       "50%       39.000000     448.000000     16.000000    180.000000      2.000000   \n",
       "75%       48.000000    1428.000000     21.000000    319.000000      3.000000   \n",
       "max       95.000000  102127.000000     31.000000   4918.000000     63.000000   \n",
       "\n",
       "              pdays      previous  \n",
       "count  45211.000000  45211.000000  \n",
       "mean      40.197828      0.580323  \n",
       "std      100.128746      2.303441  \n",
       "min       -1.000000      0.000000  \n",
       "25%       -1.000000      0.000000  \n",
       "50%       -1.000000      0.000000  \n",
       "75%       -1.000000      0.000000  \n",
       "max      871.000000    275.000000  "
      ]
     },
     "execution_count": 23,
     "metadata": {},
     "output_type": "execute_result"
    }
   ],
   "source": [
    "data[numerical].describe()"
   ]
  },
  {
   "cell_type": "code",
   "execution_count": 24,
   "id": "68be8a1f",
   "metadata": {},
   "outputs": [
    {
     "data": {
      "text/html": [
       "<div>\n",
       "<style scoped>\n",
       "    .dataframe tbody tr th:only-of-type {\n",
       "        vertical-align: middle;\n",
       "    }\n",
       "\n",
       "    .dataframe tbody tr th {\n",
       "        vertical-align: top;\n",
       "    }\n",
       "\n",
       "    .dataframe thead th {\n",
       "        text-align: right;\n",
       "    }\n",
       "</style>\n",
       "<table border=\"1\" class=\"dataframe\">\n",
       "  <thead>\n",
       "    <tr style=\"text-align: right;\">\n",
       "      <th></th>\n",
       "      <th>job</th>\n",
       "      <th>marital</th>\n",
       "      <th>education</th>\n",
       "      <th>default</th>\n",
       "      <th>housing</th>\n",
       "      <th>loan</th>\n",
       "      <th>contact</th>\n",
       "      <th>month</th>\n",
       "      <th>poutcome</th>\n",
       "      <th>y</th>\n",
       "    </tr>\n",
       "  </thead>\n",
       "  <tbody>\n",
       "    <tr>\n",
       "      <th>count</th>\n",
       "      <td>45211</td>\n",
       "      <td>45211</td>\n",
       "      <td>45211</td>\n",
       "      <td>45211</td>\n",
       "      <td>45211</td>\n",
       "      <td>45211</td>\n",
       "      <td>45211</td>\n",
       "      <td>45211</td>\n",
       "      <td>45211</td>\n",
       "      <td>45211</td>\n",
       "    </tr>\n",
       "    <tr>\n",
       "      <th>unique</th>\n",
       "      <td>12</td>\n",
       "      <td>3</td>\n",
       "      <td>4</td>\n",
       "      <td>2</td>\n",
       "      <td>2</td>\n",
       "      <td>2</td>\n",
       "      <td>3</td>\n",
       "      <td>12</td>\n",
       "      <td>4</td>\n",
       "      <td>2</td>\n",
       "    </tr>\n",
       "    <tr>\n",
       "      <th>top</th>\n",
       "      <td>blue-collar</td>\n",
       "      <td>married</td>\n",
       "      <td>secondary</td>\n",
       "      <td>no</td>\n",
       "      <td>yes</td>\n",
       "      <td>no</td>\n",
       "      <td>cellular</td>\n",
       "      <td>may</td>\n",
       "      <td>unknown</td>\n",
       "      <td>no</td>\n",
       "    </tr>\n",
       "    <tr>\n",
       "      <th>freq</th>\n",
       "      <td>9732</td>\n",
       "      <td>27214</td>\n",
       "      <td>23202</td>\n",
       "      <td>44396</td>\n",
       "      <td>25130</td>\n",
       "      <td>37967</td>\n",
       "      <td>29285</td>\n",
       "      <td>13766</td>\n",
       "      <td>36959</td>\n",
       "      <td>39922</td>\n",
       "    </tr>\n",
       "  </tbody>\n",
       "</table>\n",
       "</div>"
      ],
      "text/plain": [
       "                job  marital  education default housing   loan   contact  \\\n",
       "count         45211    45211      45211   45211   45211  45211     45211   \n",
       "unique           12        3          4       2       2      2         3   \n",
       "top     blue-collar  married  secondary      no     yes     no  cellular   \n",
       "freq           9732    27214      23202   44396   25130  37967     29285   \n",
       "\n",
       "        month poutcome      y  \n",
       "count   45211    45211  45211  \n",
       "unique     12        4      2  \n",
       "top       may  unknown     no  \n",
       "freq    13766    36959  39922  "
      ]
     },
     "execution_count": 24,
     "metadata": {},
     "output_type": "execute_result"
    }
   ],
   "source": [
    "data[category].describe()"
   ]
  },
  {
   "cell_type": "code",
   "execution_count": 25,
   "id": "f0e24db4-55b3-49a8-b61d-1e9012a0b1ad",
   "metadata": {
    "tags": []
   },
   "outputs": [
    {
     "data": {
      "image/png": "[encoded data removed]",
      "text/plain": [
       "<Figure size 1000x300 with 7 Axes>"
      ]
     },
     "metadata": {},
     "output_type": "display_data"
    }
   ],
   "source": [
    "feature = numerical\n",
    "\n",
    "plt.figure(figsize=(10,3))\n",
    "for i in range(0,len(feature)):\n",
    "    plt.subplot(1, len(feature), i+1)\n",
    "    sns.boxplot(y=data[feature[i]], color='skyblue', orient='v')\n",
    "    plt.tight_layout()"
   ]
  },
  {
   "cell_type": "code",
   "execution_count": 26,
   "id": "ffb3220d-219f-47ab-9e62-4e3ed8032c0f",
   "metadata": {
    "tags": []
   },
   "outputs": [
    {
     "data": {
      "image/png": "[encoded data removed]",
      "text/plain": [
       "<Figure size 1000x400 with 7 Axes>"
      ]
     },
     "metadata": {},
     "output_type": "display_data"
    }
   ],
   "source": [
    "feature = numerical\n",
    "\n",
    "plt.figure(figsize=(10,4))\n",
    "for i in range(0, len(feature)):\n",
    "    plt.subplot(2,4, i+1)\n",
    "    sns.kdeplot(x=data[feature[i]], color='skyblue')\n",
    "    plt.xlabel(feature[i])\n",
    "    plt.tight_layout()"
   ]
  },
  {
   "cell_type": "code",
   "execution_count": 27,
   "id": "a9a548ba-7311-4b9a-84f2-d1906dc49c7d",
   "metadata": {
    "tags": []
   },
   "outputs": [
    {
     "data": {
      "image/png": "[encoded data removed]",
      "text/plain": [
       "<Figure size 1000x300 with 7 Axes>"
      ]
     },
     "metadata": {},
     "output_type": "display_data"
    }
   ],
   "source": [
    "feature = numerical\n",
    "\n",
    "plt.figure(figsize=(10,3))\n",
    "for i in range(0,len(feature)):\n",
    "    plt.subplot(1, len(feature), i+1)\n",
    "    sns.violinplot(y=data[feature[i]], color='skyblue')\n",
    "    plt.tight_layout()"
   ]
  },
  {
   "cell_type": "markdown",
   "id": "843c0797-6587-4a14-856b-bf745ce85bf7",
   "metadata": {
    "tags": []
   },
   "source": [
    "### categorical"
   ]
  },
  {
   "cell_type": "code",
   "execution_count": 28,
   "id": "8e17f1a4-c1d8-4e3c-b6c0-b3ad5ec43ee0",
   "metadata": {
    "tags": []
   },
   "outputs": [
    {
     "data": {
      "image/png": "[encoded data removed]",
      "text/plain": [
       "<Figure size 1600x1000 with 10 Axes>"
      ]
     },
     "metadata": {},
     "output_type": "display_data"
    }
   ],
   "source": [
    "feature = category\n",
    "plt.figure(figsize=(16,10))\n",
    "for i in range(0,len(feature)):\n",
    "    plt.subplot(3, 4, i+1)\n",
    "    sns.countplot(y=data[feature[i]], color='skyblue', order=data[feature[i]].value_counts().index)\n",
    "    plt.tight_layout() "
   ]
  },
  {
   "cell_type": "markdown",
   "id": "9f7faf10-4561-4b48-a849-05490ca0bb60",
   "metadata": {
    "tags": []
   },
   "source": [
    "## Multivariate Analysis"
   ]
  },
  {
   "cell_type": "code",
   "execution_count": 30,
   "id": "1973fc83-950a-4ef6-bac5-b91fb2fa8411",
   "metadata": {
    "tags": []
   },
   "outputs": [
    {
     "data": {
      "image/png": "[encoded data removed]",
      "text/plain": [
       "<Figure size 640x480 with 2 Axes>"
      ]
     },
     "metadata": {},
     "output_type": "display_data"
    }
   ],
   "source": [
    "sns.heatmap(data[numerical].corr(), cmap='Blues', annot=True, fmt='.2f')\n",
    "plt.show()"
   ]
  },
  {
   "cell_type": "markdown",
   "id": "ce44656b",
   "metadata": {},
   "source": [
    "korelasi antarvariabel tidak ada yang memiliki hubungan yang kuat, namun ada yang memiliki hubungan positif yang cukup sedang yaitu antara variabel pdays dengan previous sebesar 0.45. Dimana jika pdays mengalami kenaikan, maka previous juga meningkat, begitupun sebaliknya. Kemudian disusul oleh hubungan antara campaign dan day sebesar 0.16. Untuk variabel lainnya memiliki hubungan yang sangat lemah karena mendekati nilai 0, bahkan tidak ada hubungan sama sekali antara variabel duration&previous, age&previous, balance&pdays, age&campaign, duration&age, day&balance."
   ]
  },
  {
   "cell_type": "code",
   "execution_count": null,
   "id": "ac38c5ea-b8a6-4211-8095-c9622c52b086",
   "metadata": {
    "tags": []
   },
   "outputs": [],
   "source": [
    "sns.pairplot(data[numerical], diag_kind='kde')\n",
    "plt.show()"
   ]
  },
  {
   "cell_type": "code",
   "execution_count": null,
   "id": "0747851e-b56d-4937-a51f-5101d8beff36",
   "metadata": {
    "tags": []
   },
   "outputs": [],
   "source": [
    "sns.pairplot(data, diag_kind='kde', hue='y')\n",
    "plt.show()"
   ]
  },
  {
   "cell_type": "code",
   "execution_count": null,
   "id": "6102dbad-568e-488a-b799-0d2987df9bd6",
   "metadata": {
    "tags": []
   },
   "outputs": [],
   "source": [
    "sns.catplot(data, x='balance', y='job', height=5, aspect=2)\n",
    "plt.show()"
   ]
  },
  {
   "cell_type": "code",
   "execution_count": null,
   "id": "3f2e1318-a11c-462f-9eea-290c22eced32",
   "metadata": {
    "tags": []
   },
   "outputs": [],
   "source": [
    "sns.catplot(data, x='age', y='job', height=5, aspect=2)\n",
    "plt.show()"
   ]
  },
  {
   "cell_type": "markdown",
   "id": "6b7617ba-3684-48af-b673-90e9fda464f6",
   "metadata": {
    "tags": []
   },
   "source": [
    "## Business Insight"
   ]
  },
  {
   "cell_type": "markdown",
   "id": "c12ec379-599b-4bd9-a604-e06fff120c1f",
   "metadata": {
    "tags": []
   },
   "source": [
    "### Call Duration correlated to Conversion Rate"
   ]
  },
  {
   "cell_type": "code",
   "execution_count": null,
   "id": "abf59332-aa1d-4356-8bf4-0838f240cc76",
   "metadata": {
    "tags": []
   },
   "outputs": [],
   "source": [
    "data_used = data.loc[:,['duration', 'y']]"
   ]
  },
  {
   "cell_type": "code",
   "execution_count": null,
   "id": "d4976c3b-fbb9-4e0e-97c7-095dc0274621",
   "metadata": {
    "tags": []
   },
   "outputs": [],
   "source": [
    "data_used.sample(3)"
   ]
  },
  {
   "cell_type": "code",
   "execution_count": null,
   "id": "9e68d288-e1b0-426b-a75b-8b917cafde7c",
   "metadata": {
    "tags": []
   },
   "outputs": [],
   "source": [
    "# distribution before pre-processing\n",
    "\n",
    "sns.boxplot(data_used, x='duration')\n",
    "plt.show()"
   ]
  },
  {
   "cell_type": "code",
   "execution_count": null,
   "id": "3a06000e-1e48-4056-a63b-b328890a07f1",
   "metadata": {
    "tags": []
   },
   "outputs": [],
   "source": [
    "# preprocessing to eliminate outliers\n",
    "\n",
    "z_scores = np.abs(st.zscore(data_used['duration']))\n",
    "data_used['abs_zscore'] = z_scores\n",
    "\n",
    "filtered_entries = (z_scores < 3)\n",
    "data_used['filtered_entries'] = filtered_entries"
   ]
  },
  {
   "cell_type": "code",
   "execution_count": null,
   "id": "ddc7a728-26c0-437e-87bc-e160bf88b53b",
   "metadata": {
    "tags": []
   },
   "outputs": [],
   "source": [
    "data_used.head()"
   ]
  },
  {
   "cell_type": "code",
   "execution_count": null,
   "id": "3886f30b-3f89-48c6-b3e0-52d2d929548b",
   "metadata": {
    "tags": []
   },
   "outputs": [],
   "source": [
    "data_used = data_used.query(\"filtered_entries == True\")"
   ]
  },
  {
   "cell_type": "code",
   "execution_count": null,
   "id": "2f1c80ee-8def-42a9-864b-3d0dff9b279a",
   "metadata": {
    "tags": []
   },
   "outputs": [],
   "source": [
    "# distribution after pre-processing\n",
    "\n",
    "sns.boxplot(data_used, x='duration')\n",
    "plt.show()"
   ]
  },
  {
   "cell_type": "markdown",
   "id": "0e82121b-ff24-4e11-be68-8532ca647d00",
   "metadata": {},
   "source": [
    "#### Hipotesis\n",
    "\n",
    "> H0: Durasi Call Marketing **tidak meningkatkan** keinginan nasabah membuka rekening term deposit\n",
    "\n",
    "> H1: Durasi Call Marketing **meningkatkan** keinginan nasabah membuka rekening term deposit"
   ]
  },
  {
   "cell_type": "code",
   "execution_count": null,
   "id": "620cf5e7-0218-4bf9-bfd3-f57b2a0c590b",
   "metadata": {
    "tags": []
   },
   "outputs": [],
   "source": [
    "# dividing duration to long and short using its median\n",
    "\n",
    "parameter = data_used.duration.median()\n",
    "print('Berdasarkan pencarian pemusatan, \\nDidapatkan parameter jumlah adalah duration yang lebih dari', parameter)"
   ]
  },
  {
   "cell_type": "code",
   "execution_count": null,
   "id": "4f206f7b-21c9-4e07-98bf-4290bf48b5fe",
   "metadata": {
    "tags": []
   },
   "outputs": [],
   "source": [
    "control = data_used.query(\"duration <= 176\")\n",
    "treatment = data_used.query(\"duration > 176\")"
   ]
  },
  {
   "cell_type": "markdown",
   "id": "c0d0f3f1-9de4-4458-b8fa-034027163d32",
   "metadata": {},
   "source": [
    "#### Marketing success rate identification"
   ]
  },
  {
   "cell_type": "code",
   "execution_count": null,
   "id": "4b2b5c01-2458-44f0-9f92-a1fdbd178a1c",
   "metadata": {
    "tags": []
   },
   "outputs": [],
   "source": [
    "success_control = control.query(\"y != 'no'\").y.count()\n",
    "success_treatment = treatment.query(\"y != 'no'\").y.count()"
   ]
  },
  {
   "cell_type": "code",
   "execution_count": null,
   "id": "faec95a4-661e-4877-8b30-be9de510e396",
   "metadata": {
    "tags": []
   },
   "outputs": [],
   "source": [
    "obs_control = control.shape[0]\n",
    "obs_treatment = treatment.shape[0]"
   ]
  },
  {
   "cell_type": "code",
   "execution_count": null,
   "id": "088bdd34-74fb-43d5-9373-7a2ef11f63e9",
   "metadata": {
    "tags": []
   },
   "outputs": [],
   "source": [
    "cr_control = success_control/obs_control\n",
    "cr_treatment = success_treatment/obs_treatment"
   ]
  },
  {
   "cell_type": "code",
   "execution_count": null,
   "id": "a432bda7-e5ea-4d7d-a921-d247deabd27c",
   "metadata": {
    "tags": []
   },
   "outputs": [],
   "source": [
    "print('Conversion Rate Control :', round(cr_control*100, 2))"
   ]
  },
  {
   "cell_type": "code",
   "execution_count": null,
   "id": "a38b4745-326d-4c12-bbcf-53b649bc740f",
   "metadata": {
    "tags": []
   },
   "outputs": [],
   "source": [
    "print('Conversion Rate Treatment : ', round(cr_treatment*100,2))"
   ]
  },
  {
   "cell_type": "markdown",
   "id": "8fce28c2-4164-418c-b979-03eb5554637e",
   "metadata": {},
   "source": [
    "#### Graph"
   ]
  },
  {
   "cell_type": "code",
   "execution_count": null,
   "id": "fdc34bcc-87ed-439d-9484-264cfae15683",
   "metadata": {
    "tags": []
   },
   "outputs": [],
   "source": [
    "x = ['control', 'treatment']\n",
    "value = [cr_control, cr_treatment]\n",
    "plt.bar(x, value)"
   ]
  },
  {
   "cell_type": "markdown",
   "id": "1b8c3146-6c70-47ec-9444-cb322226081f",
   "metadata": {},
   "source": [
    "#### z-value proportions"
   ]
  },
  {
   "cell_type": "code",
   "execution_count": null,
   "id": "fd983ce5-5049-4ce1-84ae-07896005d041",
   "metadata": {
    "tags": []
   },
   "outputs": [],
   "source": [
    "success = [success_control, success_treatment]\n",
    "obs = [obs_control, obs_treatment]\n",
    "\n",
    "stats, pvalue = sp.proportions_ztest(success,obs)"
   ]
  },
  {
   "cell_type": "code",
   "execution_count": null,
   "id": "05ae7a36-2349-4b93-b352-64762c57f9ec",
   "metadata": {
    "tags": []
   },
   "outputs": [],
   "source": [
    "print('P-value yang dihasilkan melalui uji z-value proportions adalah: ', pvalue)"
   ]
  },
  {
   "cell_type": "code",
   "execution_count": null,
   "id": "4c198ead-99ce-4e78-9b97-50583b2ce811",
   "metadata": {
    "tags": []
   },
   "outputs": [],
   "source": [
    "if pvalue >= 0.05 :\n",
    "    print('H0 diterima, Durasi Call Marketing tidak meningkatkan keinginan nasabah membuka rekening deposito')\n",
    "else :\n",
    "    print('H1 diterima, Durasi Call Marketing meningkatkan keinginan nasabah membuka rekening deposito')"
   ]
  },
  {
   "cell_type": "markdown",
   "id": "f63920f8-ffca-4df1-b877-072a6aeeb0f7",
   "metadata": {},
   "source": [
    "#### Conclusion\n",
    "Business insight yang didapatkan berdasarkan significance testing adalah bahwa durasi call marketing berpengaruh terhadap keinginan nasabah untuk dapat membuka rekening term deposit. **Conversion rate terjadi lebih baik pada treatment group yang merupakan data group untuk call duration yang lebih lama (lebih dari 176 detik)**\n",
    "\n",
    "**Business recomendation** yang dapat diberikan berdasarkan insight ini untuk meningkatkan conversion rate adalah dengan **meningkatkan call duration untuk setiap potential customer menjadi setidaknya selama 176 detik.**"
   ]
  },
  {
   "cell_type": "code",
   "execution_count": null,
   "id": "e778ff58-b6ca-4cd0-b8bf-f3bc190b1fe0",
   "metadata": {
    "tags": []
   },
   "outputs": [],
   "source": [
    "plt.figure(figsize=(12,6))\n",
    "sns.set_style(\"whitegrid\")\n",
    "plt.ylim(0,24)\n",
    "plt.xlim(0,3)\n",
    "value = [round(cr_control*100,2),round(cr_treatment*100,2)]\n",
    "colors = ['grey' if (x < max(value)) else 'yellow' for x in value ]\n",
    "\n",
    "ax = sns.barplot(x = ['control', 'treatment'], y= value, errorbar=None, hue=colors, palette=colors, legend=False)\n",
    "ax.bar_label(ax.containers[0], fontsize=12, fontweight='bold');\n",
    "ax.bar_label(ax.containers[1], fontsize=12, fontweight='bold');\n",
    "\n",
    "\n",
    "plt.text(-0.5,28,'Proportions of Customer Divide by its Call Duration Group', fontweight='bold', fontsize=16)\n",
    "plt.text(-0.5,25,'From the chart can be seen, lower call duration group having less proportions than higher group\\nThis shown that potential customer prefer having more duration call to be able to accept the offers', fontsize='14')\n",
    "plt.xlabel('Call Duration Group', fontweight='bold', labelpad=8)\n",
    "plt.ylabel('Customer Percentages (%)', fontweight='bold', labelpad=20)\n",
    "plt.xticks([0,1],['Low Call Duration Group Proportion\\n(Less than equal 176 seconds)', 'High Call Duration Group Proportion\\n(More than 176 seconds)'])\n",
    "\n",
    "plt.show()"
   ]
  },
  {
   "cell_type": "markdown",
   "id": "9d756b6c-c264-4658-9d7b-803a0e919d2c",
   "metadata": {
    "tags": []
   },
   "source": [
    "### Campaign Amount Correlated to Conversion Rate"
   ]
  },
  {
   "cell_type": "code",
   "execution_count": null,
   "id": "8b66ab2d-c9ae-4935-964e-6eada13694c8",
   "metadata": {
    "tags": []
   },
   "outputs": [],
   "source": [
    "data_used = data.loc[:,['campaign', 'y']]"
   ]
  },
  {
   "cell_type": "code",
   "execution_count": null,
   "id": "d4c9c33a-484c-407e-9d2b-21f48ba831a0",
   "metadata": {
    "tags": []
   },
   "outputs": [],
   "source": [
    "data_used.sample(3)"
   ]
  },
  {
   "cell_type": "code",
   "execution_count": null,
   "id": "ef641164-30e9-4ccb-8020-a0cead76369e",
   "metadata": {
    "tags": []
   },
   "outputs": [],
   "source": [
    "# distribution before pre-processing\n",
    "\n",
    "sns.boxplot(data_used, x='campaign')\n",
    "plt.show()"
   ]
  },
  {
   "cell_type": "code",
   "execution_count": null,
   "id": "167ff4fe-3b87-4d32-afcf-f63a8e9e557c",
   "metadata": {
    "tags": []
   },
   "outputs": [],
   "source": [
    "# preprocessing to eliminate outliers\n",
    "\n",
    "z_scores = np.abs(st.zscore(data_used['campaign']))\n",
    "data_used['abs_zscore'] = z_scores\n",
    "\n",
    "filtered_entries = (z_scores < 3)\n",
    "data_used['filtered_entries'] = filtered_entries"
   ]
  },
  {
   "cell_type": "code",
   "execution_count": null,
   "id": "574f2278-fd46-4bc1-ab3d-f4e9f30e0c27",
   "metadata": {
    "tags": []
   },
   "outputs": [],
   "source": [
    "data_used.head()"
   ]
  },
  {
   "cell_type": "code",
   "execution_count": null,
   "id": "41911a29-41f2-4a5a-8f9c-1881d93fd68d",
   "metadata": {
    "tags": []
   },
   "outputs": [],
   "source": [
    "data_used = data_used.query(\"filtered_entries == True\")"
   ]
  },
  {
   "cell_type": "code",
   "execution_count": null,
   "id": "fe6f4b39-01ad-4e16-938d-39bf55de842e",
   "metadata": {
    "tags": []
   },
   "outputs": [],
   "source": [
    "# distribution after pre-processing\n",
    "\n",
    "sns.boxplot(data_used, x='campaign')\n",
    "plt.show()"
   ]
  },
  {
   "cell_type": "markdown",
   "id": "7450e760-4d84-4116-bec1-df4146b44356",
   "metadata": {},
   "source": [
    "#### Hipotesis\n",
    "\n",
    "> H0: Jumlah Campaign **tidak meningkatkan** keinginan nasabah membuka rekening term deposit\n",
    "\n",
    "> H1: Jumlah Campaign **meningkatkan** keinginan nasabah membuka rekening term deposit"
   ]
  },
  {
   "cell_type": "code",
   "execution_count": null,
   "id": "1a3970e5-9d61-4e0f-9b54-484d7a6203a7",
   "metadata": {
    "tags": []
   },
   "outputs": [],
   "source": [
    "# dividing duration to long and short using its median\n",
    "\n",
    "parameter = data_used.campaign.median()\n",
    "print('Berdasarkan pencarian pemusatan, \\nDidapatkan parameter jumlah adalah duration yang lebih dari', parameter)"
   ]
  },
  {
   "cell_type": "code",
   "execution_count": null,
   "id": "9c5d220d-d8bd-4ed0-bea7-239c93964674",
   "metadata": {
    "tags": []
   },
   "outputs": [],
   "source": [
    "control = data_used.query(\"campaign <= 2\")\n",
    "treatment = data_used.query(\"campaign > 2\")"
   ]
  },
  {
   "cell_type": "markdown",
   "id": "85c3519b-46b1-441e-97f8-0e6b31373966",
   "metadata": {},
   "source": [
    "#### Marketing success rate identification"
   ]
  },
  {
   "cell_type": "code",
   "execution_count": null,
   "id": "8f2348a9-4499-4344-8e59-3bfcf98397a2",
   "metadata": {
    "tags": []
   },
   "outputs": [],
   "source": [
    "success_control = control.query(\"y != 'no'\").y.count()\n",
    "success_treatment = treatment.query(\"y != 'no'\").y.count()"
   ]
  },
  {
   "cell_type": "code",
   "execution_count": null,
   "id": "fdc53aea-4970-4b73-8cd7-2a850b648593",
   "metadata": {
    "tags": []
   },
   "outputs": [],
   "source": [
    "obs_control = control.shape[0]\n",
    "obs_treatment = treatment.shape[0]"
   ]
  },
  {
   "cell_type": "code",
   "execution_count": null,
   "id": "79c09e46-5c40-4a60-93d8-3db1e9b7026a",
   "metadata": {
    "tags": []
   },
   "outputs": [],
   "source": [
    "cr_control = success_control/obs_control\n",
    "cr_treatment = success_treatment/obs_treatment"
   ]
  },
  {
   "cell_type": "code",
   "execution_count": null,
   "id": "f2f746e9-11af-4a6f-8ba7-d1fdfd4f7f95",
   "metadata": {
    "tags": []
   },
   "outputs": [],
   "source": [
    "print('Conversion Rate Control :', round(cr_control*100, 2))"
   ]
  },
  {
   "cell_type": "code",
   "execution_count": null,
   "id": "4f839bcd-da9a-415e-9a4b-c3ed17d3ad13",
   "metadata": {
    "tags": []
   },
   "outputs": [],
   "source": [
    "print('Conversion Rate Treatment : ', round(cr_treatment*100,2))"
   ]
  },
  {
   "cell_type": "markdown",
   "id": "feb18131-4fcf-452a-b8b5-e37d3f89bfb2",
   "metadata": {},
   "source": [
    "#### Graph"
   ]
  },
  {
   "cell_type": "code",
   "execution_count": null,
   "id": "aefe36bc-639d-4d0f-b1a2-7b43255f5879",
   "metadata": {
    "tags": []
   },
   "outputs": [],
   "source": [
    "x = ['control', 'treatment']\n",
    "value = [cr_control, cr_treatment]\n",
    "plt.bar(x, value)"
   ]
  },
  {
   "cell_type": "markdown",
   "id": "73e07b97-8ba8-4e73-a11b-15d8aaf39d3c",
   "metadata": {},
   "source": [
    "#### z-value proportions"
   ]
  },
  {
   "cell_type": "code",
   "execution_count": null,
   "id": "949df5a8-a2f5-423c-aae1-50a4427de778",
   "metadata": {
    "tags": []
   },
   "outputs": [],
   "source": [
    "success = [success_control, success_treatment]\n",
    "obs = [obs_control, obs_treatment]\n",
    "\n",
    "stats, pvalue = sp.proportions_ztest(success,obs)"
   ]
  },
  {
   "cell_type": "code",
   "execution_count": null,
   "id": "2e47268a-6dd3-4bb1-bf08-bf351791b73d",
   "metadata": {
    "tags": []
   },
   "outputs": [],
   "source": [
    "print('P-value yang dihasilkan melalui uji z-value proportions adalah: ', pvalue)"
   ]
  },
  {
   "cell_type": "code",
   "execution_count": null,
   "id": "4e36f7b1-28ab-43ec-860d-7002c927cddf",
   "metadata": {
    "tags": []
   },
   "outputs": [],
   "source": [
    "if pvalue >= 0.05 :\n",
    "    print('H0 diterima, Jumlah Campaign tidak meningkatkan keinginan nasabah membuka rekening term deposit')\n",
    "else :\n",
    "    print('H1 diterima, Jumlah Campaign meningkatkan keinginan nasabah membuka rekening term deposit')"
   ]
  },
  {
   "cell_type": "markdown",
   "id": "e73e841a-0023-4546-98fc-68aa19333110",
   "metadata": {},
   "source": [
    "#### Conclusion\n",
    "Business insight yang didapatkan berdasarkan significance testing adalah bahwa jumlah campaign yang pernah diberikan terhadap customer berpengaruh terhadap keinginan nasabah untuk dapat membuka rekening term deposit. **Conversion rate terjadi lebih baik pada control group yang merupakan data group untuk jumlah campaign yang lebih sedikit (kurang sama dengan 2)**\n",
    "\n",
    "**Business recomendation** yang dapat diberikan berdasarkan insight ini untuk meningkatkan conversion rate adalah dengan **membatasi jumlah campaign untuk setiap potential customer menjadi paling banyak 2.**"
   ]
  },
  {
   "cell_type": "markdown",
   "id": "8a898073-ea34-4a60-9389-1c5855b9729f",
   "metadata": {},
   "source": [
    "#### Visualization"
   ]
  },
  {
   "cell_type": "code",
   "execution_count": null,
   "id": "d3de19f1-0702-4f83-aea3-cfc8ff12dff1",
   "metadata": {
    "tags": []
   },
   "outputs": [],
   "source": [
    "plt.figure(figsize=(12,6))\n",
    "sns.set_style(\"whitegrid\")\n",
    "plt.ylim(0,16)\n",
    "plt.xlim(0,3)\n",
    "value = [round(cr_control*100,2),round(cr_treatment*100,2)]\n",
    "colors = ['grey' if (x < max(value)) else 'yellow' for x in value ]\n",
    "\n",
    "ax = sns.barplot(x = ['control', 'treatment'], y= value, errorbar=None, palette=colors, hue=colors, legend=False)\n",
    "ax.bar_label(ax.containers[0], fontsize=12, fontweight='bold');\n",
    "ax.bar_label(ax.containers[1], fontsize=12, fontweight='bold');\n",
    "\n",
    "\n",
    "plt.text(-0.5,19,'Proportions of Customer Divide by its Campaign Group', fontweight='bold', fontsize=16)\n",
    "plt.text(-0.5,17,'From the chart can be seen, lower campaign group having more proportions than higher group\\nThis shown that customer prefer having less campaign promoted to them', fontsize='14')\n",
    "plt.xlabel('Campaign Group Amount', fontweight='bold', labelpad=8)\n",
    "plt.ylabel('Customer Percentages (%)', fontweight='bold', labelpad=20)\n",
    "plt.xticks([0,1],['Low Campaign Group Proportion\\n(Less than equal 2)', 'High Campaign Group Proportion\\n(More than 2)'])\n",
    "\n",
    "plt.show()"
   ]
  },
  {
   "cell_type": "markdown",
   "id": "235f296b-4299-45c9-9cf1-af88bd45b759",
   "metadata": {
    "tags": []
   },
   "source": [
    "### Contact Amount on Previous Campaign Group Correlated to Conversion Rate"
   ]
  },
  {
   "cell_type": "code",
   "execution_count": null,
   "id": "662dee3c-c28e-4de6-a4f1-62a7e02d28a2",
   "metadata": {
    "tags": []
   },
   "outputs": [],
   "source": [
    "data_used = data.loc[:,['previous', 'y']]"
   ]
  },
  {
   "cell_type": "code",
   "execution_count": null,
   "id": "7b9f9d79-e121-43a6-9b1c-60c578073181",
   "metadata": {
    "tags": []
   },
   "outputs": [],
   "source": [
    "data_used.sample(3)"
   ]
  },
  {
   "cell_type": "code",
   "execution_count": null,
   "id": "078ee6ed-9461-48a6-844d-763877601f56",
   "metadata": {
    "tags": []
   },
   "outputs": [],
   "source": [
    "# distribution before pre-processing\n",
    "\n",
    "sns.boxplot(data_used, x='previous')\n",
    "plt.show()"
   ]
  },
  {
   "cell_type": "code",
   "execution_count": null,
   "id": "ffa1c467-d88c-49e9-bc69-9201549610ef",
   "metadata": {
    "tags": []
   },
   "outputs": [],
   "source": [
    "# preprocessing to eliminate outliers\n",
    "\n",
    "z_scores = np.abs(st.zscore(data_used['previous']))\n",
    "data_used['abs_zscore'] = z_scores\n",
    "\n",
    "filtered_entries = (z_scores < 3)\n",
    "data_used['filtered_entries'] = filtered_entries"
   ]
  },
  {
   "cell_type": "code",
   "execution_count": null,
   "id": "9c4ab4d5-36ca-47c3-859b-e6ee05288389",
   "metadata": {
    "tags": []
   },
   "outputs": [],
   "source": [
    "data_used.sample(5)"
   ]
  },
  {
   "cell_type": "code",
   "execution_count": null,
   "id": "f5ebe61a-6b03-4b76-a931-6ff9b8d36bec",
   "metadata": {
    "tags": []
   },
   "outputs": [],
   "source": [
    "data_used = data_used.query(\"filtered_entries == True\")"
   ]
  },
  {
   "cell_type": "code",
   "execution_count": null,
   "id": "6f15deb6-e280-43e1-a569-329b499f9d7c",
   "metadata": {
    "tags": []
   },
   "outputs": [],
   "source": [
    "# distribution after pre-processing\n",
    "\n",
    "sns.boxplot(data_used, x='previous')\n",
    "plt.show()"
   ]
  },
  {
   "cell_type": "markdown",
   "id": "c8f868a5-dfe9-49d0-8e4d-603700a59956",
   "metadata": {},
   "source": [
    "#### Hipotesis\n",
    "\n",
    "> H0: Jumlah kontak pada campaign sebelumnya **tidak meningkatkan** keinginan nasabah membuka rekening term deposit\n",
    "\n",
    "> H1: Jumlah kontak pada campaign sebelumnya **meningkatkan** keinginan nasabah membuka rekening term deposit"
   ]
  },
  {
   "cell_type": "code",
   "execution_count": null,
   "id": "9a248a26-af61-4be1-8791-c95e5c261965",
   "metadata": {
    "tags": []
   },
   "outputs": [],
   "source": [
    "# dividing duration to long and short using its median\n",
    "\n",
    "parameter = data_used.previous.median()\n",
    "print('Berdasarkan pencarian pemusatan, \\nDidapatkan parameter jumlah adalah kontak yang lebih dari', parameter)"
   ]
  },
  {
   "cell_type": "code",
   "execution_count": null,
   "id": "58c64f61-d97c-4f34-8b5e-3af78a9e1580",
   "metadata": {
    "tags": []
   },
   "outputs": [],
   "source": [
    "control = data_used.query(\"previous == 0\")\n",
    "treatment = data_used.query(\"previous > 0\")"
   ]
  },
  {
   "cell_type": "markdown",
   "id": "db6c2e22-10b1-4996-80d1-00fce3de84b2",
   "metadata": {},
   "source": [
    "#### Marketing Success rate"
   ]
  },
  {
   "cell_type": "code",
   "execution_count": null,
   "id": "07725979-e1d5-4bc7-9b96-81b5e20b174c",
   "metadata": {
    "tags": []
   },
   "outputs": [],
   "source": [
    "success_control = control.query(\"y != 'no'\").y.count()\n",
    "success_treatment = treatment.query(\"y != 'no'\").y.count()"
   ]
  },
  {
   "cell_type": "code",
   "execution_count": null,
   "id": "a4f1f438-08ff-40b4-af66-5735607d2f6b",
   "metadata": {
    "tags": []
   },
   "outputs": [],
   "source": [
    "obs_control = control.shape[0]\n",
    "obs_treatment = treatment.shape[0]"
   ]
  },
  {
   "cell_type": "code",
   "execution_count": null,
   "id": "f2931d15-9fa0-4546-b958-8a482ed832fc",
   "metadata": {
    "tags": []
   },
   "outputs": [],
   "source": [
    "cr_control = success_control/obs_control\n",
    "cr_treatment = success_treatment/obs_treatment"
   ]
  },
  {
   "cell_type": "code",
   "execution_count": null,
   "id": "e60fdec2-28ba-4884-97ea-b1bad4ce0f85",
   "metadata": {
    "tags": []
   },
   "outputs": [],
   "source": [
    "print('Conversion Rate Control :', round(cr_control*100, 2))"
   ]
  },
  {
   "cell_type": "code",
   "execution_count": null,
   "id": "1b34c7a8-1b81-4b6e-9169-e449b7bf9921",
   "metadata": {
    "tags": []
   },
   "outputs": [],
   "source": [
    "print('Conversion Rate Treatment : ', round(cr_treatment*100,2))"
   ]
  },
  {
   "cell_type": "markdown",
   "id": "ff138a67-4202-44ee-8397-72908c100044",
   "metadata": {},
   "source": [
    "#### Graph"
   ]
  },
  {
   "cell_type": "code",
   "execution_count": null,
   "id": "0d5d9c37-534f-43f1-afd8-9fdd84b6d4a5",
   "metadata": {
    "tags": []
   },
   "outputs": [],
   "source": [
    "x = ['control', 'treatment']\n",
    "value = [cr_control, cr_treatment]\n",
    "plt.bar(x, value)\n",
    "plt.show()"
   ]
  },
  {
   "cell_type": "markdown",
   "id": "c54522a1-4085-4c25-b713-784c48c1baad",
   "metadata": {},
   "source": [
    "#### z-value proportions"
   ]
  },
  {
   "cell_type": "code",
   "execution_count": null,
   "id": "36288cde-9061-4c8d-8f02-ad092de8cfc4",
   "metadata": {
    "tags": []
   },
   "outputs": [],
   "source": [
    "success = [success_control, success_treatment]\n",
    "obs = [obs_control, obs_treatment]\n",
    "\n",
    "stats, pvalue = sp.proportions_ztest(success,obs)"
   ]
  },
  {
   "cell_type": "code",
   "execution_count": null,
   "id": "94c730c4-01ce-47e5-93bf-4c504d5de623",
   "metadata": {
    "tags": []
   },
   "outputs": [],
   "source": [
    "print('P-value yang dihasilkan melalui uji z-value proportions adalah: ', pvalue)"
   ]
  },
  {
   "cell_type": "code",
   "execution_count": null,
   "id": "c7978425-f2a9-4e7e-9ad5-7cfff1f73c2c",
   "metadata": {
    "tags": []
   },
   "outputs": [],
   "source": [
    "if pvalue >= 0.05 :\n",
    "    print('H0 diterima, Jumlah kontak pada campaign sebelumnya tidak meningkatkan keinginan nasabah membuka rekening deposito')\n",
    "else :\n",
    "    print('H1 diterima, Jumlah kontak pada campaign sebelumnya meningkatkan keinginan nasabah membuka rekening deposito')"
   ]
  },
  {
   "cell_type": "markdown",
   "id": "6e18d871-4b7a-455c-926f-a8050c024925",
   "metadata": {},
   "source": [
    "#### Conclusion\n",
    "Business insight yang didapatkan berdasarkan significance testing adalah bahwa jumlah kontak pada campaign sebelumnya berpengaruh terhadap keinginan nasabah untuk dapat membuka rekening term deposit. **Conversion rate terjadi lebih baik pada treatment group yang merupakan data group untuk customer yang pernah di kontak (lebih dari 0)**\n",
    "\n",
    "**Business recomendation** yang dapat diberikan berdasarkan insight ini untuk meningkatkan conversion rate adalah dengan **meningkatkan engangement kepada customer melalui kontak customer setidaknya sekali dalam satu campaign**"
   ]
  },
  {
   "cell_type": "code",
   "execution_count": null,
   "id": "df6ab016-500e-4bb1-af45-0326b40b899b",
   "metadata": {
    "tags": []
   },
   "outputs": [],
   "source": [
    "plt.figure(figsize=(12,6))\n",
    "sns.set_style(\"whitegrid\")\n",
    "plt.ylim(0,30)\n",
    "plt.xlim(0,3)\n",
    "value = [round(cr_control*100,2),round(cr_treatment*100,2)]\n",
    "colors = ['grey' if (x < max(value)) else 'yellow' for x in value ]\n",
    "\n",
    "ax = sns.barplot(x = ['control', 'treatment'], y= value, errorbar=None, palette=colors, hue=colors)\n",
    "ax.bar_label(ax.containers[0], fontsize=12, fontweight='bold');\n",
    "ax.bar_label(ax.containers[1], fontsize=12, fontweight='bold');\n",
    "\n",
    "plt.text(-0.5,35,'Proportions of Customer Divide by Amount of Contacted on Previous Campaign', fontweight='bold', fontsize=16)\n",
    "plt.text(-0.5,31,'From the chart can be seen,\\ncustomer that contacted on previous campaign having better conversion rate', fontsize=14)\n",
    "plt.ylabel('Customer Percentages (%)', fontweight='bold', labelpad=20)\n",
    "plt.xlabel('Amount of contact performed on previous campaign', fontweight='bold', labelpad=20)\n",
    "plt.xticks([0,1],['Not Contacted\\n(equal to 0)', 'Contacted\\n(More than 0)'])\n",
    "\n",
    "plt.show()"
   ]
  },
  {
   "cell_type": "markdown",
   "id": "f71bb88e-fb33-44a0-a2a5-750a38a6f44c",
   "metadata": {
    "tags": []
   },
   "source": [
    "### Last Day Contacted on Previous Campaign Group Correlated to Conversion Rate"
   ]
  },
  {
   "cell_type": "code",
   "execution_count": null,
   "id": "b130b56a-11e3-415f-8145-1e43edf74988",
   "metadata": {
    "tags": []
   },
   "outputs": [],
   "source": [
    "data_used = data.loc[:,['pdays', 'y']]"
   ]
  },
  {
   "cell_type": "code",
   "execution_count": null,
   "id": "9bcbc045-4072-49a3-a547-8a162bf9f580",
   "metadata": {
    "tags": []
   },
   "outputs": [],
   "source": [
    "# filtering for customer that have contacted only on previous campaign\n",
    "data_used = data_used.query(\"pdays > -1\")"
   ]
  },
  {
   "cell_type": "code",
   "execution_count": null,
   "id": "1a25d890-57a8-482a-848f-339e3c7ace8f",
   "metadata": {
    "tags": []
   },
   "outputs": [],
   "source": [
    "data_used.sample(3)"
   ]
  },
  {
   "cell_type": "code",
   "execution_count": null,
   "id": "b11401f3-9054-404a-829b-d4ae874e5197",
   "metadata": {
    "tags": []
   },
   "outputs": [],
   "source": [
    "# distribution before pre-processing\n",
    "\n",
    "sns.boxplot(data_used, x='pdays')\n",
    "plt.show()"
   ]
  },
  {
   "cell_type": "code",
   "execution_count": null,
   "id": "d20ad0b8-33d3-4b23-9ee5-0a1b1d6d996a",
   "metadata": {
    "tags": []
   },
   "outputs": [],
   "source": [
    "# preprocessing to eliminate outliers\n",
    "\n",
    "z_scores = np.abs(st.zscore(data_used['pdays']))\n",
    "data_used['abs_zscore'] = z_scores\n",
    "\n",
    "filtered_entries = (z_scores < 3)\n",
    "data_used['filtered_entries'] = filtered_entries"
   ]
  },
  {
   "cell_type": "code",
   "execution_count": null,
   "id": "775efa05-b450-44f9-9036-d29cefc8e5c4",
   "metadata": {
    "tags": []
   },
   "outputs": [],
   "source": [
    "data_used.sample(5)"
   ]
  },
  {
   "cell_type": "code",
   "execution_count": null,
   "id": "75903001-7adb-4675-87c8-0457b5c2ef40",
   "metadata": {
    "tags": []
   },
   "outputs": [],
   "source": [
    "data_used = data_used.query(\"filtered_entries == True\")"
   ]
  },
  {
   "cell_type": "code",
   "execution_count": null,
   "id": "f1d7e437-aacc-4578-aa35-d1ab9351afe3",
   "metadata": {
    "tags": []
   },
   "outputs": [],
   "source": [
    "# distribution after pre-processing\n",
    "\n",
    "sns.boxplot(data_used, x='pdays')\n",
    "plt.show()"
   ]
  },
  {
   "cell_type": "markdown",
   "id": "7a8c48b2-1cc5-4b86-a5dc-1630f8257ebc",
   "metadata": {},
   "source": [
    "#### Hipotesis\n",
    "\n",
    "> H0: Jumlah hari dihubungi pada campaign sebelumnya **tidak meningkatkan** keinginan nasabah membuka rekening term deposit\n",
    "\n",
    "> H1: Jumlah hari dihubungi pada campaign sebelumnya **meningkatkan** keinginan nasabah membuka rekening term deposit"
   ]
  },
  {
   "cell_type": "code",
   "execution_count": null,
   "id": "be39adc7-8bb2-46ad-8a0f-3f10e4bbc902",
   "metadata": {
    "tags": []
   },
   "outputs": [],
   "source": [
    "# dividing duration to long and short by manual parameter per 30days\n",
    "\n",
    "parameter = 30\n",
    "print('Berdasarkan pencarian pemusatan, \\nDidapatkan parameter jumlah adalah hari kontak terakhir yang lebih dari', parameter)"
   ]
  },
  {
   "cell_type": "code",
   "execution_count": null,
   "id": "fe92e800-577f-44cf-9a69-77175789dad9",
   "metadata": {
    "tags": []
   },
   "outputs": [],
   "source": [
    "control = data_used.query(\"pdays <= 30\")\n",
    "treatment = data_used.query(\"pdays > 30\")"
   ]
  },
  {
   "cell_type": "markdown",
   "id": "084e4e03-e57b-420d-8015-4e65a101c3fe",
   "metadata": {
    "jp-MarkdownHeadingCollapsed": true,
    "tags": []
   },
   "source": [
    "#### Marketing success rate identification"
   ]
  },
  {
   "cell_type": "code",
   "execution_count": null,
   "id": "6cfa8801-d06f-4f05-b274-a0842bb93c2a",
   "metadata": {
    "tags": []
   },
   "outputs": [],
   "source": [
    "success_control = control.query(\"y != 'no'\").y.count()\n",
    "success_treatment = treatment.query(\"y != 'no'\").y.count()"
   ]
  },
  {
   "cell_type": "code",
   "execution_count": null,
   "id": "c0654e56-04cd-4ed6-8482-37123e89448b",
   "metadata": {
    "tags": []
   },
   "outputs": [],
   "source": [
    "obs_control = control.shape[0]\n",
    "obs_treatment = treatment.shape[0]"
   ]
  },
  {
   "cell_type": "code",
   "execution_count": null,
   "id": "2dd948fa-2cc6-4f66-9fb5-ab198cc60cb8",
   "metadata": {
    "tags": []
   },
   "outputs": [],
   "source": [
    "cr_control = success_control/obs_control\n",
    "cr_treatment = success_treatment/obs_treatment"
   ]
  },
  {
   "cell_type": "code",
   "execution_count": null,
   "id": "9cd342c2-7cd1-4a75-800b-ed997a26cfc2",
   "metadata": {
    "tags": []
   },
   "outputs": [],
   "source": [
    "print('Conversion Rate Control :', round(cr_control*100, 2))"
   ]
  },
  {
   "cell_type": "code",
   "execution_count": null,
   "id": "0f633d51-759c-46c1-b192-5b68d2f7c863",
   "metadata": {
    "tags": []
   },
   "outputs": [],
   "source": [
    "print('Conversion Rate Treatment : ', round(cr_treatment*100,2))"
   ]
  },
  {
   "cell_type": "markdown",
   "id": "5b8f3457-f106-472c-831a-208b0ae5e901",
   "metadata": {
    "jp-MarkdownHeadingCollapsed": true,
    "tags": []
   },
   "source": [
    "#### Graph"
   ]
  },
  {
   "cell_type": "code",
   "execution_count": null,
   "id": "7686fbd0-e53d-44f8-9631-dfee3ccc7af0",
   "metadata": {
    "tags": []
   },
   "outputs": [],
   "source": [
    "x = ['control', 'treatment']\n",
    "value = [cr_control, cr_treatment]\n",
    "plt.bar(x, value)\n",
    "plt.show()"
   ]
  },
  {
   "cell_type": "markdown",
   "id": "4561982a-823a-4326-8878-fb7d682c533e",
   "metadata": {
    "jp-MarkdownHeadingCollapsed": true,
    "tags": []
   },
   "source": [
    "#### z-value proportions"
   ]
  },
  {
   "cell_type": "code",
   "execution_count": null,
   "id": "63664907-29ed-43bd-aac8-bf685881b5ef",
   "metadata": {
    "tags": []
   },
   "outputs": [],
   "source": [
    "success = [success_control, success_treatment]\n",
    "obs = [obs_control, obs_treatment]\n",
    "\n",
    "stats, pvalue = sp.proportions_ztest(success,obs)"
   ]
  },
  {
   "cell_type": "code",
   "execution_count": null,
   "id": "a13d1803-7c3e-4cb6-8b90-4b903347bd7a",
   "metadata": {
    "tags": []
   },
   "outputs": [],
   "source": [
    "print('P-value yang dihasilkan melalui uji z-value proportions adalah: ', pvalue)"
   ]
  },
  {
   "cell_type": "code",
   "execution_count": null,
   "id": "af8e2cd1-328a-4724-9f6e-c8e0eb53b40c",
   "metadata": {
    "tags": []
   },
   "outputs": [],
   "source": [
    "if pvalue >= 0.05 :\n",
    "    print('H0 diterima, Jumlah hari dihubungi pada campaign sebelumnya tidak meningkatkan keinginan nasabah membuka rekening deposito')\n",
    "else :\n",
    "    print('H1 diterima, Jumlah hari dihubungi pada campaign sebelumnya meningkatkan keinginan nasabah membuka rekening deposito')"
   ]
  },
  {
   "cell_type": "markdown",
   "id": "4bd38909-b8f1-48c3-9800-130b8d137a8d",
   "metadata": {
    "tags": []
   },
   "source": [
    "#### Conclusion\n",
    "\n",
    "Business insight yang didapatkan berdasarkan significance testing adalah bahwa jumlah hari dihubungi pada campaign sebelumnya berpengaruh terhadap keinginan nasabah untuk dapat membuka rekening term deposit. **Conversion rate terjadi lebih baik pada treatment group yang merupakan data group untuk customer yang yang dihubungi pada rentang yang lebih lama (lebih dari 30 hari)**\n",
    "\n",
    "**Business recomendation** yang dapat diberikan berdasarkan insight ini untuk meningkatkan conversion rate adalah dengan **membuat durasi antar campaign menjadi lebih panjang, lebih dari 30 hari**"
   ]
  },
  {
   "cell_type": "code",
   "execution_count": null,
   "id": "dacdb184-f6c8-4db4-9fd1-2cd179374cd6",
   "metadata": {
    "tags": []
   },
   "outputs": [],
   "source": [
    "plt.figure(figsize=(12,6))\n",
    "sns.set_style(\"whitegrid\")\n",
    "plt.ylim(0,30)\n",
    "plt.xlim(0,3)\n",
    "value = [round(cr_control*100,2),round(cr_treatment*100,2)]\n",
    "colors = ['grey' if (x < max(value)) else 'yellow' for x in value ]\n",
    "\n",
    "ax = sns.barplot(x = ['control', 'treatment'], y= value, errorbar=None, palette=colors, hue=colors, legend=False)\n",
    "ax.bar_label(ax.containers[0], fontsize=12, fontweight='bold');\n",
    "ax.bar_label(ax.containers[1], fontsize=12, fontweight='bold');\n",
    "\n",
    "\n",
    "plt.text(-0.5,35,'Proportions of Customer Divide by Last Days Contacted on Previous Campaign', fontweight='bold', fontsize=16)\n",
    "plt.text(-0.5,31,'From the chart can be seen,\\ncustomer that contacted on longer than 1 month from previous campaign having better conversion rate', fontsize=14)\n",
    "plt.ylabel('Customer Percentages (%)', fontweight='bold', labelpad=20)\n",
    "plt.xlabel('Last Days Conctacted from previous campaign', fontweight='bold', labelpad=20)\n",
    "plt.xticks([0,1],['Low Previous Campaign Days\\n(less than equal to 30 days)', 'High Campaign Previous Days\\n(More than 30 days)'])\n",
    "\n",
    "plt.show()"
   ]
  },
  {
   "cell_type": "markdown",
   "id": "b2b4173d-65a2-4b44-a01a-3fde8f1c6c30",
   "metadata": {
    "tags": []
   },
   "source": [
    "### Hubungan last day contacted of the month terhadap Conversion rate"
   ]
  },
  {
   "cell_type": "code",
   "execution_count": null,
   "id": "e88e4ff7-266f-445c-bc9d-d44a8f20fb9f",
   "metadata": {
    "tags": []
   },
   "outputs": [],
   "source": [
    "data_used = data.loc[:,['day', 'y']]"
   ]
  },
  {
   "cell_type": "code",
   "execution_count": null,
   "id": "c6f2e934-4b44-4659-9ab1-c7dbf9900fba",
   "metadata": {
    "tags": []
   },
   "outputs": [],
   "source": [
    "data_used.sample(3)"
   ]
  },
  {
   "cell_type": "code",
   "execution_count": null,
   "id": "62dad7bf-147e-492c-9e75-135ac192c4ce",
   "metadata": {
    "tags": []
   },
   "outputs": [],
   "source": [
    "# distribution before pre-processing\n",
    "\n",
    "sns.boxplot(data_used, x='day')\n",
    "plt.show()"
   ]
  },
  {
   "cell_type": "markdown",
   "id": "42f0f7de-961b-422a-a93a-6df22d6c0cd4",
   "metadata": {},
   "source": [
    "#### Hipotesis\n",
    "\n",
    "> H0: Jumlah hari dihubungi **tidak meningkatkan** keinginan nasabah membuka rekening term deposit\n",
    "\n",
    "> H1: Jumlah hari dihubungi  **meningkatkan** keinginan nasabah membuka rekening term deposit"
   ]
  },
  {
   "cell_type": "code",
   "execution_count": null,
   "id": "9eb4878e-897b-4f10-9902-b21cb91b567f",
   "metadata": {
    "tags": []
   },
   "outputs": [],
   "source": [
    "# dividing duration to long and short by manual parameter per 30days\n",
    "\n",
    "parameter = 15\n",
    "print('Berdasarkan pencarian pemusatan, \\nDidapatkan parameter jumlah adalah hari kontak terakhir yang lebih dari', parameter)"
   ]
  },
  {
   "cell_type": "code",
   "execution_count": null,
   "id": "2ae2359b-46b2-4584-af22-a9b734549f5b",
   "metadata": {
    "tags": []
   },
   "outputs": [],
   "source": [
    "control = data_used.query(\"day <= 15\")\n",
    "treatment = data_used.query(\"day > 15\")"
   ]
  },
  {
   "cell_type": "markdown",
   "id": "8d0667ca-68d0-4dab-9f05-ccae1fd76bc8",
   "metadata": {},
   "source": [
    "#### Marketing success rate identification"
   ]
  },
  {
   "cell_type": "code",
   "execution_count": null,
   "id": "55054d94-1368-42c1-a255-d01e08726cdd",
   "metadata": {
    "tags": []
   },
   "outputs": [],
   "source": [
    "success_control = control.query(\"y != 'no'\").y.count()\n",
    "success_treatment = treatment.query(\"y != 'no'\").y.count()"
   ]
  },
  {
   "cell_type": "code",
   "execution_count": null,
   "id": "cc17833c-c73f-4bdd-b1d3-a345b071aea8",
   "metadata": {
    "tags": []
   },
   "outputs": [],
   "source": [
    "obs_control = control.shape[0]\n",
    "obs_treatment = treatment.shape[0]"
   ]
  },
  {
   "cell_type": "code",
   "execution_count": null,
   "id": "12b5dcf8-0ed2-4f60-8595-9e58d31fe8e1",
   "metadata": {
    "tags": []
   },
   "outputs": [],
   "source": [
    "cr_control = success_control/obs_control\n",
    "cr_treatment = success_treatment/obs_treatment"
   ]
  },
  {
   "cell_type": "code",
   "execution_count": null,
   "id": "94e275c9-1a95-44d5-8fca-052e45029236",
   "metadata": {
    "tags": []
   },
   "outputs": [],
   "source": [
    "print('Conversion Rate Control :', round(cr_control*100, 2))"
   ]
  },
  {
   "cell_type": "code",
   "execution_count": null,
   "id": "655858a4-4516-4a87-904d-675614057434",
   "metadata": {
    "tags": []
   },
   "outputs": [],
   "source": [
    "print('Conversion Rate Treatment : ', round(cr_treatment*100,2))"
   ]
  },
  {
   "cell_type": "markdown",
   "id": "826609eb-d969-4acf-8e73-1f984b59743a",
   "metadata": {},
   "source": [
    "#### Graph"
   ]
  },
  {
   "cell_type": "code",
   "execution_count": null,
   "id": "26a6ffd3-61cc-4600-9d26-be7578eea451",
   "metadata": {
    "tags": []
   },
   "outputs": [],
   "source": [
    "x = ['control', 'treatment']\n",
    "value = [cr_control, cr_treatment]\n",
    "plt.bar(x, value)\n",
    "plt.show()"
   ]
  },
  {
   "cell_type": "markdown",
   "id": "06ad87db-ec55-4f5c-b102-aeecba0da5cc",
   "metadata": {},
   "source": [
    "#### z-value proportions"
   ]
  },
  {
   "cell_type": "code",
   "execution_count": null,
   "id": "a1751109-b055-4383-a76f-fdea7f3cb141",
   "metadata": {
    "tags": []
   },
   "outputs": [],
   "source": [
    "success = [success_control, success_treatment]\n",
    "obs = [obs_control, obs_treatment]\n",
    "\n",
    "stats, pvalue = sp.proportions_ztest(success,obs)"
   ]
  },
  {
   "cell_type": "code",
   "execution_count": null,
   "id": "78c4b4be-bfe9-4637-85c0-e4314f460a60",
   "metadata": {
    "tags": []
   },
   "outputs": [],
   "source": [
    "print('P-value yang dihasilkan melalui uji z-value proportions adalah: ', pvalue)"
   ]
  },
  {
   "cell_type": "code",
   "execution_count": null,
   "id": "7f6c89f8-567a-4002-8502-ae9d746b9d7b",
   "metadata": {
    "tags": []
   },
   "outputs": [],
   "source": [
    "if pvalue >= 0.05 :\n",
    "    print('H0 diterima, Jumlah hari dihubungi tidak meningkatkan keinginan nasabah membuka rekening deposito')\n",
    "else :\n",
    "    print('H1 diterima, Jumlah hari dihubungi meningkatkan keinginan nasabah membuka rekening deposito')"
   ]
  },
  {
   "cell_type": "markdown",
   "id": "846696a2-6617-43a4-b68b-6d1c346abebe",
   "metadata": {},
   "source": [
    "#### Conclusion\n",
    "\n",
    "Business insight yang didapatkan berdasarkan significance testing adalah bahwa jumlah hari dihubungi berpengaruh terhadap keinginan nasabah untuk dapat membuka rekening term deposit. **Conversion rate terjadi lebih baik pada treatment group yang merupakan data group untuk customer yang dihubungi pada rentang yang lebih cepat (kurang dari 15 hari)**\n",
    "\n",
    "**Business recomendation** yang dapat diberikan berdasarkan insight ini untuk meningkatkan conversion rate adalah dengan **membuat durasi contact terakhir, lebih pendek maksimal 15 hari**"
   ]
  },
  {
   "cell_type": "code",
   "execution_count": null,
   "id": "16396c73-462f-4003-91f2-e45d1afa0f6d",
   "metadata": {
    "tags": []
   },
   "outputs": [],
   "source": [
    "plt.figure(figsize=(12,6))\n",
    "sns.set_style(\"whitegrid\")\n",
    "plt.ylim(0,17)\n",
    "plt.xlim(0,3)\n",
    "value = [round(cr_control*100,2),round(cr_treatment*100,2)]\n",
    "colors = ['grey' if (x < max(value)) else 'yellow' for x in value ]\n",
    "\n",
    "ax = sns.barplot(x = ['control', 'treatment'], y= value, errorbar=None, palette=colors, hue=colors)\n",
    "ax.bar_label(ax.containers[0], fontsize=12, fontweight='bold');\n",
    "ax.bar_label(ax.containers[1], fontsize=12, fontweight='bold');\n",
    "\n",
    "\n",
    "plt.text(-0.5,20,'Proportions of Customer Divide by Last Days Contacted', fontweight='bold', fontsize=16)\n",
    "plt.text(-0.5,18,'From the chart can be seen,\\ncustomer that contacted on longer than 15 days having better conversion rate', fontsize=14)\n",
    "plt.ylabel('Customer Percentages (%)', fontweight='bold', labelpad=20)\n",
    "plt.xlabel('Last Days Contacted', fontweight='bold', labelpad=20)\n",
    "plt.xticks([0,1],['Low Contacted Days\\n(less than equal to 15 days)', 'High Contacted Days\\n(More than 15 days)'])\n",
    "\n",
    "plt.show()"
   ]
  },
  {
   "cell_type": "markdown",
   "id": "5f2a6ad7-e794-4601-b8c2-dd29857a4f3d",
   "metadata": {
    "tags": []
   },
   "source": [
    "### Hubungan Kelompok Balance Nasabah terhadap Conversion Rate"
   ]
  },
  {
   "cell_type": "code",
   "execution_count": null,
   "id": "48dc7b4c-e29e-4e92-a611-0bb69d680614",
   "metadata": {
    "tags": []
   },
   "outputs": [],
   "source": [
    "data_used = data.loc[:,['balance', 'y']]"
   ]
  },
  {
   "cell_type": "code",
   "execution_count": null,
   "id": "be66f796-1559-4952-9c14-02100c333cb4",
   "metadata": {
    "tags": []
   },
   "outputs": [],
   "source": [
    "data_used.sample(3)"
   ]
  },
  {
   "cell_type": "code",
   "execution_count": null,
   "id": "4ae7ba49-2021-4777-92df-ba2f338c6da6",
   "metadata": {
    "tags": []
   },
   "outputs": [],
   "source": [
    "# distribution before pre-processing\n",
    "\n",
    "sns.boxplot(data_used, x='balance')\n",
    "plt.show()"
   ]
  },
  {
   "cell_type": "code",
   "execution_count": null,
   "id": "b93fd3d5-bfc2-468b-aace-0f32862f59f2",
   "metadata": {
    "tags": []
   },
   "outputs": [],
   "source": [
    "# preprocessing to eliminate outliers\n",
    "\n",
    "z_scores = np.abs(st.zscore(data_used['balance']))\n",
    "data_used['abs_zscore'] = z_scores\n",
    "\n",
    "filtered_entries = (z_scores < 3)\n",
    "data_used['filtered_entries'] = filtered_entries"
   ]
  },
  {
   "cell_type": "code",
   "execution_count": null,
   "id": "c0c20601-659d-4e43-9c7c-c6488eafbdda",
   "metadata": {
    "tags": []
   },
   "outputs": [],
   "source": [
    "data_used.head()"
   ]
  },
  {
   "cell_type": "code",
   "execution_count": null,
   "id": "04df86ba-7bae-446c-bd7f-0a2bffe8dcac",
   "metadata": {
    "tags": []
   },
   "outputs": [],
   "source": [
    "data_used = data_used.query(\"filtered_entries == True\")"
   ]
  },
  {
   "cell_type": "code",
   "execution_count": null,
   "id": "ad295a7d-3ad9-4121-9e88-f8f4888b3834",
   "metadata": {
    "tags": []
   },
   "outputs": [],
   "source": [
    "# distribution after pre-processing\n",
    "\n",
    "sns.boxplot(data_used, x='balance')\n",
    "plt.show()"
   ]
  },
  {
   "cell_type": "markdown",
   "id": "fd2085f0-1271-4eca-995f-d5bcaf6c79ec",
   "metadata": {},
   "source": [
    "#### Hipotesis\n",
    "\n",
    "> H0: Jumlah balance **tidak meningkatkan** keinginan nasabah membuka rekening term deposit\n",
    "\n",
    "> H1: Jumlah balance **meningkatkan** keinginan nasabah membuka rekening term deposit"
   ]
  },
  {
   "cell_type": "code",
   "execution_count": null,
   "id": "d9f6365a-0513-435d-b3e6-8700f4edb781",
   "metadata": {
    "tags": []
   },
   "outputs": [],
   "source": [
    "# dividing duration to long and short using its median\n",
    "\n",
    "parameter = data_used.balance.mean()\n",
    "print('Berdasarkan pencarian pemusatan, \\nDidapatkan parameter jumlah adalah duration yang lebih dari', parameter)"
   ]
  },
  {
   "cell_type": "code",
   "execution_count": null,
   "id": "20921da3-1ac6-4052-802b-a7a8c44cce06",
   "metadata": {
    "tags": []
   },
   "outputs": [],
   "source": [
    "control = data_used.query(\"balance <= 1084.5444834255386\")\n",
    "treatment = data_used.query(\"balance > 1084.5444834255386\")"
   ]
  },
  {
   "cell_type": "markdown",
   "id": "aa3da075-04de-4963-b5b3-3395e75512be",
   "metadata": {},
   "source": [
    "#### Marketing success rate identification"
   ]
  },
  {
   "cell_type": "code",
   "execution_count": null,
   "id": "287a137f-8c38-4070-b8e7-80e038736373",
   "metadata": {
    "tags": []
   },
   "outputs": [],
   "source": [
    "success_control = control.query(\"y != 'no'\").y.count()\n",
    "success_treatment = treatment.query(\"y != 'no'\").y.count()"
   ]
  },
  {
   "cell_type": "code",
   "execution_count": null,
   "id": "1d6693b2-79a4-4b92-bc25-8c7353867ec7",
   "metadata": {
    "tags": []
   },
   "outputs": [],
   "source": [
    "obs_control = control.shape[0]\n",
    "obs_treatment = treatment.shape[0]"
   ]
  },
  {
   "cell_type": "code",
   "execution_count": null,
   "id": "98fa0d35-4dca-4419-8609-aecc19f70023",
   "metadata": {
    "tags": []
   },
   "outputs": [],
   "source": [
    "cr_control = success_control/obs_control\n",
    "cr_treatment = success_treatment/obs_treatment"
   ]
  },
  {
   "cell_type": "code",
   "execution_count": null,
   "id": "3460c9a6-3644-4cb8-ac40-9f7241528b60",
   "metadata": {
    "tags": []
   },
   "outputs": [],
   "source": [
    "print('Conversion Rate Control :', round(cr_control*100, 2))"
   ]
  },
  {
   "cell_type": "code",
   "execution_count": null,
   "id": "ed8e6f5e-4717-4cfe-bfca-1ea47a1097a0",
   "metadata": {
    "tags": []
   },
   "outputs": [],
   "source": [
    "print('Conversion Rate Treatment : ', round(cr_treatment*100,2))"
   ]
  },
  {
   "cell_type": "markdown",
   "id": "bd2b06ff-ea30-43cb-9f7c-b3a713292698",
   "metadata": {},
   "source": [
    "#### Graph"
   ]
  },
  {
   "cell_type": "code",
   "execution_count": null,
   "id": "0de20a1e-140e-4e25-8779-4678d0d73e48",
   "metadata": {
    "tags": []
   },
   "outputs": [],
   "source": [
    "x = ['control', 'treatment']\n",
    "value = [cr_control, cr_treatment]\n",
    "plt.bar(x, value)"
   ]
  },
  {
   "cell_type": "markdown",
   "id": "5a4aed64-cdd1-4b39-b468-40bbd9b8e516",
   "metadata": {},
   "source": [
    "#### z-value proportions"
   ]
  },
  {
   "cell_type": "code",
   "execution_count": null,
   "id": "ffad3358-28a5-4ff2-84b1-9235ddf82c2a",
   "metadata": {
    "tags": []
   },
   "outputs": [],
   "source": [
    "success = [success_control, success_treatment]\n",
    "obs = [obs_control, obs_treatment]\n",
    "\n",
    "stats, pvalue = sp.proportions_ztest(success,obs)"
   ]
  },
  {
   "cell_type": "code",
   "execution_count": null,
   "id": "344b51d1-c039-4605-970d-70da374da19f",
   "metadata": {
    "tags": []
   },
   "outputs": [],
   "source": [
    "print('P-value yang dihasilkan melalui uji z-value proportions adalah: ', pvalue)"
   ]
  },
  {
   "cell_type": "code",
   "execution_count": null,
   "id": "1cf740f4-1fda-4380-b375-fccc895c000e",
   "metadata": {
    "tags": []
   },
   "outputs": [],
   "source": [
    "if pvalue >= 0.05 :\n",
    "    print('H0 diterima, Jumlah Balance tidak meningkatkan keinginan nasabah membuka rekening term deposit')\n",
    "else :\n",
    "    print('H1 diterima, Jumlah Balance meningkatkan keinginan nasabah membuka rekening term deposit')"
   ]
  },
  {
   "cell_type": "markdown",
   "id": "c27124ec-bb6e-44f9-8063-aba9c37ef9d2",
   "metadata": {},
   "source": [
    "#### Conclusion\n",
    "Business insight yang didapatkan berdasarkan significance testing adalah bahwa jumlah kelompok balance customer berpengaruh terhadap keinginan nasabah untuk dapat membuka rekening term deposit. **Conversion rate terjadi lebih baik pada treatment group yang merupakan data group untuk jumlah kelompok balance diatas rata-rata (kurang sama dengan 1084 euro)**\n",
    "\n",
    "**Business recomendation** yang dapat diberikan berdasarkan insight ini untuk meningkatkan conversion rate adalah dengan **menghubungi kelompok balance yang diatas rata-rata.**"
   ]
  },
  {
   "cell_type": "markdown",
   "id": "a8f761d6-e86f-4e8f-ba77-3ab1af10e974",
   "metadata": {},
   "source": [
    "#### Visualization"
   ]
  },
  {
   "cell_type": "code",
   "execution_count": null,
   "id": "6bd5eccb-a020-4b12-b089-90046888ce06",
   "metadata": {
    "tags": []
   },
   "outputs": [],
   "source": [
    "plt.figure(figsize=(12,6))\n",
    "sns.set_style(\"whitegrid\")\n",
    "plt.ylim(0,17)\n",
    "plt.xlim(0,3)\n",
    "value = [round(cr_control*100,2),round(cr_treatment*100,2)]\n",
    "colors = ['grey' if (x < max(value)) else 'yellow' for x in value ]\n",
    "\n",
    "ax = sns.barplot(x = ['control', 'treatment'], y= value, errorbar=None, palette=colors, hue=colors)\n",
    "ax.bar_label(ax.containers[0], fontsize=12, fontweight='bold');\n",
    "ax.bar_label(ax.containers[1], fontsize=12, fontweight='bold');\n",
    "\n",
    "\n",
    "plt.text(-0.5,19,'Proportions of Customer Divide by its Balance Group', fontweight='bold', fontsize=16)\n",
    "plt.text(-0.5,18,'From the chart can be seen, higher balance group having more proportions than lower balance group', fontsize='14')\n",
    "plt.xlabel('Balance Group', fontweight='bold', labelpad=8)\n",
    "plt.ylabel('Customer Percentages (%)', fontweight='bold', labelpad=20)\n",
    "plt.xticks([0,1],['Low Balance Group Proportion\\n(Less than equal 1084 euros)', 'High Balance Group Proportion\\n(More than 1084 euros)'])\n",
    "\n",
    "plt.show()"
   ]
  },
  {
   "cell_type": "markdown",
   "id": "77a7bc11-b4aa-44ae-8544-19f990090ada",
   "metadata": {
    "tags": []
   },
   "source": [
    "### Hubungan Kelompok Umur terhadap Conversion Rate"
   ]
  },
  {
   "cell_type": "code",
   "execution_count": null,
   "id": "d777a10c-6e1d-4b8b-be83-b6710621c6c8",
   "metadata": {
    "tags": []
   },
   "outputs": [],
   "source": [
    "data_used = data.loc[:,['age', 'y']]"
   ]
  },
  {
   "cell_type": "code",
   "execution_count": null,
   "id": "552efc04-b3ba-4be7-afef-54a830eae97b",
   "metadata": {
    "tags": []
   },
   "outputs": [],
   "source": [
    "data_used.sample(3)"
   ]
  },
  {
   "cell_type": "code",
   "execution_count": null,
   "id": "72fd886e-4216-4b64-837a-d3076294e020",
   "metadata": {
    "tags": []
   },
   "outputs": [],
   "source": [
    "# distribution before pre-processing\n",
    "\n",
    "sns.boxplot(data_used, x='age')\n",
    "plt.show()"
   ]
  },
  {
   "cell_type": "code",
   "execution_count": null,
   "id": "fe36ed2b-3835-4ba2-8a29-71b6e719150c",
   "metadata": {
    "tags": []
   },
   "outputs": [],
   "source": [
    "# preprocessing to eliminate outliers\n",
    "\n",
    "z_scores = np.abs(st.zscore(data_used['age']))\n",
    "data_used['abs_zscore'] = z_scores\n",
    "\n",
    "filtered_entries = (z_scores < 3)\n",
    "data_used['filtered_entries'] = filtered_entries"
   ]
  },
  {
   "cell_type": "code",
   "execution_count": null,
   "id": "bf4e5c92-cef2-4193-9677-68d025d7b9e9",
   "metadata": {
    "tags": []
   },
   "outputs": [],
   "source": [
    "data_used.head()"
   ]
  },
  {
   "cell_type": "code",
   "execution_count": null,
   "id": "362c1788-d4bd-4d9d-8775-bced5de9a803",
   "metadata": {
    "tags": []
   },
   "outputs": [],
   "source": [
    "data_used = data_used.query(\"filtered_entries == True\")"
   ]
  },
  {
   "cell_type": "code",
   "execution_count": null,
   "id": "56af426f-ae57-4a4e-8645-7303ad14b146",
   "metadata": {
    "tags": []
   },
   "outputs": [],
   "source": [
    "# distribution after pre-processing\n",
    "\n",
    "sns.boxplot(data_used, x='age')\n",
    "plt.show()"
   ]
  },
  {
   "cell_type": "markdown",
   "id": "ded5d0c9-b5a0-47c1-a725-3d9ab1824704",
   "metadata": {},
   "source": [
    "#### Hipotesis\n",
    "\n",
    "> H0: Kelompok Umur **tidak meningkatkan** keinginan nasabah membuka rekening term deposit\n",
    "\n",
    "> H1: Kelompok Umur **meningkatkan** keinginan nasabah membuka rekening term deposit"
   ]
  },
  {
   "cell_type": "code",
   "execution_count": null,
   "id": "06810b6e-14aa-4537-af21-4346e2a6c22a",
   "metadata": {
    "tags": []
   },
   "outputs": [],
   "source": [
    "# dividing duration to long and short using its median\n",
    "\n",
    "parameter = 20\n",
    "print('Berdasarkan pencarian pemusatan, Didapatkan parameter jumlah adalah duration yang lebih dari', parameter)"
   ]
  },
  {
   "cell_type": "code",
   "execution_count": null,
   "id": "10266e4b-19d7-444d-845b-bf733b4d7a6f",
   "metadata": {
    "tags": []
   },
   "outputs": [],
   "source": [
    "control = data_used.query(\"age <= 20\")\n",
    "treatment = data_used.query(\"age > 20\")"
   ]
  },
  {
   "cell_type": "markdown",
   "id": "a0ca3ea4-6051-493b-ad44-507a62a23ccd",
   "metadata": {},
   "source": [
    "#### Marketing success rate identification"
   ]
  },
  {
   "cell_type": "code",
   "execution_count": null,
   "id": "dced0ee2-67ba-48fa-8d3d-9372b685a6fd",
   "metadata": {
    "tags": []
   },
   "outputs": [],
   "source": [
    "success_control = control.query(\"y != 'no'\").y.count()\n",
    "success_treatment = treatment.query(\"y != 'no'\").y.count()"
   ]
  },
  {
   "cell_type": "code",
   "execution_count": null,
   "id": "e8305989-e870-4862-99f0-62f28f3570d5",
   "metadata": {
    "tags": []
   },
   "outputs": [],
   "source": [
    "obs_control = control.shape[0]\n",
    "obs_treatment = treatment.shape[0]"
   ]
  },
  {
   "cell_type": "code",
   "execution_count": null,
   "id": "4f5e53a7-72c4-4c34-b381-7ae71fdc77a0",
   "metadata": {
    "tags": []
   },
   "outputs": [],
   "source": [
    "cr_control = success_control/obs_control\n",
    "cr_treatment = success_treatment/obs_treatment"
   ]
  },
  {
   "cell_type": "code",
   "execution_count": null,
   "id": "7fed7565-d9c6-4b35-9ca0-5c157e0eb4e6",
   "metadata": {
    "tags": []
   },
   "outputs": [],
   "source": [
    "print('Conversion Rate Control :', round(cr_control*100, 2))"
   ]
  },
  {
   "cell_type": "code",
   "execution_count": null,
   "id": "bfca1a9a-5e59-4f73-9c63-df2161c9a7a0",
   "metadata": {
    "tags": []
   },
   "outputs": [],
   "source": [
    "print('Conversion Rate Treatment : ', round(cr_treatment*100,2))"
   ]
  },
  {
   "cell_type": "markdown",
   "id": "02dd23d5-365c-442c-a727-820825f71c86",
   "metadata": {},
   "source": [
    "#### Graph"
   ]
  },
  {
   "cell_type": "code",
   "execution_count": null,
   "id": "23af23c1-11d2-41cc-badd-de2dc57ac9ef",
   "metadata": {
    "tags": []
   },
   "outputs": [],
   "source": [
    "x = ['control', 'treatment']\n",
    "value = [cr_control, cr_treatment]\n",
    "plt.bar(x, value)"
   ]
  },
  {
   "cell_type": "markdown",
   "id": "7063f6b0-3a2b-40bf-86b0-b76e7268cc4b",
   "metadata": {},
   "source": [
    "#### z-value proportions"
   ]
  },
  {
   "cell_type": "code",
   "execution_count": null,
   "id": "38a2b6de-58ba-430e-9ee4-cd345c7edda7",
   "metadata": {
    "tags": []
   },
   "outputs": [],
   "source": [
    "success = [success_control, success_treatment]\n",
    "obs = [obs_control, obs_treatment]\n",
    "\n",
    "stats, pvalue = sp.proportions_ztest(success,obs)"
   ]
  },
  {
   "cell_type": "code",
   "execution_count": null,
   "id": "6d4d053e-b297-4014-aaf5-db4aeba8e4cc",
   "metadata": {
    "tags": []
   },
   "outputs": [],
   "source": [
    "print('P-value yang dihasilkan melalui uji z-value proportions adalah: ', pvalue)"
   ]
  },
  {
   "cell_type": "code",
   "execution_count": null,
   "id": "ed8fdb77-96ec-4c6a-b891-6965f6c85b22",
   "metadata": {
    "tags": []
   },
   "outputs": [],
   "source": [
    "if pvalue >= 0.05 : \n",
    "    print('H0 diterima, Kelompok Umur tidak meningkatkan keinginan nasabah membuka rekening term deposit')\n",
    "else :\n",
    "    print('H1 diterima, Kelompok Umur meningkatkan keinginan nasabah membuka rekening term deposit')"
   ]
  },
  {
   "cell_type": "markdown",
   "id": "0b6f8963-af6c-40e8-ab09-7812a2de53a3",
   "metadata": {},
   "source": [
    "#### Conclusion\n",
    "Business insight yang didapatkan berdasarkan significance testing adalah bahwa jumlah kelompok umur customer berpengaruh terhadap keinginan nasabah untuk dapat membuka rekening term deposit. **Conversion rate terjadi lebih baik pada treatment group yang merupakan data group untuk jumlah kelompok kelompok umur di bawah sama dengan 20.**\n",
    "\n",
    "**Business recomendation** yang dapat diberikan berdasarkan insight ini untuk meningkatkan conversion rate adalah dengan **menghubungi kelompok umur yang di bawah sama dengan 20.**"
   ]
  },
  {
   "cell_type": "markdown",
   "id": "e69e1399-72c7-4a25-aa2b-a169f993e7b8",
   "metadata": {},
   "source": [
    "#### Visualization"
   ]
  },
  {
   "cell_type": "code",
   "execution_count": null,
   "id": "37d8f79d-6322-4ef4-82cd-cb201f27db95",
   "metadata": {
    "tags": []
   },
   "outputs": [],
   "source": [
    "plt.figure(figsize=(12,6))\n",
    "sns.set_style(\"whitegrid\")\n",
    "plt.ylim(0,45)\n",
    "plt.xlim(0,3)\n",
    "value = [round(cr_control*100,2),round(cr_treatment*100,2)]\n",
    "colors = ['grey' if (x < max(value)) else 'yellow' for x in value ]\n",
    "\n",
    "ax = sns.barplot(x = ['control', 'treatment'], y= value, errorbar=None, palette=colors, hue=colors)\n",
    "ax.bar_label(ax.containers[0], fontsize=12, fontweight='bold');\n",
    "ax.bar_label(ax.containers[1], fontsize=12, fontweight='bold');\n",
    "\n",
    "\n",
    "plt.text(-0.5,48,'Proportions of Customer Divide by its Age Group', fontweight='bold', fontsize=16)\n",
    "plt.text(-0.5,46,'From the chart can be seen, lower age group having better conversion rate', fontsize='14')\n",
    "plt.xlabel('Age Group', fontweight='bold', labelpad=8)\n",
    "plt.ylabel('Customer Percentages (%)', fontweight='bold', labelpad=20)\n",
    "plt.xticks([0,1],['Lower Age Group Proportion\\n(Less than equal 20 y.o)', 'High Age Group Proportion\\n(More than 20 y.o)'])\n",
    "\n",
    "plt.show()"
   ]
  }
 ],
 "metadata": {
  "kernelspec": {
   "display_name": "final_project",
   "language": "python",
   "name": "final_project"
  },
  "language_info": {
   "codemirror_mode": {
    "name": "ipython",
    "version": 3
   },
   "file_extension": ".py",
   "mimetype": "text/x-python",
   "name": "python",
   "nbconvert_exporter": "python",
   "pygments_lexer": "ipython3",
   "version": "3.11.4"
  }
 },
 "nbformat": 4,
 "nbformat_minor": 5
}
