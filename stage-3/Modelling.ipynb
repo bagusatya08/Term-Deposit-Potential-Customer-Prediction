{
 "cells": [
  {
   "cell_type": "code",
   "execution_count": 98,
   "id": "f472db69-0562-4e99-bab9-fb2e31523885",
   "metadata": {
    "tags": []
   },
   "outputs": [],
   "source": [
    "import numpy as np\n",
    "import pandas as pd\n",
    "\n",
    "import matplotlib.pyplot as plt\n",
    "import seaborn as sns\n",
    "\n",
    "from sklearn.linear_model import LogisticRegression\n",
    "from sklearn.tree import DecisionTreeClassifier\n",
    "from sklearn.ensemble import RandomForestClassifier\n",
    "from sklearn.neighbors import KNeighborsClassifier\n",
    "\n",
    "from sklearn.metrics import accuracy_score, precision_score, recall_score, f1_score, roc_auc_score, roc_curve, auc, confusion_matrix, ConfusionMatrixDisplay\n",
    "from sklearn.model_selection import GridSearchCV, RandomizedSearchCV\n",
    "from sklearn.svm import SVC\n",
    "\n",
    "import time"
   ]
  },
  {
   "cell_type": "code",
   "execution_count": 2,
   "id": "1905ede3-47b8-46d7-ba8c-5b23f80171cb",
   "metadata": {
    "tags": []
   },
   "outputs": [],
   "source": [
    "# pandas settings\n",
    "\n",
    "pd.set_option('display.max_rows', 500)\n",
    "pd.set_option('display.max_columns', 500)\n",
    "pd.set_option('display.width', 1000)"
   ]
  },
  {
   "cell_type": "markdown",
   "id": "661c0016-6d68-449c-8361-1041c7031d2f",
   "metadata": {
    "jp-MarkdownHeadingCollapsed": true,
    "tags": []
   },
   "source": [
    "## Importing Dataset"
   ]
  },
  {
   "cell_type": "code",
   "execution_count": 3,
   "id": "8b29a54e-533c-4410-9cac-d9b7142f191a",
   "metadata": {
    "tags": []
   },
   "outputs": [],
   "source": [
    "# reading data train\n",
    "\n",
    "data_train = pd.read_csv(\"train.csv\")"
   ]
  },
  {
   "cell_type": "code",
   "execution_count": 4,
   "id": "f01778c0-371d-44e9-ace1-5fdd0df99cea",
   "metadata": {
    "tags": []
   },
   "outputs": [
    {
     "data": {
      "text/html": [
       "<div>\n",
       "<style scoped>\n",
       "    .dataframe tbody tr th:only-of-type {\n",
       "        vertical-align: middle;\n",
       "    }\n",
       "\n",
       "    .dataframe tbody tr th {\n",
       "        vertical-align: top;\n",
       "    }\n",
       "\n",
       "    .dataframe thead th {\n",
       "        text-align: right;\n",
       "    }\n",
       "</style>\n",
       "<table border=\"1\" class=\"dataframe\">\n",
       "  <thead>\n",
       "    <tr style=\"text-align: right;\">\n",
       "      <th></th>\n",
       "      <th>age</th>\n",
       "      <th>education</th>\n",
       "      <th>default</th>\n",
       "      <th>balance</th>\n",
       "      <th>housing</th>\n",
       "      <th>loan</th>\n",
       "      <th>day</th>\n",
       "      <th>month</th>\n",
       "      <th>duration</th>\n",
       "      <th>campaign</th>\n",
       "      <th>previous</th>\n",
       "      <th>contact_cellular</th>\n",
       "      <th>contact_telephone</th>\n",
       "      <th>marital_divorced</th>\n",
       "      <th>marital_married</th>\n",
       "      <th>marital_single</th>\n",
       "      <th>job_admin.</th>\n",
       "      <th>job_blue-collar</th>\n",
       "      <th>job_entrepreneur</th>\n",
       "      <th>job_housemaid</th>\n",
       "      <th>job_management</th>\n",
       "      <th>job_retired</th>\n",
       "      <th>job_self-employed</th>\n",
       "      <th>job_services</th>\n",
       "      <th>job_student</th>\n",
       "      <th>job_technician</th>\n",
       "      <th>job_unemployed</th>\n",
       "      <th>y</th>\n",
       "    </tr>\n",
       "  </thead>\n",
       "  <tbody>\n",
       "    <tr>\n",
       "      <th>0</th>\n",
       "      <td>0.695517</td>\n",
       "      <td>-0.232452</td>\n",
       "      <td>0</td>\n",
       "      <td>-0.713083</td>\n",
       "      <td>1</td>\n",
       "      <td>0</td>\n",
       "      <td>0.695517</td>\n",
       "      <td>-0.401396</td>\n",
       "      <td>-0.260866</td>\n",
       "      <td>-0.900753</td>\n",
       "      <td>0</td>\n",
       "      <td>1</td>\n",
       "      <td>0</td>\n",
       "      <td>0</td>\n",
       "      <td>0</td>\n",
       "      <td>1</td>\n",
       "      <td>0</td>\n",
       "      <td>0</td>\n",
       "      <td>0</td>\n",
       "      <td>0</td>\n",
       "      <td>0</td>\n",
       "      <td>0</td>\n",
       "      <td>0</td>\n",
       "      <td>0</td>\n",
       "      <td>0</td>\n",
       "      <td>1</td>\n",
       "      <td>0</td>\n",
       "      <td>0</td>\n",
       "    </tr>\n",
       "    <tr>\n",
       "      <th>1</th>\n",
       "      <td>-0.636765</td>\n",
       "      <td>-0.232452</td>\n",
       "      <td>0</td>\n",
       "      <td>-0.761484</td>\n",
       "      <td>1</td>\n",
       "      <td>1</td>\n",
       "      <td>-0.636765</td>\n",
       "      <td>-0.401396</td>\n",
       "      <td>-1.015248</td>\n",
       "      <td>-0.900753</td>\n",
       "      <td>0</td>\n",
       "      <td>1</td>\n",
       "      <td>0</td>\n",
       "      <td>0</td>\n",
       "      <td>1</td>\n",
       "      <td>0</td>\n",
       "      <td>0</td>\n",
       "      <td>0</td>\n",
       "      <td>1</td>\n",
       "      <td>0</td>\n",
       "      <td>0</td>\n",
       "      <td>0</td>\n",
       "      <td>0</td>\n",
       "      <td>0</td>\n",
       "      <td>0</td>\n",
       "      <td>0</td>\n",
       "      <td>0</td>\n",
       "      <td>0</td>\n",
       "    </tr>\n",
       "    <tr>\n",
       "      <th>2</th>\n",
       "      <td>1.058867</td>\n",
       "      <td>-0.232452</td>\n",
       "      <td>0</td>\n",
       "      <td>1.934648</td>\n",
       "      <td>1</td>\n",
       "      <td>0</td>\n",
       "      <td>1.058867</td>\n",
       "      <td>-0.401396</td>\n",
       "      <td>-0.854313</td>\n",
       "      <td>-0.900753</td>\n",
       "      <td>0</td>\n",
       "      <td>1</td>\n",
       "      <td>0</td>\n",
       "      <td>0</td>\n",
       "      <td>1</td>\n",
       "      <td>0</td>\n",
       "      <td>0</td>\n",
       "      <td>1</td>\n",
       "      <td>0</td>\n",
       "      <td>0</td>\n",
       "      <td>0</td>\n",
       "      <td>0</td>\n",
       "      <td>0</td>\n",
       "      <td>0</td>\n",
       "      <td>0</td>\n",
       "      <td>0</td>\n",
       "      <td>0</td>\n",
       "      <td>0</td>\n",
       "    </tr>\n",
       "    <tr>\n",
       "      <th>3</th>\n",
       "      <td>-0.636765</td>\n",
       "      <td>-0.232452</td>\n",
       "      <td>0</td>\n",
       "      <td>-0.763277</td>\n",
       "      <td>0</td>\n",
       "      <td>0</td>\n",
       "      <td>-0.636765</td>\n",
       "      <td>-0.401396</td>\n",
       "      <td>0.211880</td>\n",
       "      <td>-0.900753</td>\n",
       "      <td>0</td>\n",
       "      <td>1</td>\n",
       "      <td>0</td>\n",
       "      <td>0</td>\n",
       "      <td>0</td>\n",
       "      <td>1</td>\n",
       "      <td>0</td>\n",
       "      <td>1</td>\n",
       "      <td>0</td>\n",
       "      <td>0</td>\n",
       "      <td>0</td>\n",
       "      <td>0</td>\n",
       "      <td>0</td>\n",
       "      <td>0</td>\n",
       "      <td>0</td>\n",
       "      <td>0</td>\n",
       "      <td>0</td>\n",
       "      <td>0</td>\n",
       "    </tr>\n",
       "    <tr>\n",
       "      <th>4</th>\n",
       "      <td>-0.394532</td>\n",
       "      <td>1.353897</td>\n",
       "      <td>0</td>\n",
       "      <td>-0.350969</td>\n",
       "      <td>1</td>\n",
       "      <td>0</td>\n",
       "      <td>-0.394532</td>\n",
       "      <td>-0.401396</td>\n",
       "      <td>-0.381567</td>\n",
       "      <td>-0.900753</td>\n",
       "      <td>0</td>\n",
       "      <td>1</td>\n",
       "      <td>0</td>\n",
       "      <td>0</td>\n",
       "      <td>1</td>\n",
       "      <td>0</td>\n",
       "      <td>0</td>\n",
       "      <td>0</td>\n",
       "      <td>0</td>\n",
       "      <td>0</td>\n",
       "      <td>1</td>\n",
       "      <td>0</td>\n",
       "      <td>0</td>\n",
       "      <td>0</td>\n",
       "      <td>0</td>\n",
       "      <td>0</td>\n",
       "      <td>0</td>\n",
       "      <td>0</td>\n",
       "    </tr>\n",
       "  </tbody>\n",
       "</table>\n",
       "</div>"
      ],
      "text/plain": [
       "        age  education  default   balance  housing  loan       day     month  duration  campaign  previous  contact_cellular  contact_telephone  marital_divorced  marital_married  marital_single  job_admin.  job_blue-collar  job_entrepreneur  job_housemaid  job_management  job_retired  job_self-employed  job_services  job_student  job_technician  job_unemployed  y\n",
       "0  0.695517  -0.232452        0 -0.713083        1     0  0.695517 -0.401396 -0.260866 -0.900753         0                 1                  0                 0                0               1           0                0                 0              0               0            0                  0             0            0               1               0  0\n",
       "1 -0.636765  -0.232452        0 -0.761484        1     1 -0.636765 -0.401396 -1.015248 -0.900753         0                 1                  0                 0                1               0           0                0                 1              0               0            0                  0             0            0               0               0  0\n",
       "2  1.058867  -0.232452        0  1.934648        1     0  1.058867 -0.401396 -0.854313 -0.900753         0                 1                  0                 0                1               0           0                1                 0              0               0            0                  0             0            0               0               0  0\n",
       "3 -0.636765  -0.232452        0 -0.763277        0     0 -0.636765 -0.401396  0.211880 -0.900753         0                 1                  0                 0                0               1           0                1                 0              0               0            0                  0             0            0               0               0  0\n",
       "4 -0.394532   1.353897        0 -0.350969        1     0 -0.394532 -0.401396 -0.381567 -0.900753         0                 1                  0                 0                1               0           0                0                 0              0               1            0                  0             0            0               0               0  0"
      ]
     },
     "execution_count": 4,
     "metadata": {},
     "output_type": "execute_result"
    }
   ],
   "source": [
    "data_train.head()"
   ]
  },
  {
   "cell_type": "code",
   "execution_count": 5,
   "id": "3b5c1c5b-2b47-4346-ac70-c3e753c3cfa1",
   "metadata": {},
   "outputs": [],
   "source": [
    "# reading data test\n",
    "\n",
    "data_test = pd.read_csv(\"test.csv\")"
   ]
  },
  {
   "cell_type": "code",
   "execution_count": 6,
   "id": "2938ae0b-0916-4c25-82b8-78cf519fbf86",
   "metadata": {
    "tags": []
   },
   "outputs": [
    {
     "data": {
      "text/html": [
       "<div>\n",
       "<style scoped>\n",
       "    .dataframe tbody tr th:only-of-type {\n",
       "        vertical-align: middle;\n",
       "    }\n",
       "\n",
       "    .dataframe tbody tr th {\n",
       "        vertical-align: top;\n",
       "    }\n",
       "\n",
       "    .dataframe thead th {\n",
       "        text-align: right;\n",
       "    }\n",
       "</style>\n",
       "<table border=\"1\" class=\"dataframe\">\n",
       "  <thead>\n",
       "    <tr style=\"text-align: right;\">\n",
       "      <th></th>\n",
       "      <th>age</th>\n",
       "      <th>education</th>\n",
       "      <th>default</th>\n",
       "      <th>balance</th>\n",
       "      <th>housing</th>\n",
       "      <th>loan</th>\n",
       "      <th>day</th>\n",
       "      <th>month</th>\n",
       "      <th>duration</th>\n",
       "      <th>campaign</th>\n",
       "      <th>previous</th>\n",
       "      <th>y</th>\n",
       "      <th>contact_cellular</th>\n",
       "      <th>contact_telephone</th>\n",
       "      <th>marital_divorced</th>\n",
       "      <th>marital_married</th>\n",
       "      <th>marital_single</th>\n",
       "      <th>job_admin.</th>\n",
       "      <th>job_blue-collar</th>\n",
       "      <th>job_entrepreneur</th>\n",
       "      <th>job_housemaid</th>\n",
       "      <th>job_management</th>\n",
       "      <th>job_retired</th>\n",
       "      <th>job_self-employed</th>\n",
       "      <th>job_services</th>\n",
       "      <th>job_student</th>\n",
       "      <th>job_technician</th>\n",
       "      <th>job_unemployed</th>\n",
       "    </tr>\n",
       "  </thead>\n",
       "  <tbody>\n",
       "    <tr>\n",
       "      <th>0</th>\n",
       "      <td>-1.056270</td>\n",
       "      <td>-1.758874</td>\n",
       "      <td>0</td>\n",
       "      <td>0.121072</td>\n",
       "      <td>0</td>\n",
       "      <td>0</td>\n",
       "      <td>-1.056270</td>\n",
       "      <td>1.611873</td>\n",
       "      <td>-0.711861</td>\n",
       "      <td>-0.576829</td>\n",
       "      <td>0</td>\n",
       "      <td>0</td>\n",
       "      <td>1</td>\n",
       "      <td>0</td>\n",
       "      <td>0</td>\n",
       "      <td>1</td>\n",
       "      <td>0</td>\n",
       "      <td>0</td>\n",
       "      <td>0</td>\n",
       "      <td>0</td>\n",
       "      <td>0</td>\n",
       "      <td>0</td>\n",
       "      <td>0</td>\n",
       "      <td>0</td>\n",
       "      <td>0</td>\n",
       "      <td>0</td>\n",
       "      <td>0</td>\n",
       "      <td>1</td>\n",
       "    </tr>\n",
       "    <tr>\n",
       "      <th>1</th>\n",
       "      <td>-0.772583</td>\n",
       "      <td>-0.227607</td>\n",
       "      <td>0</td>\n",
       "      <td>1.118644</td>\n",
       "      <td>1</td>\n",
       "      <td>1</td>\n",
       "      <td>-0.772583</td>\n",
       "      <td>-0.490631</td>\n",
       "      <td>-0.169194</td>\n",
       "      <td>-0.576829</td>\n",
       "      <td>1</td>\n",
       "      <td>0</td>\n",
       "      <td>1</td>\n",
       "      <td>0</td>\n",
       "      <td>0</td>\n",
       "      <td>1</td>\n",
       "      <td>0</td>\n",
       "      <td>0</td>\n",
       "      <td>0</td>\n",
       "      <td>0</td>\n",
       "      <td>0</td>\n",
       "      <td>0</td>\n",
       "      <td>0</td>\n",
       "      <td>0</td>\n",
       "      <td>1</td>\n",
       "      <td>0</td>\n",
       "      <td>0</td>\n",
       "      <td>0</td>\n",
       "    </tr>\n",
       "    <tr>\n",
       "      <th>2</th>\n",
       "      <td>-0.583458</td>\n",
       "      <td>1.303660</td>\n",
       "      <td>0</td>\n",
       "      <td>-0.024144</td>\n",
       "      <td>1</td>\n",
       "      <td>0</td>\n",
       "      <td>-0.583458</td>\n",
       "      <td>-0.911131</td>\n",
       "      <td>-0.303898</td>\n",
       "      <td>-0.576829</td>\n",
       "      <td>1</td>\n",
       "      <td>0</td>\n",
       "      <td>1</td>\n",
       "      <td>0</td>\n",
       "      <td>0</td>\n",
       "      <td>0</td>\n",
       "      <td>1</td>\n",
       "      <td>0</td>\n",
       "      <td>0</td>\n",
       "      <td>0</td>\n",
       "      <td>0</td>\n",
       "      <td>1</td>\n",
       "      <td>0</td>\n",
       "      <td>0</td>\n",
       "      <td>0</td>\n",
       "      <td>0</td>\n",
       "      <td>0</td>\n",
       "      <td>0</td>\n",
       "    </tr>\n",
       "    <tr>\n",
       "      <th>3</th>\n",
       "      <td>-1.056270</td>\n",
       "      <td>1.303660</td>\n",
       "      <td>0</td>\n",
       "      <td>0.017726</td>\n",
       "      <td>1</td>\n",
       "      <td>1</td>\n",
       "      <td>-1.056270</td>\n",
       "      <td>-0.070130</td>\n",
       "      <td>-0.250017</td>\n",
       "      <td>0.387967</td>\n",
       "      <td>0</td>\n",
       "      <td>0</td>\n",
       "      <td>1</td>\n",
       "      <td>0</td>\n",
       "      <td>0</td>\n",
       "      <td>1</td>\n",
       "      <td>0</td>\n",
       "      <td>0</td>\n",
       "      <td>0</td>\n",
       "      <td>0</td>\n",
       "      <td>0</td>\n",
       "      <td>1</td>\n",
       "      <td>0</td>\n",
       "      <td>0</td>\n",
       "      <td>0</td>\n",
       "      <td>0</td>\n",
       "      <td>0</td>\n",
       "      <td>0</td>\n",
       "    </tr>\n",
       "    <tr>\n",
       "      <th>4</th>\n",
       "      <td>1.686036</td>\n",
       "      <td>-0.227607</td>\n",
       "      <td>0</td>\n",
       "      <td>-0.472753</td>\n",
       "      <td>1</td>\n",
       "      <td>0</td>\n",
       "      <td>1.686036</td>\n",
       "      <td>-0.490631</td>\n",
       "      <td>-0.146102</td>\n",
       "      <td>-0.576829</td>\n",
       "      <td>0</td>\n",
       "      <td>0</td>\n",
       "      <td>1</td>\n",
       "      <td>0</td>\n",
       "      <td>0</td>\n",
       "      <td>1</td>\n",
       "      <td>0</td>\n",
       "      <td>0</td>\n",
       "      <td>1</td>\n",
       "      <td>0</td>\n",
       "      <td>0</td>\n",
       "      <td>0</td>\n",
       "      <td>0</td>\n",
       "      <td>0</td>\n",
       "      <td>0</td>\n",
       "      <td>0</td>\n",
       "      <td>0</td>\n",
       "      <td>0</td>\n",
       "    </tr>\n",
       "  </tbody>\n",
       "</table>\n",
       "</div>"
      ],
      "text/plain": [
       "        age  education  default   balance  housing  loan       day     month  duration  campaign  previous  y  contact_cellular  contact_telephone  marital_divorced  marital_married  marital_single  job_admin.  job_blue-collar  job_entrepreneur  job_housemaid  job_management  job_retired  job_self-employed  job_services  job_student  job_technician  job_unemployed\n",
       "0 -1.056270  -1.758874        0  0.121072        0     0 -1.056270  1.611873 -0.711861 -0.576829         0  0                 1                  0                 0                1               0           0                0                 0              0               0            0                  0             0            0               0               1\n",
       "1 -0.772583  -0.227607        0  1.118644        1     1 -0.772583 -0.490631 -0.169194 -0.576829         1  0                 1                  0                 0                1               0           0                0                 0              0               0            0                  0             1            0               0               0\n",
       "2 -0.583458   1.303660        0 -0.024144        1     0 -0.583458 -0.911131 -0.303898 -0.576829         1  0                 1                  0                 0                0               1           0                0                 0              0               1            0                  0             0            0               0               0\n",
       "3 -1.056270   1.303660        0  0.017726        1     1 -1.056270 -0.070130 -0.250017  0.387967         0  0                 1                  0                 0                1               0           0                0                 0              0               1            0                  0             0            0               0               0\n",
       "4  1.686036  -0.227607        0 -0.472753        1     0  1.686036 -0.490631 -0.146102 -0.576829         0  0                 1                  0                 0                1               0           0                1                 0              0               0            0                  0             0            0               0               0"
      ]
     },
     "execution_count": 6,
     "metadata": {},
     "output_type": "execute_result"
    }
   ],
   "source": [
    "data_test.head()"
   ]
  },
  {
   "cell_type": "markdown",
   "id": "53191d6b-50f3-4fff-b6e6-123b1a62a3da",
   "metadata": {
    "tags": []
   },
   "source": [
    "## Modelling"
   ]
  },
  {
   "cell_type": "markdown",
   "id": "271dab4a-7ecb-4f33-ac7e-fda99ae822c0",
   "metadata": {
    "jp-MarkdownHeadingCollapsed": true,
    "tags": []
   },
   "source": [
    "### Split Data Train & Test"
   ]
  },
  {
   "cell_type": "markdown",
   "id": "bc6f58f3-bf93-42f2-ae25-732ccb53bbbf",
   "metadata": {
    "tags": []
   },
   "source": [
    "#### Kaggle Default"
   ]
  },
  {
   "cell_type": "code",
   "execution_count": 7,
   "id": "2009d9c3-d594-442f-a10d-3b7fd771b479",
   "metadata": {
    "tags": []
   },
   "outputs": [
    {
     "name": "stdout",
     "output_type": "stream",
     "text": [
      "Jumlah Train Dataset adalah sejumlah : 45276 (90.92%)\n",
      "Jumlah Test Dataset adalah sejumlah  : 4521  (9.08%)\n"
     ]
    }
   ],
   "source": [
    "# splitting by kaggle task default\n",
    "\n",
    "jumlah_train = data_train.shape[0]\n",
    "jumlah_test  = data_test.shape[0]\n",
    "\n",
    "total      = jumlah_train + jumlah_test\n",
    "perc_train = round(jumlah_train/total*100,2)\n",
    "perc_test  = round(jumlah_test/total*100,2)\n",
    "\n",
    "print(\"Jumlah Train Dataset adalah sejumlah : \" +str(jumlah_train)+\" (\"+str(perc_train)+\"%)\")\n",
    "print(\"Jumlah Test Dataset adalah sejumlah  : \" +str(jumlah_test)+\"  (\"+str(perc_test)+\"%)\")"
   ]
  },
  {
   "cell_type": "code",
   "execution_count": 8,
   "id": "0fc5d813-7e09-4f2b-8154-523d20605086",
   "metadata": {
    "tags": []
   },
   "outputs": [],
   "source": [
    "# categorising feature & label\n",
    "\n",
    "feature = ['age','education','default','balance','housing','loan','day','month','duration','campaign','previous',\n",
    "          'contact_cellular','contact_telephone','marital_divorced','marital_married','marital_single',\n",
    "          'job_admin.','job_blue-collar','job_entrepreneur','job_housemaid','job_management','job_retired','job_self-employed',\n",
    "          'job_services','job_student','job_technician','job_unemployed']\n",
    "\n",
    "label   = ['y']"
   ]
  },
  {
   "cell_type": "code",
   "execution_count": 9,
   "id": "59a10e8c-f499-4f8c-80be-a4a1f7b3339c",
   "metadata": {
    "tags": []
   },
   "outputs": [],
   "source": [
    "# train variable\n",
    "\n",
    "X_train = data_train[feature]\n",
    "y_train = data_train['y']"
   ]
  },
  {
   "cell_type": "code",
   "execution_count": 10,
   "id": "72950688-376c-443c-ab8f-dbb9b14cb799",
   "metadata": {
    "tags": []
   },
   "outputs": [],
   "source": [
    "# test variabel\n",
    "\n",
    "X_test = data_test[feature]\n",
    "y_test = data_test['y']"
   ]
  },
  {
   "cell_type": "markdown",
   "id": "b028eea4-413b-4198-8949-2c16f21c1914",
   "metadata": {
    "tags": []
   },
   "source": [
    "### Modeling Preparation"
   ]
  },
  {
   "cell_type": "markdown",
   "id": "f68617ea-c806-449f-a399-893f3a81cc3d",
   "metadata": {
    "tags": []
   },
   "source": [
    "#### Evaluation Method"
   ]
  },
  {
   "cell_type": "code",
   "execution_count": 11,
   "id": "c084089e-389b-47cb-9495-2ef17219c3f4",
   "metadata": {},
   "outputs": [],
   "source": [
    "def eval_classification(model):\n",
    "    y_pred             = model.predict(X_test)\n",
    "    y_pred_train       = model.predict(X_train)\n",
    "    y_pred_proba       = model.predict_proba(X_test)\n",
    "    y_pred_proba_train = model.predict_proba(X_train)\n",
    "\n",
    "    print(\"Accuracy  (Test Set)    : %.2f\" % accuracy_score(y_test, y_pred))\n",
    "    print(\"Precision (Test Set)    : %.2f\" % precision_score(y_test, y_pred))\n",
    "    print(\"Recall    (Test Set)    : %.2f\" % recall_score(y_test, y_pred))\n",
    "    \n",
    "    print(\"\\nF1-Score  (Test Set)    : %.2f\" % f1_score(y_test, y_pred))\n",
    "\n",
    "    print(\"\\nroc_auc   (test-proba)  : %.2f\" % roc_auc_score(y_test, y_pred_proba[:, 1]))\n",
    "    print(\"roc_auc   (train-proba) : %.2f\" % roc_auc_score(y_train, y_pred_proba_train[:, 1]))"
   ]
  },
  {
   "cell_type": "code",
   "execution_count": 12,
   "id": "04862ac9-6215-48ea-9901-c07ffb526575",
   "metadata": {
    "tags": []
   },
   "outputs": [],
   "source": [
    "def show_feature_importance(model):\n",
    "    feat_importances = pd.Series(model.feature_importances_, index=X_train.columns)\n",
    "    ax = feat_importances.nlargest(25).plot(kind='barh', figsize=(10, 8))\n",
    "    ax.invert_yaxis()\n",
    "\n",
    "    plt.xlabel('score')\n",
    "    plt.ylabel('feature')\n",
    "    plt.title('feature importance score')"
   ]
  },
  {
   "cell_type": "code",
   "execution_count": 13,
   "id": "b9af64c2-b35c-4ba0-9196-8db5e2e2c5c1",
   "metadata": {
    "tags": []
   },
   "outputs": [],
   "source": [
    "def show_best_hyperparameter(model):\n",
    "    print(model.best_estimator_.get_params())"
   ]
  },
  {
   "cell_type": "code",
   "execution_count": 70,
   "id": "2f286188-57f0-4eda-a4b1-f27b812c7dc4",
   "metadata": {
    "tags": []
   },
   "outputs": [],
   "source": [
    "def draw_learning_curve(param_values):\n",
    "    train_scores = []\n",
    "    test_scores = []\n",
    "\n",
    "    for c in param_values:\n",
    "        model = LogisticRegression(penalty='l2', C=c)\n",
    "        model.fit(X_train, y_train)\n",
    "\n",
    "        # eval on train\n",
    "        y_pred_train_proba = model.predict_proba(X_train)\n",
    "        train_auc = roc_auc_score(y_train, y_pred_train_proba[:,1])\n",
    "        train_scores.append(train_auc)\n",
    "\n",
    "        # eval on test\n",
    "        y_pred_proba = model.predict_proba(X_test)\n",
    "        test_auc = roc_auc_score(y_test, y_pred_proba[:,1])\n",
    "        test_scores.append(test_auc)\n",
    "\n",
    "        print('param value: ' + str(c) + '; train: ' + str(train_auc) + '; test: '+ str(test_auc))\n",
    "\n",
    "    plt.plot(param_values, train_scores, label='Train')\n",
    "    plt.plot(param_values, test_scores, label='Test')\n",
    "    plt.xlabel('C')\n",
    "    plt.ylabel('AUC')\n",
    "    plt.title('Learning Curve - Hyperparameter C - Logistic Regression')\n",
    "    plt.legend()\n",
    "    plt.show()"
   ]
  },
  {
   "cell_type": "markdown",
   "id": "f42bca92-42fa-4de5-9b6d-86f9d8641306",
   "metadata": {
    "tags": []
   },
   "source": [
    "### Logistic Regresion"
   ]
  },
  {
   "cell_type": "markdown",
   "id": "7e9a8884-5f28-44b7-928c-4afb45be6163",
   "metadata": {},
   "source": [
    "#### Without Hyperparameter Tuning"
   ]
  },
  {
   "cell_type": "code",
   "execution_count": 33,
   "id": "4f20f5e4-59bd-4604-aea3-b262c40840bc",
   "metadata": {
    "tags": []
   },
   "outputs": [
    {
     "name": "stdout",
     "output_type": "stream",
     "text": [
      "Accuracy  (Test Set)    : 0.83\n",
      "Precision (Test Set)    : 0.31\n",
      "Recall    (Test Set)    : 0.43\n",
      "\n",
      "F1-Score  (Test Set)    : 0.36\n",
      "\n",
      "roc_auc   (test-proba)  : 0.75\n",
      "roc_auc   (train-proba) : 0.94\n",
      "\n",
      "Execution time: 0.6679489612579346 ms\n"
     ]
    }
   ],
   "source": [
    "start_time = time.time()\n",
    "\n",
    "logreg = LogisticRegression(solver='lbfgs', \n",
    "                            max_iter=210,\n",
    "                            C=1)\n",
    "logreg.fit(X_train, y_train)\n",
    "eval_classification(logreg)\n",
    "print(\"\\nExecution time: \" + str((time.time() - start_time)) + ' ms')"
   ]
  },
  {
   "cell_type": "markdown",
   "id": "089efede-7b80-4c8c-a946-d71694f485f4",
   "metadata": {
    "tags": []
   },
   "source": [
    "#### With Hyperparameter Tuning"
   ]
  },
  {
   "cell_type": "code",
   "execution_count": 35,
   "id": "1742bca6-ca99-4c0c-bc9c-1d2e871f3528",
   "metadata": {
    "tags": []
   },
   "outputs": [
    {
     "name": "stdout",
     "output_type": "stream",
     "text": [
      "Accuracy  (Test Set)    : 0.82\n",
      "Precision (Test Set)    : 0.31\n",
      "Recall    (Test Set)    : 0.45\n",
      "\n",
      "F1-Score  (Test Set)    : 0.37\n",
      "\n",
      "roc_auc   (test-proba)  : 0.77\n",
      "roc_auc   (train-proba) : 0.93\n",
      "\n",
      "Best: 0.917469 using {'C': 0.05, 'max_iter': 210, 'penalty': 'l1'}\n",
      "Execution time: 903.9022359848022 ms\n"
     ]
    }
   ],
   "source": [
    "penalty = ['l1', 'l2']\n",
    "C = [float(x) for x in np.linspace(0.0001, 0.05, 100)]\n",
    "max_iter = [210, 1000, 10000]\n",
    "param_grid = dict(max_iter=max_iter, C=C, penalty=penalty)\n",
    "\n",
    "logreg = LogisticRegression(solver='liblinear')\n",
    "logistic_grid = GridSearchCV(logreg, param_grid, scoring='roc_auc', cv=5)\n",
    "\n",
    "start_time = time.time()\n",
    "logistic_grid.fit(X_train, y_train)\n",
    "\n",
    "eval_classification(logistic_grid)\n",
    "print(\"\\nBest: %f using %s\" % (logistic_grid.best_score_, logistic_grid.best_params_))\n",
    "print(\"Execution time: \" + str((time.time() - start_time)) + ' ms')"
   ]
  },
  {
   "cell_type": "code",
   "execution_count": 63,
   "id": "cdd581ed-230b-4b3b-8b69-af6902ab8e76",
   "metadata": {
    "tags": []
   },
   "outputs": [],
   "source": [
    "kolom = X_train.columns.to_list()\n",
    "nilai = logistic_grid.best_estimator_.coef_"
   ]
  },
  {
   "cell_type": "code",
   "execution_count": 71,
   "id": "733959b6-01d7-4b84-add0-c25b4eb72000",
   "metadata": {
    "tags": []
   },
   "outputs": [
    {
     "data": {
      "text/html": [
       "<div>\n",
       "<style scoped>\n",
       "    .dataframe tbody tr th:only-of-type {\n",
       "        vertical-align: middle;\n",
       "    }\n",
       "\n",
       "    .dataframe tbody tr th {\n",
       "        vertical-align: top;\n",
       "    }\n",
       "\n",
       "    .dataframe thead th {\n",
       "        text-align: right;\n",
       "    }\n",
       "</style>\n",
       "<table border=\"1\" class=\"dataframe\">\n",
       "  <thead>\n",
       "    <tr style=\"text-align: right;\">\n",
       "      <th></th>\n",
       "      <th>10</th>\n",
       "      <th>8</th>\n",
       "      <th>1</th>\n",
       "      <th>3</th>\n",
       "      <th>7</th>\n",
       "      <th>6</th>\n",
       "      <th>0</th>\n",
       "      <th>9</th>\n",
       "      <th>11</th>\n",
       "      <th>2</th>\n",
       "      <th>5</th>\n",
       "      <th>4</th>\n",
       "      <th>24</th>\n",
       "      <th>12</th>\n",
       "      <th>16</th>\n",
       "      <th>15</th>\n",
       "      <th>14</th>\n",
       "      <th>20</th>\n",
       "      <th>25</th>\n",
       "      <th>17</th>\n",
       "      <th>23</th>\n",
       "      <th>13</th>\n",
       "      <th>26</th>\n",
       "      <th>19</th>\n",
       "      <th>22</th>\n",
       "      <th>21</th>\n",
       "      <th>18</th>\n",
       "    </tr>\n",
       "  </thead>\n",
       "  <tbody>\n",
       "    <tr>\n",
       "      <th>kolom</th>\n",
       "      <td>previous</td>\n",
       "      <td>duration</td>\n",
       "      <td>education</td>\n",
       "      <td>balance</td>\n",
       "      <td>month</td>\n",
       "      <td>day</td>\n",
       "      <td>age</td>\n",
       "      <td>campaign</td>\n",
       "      <td>contact_cellular</td>\n",
       "      <td>default</td>\n",
       "      <td>loan</td>\n",
       "      <td>housing</td>\n",
       "      <td>job_student</td>\n",
       "      <td>contact_telephone</td>\n",
       "      <td>job_admin.</td>\n",
       "      <td>marital_single</td>\n",
       "      <td>marital_married</td>\n",
       "      <td>job_management</td>\n",
       "      <td>job_technician</td>\n",
       "      <td>job_blue-collar</td>\n",
       "      <td>job_services</td>\n",
       "      <td>marital_divorced</td>\n",
       "      <td>job_unemployed</td>\n",
       "      <td>job_housemaid</td>\n",
       "      <td>job_self-employed</td>\n",
       "      <td>job_retired</td>\n",
       "      <td>job_entrepreneur</td>\n",
       "    </tr>\n",
       "    <tr>\n",
       "      <th>nilai</th>\n",
       "      <td>1.06924</td>\n",
       "      <td>0.811478</td>\n",
       "      <td>0.416794</td>\n",
       "      <td>0.244184</td>\n",
       "      <td>0.02602</td>\n",
       "      <td>-0.103697</td>\n",
       "      <td>-0.137435</td>\n",
       "      <td>-0.443581</td>\n",
       "      <td>-1.489138</td>\n",
       "      <td>-1.749266</td>\n",
       "      <td>-1.828173</td>\n",
       "      <td>-1.917943</td>\n",
       "      <td>-2.325689</td>\n",
       "      <td>-2.358475</td>\n",
       "      <td>-2.800547</td>\n",
       "      <td>-3.135635</td>\n",
       "      <td>-3.157129</td>\n",
       "      <td>-3.185663</td>\n",
       "      <td>-3.241881</td>\n",
       "      <td>-3.470809</td>\n",
       "      <td>-3.568136</td>\n",
       "      <td>-3.806221</td>\n",
       "      <td>-4.044463</td>\n",
       "      <td>-4.135208</td>\n",
       "      <td>-4.253791</td>\n",
       "      <td>-4.467339</td>\n",
       "      <td>-5.453538</td>\n",
       "    </tr>\n",
       "  </tbody>\n",
       "</table>\n",
       "</div>"
      ],
      "text/plain": [
       "             10        8          1         3        7         6         0         9                 11        2         5         4            24                 12          16              15               14              20              25               17            23                13              26             19                 22           21                18\n",
       "kolom  previous  duration  education   balance    month       day       age  campaign  contact_cellular   default      loan   housing  job_student  contact_telephone  job_admin.  marital_single  marital_married  job_management  job_technician  job_blue-collar  job_services  marital_divorced  job_unemployed  job_housemaid  job_self-employed  job_retired  job_entrepreneur\n",
       "nilai   1.06924  0.811478   0.416794  0.244184  0.02602 -0.103697 -0.137435 -0.443581         -1.489138 -1.749266 -1.828173 -1.917943    -2.325689          -2.358475   -2.800547       -3.135635        -3.157129       -3.185663       -3.241881        -3.470809     -3.568136         -3.806221       -4.044463      -4.135208          -4.253791    -4.467339         -5.453538"
      ]
     },
     "execution_count": 71,
     "metadata": {},
     "output_type": "execute_result"
    }
   ],
   "source": [
    "output = pd.DataFrame({'kolom':kolom,\n",
    "                      'nilai':nilai[0]})\n",
    "output.sort_values('nilai', ascending=False).T"
   ]
  },
  {
   "cell_type": "code",
   "execution_count": 72,
   "id": "af4c6211-10f1-4524-8dec-b0c5e7451394",
   "metadata": {
    "tags": []
   },
   "outputs": [
    {
     "name": "stdout",
     "output_type": "stream",
     "text": [
      "param value: 0.0001; train: 0.8516964295617129; test: 0.7916242802303264\n",
      "param value: 0.0006040404040404041; train: 0.8803514802841382; test: 0.8142192898272553\n",
      "param value: 0.0011080808080808082; train: 0.8880269902314288; test: 0.8145556621880999\n",
      "param value: 0.0016121212121212123; train: 0.8924073234885288; test: 0.813796065259117\n",
      "param value: 0.002116161616161616; train: 0.895547736777311; test: 0.8129534548944338\n",
      "param value: 0.0026202020202020205; train: 0.8980317115171639; test: 0.8121487523992321\n",
      "param value: 0.0031242424242424243; train: 0.9001127819774813; test: 0.8113382917466411\n",
      "param value: 0.003628282828282828; train: 0.9019023556405168; test: 0.8105791746641076\n",
      "param value: 0.004132323232323233; train: 0.9034823929307829; test: 0.8098857965451055\n",
      "param value: 0.004636363636363637; train: 0.904902406116727; test: 0.8092850287907869\n",
      "param value: 0.0051404040404040416; train: 0.9061773382483909; test: 0.8086837811900192\n",
      "param value: 0.005644444444444445; train: 0.9073366754095022; test: 0.8081804222648753\n",
      "param value: 0.006148484848484849; train: 0.9084030058407617; test: 0.807676103646833\n",
      "param value: 0.006652525252525254; train: 0.9093864997141229; test: 0.8072413627639156\n",
      "param value: 0.007156565656565657; train: 0.9102965876591043; test: 0.8067955854126679\n",
      "param value: 0.007660606060606061; train: 0.9111456701827597; test: 0.8064241842610366\n",
      "param value: 0.008164646464646465; train: 0.911935638094111; test: 0.806024472168906\n",
      "param value: 0.008668686868686869; train: 0.9126744487917051; test: 0.8056290786948177\n",
      "param value: 0.009172727272727273; train: 0.913367019549779; test: 0.8052701535508637\n",
      "param value: 0.009676767676767678; train: 0.9140245391185204; test: 0.8048953934740883\n",
      "param value: 0.010180808080808082; train: 0.9146399320866669; test: 0.8045364683301345\n",
      "param value: 0.010684848484848485; train: 0.9152186718487556; test: 0.804197216890595\n",
      "param value: 0.011188888888888889; train: 0.9157686631182523; test: 0.8039001919385796\n",
      "param value: 0.011692929292929293; train: 0.9162888346318411; test: 0.8036573896353166\n",
      "param value: 0.012196969696969697; train: 0.9167879204051903; test: 0.8033771593090211\n",
      "param value: 0.012701010101010102; train: 0.917257968893651; test: 0.8030633397312859\n",
      "param value: 0.013205050505050506; train: 0.9177065647976036; test: 0.8027979846449137\n",
      "param value: 0.01370909090909091; train: 0.9181295186774505; test: 0.8025427063339732\n",
      "param value: 0.014213131313131313; train: 0.9185339137496518; test: 0.8022576775431862\n",
      "param value: 0.014717171717171717; train: 0.9189259317303909; test: 0.8019841650671784\n",
      "param value: 0.015221212121212122; train: 0.9192977654711671; test: 0.8017015355086373\n",
      "param value: 0.015725252525252528; train: 0.919659674903702; test: 0.8014097888675623\n",
      "param value: 0.01622929292929293; train: 0.9199996790502911; test: 0.8011449136276392\n",
      "param value: 0.016733333333333333; train: 0.9203294271677576; test: 0.8009021113243762\n",
      "param value: 0.01723737373737374; train: 0.9206426555853473; test: 0.8006261996161228\n",
      "param value: 0.01774141414141414; train: 0.9209495422802108; test: 0.8003493282149712\n",
      "param value: 0.018245454545454547; train: 0.921243848948485; test: 0.800119961612284\n",
      "param value: 0.01874949494949495; train: 0.9215232945212878; test: 0.7998709213051824\n",
      "param value: 0.019253535353535356; train: 0.9217967964364218; test: 0.7996525911708254\n",
      "param value: 0.01975757575757576; train: 0.9220619155697612; test: 0.799440019193858\n",
      "param value: 0.020261616161616165; train: 0.9223109150195807; test: 0.7991996161228407\n",
      "param value: 0.020765656565656567; train: 0.9225572509458553; test: 0.7989980806142035\n",
      "param value: 0.02126969696969697; train: 0.9227981232340887; test: 0.7987586372360843\n",
      "param value: 0.021773737373737376; train: 0.9230195605812909; test: 0.7985786948176582\n",
      "param value: 0.02227777777777778; train: 0.9232403715614175; test: 0.7983608445297504\n",
      "param value: 0.022781818181818184; train: 0.923453783214597; test: 0.7981357965451054\n",
      "param value: 0.023285858585858587; train: 0.923660224826676; test: 0.7979270633397313\n",
      "param value: 0.023789898989898993; train: 0.9238608476642413; test: 0.7976813819577736\n",
      "param value: 0.024293939393939395; train: 0.9240574039940646; test: 0.7974884836852209\n",
      "param value: 0.024797979797979798; train: 0.9242497396635012; test: 0.7972768714011517\n",
      "param value: 0.025302020202020204; train: 0.9244303265598506; test: 0.7971031669865644\n",
      "param value: 0.025806060606060607; train: 0.9246071357407543; test: 0.7969213051823417\n",
      "param value: 0.026310101010101013; train: 0.9247782705432928; test: 0.7967317658349327\n",
      "param value: 0.026814141414141415; train: 0.9249498170699834; test: 0.7965\n",
      "param value: 0.02731818181818182; train: 0.9251163819295605; test: 0.796331094049904\n",
      "param value: 0.027822222222222224; train: 0.9252736429940733; test: 0.7961501919385797\n",
      "param value: 0.028326262626262626; train: 0.9254265058299632; test: 0.795986084452975\n",
      "param value: 0.028830303030303032; train: 0.9255826214817869; test: 0.7958119001919386\n",
      "param value: 0.029334343434343435; train: 0.9257303016667351; test: 0.7956573896353167\n",
      "param value: 0.02983838383838384; train: 0.9258735504509723; test: 0.7954769673704414\n",
      "param value: 0.030342424242424244; train: 0.9260128790749149; test: 0.7953195777351246\n",
      "param value: 0.03084646464646465; train: 0.9261503422567265; test: 0.7951401151631478\n",
      "param value: 0.03135050505050506; train: 0.9262799651179492; test: 0.7949808061420346\n",
      "param value: 0.03185454545454546; train: 0.9264084581768772; test: 0.7948099808061421\n",
      "param value: 0.032358585858585864; train: 0.9265326525234464; test: 0.7946377159309022\n",
      "param value: 0.03286262626262627; train: 0.9266603221340695; test: 0.794450575815739\n",
      "param value: 0.03336666666666667; train: 0.926778781611995; test: 0.7943018234165067\n",
      "param value: 0.03387070707070708; train: 0.9268967883884829; test: 0.7941516314779269\n",
      "param value: 0.03437474747474748; train: 0.9270133512034884; test: 0.7939808061420345\n",
      "param value: 0.034878787878787884; train: 0.9271244347700587; test: 0.7938253358925144\n",
      "param value: 0.03538282828282829; train: 0.9272330089657286; test: 0.7936813819577735\n",
      "param value: 0.035886868686868696; train: 0.9273401801772015; test: 0.7935047984644914\n",
      "param value: 0.0363909090909091; train: 0.9274443015078682; test: 0.7933502879078694\n",
      "param value: 0.0368949494949495; train: 0.9275454314967072; test: 0.7932125719769675\n",
      "param value: 0.037398989898989904; train: 0.9276486337654033; test: 0.7930379078694818\n",
      "param value: 0.037903030303030306; train: 0.9277514848002253; test: 0.7929069097888676\n",
      "param value: 0.038407070707070716; train: 0.9278472818880765; test: 0.792746641074856\n",
      "param value: 0.03891111111111112; train: 0.9279406574134961; test: 0.7926127639155469\n",
      "param value: 0.03941515151515152; train: 0.9280285341774873; test: 0.7924851247600768\n",
      "param value: 0.039919191919191924; train: 0.9281207096538371; test: 0.7923325335892514\n",
      "param value: 0.04042323232323233; train: 0.9282129631821588; test: 0.79217226487524\n",
      "param value: 0.040927272727272736; train: 0.9282959616978992; test: 0.7920369481765835\n",
      "param value: 0.04143131313131314; train: 0.9283836082085729; test: 0.7919025911708253\n",
      "param value: 0.04193535353535354; train: 0.9284685814392052; test: 0.7917504798464492\n",
      "param value: 0.04243939393939394; train: 0.9285450918847717; test: 0.7916098848368521\n",
      "param value: 0.04294343434343435; train: 0.9286263186207473; test: 0.791510556621881\n",
      "param value: 0.043447474747474756; train: 0.9287052935573302; test: 0.7913546065259116\n",
      "param value: 0.04395151515151516; train: 0.9287821259672815; test: 0.791196737044146\n",
      "param value: 0.04445555555555556; train: 0.9288522088329528; test: 0.7910887715930902\n",
      "param value: 0.04495959595959596; train: 0.9289327506628738; test: 0.7909548944337814\n",
      "param value: 0.04546363636363637; train: 0.9290073507864255; test: 0.7908219769673704\n",
      "param value: 0.045967676767676775; train: 0.9290768833856942; test: 0.7906813819577735\n",
      "param value: 0.04647171717171718; train: 0.9291485955862812; test: 0.7905393474088291\n",
      "param value: 0.04697575757575758; train: 0.9292168188637192; test: 0.7903833973128599\n",
      "param value: 0.04747979797979799; train: 0.9292881603174393; test: 0.7902701535508636\n",
      "param value: 0.04798383838383839; train: 0.9293508106840755; test: 0.7901540307101728\n",
      "param value: 0.048487878787878795; train: 0.9294201988871957; test: 0.7900273512476008\n",
      "param value: 0.0489919191919192; train: 0.9294846464004878; test: 0.7898680422264874\n",
      "param value: 0.0494959595959596; train: 0.9295473377444092; test: 0.7897245681381958\n",
      "param value: 0.05; train: 0.929608522685271; test: 0.789608925143954\n"
     ]
    },
    {
     "data": {
      "image/png": "[encoded data removed]",
      "text/plain": [
       "<Figure size 640x480 with 1 Axes>"
      ]
     },
     "metadata": {},
     "output_type": "display_data"
    }
   ],
   "source": [
    "param_values = [float(x) for x in np.linspace(0.0001, 0.05, 100)]\n",
    "draw_learning_curve(param_values)"
   ]
  },
  {
   "cell_type": "markdown",
   "id": "38a4fdfd-7e31-41ee-bbc1-5642e1324a94",
   "metadata": {
    "tags": []
   },
   "source": [
    "### K-NN"
   ]
  },
  {
   "cell_type": "markdown",
   "id": "34d56ab1-ef8e-449e-b10f-2df0f899ad52",
   "metadata": {},
   "source": [
    "#### Without Hyperparameter Tuning"
   ]
  },
  {
   "cell_type": "code",
   "execution_count": 100,
   "id": "ee64f308-2122-4e0b-acdc-c44b55d9efc4",
   "metadata": {
    "tags": []
   },
   "outputs": [
    {
     "name": "stdout",
     "output_type": "stream",
     "text": [
      "Accuracy  (Test Set)    : 0.81\n",
      "Precision (Test Set)    : 0.29\n",
      "Recall    (Test Set)    : 0.47\n",
      "\n",
      "F1-Score  (Test Set)    : 0.36\n",
      "\n",
      "roc_auc   (test-proba)  : 0.72\n",
      "roc_auc   (train-proba) : 1.00\n",
      "\n",
      "Execution time: 3.10223388671875 ms\n"
     ]
    }
   ],
   "source": [
    "start_time = time.time()\n",
    "\n",
    "knn = KNeighborsClassifier(n_neighbors=5, metric='euclidean')\n",
    "knn.fit(X_train, y_train)\n",
    "\n",
    "eval_classification(knn)\n",
    "print(\"\\nExecution time: \" + str((time.time() - start_time)) + ' ms')"
   ]
  },
  {
   "cell_type": "markdown",
   "id": "5add98bc-3bb2-47a2-a13a-cc0d1b9bd994",
   "metadata": {},
   "source": [
    "#### With Hyperparameter Tuning"
   ]
  },
  {
   "cell_type": "code",
   "execution_count": 91,
   "id": "605985e5-43db-472c-8120-c8ed07f59938",
   "metadata": {
    "tags": []
   },
   "outputs": [
    {
     "name": "stdout",
     "output_type": "stream",
     "text": [
      "Accuracy  (Test Set)    : 0.83\n",
      "Precision (Test Set)    : 0.32\n",
      "Recall    (Test Set)    : 0.44\n",
      "\n",
      "F1-Score  (Test Set)    : 0.37\n",
      "\n",
      "roc_auc   (test-proba)  : 0.69\n",
      "roc_auc   (train-proba) : 1.00\n",
      "\n",
      "Execution time: 39.73297119140625 ms\n"
     ]
    }
   ],
   "source": [
    "knn = KNeighborsClassifier()\n",
    "knn_params = {'n_neighbors': [3, 5, 7], 'metric': ['euclidean', 'manhattan']}\n",
    "knn_grid = GridSearchCV(knn, knn_params, cv=5)\n",
    "\n",
    "start_time = time.time()\n",
    "knn_grid.fit(X_train, y_train)\n",
    "knn_best_model = knn_grid.best_estimator_\n",
    "knn_accuracy = knn_best_model.score(X_test, y_test)\n",
    "\n",
    "knn_probs = knn_best_model.predict_proba(X_test)[:, 1]\n",
    "fpr, tpr, thresholds = roc_curve(y_test, knn_probs)\n",
    "roc_auc = auc(fpr, tpr)\n",
    "\n",
    "eval_classification(knn_grid)\n",
    "print(\"\\nExecution time: \" + str((time.time() - start_time)) + ' ms')"
   ]
  },
  {
   "cell_type": "code",
   "execution_count": 99,
   "id": "5cfdc22a-c96b-4f18-81b0-466fc9def349",
   "metadata": {
    "tags": []
   },
   "outputs": [
    {
     "data": {
      "image/png": "[encoded data removed]",
      "text/plain": [
       "<Figure size 640x480 with 2 Axes>"
      ]
     },
     "metadata": {},
     "output_type": "display_data"
    }
   ],
   "source": [
    "clf = SVC(random_state=0)\n",
    "clf.fit(X_train, y_train)\n",
    "predictions = clf.predict(X_test)\n",
    "cm = confusion_matrix(y_test, predictions, labels=clf.classes_)\n",
    "\n",
    "disp = ConfusionMatrixDisplay(confusion_matrix=cm, display_labels=clf.classes_)\n",
    "disp.plot()\n",
    "plt.show()"
   ]
  },
  {
   "cell_type": "code",
   "execution_count": 103,
   "id": "d0e5c747-cecb-4926-89a3-eda876a72619",
   "metadata": {
    "tags": []
   },
   "outputs": [
    {
     "name": "stdout",
     "output_type": "stream",
     "text": [
      "param value: 1; train: 1.0; test: 0.6199784069097889\n",
      "param value: 2; train: 0.9998066535575257; test: 0.6619078694817658\n",
      "param value: 3; train: 0.9994737618968864; test: 0.6906701055662188\n",
      "param value: 4; train: 0.9990254567365295; test: 0.7067907869481764\n",
      "param value: 5; train: 0.9984656475046031; test: 0.7214280230326295\n",
      "param value: 6; train: 0.997828611700267; test: 0.7303164587332054\n",
      "param value: 7; train: 0.9971446510503559; test: 0.7422547984644913\n",
      "param value: 8; train: 0.9964032002448084; test: 0.7489978406909789\n",
      "param value: 9; train: 0.9957204835482014; test: 0.7509601727447217\n",
      "param value: 10; train: 0.9949848241989774; test: 0.7518303742802303\n",
      "param value: 11; train: 0.994223643806204; test: 0.7576446737044147\n",
      "param value: 12; train: 0.9934667006598614; test: 0.7581341170825336\n",
      "param value: 13; train: 0.9927520499745547; test: 0.7608306142034549\n",
      "param value: 14; train: 0.9920162335457369; test: 0.7640765355086372\n",
      "param value: 15; train: 0.9912110211086018; test: 0.7672648752399231\n",
      "param value: 16; train: 0.9905552899056688; test: 0.7680405470249521\n",
      "param value: 17; train: 0.9898426129596043; test: 0.7696468330134357\n",
      "param value: 18; train: 0.989208458248685; test: 0.7721209213051823\n",
      "param value: 19; train: 0.9884568021477966; test: 0.7747773512476008\n",
      "param value: 20; train: 0.9876695972762547; test: 0.775345009596929\n",
      "param value: 21; train: 0.9869702038001772; test: 0.7769868042226488\n",
      "param value: 22; train: 0.98619693022999; test: 0.7767480806142035\n",
      "param value: 23; train: 0.9855223094741802; test: 0.777047744721689\n",
      "param value: 24; train: 0.9847687098791887; test: 0.7771521113243762\n",
      "param value: 25; train: 0.9839831987354394; test: 0.7802912667946258\n",
      "param value: 26; train: 0.9832891888941316; test: 0.7803949136276391\n",
      "param value: 27; train: 0.9825417036954979; test: 0.7808114203454894\n",
      "param value: 28; train: 0.9817953863494954; test: 0.7811998560460651\n",
      "param value: 29; train: 0.9809664139164292; test: 0.7817101727447218\n",
      "param value: 30; train: 0.9802674555800959; test: 0.7814719289827257\n",
      "param value: 31; train: 0.9794790487081848; test: 0.7815750959692899\n",
      "param value: 32; train: 0.9787167931494971; test: 0.7816463531669866\n",
      "param value: 33; train: 0.978010908676297; test: 0.7826324376199616\n",
      "param value: 34; train: 0.9773199574966425; test: 0.7823982725527832\n",
      "param value: 35; train: 0.9766538248927892; test: 0.7823267754318617\n",
      "param value: 36; train: 0.9759782997097536; test: 0.7819913627639156\n",
      "param value: 37; train: 0.9753224963087465; test: 0.7821369961612284\n",
      "param value: 38; train: 0.9746669338932032; test: 0.7821845009596928\n",
      "param value: 39; train: 0.973992400945862; test: 0.7824479366602687\n",
      "param value: 40; train: 0.9732659478267369; test: 0.7832900671785029\n",
      "param value: 41; train: 0.9725742590559469; test: 0.783646113243762\n",
      "param value: 42; train: 0.9719438205945452; test: 0.7834892034548944\n",
      "param value: 43; train: 0.9712926720180192; test: 0.7838109404990403\n",
      "param value: 44; train: 0.9706887819592482; test: 0.7837535988483686\n",
      "param value: 45; train: 0.9700639047008525; test: 0.7838373320537428\n",
      "param value: 46; train: 0.969443820809188; test: 0.7844474568138197\n",
      "param value: 47; train: 0.9688009428147466; test: 0.7843905950095968\n",
      "param value: 48; train: 0.9682658350806633; test: 0.7848754798464492\n",
      "param value: 49; train: 0.9677309019878674; test: 0.7859587332053742\n",
      "param value: 50; train: 0.9671758090463499; test: 0.7867485604606528\n",
      "param value: 51; train: 0.9666348561952126; test: 0.7864520153550862\n",
      "param value: 52; train: 0.9660781719691157; test: 0.7862070537428024\n",
      "param value: 53; train: 0.9654944232217231; test: 0.7862080134357005\n",
      "param value: 54; train: 0.9649335173595899; test: 0.7859846449136276\n",
      "param value: 55; train: 0.9643500632583916; test: 0.7862814299424185\n",
      "param value: 56; train: 0.9638430015491521; test: 0.7863908349328216\n",
      "param value: 57; train: 0.9632572878433641; test: 0.7860417466410748\n",
      "param value: 58; train: 0.962711196245519; test: 0.7859738483685219\n",
      "param value: 59; train: 0.9621699809446257; test: 0.786162188099808\n",
      "param value: 60; train: 0.9616484913283596; test: 0.786755038387716\n",
      "param value: 61; train: 0.9611490435889901; test: 0.7867679942418425\n",
      "param value: 62; train: 0.960634930859729; test: 0.786720489443378\n",
      "param value: 63; train: 0.960192992788989; test: 0.7871458733205375\n",
      "param value: 64; train: 0.9596696055341533; test: 0.7875357485604607\n",
      "param value: 65; train: 0.9592151147550142; test: 0.787545585412668\n",
      "param value: 66; train: 0.958761974274991; test: 0.787528790786948\n",
      "param value: 67; train: 0.9583092211278789; test: 0.787996641074856\n",
      "param value: 68; train: 0.957836744247439; test: 0.7881307581573894\n",
      "param value: 69; train: 0.9573799938637101; test: 0.7881643474088291\n",
      "param value: 70; train: 0.9568849911841468; test: 0.7884124280230327\n",
      "param value: 71; train: 0.956444826844471; test: 0.788765595009597\n",
      "param value: 72; train: 0.9559945089188856; test: 0.7890134357005758\n",
      "param value: 73; train: 0.9555832091741101; test: 0.7890710172744722\n",
      "param value: 74; train: 0.9551720830949724; test: 0.7890086372360844\n",
      "param value: 75; train: 0.9547450353891934; test: 0.7893848368522072\n",
      "param value: 76; train: 0.9543211000057984; test: 0.7895287907869482\n",
      "param value: 77; train: 0.9539288088431572; test: 0.7898613243761996\n",
      "param value: 78; train: 0.9535349273715864; test: 0.7897960652591169\n",
      "param value: 79; train: 0.9531746541035149; test: 0.7899956813819577\n",
      "param value: 80; train: 0.9527400051113114; test: 0.7902583973128599\n",
      "param value: 81; train: 0.9523780010407605; test: 0.7903423704414587\n",
      "param value: 82; train: 0.9519672066825038; test: 0.7901969769673705\n",
      "param value: 83; train: 0.9515339323806575; test: 0.7906084452975046\n",
      "param value: 84; train: 0.9511586819148062; test: 0.7909203454894435\n",
      "param value: 85; train: 0.9508182045781369; test: 0.7908752399232245\n",
      "param value: 86; train: 0.950452142780691; test: 0.791192178502879\n",
      "param value: 87; train: 0.9500543021228396; test: 0.7913877159309021\n",
      "param value: 88; train: 0.9497675333237626; test: 0.7913891554702495\n",
      "param value: 89; train: 0.9493983211535962; test: 0.7916605086372361\n",
      "param value: 90; train: 0.9491083971035507; test: 0.791660028790787\n",
      "param value: 91; train: 0.9487470876955507; test: 0.7917727927063339\n",
      "param value: 92; train: 0.9484103636830855; test: 0.7918977927063339\n",
      "param value: 93; train: 0.9480719313080829; test: 0.7916588291746642\n",
      "param value: 94; train: 0.9476847847460472; test: 0.7918246161228407\n",
      "param value: 95; train: 0.9473361207331632; test: 0.7918248560460652\n",
      "param value: 96; train: 0.9469810867037131; test: 0.7920273512476008\n",
      "param value: 97; train: 0.9466427811631649; test: 0.7917164107485605\n",
      "param value: 98; train: 0.9463032102050205; test: 0.7917615163147792\n",
      "param value: 99; train: 0.9459789296281937; test: 0.7920515834932822\n",
      "param value: 100; train: 0.9456569437793441; test: 0.7923649232245682\n"
     ]
    },
    {
     "data": {
      "image/png": "[encoded data removed]",
      "text/plain": [
       "<Figure size 640x480 with 1 Axes>"
      ]
     },
     "metadata": {},
     "output_type": "display_data"
    }
   ],
   "source": [
    "def draw_learning_curve(param_values):\n",
    "    train_scores = []\n",
    "    test_scores = []\n",
    "\n",
    "    for i in param_values:\n",
    "        model = KNeighborsClassifier(n_neighbors=i)\n",
    "        model.fit(X_train, y_train)\n",
    "\n",
    "        # eval on train\n",
    "        y_pred_train_proba = model.predict_proba(X_train)\n",
    "        train_auc = roc_auc_score(y_train, y_pred_train_proba[:,1])\n",
    "        train_scores.append(train_auc)\n",
    "\n",
    "        # eval on test\n",
    "        y_pred_proba = model.predict_proba(X_test)\n",
    "        test_auc = roc_auc_score(y_test, y_pred_proba[:,1])\n",
    "        test_scores.append(test_auc)\n",
    "\n",
    "        print('param value: ' + str(i) + '; train: ' + str(train_auc) + '; test: '+ str(test_auc))\n",
    "\n",
    "    plt.plot(param_values, train_scores, label='Train')\n",
    "    plt.plot(param_values, test_scores, label='Test')\n",
    "    plt.xlabel('k')\n",
    "    plt.ylabel('AUC')\n",
    "    plt.title('Learning Curve')\n",
    "    plt.legend()\n",
    "    plt.show()\n",
    "\n",
    "param_values = [int(x) for x in np.linspace(1, 100, 100)]\n",
    "draw_learning_curve(param_values)"
   ]
  },
  {
   "cell_type": "code",
   "execution_count": 105,
   "id": "9bb1fb5b-2364-4447-9deb-ea75635950c6",
   "metadata": {
    "tags": []
   },
   "outputs": [
    {
     "name": "stdout",
     "output_type": "stream",
     "text": [
      "param value: 300; train: 0.9135922843705586; test: 0.800690019193858\n",
      "param value: 301; train: 0.913517084222472; test: 0.8006343570057581\n",
      "param value: 302; train: 0.9134362038421224; test: 0.8006964971209213\n",
      "param value: 303; train: 0.9133603978156032; test: 0.8007492802303263\n",
      "param value: 304; train: 0.9132714497882961; test: 0.8007437619961613\n",
      "param value: 305; train: 0.9131755736728231; test: 0.8008013435700576\n",
      "param value: 306; train: 0.9130948747633083; test: 0.80076943378119\n",
      "param value: 307; train: 0.9130164217992883; test: 0.8008318138195778\n",
      "param value: 308; train: 0.9129252395342823; test: 0.8009095489443377\n",
      "param value: 309; train: 0.9128569684500114; test: 0.8010201535508638\n",
      "param value: 310; train: 0.9127828444434891; test: 0.8010117562380039\n",
      "param value: 311; train: 0.912702104556689; test: 0.8011166026871401\n",
      "param value: 312; train: 0.9126258790008202; test: 0.8011031669865643\n",
      "param value: 313; train: 0.9125485099835614; test: 0.801015595009597\n",
      "param value: 314; train: 0.9124949916976507; test: 0.8009736084452975\n",
      "param value: 315; train: 0.912410119934582; test: 0.8010244721689059\n",
      "param value: 316; train: 0.9123408283207771; test: 0.8010011996161228\n",
      "param value: 317; train: 0.9122660418481424; test: 0.8010530230326296\n",
      "param value: 318; train: 0.9121763503758018; test: 0.8009069097888675\n",
      "param value: 319; train: 0.9120970954277693; test: 0.8008445297504798\n",
      "param value: 320; train: 0.9120203118003006; test: 0.8009589731285988\n",
      "param value: 321; train: 0.911946983923893; test: 0.8009347408829174\n",
      "param value: 322; train: 0.9118918870368484; test: 0.8010242322456814\n",
      "param value: 323; train: 0.9118290688584721; test: 0.8009217850287909\n",
      "param value: 324; train: 0.911750741753257; test: 0.8009599328214971\n",
      "param value: 325; train: 0.9116862454574826; test: 0.8010717370441458\n",
      "param value: 326; train: 0.9116211032816398; test: 0.8011146833013435\n",
      "param value: 327; train: 0.9115509413883469; test: 0.8010419865642995\n",
      "param value: 328; train: 0.9114860480031647; test: 0.8010571017274472\n",
      "param value: 329; train: 0.9114230346948586; test: 0.8010470249520154\n",
      "param value: 330; train: 0.9113549245927799; test: 0.8009532149712092\n",
      "param value: 331; train: 0.9112921493429886; test: 0.8008286948176584\n",
      "param value: 332; train: 0.911229025786272; test: 0.800945537428023\n",
      "param value: 333; train: 0.911153553431933; test: 0.8010283109404991\n",
      "param value: 334; train: 0.9110847720828952; test: 0.8010892514395394\n",
      "param value: 335; train: 0.9110216631609234; test: 0.801044385796545\n",
      "param value: 336; train: 0.9109571288148126; test: 0.8010971689059501\n",
      "param value: 337; train: 0.9108919027330998; test: 0.8011070057581574\n",
      "param value: 338; train: 0.9108175670106035; test: 0.8011852207293666\n",
      "param value: 339; train: 0.9107504101182331; test: 0.8011782629558541\n",
      "param value: 340; train: 0.9106862172494998; test: 0.80125\n",
      "param value: 341; train: 0.910613698186652; test: 0.8012617562380038\n",
      "param value: 342; train: 0.9105510429417676; test: 0.8012509596928983\n",
      "param value: 343; train: 0.910473081705171; test: 0.8012564779270632\n",
      "param value: 344; train: 0.9104060779897958; test: 0.801292226487524\n",
      "param value: 345; train: 0.9103424822186486; test: 0.801334452975048\n",
      "param value: 346; train: 0.9102833685819942; test: 0.801324376199616\n",
      "param value: 347; train: 0.9102028452894164; test: 0.8013265355086373\n",
      "param value: 348; train: 0.9101408222655052; test: 0.8012994241842611\n",
      "param value: 349; train: 0.9100720311599707; test: 0.8012600767754319\n",
      "param value: 350; train: 0.9100015892552281; test: 0.8011708253358926\n",
      "param value: 351; train: 0.9099345455382172; test: 0.8011950575815738\n",
      "param value: 352; train: 0.9098701253431155; test: 0.801174424184261\n",
      "param value: 353; train: 0.909798897064755; test: 0.8011804222648753\n",
      "param value: 354; train: 0.9097118739942076; test: 0.8012048944337813\n",
      "param value: 355; train: 0.9096522403362897; test: 0.8012511996161229\n",
      "param value: 356; train: 0.9095822657677297; test: 0.801246161228407\n",
      "param value: 357; train: 0.9095112892069788; test: 0.801320057581574\n",
      "param value: 358; train: 0.9094549190971408; test: 0.8013481285988482\n",
      "param value: 359; train: 0.9093975147986735; test: 0.8014769673704414\n",
      "param value: 360; train: 0.9093443672596297; test: 0.8014126679462572\n",
      "param value: 361; train: 0.9092751156474606; test: 0.801410028790787\n",
      "param value: 362; train: 0.9091993125478902; test: 0.8014023512476007\n",
      "param value: 363; train: 0.9091489495129482; test: 0.8014702495201536\n",
      "param value: 364; train: 0.9090815370003695; test: 0.8014882437619962\n",
      "param value: 365; train: 0.9090169997273099; test: 0.8014431381957774\n",
      "param value: 366; train: 0.9089511443515728; test: 0.8015093570057583\n",
      "param value: 367; train: 0.9088945088650299; test: 0.8015376679462571\n",
      "param value: 368; train: 0.9088427779692783; test: 0.801572216890595\n",
      "param value: 369; train: 0.9087715438370197; test: 0.8016408349328215\n",
      "param value: 370; train: 0.908718862658509; test: 0.8017080134357006\n",
      "param value: 371; train: 0.9086677434950882; test: 0.8017255278310941\n",
      "param value: 372; train: 0.9086022500853712; test: 0.801707773512476\n",
      "param value: 373; train: 0.9085424456887646; test: 0.8017730326295586\n",
      "param value: 374; train: 0.908511247339901; test: 0.8016909788867562\n",
      "param value: 375; train: 0.9084606823454815; test: 0.8016698656429941\n",
      "param value: 376; train: 0.9084130199087712; test: 0.8016096449136276\n",
      "param value: 377; train: 0.9083456776429673; test: 0.8016571497120921\n",
      "param value: 378; train: 0.90829056026728; test: 0.8017041746641075\n",
      "param value: 379; train: 0.9082346711527193; test: 0.8017245681381957\n",
      "param value: 380; train: 0.9081818367972134; test: 0.8017207293666028\n",
      "param value: 381; train: 0.908118866417492; test: 0.8018375719769674\n",
      "param value: 382; train: 0.9080503650799037; test: 0.8017528790786949\n",
      "param value: 383; train: 0.9079943930351229; test: 0.8018286948176584\n",
      "param value: 384; train: 0.9079322285420124; test: 0.8018291746641074\n",
      "param value: 385; train: 0.9078803913004491; test: 0.8017593570057582\n",
      "param value: 386; train: 0.9078244768189975; test: 0.8016924184261036\n",
      "param value: 387; train: 0.9077636957970909; test: 0.8018059021113244\n",
      "param value: 388; train: 0.9077074856937956; test: 0.8018759596928984\n",
      "param value: 389; train: 0.9076594320215754; test: 0.8018915547024953\n",
      "param value: 390; train: 0.9076058981252705; test: 0.8018668426103648\n",
      "param value: 391; train: 0.9075634895619263; test: 0.8019177063339731\n",
      "param value: 392; train: 0.907503773949438; test: 0.8019239443378119\n",
      "param value: 393; train: 0.9074566939755686; test: 0.8018356525911707\n",
      "param value: 394; train: 0.9073950660897657; test: 0.8018886756238004\n",
      "param value: 395; train: 0.9073315795913794; test: 0.8018814779270633\n",
      "param value: 396; train: 0.9072834966496698; test: 0.8018562859884837\n",
      "param value: 397; train: 0.9072260377148221; test: 0.8018574856046066\n",
      "param value: 398; train: 0.9071728989566255; test: 0.8018195777351248\n",
      "param value: 400; train: 0.9070530413727512; test: 0.8017960652591172\n"
     ]
    },
    {
     "data": {
      "image/png": "[encoded data removed]",
      "text/plain": [
       "<Figure size 640x480 with 1 Axes>"
      ]
     },
     "metadata": {},
     "output_type": "display_data"
    }
   ],
   "source": [
    "param_values = [int(x) for x in np.linspace(300, 400, 100)]\n",
    "draw_learning_curve(param_values)"
   ]
  },
  {
   "cell_type": "code",
   "execution_count": null,
   "id": "f3b6e585-9c9b-4bd6-87b1-b4ac7aff75e0",
   "metadata": {
    "tags": []
   },
   "outputs": [],
   "source": [
    "param_values = [int(x) for x in np.linspace(1500, 1600, 100)]\n",
    "draw_learning_curve(param_values)"
   ]
  },
  {
   "cell_type": "markdown",
   "id": "446f9693-5bca-4fbf-b41f-99475f48250d",
   "metadata": {
    "tags": []
   },
   "source": [
    "### Decision Tree"
   ]
  },
  {
   "cell_type": "markdown",
   "id": "5dda7d55-8012-4694-8ef9-cf1baa20dc77",
   "metadata": {},
   "source": [
    "### Random Forest"
   ]
  },
  {
   "cell_type": "markdown",
   "id": "c0239e79-b1cb-4b28-8864-638854c1af3e",
   "metadata": {
    "tags": []
   },
   "source": [
    "## Feature Importance"
   ]
  },
  {
   "cell_type": "markdown",
   "id": "0edbbc05-6e6c-4f2e-b505-0352eed5a839",
   "metadata": {},
   "source": [
    "### Most Important Feature"
   ]
  },
  {
   "cell_type": "markdown",
   "id": "07b6c660-7e76-4c82-bd23-ba9a93c691bb",
   "metadata": {},
   "source": [
    "### Business Insight"
   ]
  }
 ],
 "metadata": {
  "kernelspec": {
   "display_name": "final_project",
   "language": "python",
   "name": "final_project"
  },
  "language_info": {
   "codemirror_mode": {
    "name": "ipython",
    "version": 3
   },
   "file_extension": ".py",
   "mimetype": "text/x-python",
   "name": "python",
   "nbconvert_exporter": "python",
   "pygments_lexer": "ipython3",
   "version": "3.11.4"
  }
 },
 "nbformat": 4,
 "nbformat_minor": 5
}
