{
 "cells": [
  {
   "cell_type": "code",
   "execution_count": 18,
   "id": "f472db69-0562-4e99-bab9-fb2e31523885",
   "metadata": {
    "tags": []
   },
   "outputs": [],
   "source": [
    "import numpy as np\n",
    "import pandas as pd\n",
    "\n",
    "import matplotlib.pyplot as plt\n",
    "import seaborn as sns\n",
    "\n",
    "from sklearn.linear_model import LogisticRegression\n",
    "from sklearn.metrics import accuracy_score\n"
   ]
  },
  {
   "cell_type": "markdown",
   "id": "661c0016-6d68-449c-8361-1041c7031d2f",
   "metadata": {
    "tags": []
   },
   "source": [
    "## Importing Dataset"
   ]
  },
  {
   "cell_type": "code",
   "execution_count": 2,
   "id": "8b29a54e-533c-4410-9cac-d9b7142f191a",
   "metadata": {
    "tags": []
   },
   "outputs": [],
   "source": [
    "# reading data train\n",
    "\n",
    "data_train = pd.read_csv(\"train.csv\")"
   ]
  },
  {
   "cell_type": "code",
   "execution_count": 3,
   "id": "f01778c0-371d-44e9-ace1-5fdd0df99cea",
   "metadata": {
    "tags": []
   },
   "outputs": [
    {
     "data": {
      "text/html": [
       "<div>\n",
       "<style scoped>\n",
       "    .dataframe tbody tr th:only-of-type {\n",
       "        vertical-align: middle;\n",
       "    }\n",
       "\n",
       "    .dataframe tbody tr th {\n",
       "        vertical-align: top;\n",
       "    }\n",
       "\n",
       "    .dataframe thead th {\n",
       "        text-align: right;\n",
       "    }\n",
       "</style>\n",
       "<table border=\"1\" class=\"dataframe\">\n",
       "  <thead>\n",
       "    <tr style=\"text-align: right;\">\n",
       "      <th></th>\n",
       "      <th>age</th>\n",
       "      <th>education</th>\n",
       "      <th>default</th>\n",
       "      <th>balance</th>\n",
       "      <th>housing</th>\n",
       "      <th>loan</th>\n",
       "      <th>day</th>\n",
       "      <th>month</th>\n",
       "      <th>duration</th>\n",
       "      <th>campaign</th>\n",
       "      <th>...</th>\n",
       "      <th>job_blue-collar</th>\n",
       "      <th>job_entrepreneur</th>\n",
       "      <th>job_housemaid</th>\n",
       "      <th>job_management</th>\n",
       "      <th>job_retired</th>\n",
       "      <th>job_self-employed</th>\n",
       "      <th>job_services</th>\n",
       "      <th>job_student</th>\n",
       "      <th>job_technician</th>\n",
       "      <th>job_unemployed</th>\n",
       "    </tr>\n",
       "  </thead>\n",
       "  <tbody>\n",
       "    <tr>\n",
       "      <th>0</th>\n",
       "      <td>0.695517</td>\n",
       "      <td>-0.232452</td>\n",
       "      <td>0</td>\n",
       "      <td>-0.713083</td>\n",
       "      <td>1</td>\n",
       "      <td>0</td>\n",
       "      <td>0.695517</td>\n",
       "      <td>-0.401396</td>\n",
       "      <td>-0.260866</td>\n",
       "      <td>-0.900753</td>\n",
       "      <td>...</td>\n",
       "      <td>0</td>\n",
       "      <td>0</td>\n",
       "      <td>0</td>\n",
       "      <td>0</td>\n",
       "      <td>0</td>\n",
       "      <td>0</td>\n",
       "      <td>0</td>\n",
       "      <td>0</td>\n",
       "      <td>1</td>\n",
       "      <td>0</td>\n",
       "    </tr>\n",
       "    <tr>\n",
       "      <th>1</th>\n",
       "      <td>-0.636765</td>\n",
       "      <td>-0.232452</td>\n",
       "      <td>0</td>\n",
       "      <td>-0.761484</td>\n",
       "      <td>1</td>\n",
       "      <td>1</td>\n",
       "      <td>-0.636765</td>\n",
       "      <td>-0.401396</td>\n",
       "      <td>-1.015248</td>\n",
       "      <td>-0.900753</td>\n",
       "      <td>...</td>\n",
       "      <td>0</td>\n",
       "      <td>1</td>\n",
       "      <td>0</td>\n",
       "      <td>0</td>\n",
       "      <td>0</td>\n",
       "      <td>0</td>\n",
       "      <td>0</td>\n",
       "      <td>0</td>\n",
       "      <td>0</td>\n",
       "      <td>0</td>\n",
       "    </tr>\n",
       "    <tr>\n",
       "      <th>2</th>\n",
       "      <td>1.058867</td>\n",
       "      <td>-0.232452</td>\n",
       "      <td>0</td>\n",
       "      <td>1.934648</td>\n",
       "      <td>1</td>\n",
       "      <td>0</td>\n",
       "      <td>1.058867</td>\n",
       "      <td>-0.401396</td>\n",
       "      <td>-0.854313</td>\n",
       "      <td>-0.900753</td>\n",
       "      <td>...</td>\n",
       "      <td>1</td>\n",
       "      <td>0</td>\n",
       "      <td>0</td>\n",
       "      <td>0</td>\n",
       "      <td>0</td>\n",
       "      <td>0</td>\n",
       "      <td>0</td>\n",
       "      <td>0</td>\n",
       "      <td>0</td>\n",
       "      <td>0</td>\n",
       "    </tr>\n",
       "    <tr>\n",
       "      <th>3</th>\n",
       "      <td>-0.636765</td>\n",
       "      <td>-0.232452</td>\n",
       "      <td>0</td>\n",
       "      <td>-0.763277</td>\n",
       "      <td>0</td>\n",
       "      <td>0</td>\n",
       "      <td>-0.636765</td>\n",
       "      <td>-0.401396</td>\n",
       "      <td>0.211880</td>\n",
       "      <td>-0.900753</td>\n",
       "      <td>...</td>\n",
       "      <td>1</td>\n",
       "      <td>0</td>\n",
       "      <td>0</td>\n",
       "      <td>0</td>\n",
       "      <td>0</td>\n",
       "      <td>0</td>\n",
       "      <td>0</td>\n",
       "      <td>0</td>\n",
       "      <td>0</td>\n",
       "      <td>0</td>\n",
       "    </tr>\n",
       "    <tr>\n",
       "      <th>4</th>\n",
       "      <td>-0.394532</td>\n",
       "      <td>1.353897</td>\n",
       "      <td>0</td>\n",
       "      <td>-0.350969</td>\n",
       "      <td>1</td>\n",
       "      <td>0</td>\n",
       "      <td>-0.394532</td>\n",
       "      <td>-0.401396</td>\n",
       "      <td>-0.381567</td>\n",
       "      <td>-0.900753</td>\n",
       "      <td>...</td>\n",
       "      <td>0</td>\n",
       "      <td>0</td>\n",
       "      <td>0</td>\n",
       "      <td>1</td>\n",
       "      <td>0</td>\n",
       "      <td>0</td>\n",
       "      <td>0</td>\n",
       "      <td>0</td>\n",
       "      <td>0</td>\n",
       "      <td>0</td>\n",
       "    </tr>\n",
       "  </tbody>\n",
       "</table>\n",
       "<p>5 rows × 28 columns</p>\n",
       "</div>"
      ],
      "text/plain": [
       "        age  education  default   balance  housing  loan       day     month  \\\n",
       "0  0.695517  -0.232452        0 -0.713083        1     0  0.695517 -0.401396   \n",
       "1 -0.636765  -0.232452        0 -0.761484        1     1 -0.636765 -0.401396   \n",
       "2  1.058867  -0.232452        0  1.934648        1     0  1.058867 -0.401396   \n",
       "3 -0.636765  -0.232452        0 -0.763277        0     0 -0.636765 -0.401396   \n",
       "4 -0.394532   1.353897        0 -0.350969        1     0 -0.394532 -0.401396   \n",
       "\n",
       "   duration  campaign  ...  job_blue-collar  job_entrepreneur  job_housemaid  \\\n",
       "0 -0.260866 -0.900753  ...                0                 0              0   \n",
       "1 -1.015248 -0.900753  ...                0                 1              0   \n",
       "2 -0.854313 -0.900753  ...                1                 0              0   \n",
       "3  0.211880 -0.900753  ...                1                 0              0   \n",
       "4 -0.381567 -0.900753  ...                0                 0              0   \n",
       "\n",
       "   job_management  job_retired  job_self-employed  job_services  job_student  \\\n",
       "0               0            0                  0             0            0   \n",
       "1               0            0                  0             0            0   \n",
       "2               0            0                  0             0            0   \n",
       "3               0            0                  0             0            0   \n",
       "4               1            0                  0             0            0   \n",
       "\n",
       "   job_technician  job_unemployed  \n",
       "0               1               0  \n",
       "1               0               0  \n",
       "2               0               0  \n",
       "3               0               0  \n",
       "4               0               0  \n",
       "\n",
       "[5 rows x 28 columns]"
      ]
     },
     "execution_count": 3,
     "metadata": {},
     "output_type": "execute_result"
    }
   ],
   "source": [
    "data_train.head()"
   ]
  },
  {
   "cell_type": "code",
   "execution_count": 4,
   "id": "3b5c1c5b-2b47-4346-ac70-c3e753c3cfa1",
   "metadata": {},
   "outputs": [],
   "source": [
    "# reading data test\n",
    "\n",
    "data_test = pd.read_csv(\"test1.csv\")"
   ]
  },
  {
   "cell_type": "code",
   "execution_count": 5,
   "id": "2938ae0b-0916-4c25-82b8-78cf519fbf86",
   "metadata": {
    "tags": []
   },
   "outputs": [
    {
     "data": {
      "text/html": [
       "<div>\n",
       "<style scoped>\n",
       "    .dataframe tbody tr th:only-of-type {\n",
       "        vertical-align: middle;\n",
       "    }\n",
       "\n",
       "    .dataframe tbody tr th {\n",
       "        vertical-align: top;\n",
       "    }\n",
       "\n",
       "    .dataframe thead th {\n",
       "        text-align: right;\n",
       "    }\n",
       "</style>\n",
       "<table border=\"1\" class=\"dataframe\">\n",
       "  <thead>\n",
       "    <tr style=\"text-align: right;\">\n",
       "      <th></th>\n",
       "      <th>age</th>\n",
       "      <th>education</th>\n",
       "      <th>default</th>\n",
       "      <th>balance</th>\n",
       "      <th>housing</th>\n",
       "      <th>loan</th>\n",
       "      <th>day</th>\n",
       "      <th>month</th>\n",
       "      <th>duration</th>\n",
       "      <th>campaign</th>\n",
       "      <th>...</th>\n",
       "      <th>job_blue-collar</th>\n",
       "      <th>job_entrepreneur</th>\n",
       "      <th>job_housemaid</th>\n",
       "      <th>job_management</th>\n",
       "      <th>job_retired</th>\n",
       "      <th>job_self-employed</th>\n",
       "      <th>job_services</th>\n",
       "      <th>job_student</th>\n",
       "      <th>job_technician</th>\n",
       "      <th>job_unemployed</th>\n",
       "    </tr>\n",
       "  </thead>\n",
       "  <tbody>\n",
       "    <tr>\n",
       "      <th>0</th>\n",
       "      <td>-1.056270</td>\n",
       "      <td>-1.758874</td>\n",
       "      <td>0</td>\n",
       "      <td>0.121072</td>\n",
       "      <td>0</td>\n",
       "      <td>0</td>\n",
       "      <td>-1.056270</td>\n",
       "      <td>1.611873</td>\n",
       "      <td>-0.711861</td>\n",
       "      <td>-0.576829</td>\n",
       "      <td>...</td>\n",
       "      <td>0</td>\n",
       "      <td>0</td>\n",
       "      <td>0</td>\n",
       "      <td>0</td>\n",
       "      <td>0</td>\n",
       "      <td>0</td>\n",
       "      <td>0</td>\n",
       "      <td>0</td>\n",
       "      <td>0</td>\n",
       "      <td>1</td>\n",
       "    </tr>\n",
       "    <tr>\n",
       "      <th>1</th>\n",
       "      <td>-0.772583</td>\n",
       "      <td>-0.227607</td>\n",
       "      <td>0</td>\n",
       "      <td>1.118644</td>\n",
       "      <td>1</td>\n",
       "      <td>1</td>\n",
       "      <td>-0.772583</td>\n",
       "      <td>-0.490631</td>\n",
       "      <td>-0.169194</td>\n",
       "      <td>-0.576829</td>\n",
       "      <td>...</td>\n",
       "      <td>0</td>\n",
       "      <td>0</td>\n",
       "      <td>0</td>\n",
       "      <td>0</td>\n",
       "      <td>0</td>\n",
       "      <td>0</td>\n",
       "      <td>1</td>\n",
       "      <td>0</td>\n",
       "      <td>0</td>\n",
       "      <td>0</td>\n",
       "    </tr>\n",
       "    <tr>\n",
       "      <th>2</th>\n",
       "      <td>-0.583458</td>\n",
       "      <td>1.303660</td>\n",
       "      <td>0</td>\n",
       "      <td>-0.024144</td>\n",
       "      <td>1</td>\n",
       "      <td>0</td>\n",
       "      <td>-0.583458</td>\n",
       "      <td>-0.911131</td>\n",
       "      <td>-0.303898</td>\n",
       "      <td>-0.576829</td>\n",
       "      <td>...</td>\n",
       "      <td>0</td>\n",
       "      <td>0</td>\n",
       "      <td>0</td>\n",
       "      <td>1</td>\n",
       "      <td>0</td>\n",
       "      <td>0</td>\n",
       "      <td>0</td>\n",
       "      <td>0</td>\n",
       "      <td>0</td>\n",
       "      <td>0</td>\n",
       "    </tr>\n",
       "    <tr>\n",
       "      <th>3</th>\n",
       "      <td>-1.056270</td>\n",
       "      <td>1.303660</td>\n",
       "      <td>0</td>\n",
       "      <td>0.017726</td>\n",
       "      <td>1</td>\n",
       "      <td>1</td>\n",
       "      <td>-1.056270</td>\n",
       "      <td>-0.070130</td>\n",
       "      <td>-0.250017</td>\n",
       "      <td>0.387967</td>\n",
       "      <td>...</td>\n",
       "      <td>0</td>\n",
       "      <td>0</td>\n",
       "      <td>0</td>\n",
       "      <td>1</td>\n",
       "      <td>0</td>\n",
       "      <td>0</td>\n",
       "      <td>0</td>\n",
       "      <td>0</td>\n",
       "      <td>0</td>\n",
       "      <td>0</td>\n",
       "    </tr>\n",
       "    <tr>\n",
       "      <th>4</th>\n",
       "      <td>1.686036</td>\n",
       "      <td>-0.227607</td>\n",
       "      <td>0</td>\n",
       "      <td>-0.472753</td>\n",
       "      <td>1</td>\n",
       "      <td>0</td>\n",
       "      <td>1.686036</td>\n",
       "      <td>-0.490631</td>\n",
       "      <td>-0.146102</td>\n",
       "      <td>-0.576829</td>\n",
       "      <td>...</td>\n",
       "      <td>1</td>\n",
       "      <td>0</td>\n",
       "      <td>0</td>\n",
       "      <td>0</td>\n",
       "      <td>0</td>\n",
       "      <td>0</td>\n",
       "      <td>0</td>\n",
       "      <td>0</td>\n",
       "      <td>0</td>\n",
       "      <td>0</td>\n",
       "    </tr>\n",
       "  </tbody>\n",
       "</table>\n",
       "<p>5 rows × 28 columns</p>\n",
       "</div>"
      ],
      "text/plain": [
       "        age  education  default   balance  housing  loan       day     month  \\\n",
       "0 -1.056270  -1.758874        0  0.121072        0     0 -1.056270  1.611873   \n",
       "1 -0.772583  -0.227607        0  1.118644        1     1 -0.772583 -0.490631   \n",
       "2 -0.583458   1.303660        0 -0.024144        1     0 -0.583458 -0.911131   \n",
       "3 -1.056270   1.303660        0  0.017726        1     1 -1.056270 -0.070130   \n",
       "4  1.686036  -0.227607        0 -0.472753        1     0  1.686036 -0.490631   \n",
       "\n",
       "   duration  campaign  ...  job_blue-collar  job_entrepreneur  job_housemaid  \\\n",
       "0 -0.711861 -0.576829  ...                0                 0              0   \n",
       "1 -0.169194 -0.576829  ...                0                 0              0   \n",
       "2 -0.303898 -0.576829  ...                0                 0              0   \n",
       "3 -0.250017  0.387967  ...                0                 0              0   \n",
       "4 -0.146102 -0.576829  ...                1                 0              0   \n",
       "\n",
       "   job_management  job_retired  job_self-employed  job_services  job_student  \\\n",
       "0               0            0                  0             0            0   \n",
       "1               0            0                  0             1            0   \n",
       "2               1            0                  0             0            0   \n",
       "3               1            0                  0             0            0   \n",
       "4               0            0                  0             0            0   \n",
       "\n",
       "   job_technician  job_unemployed  \n",
       "0               0               1  \n",
       "1               0               0  \n",
       "2               0               0  \n",
       "3               0               0  \n",
       "4               0               0  \n",
       "\n",
       "[5 rows x 28 columns]"
      ]
     },
     "execution_count": 5,
     "metadata": {},
     "output_type": "execute_result"
    }
   ],
   "source": [
    "data_test.head()"
   ]
  },
  {
   "cell_type": "markdown",
   "id": "53191d6b-50f3-4fff-b6e6-123b1a62a3da",
   "metadata": {
    "tags": []
   },
   "source": [
    "## Modelling"
   ]
  },
  {
   "cell_type": "markdown",
   "id": "271dab4a-7ecb-4f33-ac7e-fda99ae822c0",
   "metadata": {},
   "source": [
    "### Split Data Train & Test"
   ]
  },
  {
   "cell_type": "markdown",
   "id": "bc6f58f3-bf93-42f2-ae25-732ccb53bbbf",
   "metadata": {},
   "source": [
    "#### Kaggle Default"
   ]
  },
  {
   "cell_type": "code",
   "execution_count": 6,
   "id": "2009d9c3-d594-442f-a10d-3b7fd771b479",
   "metadata": {
    "tags": []
   },
   "outputs": [
    {
     "name": "stdout",
     "output_type": "stream",
     "text": [
      "Jumlah Train Dataset adalah sejumlah : 24097 (84.2%)\n",
      "Jumlah Test Dataset adalah sejumlah  : 4521 (15.8%)\n"
     ]
    }
   ],
   "source": [
    "# splitting by kaggle task default\n",
    "\n",
    "jumlah_train = data_train.shape[0]\n",
    "jumlah_test  = data_test.shape[0]\n",
    "\n",
    "total      = jumlah_train + jumlah_test\n",
    "perc_train = round(jumlah_train/total*100,2)\n",
    "perc_test  = round(jumlah_test/total*100,2)\n",
    "\n",
    "print(\"Jumlah Train Dataset adalah sejumlah : \" +str(jumlah_train)+\" (\"+str(perc_train)+\"%)\")\n",
    "print(\"Jumlah Test Dataset adalah sejumlah  : \" +str(jumlah_test)+\" (\"+str(perc_test)+\"%)\")"
   ]
  },
  {
   "cell_type": "code",
   "execution_count": 9,
   "id": "0fc5d813-7e09-4f2b-8154-523d20605086",
   "metadata": {
    "tags": []
   },
   "outputs": [],
   "source": [
    "# categorising feature & label\n",
    "feature = ['age','education','default','balance','housing','loan','day','month','duration','campaign','previous',\n",
    "          'contact_cellular','contact_telephone','marital_divorced','marital_married','marital_single',\n",
    "          'job_admin.','job_blue-collar','job_entrepreneur','job_housemaid','job_management','job_retired','job_self-employed',\n",
    "          'job_services','job_student','job_technician','job_unemployed']\n",
    "label = ['y']"
   ]
  },
  {
   "cell_type": "code",
   "execution_count": 11,
   "id": "59a10e8c-f499-4f8c-80be-a4a1f7b3339c",
   "metadata": {
    "tags": []
   },
   "outputs": [],
   "source": [
    "# train variable\n",
    "\n",
    "X_train = data_train[feature]\n",
    "y_train = data_train['y']"
   ]
  },
  {
   "cell_type": "code",
   "execution_count": 12,
   "id": "72950688-376c-443c-ab8f-dbb9b14cb799",
   "metadata": {
    "tags": []
   },
   "outputs": [],
   "source": [
    "# test variabel\n",
    "\n",
    "X_test = data_test[feature]\n",
    "y_test = data_test['y']"
   ]
  },
  {
   "cell_type": "markdown",
   "id": "5e1e6e9e-9823-4a48-bd82-d3a2adcb96a2",
   "metadata": {},
   "source": [
    "### Modeling Method"
   ]
  },
  {
   "cell_type": "markdown",
   "id": "f42bca92-42fa-4de5-9b6d-86f9d8641306",
   "metadata": {
    "tags": []
   },
   "source": [
    "#### Logistic Regresion"
   ]
  },
  {
   "cell_type": "code",
   "execution_count": 26,
   "id": "0413bd56-cfdc-4442-831d-5a853a8282ea",
   "metadata": {
    "tags": []
   },
   "outputs": [],
   "source": [
    "logreg = LogisticRegression(solver='lbfgs', max_iter=3000)"
   ]
  },
  {
   "cell_type": "code",
   "execution_count": 27,
   "id": "4f20f5e4-59bd-4604-aea3-b262c40840bc",
   "metadata": {
    "tags": []
   },
   "outputs": [
    {
     "data": {
      "text/html": [
       "<style>#sk-container-id-3 {color: black;}#sk-container-id-3 pre{padding: 0;}#sk-container-id-3 div.sk-toggleable {background-color: white;}#sk-container-id-3 label.sk-toggleable__label {cursor: pointer;display: block;width: 100%;margin-bottom: 0;padding: 0.3em;box-sizing: border-box;text-align: center;}#sk-container-id-3 label.sk-toggleable__label-arrow:before {content: \"▸\";float: left;margin-right: 0.25em;color: #696969;}#sk-container-id-3 label.sk-toggleable__label-arrow:hover:before {color: black;}#sk-container-id-3 div.sk-estimator:hover label.sk-toggleable__label-arrow:before {color: black;}#sk-container-id-3 div.sk-toggleable__content {max-height: 0;max-width: 0;overflow: hidden;text-align: left;background-color: #f0f8ff;}#sk-container-id-3 div.sk-toggleable__content pre {margin: 0.2em;color: black;border-radius: 0.25em;background-color: #f0f8ff;}#sk-container-id-3 input.sk-toggleable__control:checked~div.sk-toggleable__content {max-height: 200px;max-width: 100%;overflow: auto;}#sk-container-id-3 input.sk-toggleable__control:checked~label.sk-toggleable__label-arrow:before {content: \"▾\";}#sk-container-id-3 div.sk-estimator input.sk-toggleable__control:checked~label.sk-toggleable__label {background-color: #d4ebff;}#sk-container-id-3 div.sk-label input.sk-toggleable__control:checked~label.sk-toggleable__label {background-color: #d4ebff;}#sk-container-id-3 input.sk-hidden--visually {border: 0;clip: rect(1px 1px 1px 1px);clip: rect(1px, 1px, 1px, 1px);height: 1px;margin: -1px;overflow: hidden;padding: 0;position: absolute;width: 1px;}#sk-container-id-3 div.sk-estimator {font-family: monospace;background-color: #f0f8ff;border: 1px dotted black;border-radius: 0.25em;box-sizing: border-box;margin-bottom: 0.5em;}#sk-container-id-3 div.sk-estimator:hover {background-color: #d4ebff;}#sk-container-id-3 div.sk-parallel-item::after {content: \"\";width: 100%;border-bottom: 1px solid gray;flex-grow: 1;}#sk-container-id-3 div.sk-label:hover label.sk-toggleable__label {background-color: #d4ebff;}#sk-container-id-3 div.sk-serial::before {content: \"\";position: absolute;border-left: 1px solid gray;box-sizing: border-box;top: 0;bottom: 0;left: 50%;z-index: 0;}#sk-container-id-3 div.sk-serial {display: flex;flex-direction: column;align-items: center;background-color: white;padding-right: 0.2em;padding-left: 0.2em;position: relative;}#sk-container-id-3 div.sk-item {position: relative;z-index: 1;}#sk-container-id-3 div.sk-parallel {display: flex;align-items: stretch;justify-content: center;background-color: white;position: relative;}#sk-container-id-3 div.sk-item::before, #sk-container-id-3 div.sk-parallel-item::before {content: \"\";position: absolute;border-left: 1px solid gray;box-sizing: border-box;top: 0;bottom: 0;left: 50%;z-index: -1;}#sk-container-id-3 div.sk-parallel-item {display: flex;flex-direction: column;z-index: 1;position: relative;background-color: white;}#sk-container-id-3 div.sk-parallel-item:first-child::after {align-self: flex-end;width: 50%;}#sk-container-id-3 div.sk-parallel-item:last-child::after {align-self: flex-start;width: 50%;}#sk-container-id-3 div.sk-parallel-item:only-child::after {width: 0;}#sk-container-id-3 div.sk-dashed-wrapped {border: 1px dashed gray;margin: 0 0.4em 0.5em 0.4em;box-sizing: border-box;padding-bottom: 0.4em;background-color: white;}#sk-container-id-3 div.sk-label label {font-family: monospace;font-weight: bold;display: inline-block;line-height: 1.2em;}#sk-container-id-3 div.sk-label-container {text-align: center;}#sk-container-id-3 div.sk-container {/* jupyter's `normalize.less` sets `[hidden] { display: none; }` but bootstrap.min.css set `[hidden] { display: none !important; }` so we also need the `!important` here to be able to override the default hidden behavior on the sphinx rendered scikit-learn.org. See: https://github.com/scikit-learn/scikit-learn/issues/21755 */display: inline-block !important;position: relative;}#sk-container-id-3 div.sk-text-repr-fallback {display: none;}</style><div id=\"sk-container-id-3\" class=\"sk-top-container\"><div class=\"sk-text-repr-fallback\"><pre>LogisticRegression(max_iter=3000)</pre><b>In a Jupyter environment, please rerun this cell to show the HTML representation or trust the notebook. <br />On GitHub, the HTML representation is unable to render, please try loading this page with nbviewer.org.</b></div><div class=\"sk-container\" hidden><div class=\"sk-item\"><div class=\"sk-estimator sk-toggleable\"><input class=\"sk-toggleable__control sk-hidden--visually\" id=\"sk-estimator-id-3\" type=\"checkbox\" checked><label for=\"sk-estimator-id-3\" class=\"sk-toggleable__label sk-toggleable__label-arrow\">LogisticRegression</label><div class=\"sk-toggleable__content\"><pre>LogisticRegression(max_iter=3000)</pre></div></div></div></div></div>"
      ],
      "text/plain": [
       "LogisticRegression(max_iter=3000)"
      ]
     },
     "execution_count": 27,
     "metadata": {},
     "output_type": "execute_result"
    }
   ],
   "source": [
    "logreg.fit(X_train, y_train)"
   ]
  },
  {
   "cell_type": "code",
   "execution_count": 28,
   "id": "73ff85c3-130e-4ff3-8057-8a3d646f854c",
   "metadata": {
    "tags": []
   },
   "outputs": [],
   "source": [
    "y_predicted = logreg.predict(X_test) # prediksi data test"
   ]
  },
  {
   "cell_type": "code",
   "execution_count": 29,
   "id": "10dfeed9-de1e-41e6-a961-02fe448dc94b",
   "metadata": {
    "tags": []
   },
   "outputs": [
    {
     "name": "stdout",
     "output_type": "stream",
     "text": [
      "0.89\n"
     ]
    }
   ],
   "source": [
    "print(round(accuracy_score(y_test, y_predicted),2))# contoh evaluasi dengan akurasi"
   ]
  },
  {
   "cell_type": "markdown",
   "id": "446f9693-5bca-4fbf-b41f-99475f48250d",
   "metadata": {
    "jp-MarkdownHeadingCollapsed": true,
    "tags": []
   },
   "source": [
    "#### Decision Tree"
   ]
  },
  {
   "cell_type": "markdown",
   "id": "0e7ff3c3-cb6f-4dc8-99c6-84ffb761d457",
   "metadata": {
    "tags": []
   },
   "source": [
    "### Model Evaluation"
   ]
  },
  {
   "cell_type": "markdown",
   "id": "8a5fce2a-47cd-46d5-bd08-3c7903428863",
   "metadata": {},
   "source": [
    "### Precision"
   ]
  },
  {
   "cell_type": "markdown",
   "id": "aa28c358-a146-46ed-ae8b-16dce5bb186b",
   "metadata": {},
   "source": [
    "### Hyperparameter Tuning"
   ]
  },
  {
   "cell_type": "markdown",
   "id": "c0239e79-b1cb-4b28-8864-638854c1af3e",
   "metadata": {
    "tags": []
   },
   "source": [
    "## Feature Importance"
   ]
  },
  {
   "cell_type": "markdown",
   "id": "0edbbc05-6e6c-4f2e-b505-0352eed5a839",
   "metadata": {},
   "source": [
    "### Most Important Feature"
   ]
  },
  {
   "cell_type": "markdown",
   "id": "07b6c660-7e76-4c82-bd23-ba9a93c691bb",
   "metadata": {},
   "source": [
    "### Business Insight"
   ]
  }
 ],
 "metadata": {
  "kernelspec": {
   "display_name": "final_project",
   "language": "python",
   "name": "final_project"
  },
  "language_info": {
   "codemirror_mode": {
    "name": "ipython",
    "version": 3
   },
   "file_extension": ".py",
   "mimetype": "text/x-python",
   "name": "python",
   "nbconvert_exporter": "python",
   "pygments_lexer": "ipython3",
   "version": "3.11.4"
  }
 },
 "nbformat": 4,
 "nbformat_minor": 5
}
