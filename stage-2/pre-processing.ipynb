{
 "cells": [
  {
   "cell_type": "code",
   "execution_count": 48,
   "id": "56d54e8e-57c6-4571-bfe9-b6abedd81644",
   "metadata": {
    "tags": []
   },
   "outputs": [],
   "source": [
    "# math & tables module\n",
    "import numpy as np\n",
    "import pandas as pd\n",
    "\n",
    "# plotting module\n",
    "from matplotlib import pyplot as plt\n",
    "import seaborn as sns\n",
    "\n",
    "# module to show version used in project\n",
    "import session_info\n",
    "\n",
    "# statistics module\n",
    "from scipy import stats as st\n",
    "import statsmodels.stats.proportion as sp\n",
    "\n",
    "# imputer method using KNN\n",
    "from sklearn.impute import KNNImputer"
   ]
  },
  {
   "cell_type": "code",
   "execution_count": 45,
   "id": "e7fe40d5-25b8-4ab3-ac27-083026a73b99",
   "metadata": {
    "tags": []
   },
   "outputs": [
    {
     "data": {
      "text/html": [
       "<details>\n",
       "<summary>Click to view session information</summary>\n",
       "<pre>\n",
       "-----\n",
       "matplotlib          3.8.0\n",
       "numpy               1.26.1\n",
       "pandas              2.1.1\n",
       "scipy               1.11.3\n",
       "seaborn             0.13.0\n",
       "session_info        1.0.0\n",
       "statsmodels         0.14.0\n",
       "-----\n",
       "</pre>\n",
       "<details>\n",
       "<summary>Click to view modules imported as dependencies</summary>\n",
       "<pre>\n",
       "PIL                 10.1.0\n",
       "appnope             0.1.3\n",
       "asttokens           NA\n",
       "backcall            0.2.0\n",
       "comm                0.1.4\n",
       "cycler              0.12.1\n",
       "cython_runtime      NA\n",
       "dateutil            2.8.2\n",
       "debugpy             1.8.0\n",
       "decorator           5.1.1\n",
       "executing           2.0.0\n",
       "ipykernel           6.25.2\n",
       "jedi                0.19.1\n",
       "kiwisolver          1.4.5\n",
       "mpl_toolkits        NA\n",
       "packaging           23.2\n",
       "parso               0.8.3\n",
       "patsy               0.5.3\n",
       "pexpect             4.8.0\n",
       "pickleshare         0.7.5\n",
       "platformdirs        3.11.0\n",
       "prompt_toolkit      3.0.39\n",
       "psutil              5.9.6\n",
       "ptyprocess          0.7.0\n",
       "pure_eval           0.2.2\n",
       "pydev_ipython       NA\n",
       "pydevconsole        NA\n",
       "pydevd              2.9.5\n",
       "pydevd_file_utils   NA\n",
       "pydevd_plugins      NA\n",
       "pydevd_tracing      NA\n",
       "pygments            2.16.1\n",
       "pyparsing           3.1.1\n",
       "pytz                2023.3.post1\n",
       "six                 1.16.0\n",
       "stack_data          0.6.3\n",
       "tornado             6.3.3\n",
       "traitlets           5.11.2\n",
       "wcwidth             0.2.8\n",
       "zmq                 25.1.1\n",
       "</pre>\n",
       "</details> <!-- seems like this ends pre, so might as well be explicit -->\n",
       "<pre>\n",
       "-----\n",
       "IPython             8.16.1\n",
       "jupyter_client      8.4.0\n",
       "jupyter_core        5.4.0\n",
       "-----\n",
       "Python 3.11.4 (main, Jul  5 2023, 08:54:11) [Clang 14.0.6 ]\n",
       "macOS-13.5.2-arm64-i386-64bit\n",
       "-----\n",
       "Session information updated at 2023-10-20 17:52\n",
       "</pre>\n",
       "</details>"
      ],
      "text/plain": [
       "<IPython.core.display.HTML object>"
      ]
     },
     "execution_count": 45,
     "metadata": {},
     "output_type": "execute_result"
    }
   ],
   "source": [
    "# session module version\n",
    "session_info.show()"
   ]
  },
  {
   "cell_type": "code",
   "execution_count": 33,
   "id": "55cfae60-3f69-4924-8784-673050d19eda",
   "metadata": {
    "tags": []
   },
   "outputs": [],
   "source": [
    "# reading dataset\n",
    "data = pd.read_csv(\"train.csv\", sep=';')"
   ]
  },
  {
   "cell_type": "code",
   "execution_count": 34,
   "id": "0d2aa526-9d1d-44b2-997b-dad8ccd26487",
   "metadata": {
    "tags": []
   },
   "outputs": [
    {
     "data": {
      "text/html": [
       "<div>\n",
       "<style scoped>\n",
       "    .dataframe tbody tr th:only-of-type {\n",
       "        vertical-align: middle;\n",
       "    }\n",
       "\n",
       "    .dataframe tbody tr th {\n",
       "        vertical-align: top;\n",
       "    }\n",
       "\n",
       "    .dataframe thead th {\n",
       "        text-align: right;\n",
       "    }\n",
       "</style>\n",
       "<table border=\"1\" class=\"dataframe\">\n",
       "  <thead>\n",
       "    <tr style=\"text-align: right;\">\n",
       "      <th></th>\n",
       "      <th>age</th>\n",
       "      <th>job</th>\n",
       "      <th>marital</th>\n",
       "      <th>education</th>\n",
       "      <th>default</th>\n",
       "      <th>balance</th>\n",
       "      <th>housing</th>\n",
       "      <th>loan</th>\n",
       "      <th>contact</th>\n",
       "      <th>day</th>\n",
       "      <th>month</th>\n",
       "      <th>duration</th>\n",
       "      <th>campaign</th>\n",
       "      <th>pdays</th>\n",
       "      <th>previous</th>\n",
       "      <th>poutcome</th>\n",
       "      <th>y</th>\n",
       "    </tr>\n",
       "  </thead>\n",
       "  <tbody>\n",
       "    <tr>\n",
       "      <th>0</th>\n",
       "      <td>58</td>\n",
       "      <td>management</td>\n",
       "      <td>married</td>\n",
       "      <td>tertiary</td>\n",
       "      <td>no</td>\n",
       "      <td>2143</td>\n",
       "      <td>yes</td>\n",
       "      <td>no</td>\n",
       "      <td>unknown</td>\n",
       "      <td>5</td>\n",
       "      <td>may</td>\n",
       "      <td>261</td>\n",
       "      <td>1</td>\n",
       "      <td>-1</td>\n",
       "      <td>0</td>\n",
       "      <td>unknown</td>\n",
       "      <td>no</td>\n",
       "    </tr>\n",
       "    <tr>\n",
       "      <th>1</th>\n",
       "      <td>44</td>\n",
       "      <td>technician</td>\n",
       "      <td>single</td>\n",
       "      <td>secondary</td>\n",
       "      <td>no</td>\n",
       "      <td>29</td>\n",
       "      <td>yes</td>\n",
       "      <td>no</td>\n",
       "      <td>unknown</td>\n",
       "      <td>5</td>\n",
       "      <td>may</td>\n",
       "      <td>151</td>\n",
       "      <td>1</td>\n",
       "      <td>-1</td>\n",
       "      <td>0</td>\n",
       "      <td>unknown</td>\n",
       "      <td>no</td>\n",
       "    </tr>\n",
       "    <tr>\n",
       "      <th>2</th>\n",
       "      <td>33</td>\n",
       "      <td>entrepreneur</td>\n",
       "      <td>married</td>\n",
       "      <td>secondary</td>\n",
       "      <td>no</td>\n",
       "      <td>2</td>\n",
       "      <td>yes</td>\n",
       "      <td>yes</td>\n",
       "      <td>unknown</td>\n",
       "      <td>5</td>\n",
       "      <td>may</td>\n",
       "      <td>76</td>\n",
       "      <td>1</td>\n",
       "      <td>-1</td>\n",
       "      <td>0</td>\n",
       "      <td>unknown</td>\n",
       "      <td>no</td>\n",
       "    </tr>\n",
       "    <tr>\n",
       "      <th>3</th>\n",
       "      <td>47</td>\n",
       "      <td>blue-collar</td>\n",
       "      <td>married</td>\n",
       "      <td>unknown</td>\n",
       "      <td>no</td>\n",
       "      <td>1506</td>\n",
       "      <td>yes</td>\n",
       "      <td>no</td>\n",
       "      <td>unknown</td>\n",
       "      <td>5</td>\n",
       "      <td>may</td>\n",
       "      <td>92</td>\n",
       "      <td>1</td>\n",
       "      <td>-1</td>\n",
       "      <td>0</td>\n",
       "      <td>unknown</td>\n",
       "      <td>no</td>\n",
       "    </tr>\n",
       "    <tr>\n",
       "      <th>4</th>\n",
       "      <td>33</td>\n",
       "      <td>unknown</td>\n",
       "      <td>single</td>\n",
       "      <td>unknown</td>\n",
       "      <td>no</td>\n",
       "      <td>1</td>\n",
       "      <td>no</td>\n",
       "      <td>no</td>\n",
       "      <td>unknown</td>\n",
       "      <td>5</td>\n",
       "      <td>may</td>\n",
       "      <td>198</td>\n",
       "      <td>1</td>\n",
       "      <td>-1</td>\n",
       "      <td>0</td>\n",
       "      <td>unknown</td>\n",
       "      <td>no</td>\n",
       "    </tr>\n",
       "  </tbody>\n",
       "</table>\n",
       "</div>"
      ],
      "text/plain": [
       "   age           job  marital  education default  balance housing loan  \\\n",
       "0   58    management  married   tertiary      no     2143     yes   no   \n",
       "1   44    technician   single  secondary      no       29     yes   no   \n",
       "2   33  entrepreneur  married  secondary      no        2     yes  yes   \n",
       "3   47   blue-collar  married    unknown      no     1506     yes   no   \n",
       "4   33       unknown   single    unknown      no        1      no   no   \n",
       "\n",
       "   contact  day month  duration  campaign  pdays  previous poutcome   y  \n",
       "0  unknown    5   may       261         1     -1         0  unknown  no  \n",
       "1  unknown    5   may       151         1     -1         0  unknown  no  \n",
       "2  unknown    5   may        76         1     -1         0  unknown  no  \n",
       "3  unknown    5   may        92         1     -1         0  unknown  no  \n",
       "4  unknown    5   may       198         1     -1         0  unknown  no  "
      ]
     },
     "execution_count": 34,
     "metadata": {},
     "output_type": "execute_result"
    }
   ],
   "source": [
    "data.head()"
   ]
  },
  {
   "cell_type": "markdown",
   "id": "2bb0d1e0-5984-45bf-a4f9-25fa0d7f7263",
   "metadata": {},
   "source": [
    "## Data Cleaning"
   ]
  },
  {
   "cell_type": "markdown",
   "id": "88b7b6c7-24dc-42e8-80e3-59c2111675ff",
   "metadata": {},
   "source": [
    "### Handle Missing Values\n",
    "from descriptive statistics shown that there are 4 column contain missing-values but not in form of null-values, however in form of value of 'unknown' & 'other' in 4 column named: *job, education, contact, poutcome*"
   ]
  },
  {
   "cell_type": "markdown",
   "id": "d508334c-6266-4a05-b8b8-9fa9ac5cf90e",
   "metadata": {
    "jp-MarkdownHeadingCollapsed": true,
    "tags": []
   },
   "source": [
    "#### Job Variable"
   ]
  },
  {
   "cell_type": "code",
   "execution_count": 35,
   "id": "51f91a86-879c-4497-867b-5ac10f4e4f5c",
   "metadata": {
    "tags": []
   },
   "outputs": [
    {
     "data": {
      "text/html": [
       "<div>\n",
       "<style scoped>\n",
       "    .dataframe tbody tr th:only-of-type {\n",
       "        vertical-align: middle;\n",
       "    }\n",
       "\n",
       "    .dataframe tbody tr th {\n",
       "        vertical-align: top;\n",
       "    }\n",
       "\n",
       "    .dataframe thead th {\n",
       "        text-align: right;\n",
       "    }\n",
       "</style>\n",
       "<table border=\"1\" class=\"dataframe\">\n",
       "  <thead>\n",
       "    <tr style=\"text-align: right;\">\n",
       "      <th>job</th>\n",
       "      <th>blue-collar</th>\n",
       "      <th>management</th>\n",
       "      <th>technician</th>\n",
       "      <th>admin.</th>\n",
       "      <th>services</th>\n",
       "      <th>retired</th>\n",
       "      <th>self-employed</th>\n",
       "      <th>entrepreneur</th>\n",
       "      <th>unemployed</th>\n",
       "      <th>housemaid</th>\n",
       "      <th>student</th>\n",
       "      <th>unknown</th>\n",
       "    </tr>\n",
       "  </thead>\n",
       "  <tbody>\n",
       "    <tr>\n",
       "      <th>count</th>\n",
       "      <td>9732</td>\n",
       "      <td>9458</td>\n",
       "      <td>7597</td>\n",
       "      <td>5171</td>\n",
       "      <td>4154</td>\n",
       "      <td>2264</td>\n",
       "      <td>1579</td>\n",
       "      <td>1487</td>\n",
       "      <td>1303</td>\n",
       "      <td>1240</td>\n",
       "      <td>938</td>\n",
       "      <td>288</td>\n",
       "    </tr>\n",
       "  </tbody>\n",
       "</table>\n",
       "</div>"
      ],
      "text/plain": [
       "job    blue-collar  management  technician  admin.  services  retired  \\\n",
       "count         9732        9458        7597    5171      4154     2264   \n",
       "\n",
       "job    self-employed  entrepreneur  unemployed  housemaid  student  unknown  \n",
       "count           1579          1487        1303       1240      938      288  "
      ]
     },
     "execution_count": 35,
     "metadata": {},
     "output_type": "execute_result"
    }
   ],
   "source": [
    "# Handling missing values in job column using frequent values replacing method\n",
    "data.job.value_counts().to_frame().T"
   ]
  },
  {
   "cell_type": "code",
   "execution_count": 36,
   "id": "6ce9f64b-389b-4ce9-861d-3727b5e46299",
   "metadata": {
    "tags": []
   },
   "outputs": [
    {
     "data": {
      "text/html": [
       "<div>\n",
       "<style scoped>\n",
       "    .dataframe tbody tr th:only-of-type {\n",
       "        vertical-align: middle;\n",
       "    }\n",
       "\n",
       "    .dataframe tbody tr th {\n",
       "        vertical-align: top;\n",
       "    }\n",
       "\n",
       "    .dataframe thead th {\n",
       "        text-align: right;\n",
       "    }\n",
       "</style>\n",
       "<table border=\"1\" class=\"dataframe\">\n",
       "  <thead>\n",
       "    <tr style=\"text-align: right;\">\n",
       "      <th>job</th>\n",
       "      <th>blue-collar</th>\n",
       "      <th>management</th>\n",
       "      <th>technician</th>\n",
       "      <th>admin.</th>\n",
       "      <th>services</th>\n",
       "      <th>retired</th>\n",
       "      <th>self-employed</th>\n",
       "      <th>entrepreneur</th>\n",
       "      <th>unemployed</th>\n",
       "      <th>housemaid</th>\n",
       "      <th>student</th>\n",
       "    </tr>\n",
       "  </thead>\n",
       "  <tbody>\n",
       "    <tr>\n",
       "      <th>count</th>\n",
       "      <td>10020</td>\n",
       "      <td>9458</td>\n",
       "      <td>7597</td>\n",
       "      <td>5171</td>\n",
       "      <td>4154</td>\n",
       "      <td>2264</td>\n",
       "      <td>1579</td>\n",
       "      <td>1487</td>\n",
       "      <td>1303</td>\n",
       "      <td>1240</td>\n",
       "      <td>938</td>\n",
       "    </tr>\n",
       "  </tbody>\n",
       "</table>\n",
       "</div>"
      ],
      "text/plain": [
       "job    blue-collar  management  technician  admin.  services  retired  \\\n",
       "count        10020        9458        7597    5171      4154     2264   \n",
       "\n",
       "job    self-employed  entrepreneur  unemployed  housemaid  student  \n",
       "count           1579          1487        1303       1240      938  "
      ]
     },
     "execution_count": 36,
     "metadata": {},
     "output_type": "execute_result"
    }
   ],
   "source": [
    "# replacing the unknown values using the most values containing column (mode) which 'blue-collar'\n",
    "data.job.replace(to_replace='unknown', value=data.job.mode()[0], inplace=True)\n",
    "data.job.value_counts().to_frame().T"
   ]
  },
  {
   "cell_type": "markdown",
   "id": "9bd2ebb3-9de5-4de6-901e-01e57532b28e",
   "metadata": {},
   "source": [
    "After replacing with the mode value, the unknown which is the missing value have gone from the column"
   ]
  },
  {
   "cell_type": "markdown",
   "id": "7c699c42-81c0-4c01-aba5-b0aa16623388",
   "metadata": {
    "jp-MarkdownHeadingCollapsed": true,
    "tags": []
   },
   "source": [
    "#### Education Variable"
   ]
  },
  {
   "cell_type": "code",
   "execution_count": 37,
   "id": "f81c5948-213f-40b4-8f2e-de7142b7d589",
   "metadata": {
    "tags": []
   },
   "outputs": [
    {
     "data": {
      "text/html": [
       "<div>\n",
       "<style scoped>\n",
       "    .dataframe tbody tr th:only-of-type {\n",
       "        vertical-align: middle;\n",
       "    }\n",
       "\n",
       "    .dataframe tbody tr th {\n",
       "        vertical-align: top;\n",
       "    }\n",
       "\n",
       "    .dataframe thead th {\n",
       "        text-align: right;\n",
       "    }\n",
       "</style>\n",
       "<table border=\"1\" class=\"dataframe\">\n",
       "  <thead>\n",
       "    <tr style=\"text-align: right;\">\n",
       "      <th>education</th>\n",
       "      <th>secondary</th>\n",
       "      <th>tertiary</th>\n",
       "      <th>primary</th>\n",
       "      <th>unknown</th>\n",
       "    </tr>\n",
       "  </thead>\n",
       "  <tbody>\n",
       "    <tr>\n",
       "      <th>count</th>\n",
       "      <td>23202</td>\n",
       "      <td>13301</td>\n",
       "      <td>6851</td>\n",
       "      <td>1857</td>\n",
       "    </tr>\n",
       "  </tbody>\n",
       "</table>\n",
       "</div>"
      ],
      "text/plain": [
       "education  secondary  tertiary  primary  unknown\n",
       "count          23202     13301     6851     1857"
      ]
     },
     "execution_count": 37,
     "metadata": {},
     "output_type": "execute_result"
    }
   ],
   "source": [
    "# Handling missing values in education column using frequent values replacing method\n",
    "data.education.value_counts().to_frame().T"
   ]
  },
  {
   "cell_type": "code",
   "execution_count": 38,
   "id": "46cb9537-a473-41fe-96d9-5521a7cfeca0",
   "metadata": {
    "tags": []
   },
   "outputs": [
    {
     "data": {
      "text/html": [
       "<div>\n",
       "<style scoped>\n",
       "    .dataframe tbody tr th:only-of-type {\n",
       "        vertical-align: middle;\n",
       "    }\n",
       "\n",
       "    .dataframe tbody tr th {\n",
       "        vertical-align: top;\n",
       "    }\n",
       "\n",
       "    .dataframe thead th {\n",
       "        text-align: right;\n",
       "    }\n",
       "</style>\n",
       "<table border=\"1\" class=\"dataframe\">\n",
       "  <thead>\n",
       "    <tr style=\"text-align: right;\">\n",
       "      <th>education</th>\n",
       "      <th>secondary</th>\n",
       "      <th>tertiary</th>\n",
       "      <th>primary</th>\n",
       "    </tr>\n",
       "  </thead>\n",
       "  <tbody>\n",
       "    <tr>\n",
       "      <th>count</th>\n",
       "      <td>25059</td>\n",
       "      <td>13301</td>\n",
       "      <td>6851</td>\n",
       "    </tr>\n",
       "  </tbody>\n",
       "</table>\n",
       "</div>"
      ],
      "text/plain": [
       "education  secondary  tertiary  primary\n",
       "count          25059     13301     6851"
      ]
     },
     "execution_count": 38,
     "metadata": {},
     "output_type": "execute_result"
    }
   ],
   "source": [
    "data.education.replace(to_replace='unknown', value=data.education.mode()[0], inplace=True)\n",
    "data.education.value_counts().to_frame().T"
   ]
  },
  {
   "cell_type": "markdown",
   "id": "f0244a7e-3636-41df-a64f-b2df51c5b4b7",
   "metadata": {},
   "source": [
    "After replacing with the mode value, the unknown which is the missing value have gone from the column"
   ]
  },
  {
   "cell_type": "markdown",
   "id": "698809b1-0456-4637-857e-5399ae25e89c",
   "metadata": {
    "jp-MarkdownHeadingCollapsed": true,
    "tags": []
   },
   "source": [
    "#### Contact Variable"
   ]
  },
  {
   "cell_type": "code",
   "execution_count": 39,
   "id": "b2ffb7c0-43ed-461d-a8e1-69c9ebaaec89",
   "metadata": {
    "tags": []
   },
   "outputs": [
    {
     "data": {
      "text/html": [
       "<div>\n",
       "<style scoped>\n",
       "    .dataframe tbody tr th:only-of-type {\n",
       "        vertical-align: middle;\n",
       "    }\n",
       "\n",
       "    .dataframe tbody tr th {\n",
       "        vertical-align: top;\n",
       "    }\n",
       "\n",
       "    .dataframe thead th {\n",
       "        text-align: right;\n",
       "    }\n",
       "</style>\n",
       "<table border=\"1\" class=\"dataframe\">\n",
       "  <thead>\n",
       "    <tr style=\"text-align: right;\">\n",
       "      <th>contact</th>\n",
       "      <th>cellular</th>\n",
       "      <th>unknown</th>\n",
       "      <th>telephone</th>\n",
       "    </tr>\n",
       "  </thead>\n",
       "  <tbody>\n",
       "    <tr>\n",
       "      <th>count</th>\n",
       "      <td>29285</td>\n",
       "      <td>13020</td>\n",
       "      <td>2906</td>\n",
       "    </tr>\n",
       "  </tbody>\n",
       "</table>\n",
       "</div>"
      ],
      "text/plain": [
       "contact  cellular  unknown  telephone\n",
       "count       29285    13020       2906"
      ]
     },
     "execution_count": 39,
     "metadata": {},
     "output_type": "execute_result"
    }
   ],
   "source": [
    "# Handling missing values in contact column using frequent values replacing method\n",
    "data.contact.value_counts().to_frame().T"
   ]
  },
  {
   "cell_type": "code",
   "execution_count": 40,
   "id": "9655385a-1e47-46c6-912a-6982c88b43a3",
   "metadata": {
    "tags": []
   },
   "outputs": [
    {
     "data": {
      "text/html": [
       "<div>\n",
       "<style scoped>\n",
       "    .dataframe tbody tr th:only-of-type {\n",
       "        vertical-align: middle;\n",
       "    }\n",
       "\n",
       "    .dataframe tbody tr th {\n",
       "        vertical-align: top;\n",
       "    }\n",
       "\n",
       "    .dataframe thead th {\n",
       "        text-align: right;\n",
       "    }\n",
       "</style>\n",
       "<table border=\"1\" class=\"dataframe\">\n",
       "  <thead>\n",
       "    <tr style=\"text-align: right;\">\n",
       "      <th>contact</th>\n",
       "      <th>cellular</th>\n",
       "      <th>telephone</th>\n",
       "    </tr>\n",
       "  </thead>\n",
       "  <tbody>\n",
       "    <tr>\n",
       "      <th>count</th>\n",
       "      <td>42305</td>\n",
       "      <td>2906</td>\n",
       "    </tr>\n",
       "  </tbody>\n",
       "</table>\n",
       "</div>"
      ],
      "text/plain": [
       "contact  cellular  telephone\n",
       "count       42305       2906"
      ]
     },
     "execution_count": 40,
     "metadata": {},
     "output_type": "execute_result"
    }
   ],
   "source": [
    "data.contact.replace(to_replace='unknown', value=data.contact.mode()[0], inplace=True)\n",
    "data.contact.value_counts().to_frame().T"
   ]
  },
  {
   "cell_type": "markdown",
   "id": "9e6eec4d-8e11-4853-bb35-708208a32f8d",
   "metadata": {},
   "source": [
    "After replacing with the mode value, the unknown which is the missing value have gone from the column"
   ]
  },
  {
   "cell_type": "markdown",
   "id": "aa834bc6-179e-46a5-80b2-a721fc9b0738",
   "metadata": {
    "jp-MarkdownHeadingCollapsed": true,
    "tags": []
   },
   "source": [
    "#### Poutcome Variable"
   ]
  },
  {
   "cell_type": "code",
   "execution_count": 49,
   "id": "350f1f16-1d65-4148-b6e3-092383301425",
   "metadata": {
    "tags": []
   },
   "outputs": [
    {
     "data": {
      "text/html": [
       "<div>\n",
       "<style scoped>\n",
       "    .dataframe tbody tr th:only-of-type {\n",
       "        vertical-align: middle;\n",
       "    }\n",
       "\n",
       "    .dataframe tbody tr th {\n",
       "        vertical-align: top;\n",
       "    }\n",
       "\n",
       "    .dataframe thead th {\n",
       "        text-align: right;\n",
       "    }\n",
       "</style>\n",
       "<table border=\"1\" class=\"dataframe\">\n",
       "  <thead>\n",
       "    <tr style=\"text-align: right;\">\n",
       "      <th>poutcome</th>\n",
       "      <th>unknown</th>\n",
       "      <th>failure</th>\n",
       "      <th>other</th>\n",
       "      <th>success</th>\n",
       "    </tr>\n",
       "  </thead>\n",
       "  <tbody>\n",
       "    <tr>\n",
       "      <th>count</th>\n",
       "      <td>36959</td>\n",
       "      <td>4901</td>\n",
       "      <td>1840</td>\n",
       "      <td>1511</td>\n",
       "    </tr>\n",
       "  </tbody>\n",
       "</table>\n",
       "</div>"
      ],
      "text/plain": [
       "poutcome  unknown  failure  other  success\n",
       "count       36959     4901   1840     1511"
      ]
     },
     "execution_count": 49,
     "metadata": {},
     "output_type": "execute_result"
    }
   ],
   "source": [
    "data.poutcome.value_counts().to_frame().T"
   ]
  },
  {
   "cell_type": "markdown",
   "id": "95adf617-409e-4159-b8f5-f48f5a9c30d3",
   "metadata": {},
   "source": [
    "### Handle Duplicated Data"
   ]
  },
  {
   "cell_type": "code",
   "execution_count": 13,
   "id": "2c421f09-7394-4b70-9b95-29e289fdcce2",
   "metadata": {},
   "outputs": [
    {
     "data": {
      "text/plain": [
       "0"
      ]
     },
     "execution_count": 13,
     "metadata": {},
     "output_type": "execute_result"
    }
   ],
   "source": [
    "data.duplicated().sum()"
   ]
  },
  {
   "cell_type": "markdown",
   "id": "b86c3604-4cc1-465b-91ad-7cbe1e0c02f8",
   "metadata": {},
   "source": [
    "There are no duplication shown from the dataset analyse from all the column"
   ]
  },
  {
   "cell_type": "markdown",
   "id": "e5ba813c-cee4-42e1-aed5-3e9c439e5c1b",
   "metadata": {},
   "source": [
    "### Handle Outliers"
   ]
  },
  {
   "cell_type": "code",
   "execution_count": 15,
   "id": "848a807b-e094-40de-9cfa-661bdddb48a6",
   "metadata": {},
   "outputs": [],
   "source": [
    "numerical = ['age','balance','day','duration','campaign','pdays','previous']"
   ]
  },
  {
   "cell_type": "code",
   "execution_count": 16,
   "id": "4ef8db56-81cf-4ac3-aab3-2085f086aef8",
   "metadata": {
    "tags": []
   },
   "outputs": [
    {
     "data": {
      "image/png": "[encoded data removed]",
      "text/plain": [
       "<Figure size 1000x400 with 7 Axes>"
      ]
     },
     "metadata": {},
     "output_type": "display_data"
    }
   ],
   "source": [
    "feature = numerical\n",
    "\n",
    "plt.figure(figsize=(10,4))\n",
    "for i in range(0, len(feature)):\n",
    "    plt.subplot(2,4, i+1)\n",
    "    sns.kdeplot(x=data[feature[i]], color='skyblue')\n",
    "    plt.xlabel(feature[i])\n",
    "    plt.tight_layout()"
   ]
  },
  {
   "cell_type": "code",
   "execution_count": 22,
   "id": "cf823404-3ec4-4e9f-a766-0246805b22bf",
   "metadata": {
    "tags": []
   },
   "outputs": [],
   "source": [
    "data_used = data"
   ]
  },
  {
   "cell_type": "code",
   "execution_count": 23,
   "id": "42e3c629-3bae-4d6a-97a7-ee39e31b28ed",
   "metadata": {
    "tags": []
   },
   "outputs": [],
   "source": [
    "z_scores = np.abs(st.zscore(data_used['age']))\n",
    "data_used['abs_zscore'] = z_scores\n",
    "\n",
    "filtered_entries = (z_scores < 3)\n",
    "data_used['filtered_entries'] = filtered_entries\n",
    "data_used = data_used.query(\"filtered_entries == True\")"
   ]
  },
  {
   "cell_type": "code",
   "execution_count": 26,
   "id": "f980a52d-7804-4bc4-b3d5-ff786ccf7b6b",
   "metadata": {
    "tags": []
   },
   "outputs": [],
   "source": [
    "z_scores = np.abs(st.zscore(data_used['balance']))\n",
    "data_used.loc[:,['abs_zscore']] = z_scores\n",
    "\n",
    "filtered_entries = (z_scores < 3)\n",
    "data_used.loc[:,['filtered_entries']] = filtered_entries\n",
    "data_used = data_used.query(\"filtered_entries == True\")"
   ]
  },
  {
   "cell_type": "code",
   "execution_count": 27,
   "id": "95bdb3fa-5d01-430d-9a2b-878d30f7f932",
   "metadata": {
    "tags": []
   },
   "outputs": [],
   "source": [
    "z_scores = np.abs(st.zscore(data_used['duration']))\n",
    "data_used.loc[:,['abs_zscore']] = z_scores\n",
    "\n",
    "filtered_entries = (z_scores < 3)\n",
    "data_used.loc[:,['filtered_entries']] = filtered_entries\n",
    "data_used = data_used.query(\"filtered_entries == True\")"
   ]
  },
  {
   "cell_type": "code",
   "execution_count": 28,
   "id": "4f465887-ea26-4dec-af0e-c0d45cd5ef21",
   "metadata": {
    "tags": []
   },
   "outputs": [],
   "source": [
    "z_scores = np.abs(st.zscore(data_used['campaign']))\n",
    "data_used.loc[:,['abs_zscore']] = z_scores\n",
    "\n",
    "filtered_entries = (z_scores < 3)\n",
    "data_used.loc[:,['filtered_entries']] = filtered_entries\n",
    "data_used = data_used.query(\"filtered_entries == True\")"
   ]
  },
  {
   "cell_type": "code",
   "execution_count": 29,
   "id": "7db37962-7ab0-4a0e-b044-908a1ab6d646",
   "metadata": {
    "tags": []
   },
   "outputs": [],
   "source": [
    "z_scores = np.abs(st.zscore(data_used['pdays']))\n",
    "data_used.loc[:,['abs_zscore']] = z_scores\n",
    "\n",
    "filtered_entries = (z_scores < 3)\n",
    "data_used.loc[:,['filtered_entries']] = filtered_entries\n",
    "data_used = data_used.query(\"filtered_entries == True\")"
   ]
  },
  {
   "cell_type": "code",
   "execution_count": 30,
   "id": "49fd8ded-373d-4227-988f-7e97a687c33d",
   "metadata": {
    "tags": []
   },
   "outputs": [],
   "source": [
    "z_scores = np.abs(st.zscore(data_used['previous']))\n",
    "data_used.loc[:,['abs_zscore']] = z_scores\n",
    "\n",
    "filtered_entries = (z_scores < 3)\n",
    "data_used.loc[:,['filtered_entries']] = filtered_entries\n",
    "data_used = data_used.query(\"filtered_entries == True\")"
   ]
  },
  {
   "cell_type": "code",
   "execution_count": 32,
   "id": "9ecadb64-47e9-4f06-8fc6-afd4e9b5b679",
   "metadata": {
    "tags": []
   },
   "outputs": [
    {
     "data": {
      "text/html": [
       "<div>\n",
       "<style scoped>\n",
       "    .dataframe tbody tr th:only-of-type {\n",
       "        vertical-align: middle;\n",
       "    }\n",
       "\n",
       "    .dataframe tbody tr th {\n",
       "        vertical-align: top;\n",
       "    }\n",
       "\n",
       "    .dataframe thead th {\n",
       "        text-align: right;\n",
       "    }\n",
       "</style>\n",
       "<table border=\"1\" class=\"dataframe\">\n",
       "  <thead>\n",
       "    <tr style=\"text-align: right;\">\n",
       "      <th></th>\n",
       "      <th>age</th>\n",
       "      <th>job</th>\n",
       "      <th>marital</th>\n",
       "      <th>education</th>\n",
       "      <th>default</th>\n",
       "      <th>balance</th>\n",
       "      <th>housing</th>\n",
       "      <th>loan</th>\n",
       "      <th>contact</th>\n",
       "      <th>day</th>\n",
       "      <th>month</th>\n",
       "      <th>duration</th>\n",
       "      <th>campaign</th>\n",
       "      <th>pdays</th>\n",
       "      <th>previous</th>\n",
       "      <th>poutcome</th>\n",
       "      <th>y</th>\n",
       "      <th>abs_zscore</th>\n",
       "      <th>filtered_entries</th>\n",
       "    </tr>\n",
       "  </thead>\n",
       "  <tbody>\n",
       "    <tr>\n",
       "      <th>0</th>\n",
       "      <td>58</td>\n",
       "      <td>management</td>\n",
       "      <td>married</td>\n",
       "      <td>tertiary</td>\n",
       "      <td>no</td>\n",
       "      <td>2143</td>\n",
       "      <td>yes</td>\n",
       "      <td>no</td>\n",
       "      <td>cellular</td>\n",
       "      <td>5</td>\n",
       "      <td>may</td>\n",
       "      <td>261</td>\n",
       "      <td>1</td>\n",
       "      <td>-1</td>\n",
       "      <td>0</td>\n",
       "      <td>unknown</td>\n",
       "      <td>no</td>\n",
       "      <td>0.226537</td>\n",
       "      <td>True</td>\n",
       "    </tr>\n",
       "    <tr>\n",
       "      <th>1</th>\n",
       "      <td>44</td>\n",
       "      <td>technician</td>\n",
       "      <td>single</td>\n",
       "      <td>secondary</td>\n",
       "      <td>no</td>\n",
       "      <td>29</td>\n",
       "      <td>yes</td>\n",
       "      <td>no</td>\n",
       "      <td>cellular</td>\n",
       "      <td>5</td>\n",
       "      <td>may</td>\n",
       "      <td>151</td>\n",
       "      <td>1</td>\n",
       "      <td>-1</td>\n",
       "      <td>0</td>\n",
       "      <td>unknown</td>\n",
       "      <td>no</td>\n",
       "      <td>0.226537</td>\n",
       "      <td>True</td>\n",
       "    </tr>\n",
       "    <tr>\n",
       "      <th>2</th>\n",
       "      <td>33</td>\n",
       "      <td>entrepreneur</td>\n",
       "      <td>married</td>\n",
       "      <td>secondary</td>\n",
       "      <td>no</td>\n",
       "      <td>2</td>\n",
       "      <td>yes</td>\n",
       "      <td>yes</td>\n",
       "      <td>cellular</td>\n",
       "      <td>5</td>\n",
       "      <td>may</td>\n",
       "      <td>76</td>\n",
       "      <td>1</td>\n",
       "      <td>-1</td>\n",
       "      <td>0</td>\n",
       "      <td>unknown</td>\n",
       "      <td>no</td>\n",
       "      <td>0.226537</td>\n",
       "      <td>True</td>\n",
       "    </tr>\n",
       "    <tr>\n",
       "      <th>3</th>\n",
       "      <td>47</td>\n",
       "      <td>blue-collar</td>\n",
       "      <td>married</td>\n",
       "      <td>secondary</td>\n",
       "      <td>no</td>\n",
       "      <td>1506</td>\n",
       "      <td>yes</td>\n",
       "      <td>no</td>\n",
       "      <td>cellular</td>\n",
       "      <td>5</td>\n",
       "      <td>may</td>\n",
       "      <td>92</td>\n",
       "      <td>1</td>\n",
       "      <td>-1</td>\n",
       "      <td>0</td>\n",
       "      <td>unknown</td>\n",
       "      <td>no</td>\n",
       "      <td>0.226537</td>\n",
       "      <td>True</td>\n",
       "    </tr>\n",
       "    <tr>\n",
       "      <th>4</th>\n",
       "      <td>33</td>\n",
       "      <td>blue-collar</td>\n",
       "      <td>single</td>\n",
       "      <td>secondary</td>\n",
       "      <td>no</td>\n",
       "      <td>1</td>\n",
       "      <td>no</td>\n",
       "      <td>no</td>\n",
       "      <td>cellular</td>\n",
       "      <td>5</td>\n",
       "      <td>may</td>\n",
       "      <td>198</td>\n",
       "      <td>1</td>\n",
       "      <td>-1</td>\n",
       "      <td>0</td>\n",
       "      <td>unknown</td>\n",
       "      <td>no</td>\n",
       "      <td>0.226537</td>\n",
       "      <td>True</td>\n",
       "    </tr>\n",
       "  </tbody>\n",
       "</table>\n",
       "</div>"
      ],
      "text/plain": [
       "   age           job  marital  education default  balance housing loan  \\\n",
       "0   58    management  married   tertiary      no     2143     yes   no   \n",
       "1   44    technician   single  secondary      no       29     yes   no   \n",
       "2   33  entrepreneur  married  secondary      no        2     yes  yes   \n",
       "3   47   blue-collar  married  secondary      no     1506     yes   no   \n",
       "4   33   blue-collar   single  secondary      no        1      no   no   \n",
       "\n",
       "    contact  day month  duration  campaign  pdays  previous poutcome   y  \\\n",
       "0  cellular    5   may       261         1     -1         0  unknown  no   \n",
       "1  cellular    5   may       151         1     -1         0  unknown  no   \n",
       "2  cellular    5   may        76         1     -1         0  unknown  no   \n",
       "3  cellular    5   may        92         1     -1         0  unknown  no   \n",
       "4  cellular    5   may       198         1     -1         0  unknown  no   \n",
       "\n",
       "   abs_zscore  filtered_entries  \n",
       "0    0.226537              True  \n",
       "1    0.226537              True  \n",
       "2    0.226537              True  \n",
       "3    0.226537              True  \n",
       "4    0.226537              True  "
      ]
     },
     "execution_count": 32,
     "metadata": {},
     "output_type": "execute_result"
    }
   ],
   "source": [
    "data_used.head()"
   ]
  },
  {
   "cell_type": "code",
   "execution_count": 33,
   "id": "f91e16e0-e131-4781-bc2f-2b9dd35d06e2",
   "metadata": {
    "tags": []
   },
   "outputs": [
    {
     "data": {
      "image/png": "[encoded data removed]",
      "text/plain": [
       "<Figure size 1000x400 with 7 Axes>"
      ]
     },
     "metadata": {},
     "output_type": "display_data"
    }
   ],
   "source": [
    "feature = numerical\n",
    "\n",
    "plt.figure(figsize=(10,4))\n",
    "for i in range(0, len(feature)):\n",
    "    plt.subplot(2,4, i+1)\n",
    "    sns.kdeplot(x=data_used[feature[i]], color='skyblue')\n",
    "    plt.xlabel(feature[i])\n",
    "    plt.tight_layout()"
   ]
  },
  {
   "cell_type": "code",
   "execution_count": 34,
   "id": "65256f42-10cd-4798-af11-06b13a70eeec",
   "metadata": {
    "tags": []
   },
   "outputs": [
    {
     "data": {
      "image/png": "[encoded data removed]",
      "text/plain": [
       "<Figure size 1000x300 with 7 Axes>"
      ]
     },
     "metadata": {},
     "output_type": "display_data"
    }
   ],
   "source": [
    "feature = numerical\n",
    "\n",
    "plt.figure(figsize=(10,3))\n",
    "for i in range(0,len(feature)):\n",
    "    plt.subplot(1, len(feature), i+1)\n",
    "    sns.boxplot(y=data_used[feature[i]], color='skyblue', orient='v')\n",
    "    plt.tight_layout()"
   ]
  },
  {
   "cell_type": "markdown",
   "id": "1b0fe079-c4a0-4f7a-9d1b-1114d7018911",
   "metadata": {},
   "source": [
    "## Feature Engineering"
   ]
  },
  {
   "cell_type": "code",
   "execution_count": null,
   "id": "d47c84d1-847b-435a-b770-96884126fd2c",
   "metadata": {},
   "outputs": [],
   "source": []
  }
 ],
 "metadata": {
  "kernelspec": {
   "display_name": "final_project",
   "language": "python",
   "name": "final_project"
  },
  "language_info": {
   "codemirror_mode": {
    "name": "ipython",
    "version": 3
   },
   "file_extension": ".py",
   "mimetype": "text/x-python",
   "name": "python",
   "nbconvert_exporter": "python",
   "pygments_lexer": "ipython3",
   "version": "3.11.4"
  }
 },
 "nbformat": 4,
 "nbformat_minor": 5
}
