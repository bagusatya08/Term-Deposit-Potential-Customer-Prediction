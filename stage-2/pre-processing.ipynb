{
 "cells": [
  {
   "cell_type": "code",
   "execution_count": 1,
   "id": "56d54e8e-57c6-4571-bfe9-b6abedd81644",
   "metadata": {
    "tags": []
   },
   "outputs": [],
   "source": [
    "# math & tables module\n",
    "import numpy as np\n",
    "import pandas as pd\n",
    "\n",
    "# plotting module\n",
    "from matplotlib import pyplot as plt\n",
    "import seaborn as sns\n",
    "\n",
    "# module to show version used in project\n",
    "import session_info\n",
    "\n",
    "# statistics module\n",
    "from scipy import stats as st\n",
    "import statsmodels.stats.proportion as sp\n",
    "\n",
    "# pre-processing\n",
    "from sklearn.preprocessing import RobustScaler, StandardScaler\n",
    "from sklearn.preprocessing import OneHotEncoder"
   ]
  },
  {
   "cell_type": "code",
   "execution_count": 2,
   "id": "e7fe40d5-25b8-4ab3-ac27-083026a73b99",
   "metadata": {
    "tags": []
   },
   "outputs": [
    {
     "data": {
      "text/html": [
       "<details>\n",
       "<summary>Click to view session information</summary>\n",
       "<pre>\n",
       "-----\n",
       "matplotlib          3.8.0\n",
       "numpy               1.26.1\n",
       "pandas              2.1.1\n",
       "scipy               1.11.3\n",
       "seaborn             0.13.0\n",
       "session_info        1.0.0\n",
       "sklearn             1.3.1\n",
       "statsmodels         0.14.0\n",
       "-----\n",
       "</pre>\n",
       "<details>\n",
       "<summary>Click to view modules imported as dependencies</summary>\n",
       "<pre>\n",
       "PIL                 10.1.0\n",
       "appnope             0.1.3\n",
       "asttokens           NA\n",
       "backcall            0.2.0\n",
       "comm                0.1.4\n",
       "cycler              0.12.1\n",
       "cython_runtime      NA\n",
       "dateutil            2.8.2\n",
       "debugpy             1.8.0\n",
       "decorator           5.1.1\n",
       "executing           2.0.0\n",
       "ipykernel           6.25.2\n",
       "jedi                0.19.1\n",
       "joblib              1.3.2\n",
       "kiwisolver          1.4.5\n",
       "mpl_toolkits        NA\n",
       "packaging           23.2\n",
       "parso               0.8.3\n",
       "patsy               0.5.3\n",
       "pexpect             4.8.0\n",
       "pickleshare         0.7.5\n",
       "platformdirs        3.11.0\n",
       "prompt_toolkit      3.0.39\n",
       "psutil              5.9.6\n",
       "ptyprocess          0.7.0\n",
       "pure_eval           0.2.2\n",
       "pydev_ipython       NA\n",
       "pydevconsole        NA\n",
       "pydevd              2.9.5\n",
       "pydevd_file_utils   NA\n",
       "pydevd_plugins      NA\n",
       "pydevd_tracing      NA\n",
       "pygments            2.16.1\n",
       "pyparsing           3.1.1\n",
       "pytz                2023.3.post1\n",
       "six                 1.16.0\n",
       "stack_data          0.6.3\n",
       "threadpoolctl       3.2.0\n",
       "tornado             6.3.3\n",
       "traitlets           5.11.2\n",
       "wcwidth             0.2.8\n",
       "zmq                 25.1.1\n",
       "</pre>\n",
       "</details> <!-- seems like this ends pre, so might as well be explicit -->\n",
       "<pre>\n",
       "-----\n",
       "IPython             8.16.1\n",
       "jupyter_client      8.4.0\n",
       "jupyter_core        5.4.0\n",
       "-----\n",
       "Python 3.11.4 (main, Jul  5 2023, 08:54:11) [Clang 14.0.6 ]\n",
       "macOS-13.5.2-arm64-i386-64bit\n",
       "-----\n",
       "Session information updated at 2023-10-26 20:23\n",
       "</pre>\n",
       "</details>"
      ],
      "text/plain": [
       "<IPython.core.display.HTML object>"
      ]
     },
     "execution_count": 2,
     "metadata": {},
     "output_type": "execute_result"
    }
   ],
   "source": [
    "# session module version\n",
    "session_info.show()"
   ]
  },
  {
   "cell_type": "code",
   "execution_count": 3,
   "id": "55cfae60-3f69-4924-8784-673050d19eda",
   "metadata": {
    "tags": []
   },
   "outputs": [],
   "source": [
    "# reading dataset\n",
    "data = pd.read_csv(\"train.csv\", sep=';')"
   ]
  },
  {
   "cell_type": "code",
   "execution_count": 4,
   "id": "0d2aa526-9d1d-44b2-997b-dad8ccd26487",
   "metadata": {
    "tags": []
   },
   "outputs": [
    {
     "data": {
      "text/html": [
       "<div>\n",
       "<style scoped>\n",
       "    .dataframe tbody tr th:only-of-type {\n",
       "        vertical-align: middle;\n",
       "    }\n",
       "\n",
       "    .dataframe tbody tr th {\n",
       "        vertical-align: top;\n",
       "    }\n",
       "\n",
       "    .dataframe thead th {\n",
       "        text-align: right;\n",
       "    }\n",
       "</style>\n",
       "<table border=\"1\" class=\"dataframe\">\n",
       "  <thead>\n",
       "    <tr style=\"text-align: right;\">\n",
       "      <th></th>\n",
       "      <th>age</th>\n",
       "      <th>job</th>\n",
       "      <th>marital</th>\n",
       "      <th>education</th>\n",
       "      <th>default</th>\n",
       "      <th>balance</th>\n",
       "      <th>housing</th>\n",
       "      <th>loan</th>\n",
       "      <th>contact</th>\n",
       "      <th>day</th>\n",
       "      <th>month</th>\n",
       "      <th>duration</th>\n",
       "      <th>campaign</th>\n",
       "      <th>pdays</th>\n",
       "      <th>previous</th>\n",
       "      <th>poutcome</th>\n",
       "      <th>y</th>\n",
       "    </tr>\n",
       "  </thead>\n",
       "  <tbody>\n",
       "    <tr>\n",
       "      <th>0</th>\n",
       "      <td>58</td>\n",
       "      <td>management</td>\n",
       "      <td>married</td>\n",
       "      <td>tertiary</td>\n",
       "      <td>no</td>\n",
       "      <td>2143</td>\n",
       "      <td>yes</td>\n",
       "      <td>no</td>\n",
       "      <td>unknown</td>\n",
       "      <td>5</td>\n",
       "      <td>may</td>\n",
       "      <td>261</td>\n",
       "      <td>1</td>\n",
       "      <td>-1</td>\n",
       "      <td>0</td>\n",
       "      <td>unknown</td>\n",
       "      <td>no</td>\n",
       "    </tr>\n",
       "    <tr>\n",
       "      <th>1</th>\n",
       "      <td>44</td>\n",
       "      <td>technician</td>\n",
       "      <td>single</td>\n",
       "      <td>secondary</td>\n",
       "      <td>no</td>\n",
       "      <td>29</td>\n",
       "      <td>yes</td>\n",
       "      <td>no</td>\n",
       "      <td>unknown</td>\n",
       "      <td>5</td>\n",
       "      <td>may</td>\n",
       "      <td>151</td>\n",
       "      <td>1</td>\n",
       "      <td>-1</td>\n",
       "      <td>0</td>\n",
       "      <td>unknown</td>\n",
       "      <td>no</td>\n",
       "    </tr>\n",
       "    <tr>\n",
       "      <th>2</th>\n",
       "      <td>33</td>\n",
       "      <td>entrepreneur</td>\n",
       "      <td>married</td>\n",
       "      <td>secondary</td>\n",
       "      <td>no</td>\n",
       "      <td>2</td>\n",
       "      <td>yes</td>\n",
       "      <td>yes</td>\n",
       "      <td>unknown</td>\n",
       "      <td>5</td>\n",
       "      <td>may</td>\n",
       "      <td>76</td>\n",
       "      <td>1</td>\n",
       "      <td>-1</td>\n",
       "      <td>0</td>\n",
       "      <td>unknown</td>\n",
       "      <td>no</td>\n",
       "    </tr>\n",
       "    <tr>\n",
       "      <th>3</th>\n",
       "      <td>47</td>\n",
       "      <td>blue-collar</td>\n",
       "      <td>married</td>\n",
       "      <td>unknown</td>\n",
       "      <td>no</td>\n",
       "      <td>1506</td>\n",
       "      <td>yes</td>\n",
       "      <td>no</td>\n",
       "      <td>unknown</td>\n",
       "      <td>5</td>\n",
       "      <td>may</td>\n",
       "      <td>92</td>\n",
       "      <td>1</td>\n",
       "      <td>-1</td>\n",
       "      <td>0</td>\n",
       "      <td>unknown</td>\n",
       "      <td>no</td>\n",
       "    </tr>\n",
       "    <tr>\n",
       "      <th>4</th>\n",
       "      <td>33</td>\n",
       "      <td>unknown</td>\n",
       "      <td>single</td>\n",
       "      <td>unknown</td>\n",
       "      <td>no</td>\n",
       "      <td>1</td>\n",
       "      <td>no</td>\n",
       "      <td>no</td>\n",
       "      <td>unknown</td>\n",
       "      <td>5</td>\n",
       "      <td>may</td>\n",
       "      <td>198</td>\n",
       "      <td>1</td>\n",
       "      <td>-1</td>\n",
       "      <td>0</td>\n",
       "      <td>unknown</td>\n",
       "      <td>no</td>\n",
       "    </tr>\n",
       "  </tbody>\n",
       "</table>\n",
       "</div>"
      ],
      "text/plain": [
       "   age           job  marital  education default  balance housing loan  \\\n",
       "0   58    management  married   tertiary      no     2143     yes   no   \n",
       "1   44    technician   single  secondary      no       29     yes   no   \n",
       "2   33  entrepreneur  married  secondary      no        2     yes  yes   \n",
       "3   47   blue-collar  married    unknown      no     1506     yes   no   \n",
       "4   33       unknown   single    unknown      no        1      no   no   \n",
       "\n",
       "   contact  day month  duration  campaign  pdays  previous poutcome   y  \n",
       "0  unknown    5   may       261         1     -1         0  unknown  no  \n",
       "1  unknown    5   may       151         1     -1         0  unknown  no  \n",
       "2  unknown    5   may        76         1     -1         0  unknown  no  \n",
       "3  unknown    5   may        92         1     -1         0  unknown  no  \n",
       "4  unknown    5   may       198         1     -1         0  unknown  no  "
      ]
     },
     "execution_count": 4,
     "metadata": {},
     "output_type": "execute_result"
    }
   ],
   "source": [
    "data.head()"
   ]
  },
  {
   "cell_type": "markdown",
   "id": "2bb0d1e0-5984-45bf-a4f9-25fa0d7f7263",
   "metadata": {
    "tags": []
   },
   "source": [
    "## Data Cleaning"
   ]
  },
  {
   "cell_type": "markdown",
   "id": "88b7b6c7-24dc-42e8-80e3-59c2111675ff",
   "metadata": {
    "jp-MarkdownHeadingCollapsed": true,
    "tags": []
   },
   "source": [
    "### Handle Missing Values\n",
    "from descriptive statistics shown that there are 4 column contain missing-values but not in form of null-values, however in form of value of 'unknown' & 'other' in 4 column named: *job, education, contact, poutcome*. ```poutcome``` are variable that having the most unknown value which consist of more than its 50% data, the best decision taken is to just take out and not use the variables.."
   ]
  },
  {
   "cell_type": "markdown",
   "id": "d508334c-6266-4a05-b8b8-9fa9ac5cf90e",
   "metadata": {
    "jp-MarkdownHeadingCollapsed": true,
    "tags": []
   },
   "source": [
    "#### Job Variable"
   ]
  },
  {
   "cell_type": "code",
   "execution_count": 5,
   "id": "51f91a86-879c-4497-867b-5ac10f4e4f5c",
   "metadata": {
    "tags": []
   },
   "outputs": [
    {
     "data": {
      "text/html": [
       "<div>\n",
       "<style scoped>\n",
       "    .dataframe tbody tr th:only-of-type {\n",
       "        vertical-align: middle;\n",
       "    }\n",
       "\n",
       "    .dataframe tbody tr th {\n",
       "        vertical-align: top;\n",
       "    }\n",
       "\n",
       "    .dataframe thead th {\n",
       "        text-align: right;\n",
       "    }\n",
       "</style>\n",
       "<table border=\"1\" class=\"dataframe\">\n",
       "  <thead>\n",
       "    <tr style=\"text-align: right;\">\n",
       "      <th>job</th>\n",
       "      <th>blue-collar</th>\n",
       "      <th>management</th>\n",
       "      <th>technician</th>\n",
       "      <th>admin.</th>\n",
       "      <th>services</th>\n",
       "      <th>retired</th>\n",
       "      <th>self-employed</th>\n",
       "      <th>entrepreneur</th>\n",
       "      <th>unemployed</th>\n",
       "      <th>housemaid</th>\n",
       "      <th>student</th>\n",
       "      <th>unknown</th>\n",
       "    </tr>\n",
       "  </thead>\n",
       "  <tbody>\n",
       "    <tr>\n",
       "      <th>count</th>\n",
       "      <td>9732</td>\n",
       "      <td>9458</td>\n",
       "      <td>7597</td>\n",
       "      <td>5171</td>\n",
       "      <td>4154</td>\n",
       "      <td>2264</td>\n",
       "      <td>1579</td>\n",
       "      <td>1487</td>\n",
       "      <td>1303</td>\n",
       "      <td>1240</td>\n",
       "      <td>938</td>\n",
       "      <td>288</td>\n",
       "    </tr>\n",
       "  </tbody>\n",
       "</table>\n",
       "</div>"
      ],
      "text/plain": [
       "job    blue-collar  management  technician  admin.  services  retired  \\\n",
       "count         9732        9458        7597    5171      4154     2264   \n",
       "\n",
       "job    self-employed  entrepreneur  unemployed  housemaid  student  unknown  \n",
       "count           1579          1487        1303       1240      938      288  "
      ]
     },
     "execution_count": 5,
     "metadata": {},
     "output_type": "execute_result"
    }
   ],
   "source": [
    "# Handling missing values in job column using frequent values replacing method\n",
    "\n",
    "data.job.value_counts().to_frame().T"
   ]
  },
  {
   "cell_type": "code",
   "execution_count": 6,
   "id": "6ce9f64b-389b-4ce9-861d-3727b5e46299",
   "metadata": {
    "tags": []
   },
   "outputs": [
    {
     "data": {
      "text/html": [
       "<div>\n",
       "<style scoped>\n",
       "    .dataframe tbody tr th:only-of-type {\n",
       "        vertical-align: middle;\n",
       "    }\n",
       "\n",
       "    .dataframe tbody tr th {\n",
       "        vertical-align: top;\n",
       "    }\n",
       "\n",
       "    .dataframe thead th {\n",
       "        text-align: right;\n",
       "    }\n",
       "</style>\n",
       "<table border=\"1\" class=\"dataframe\">\n",
       "  <thead>\n",
       "    <tr style=\"text-align: right;\">\n",
       "      <th>job</th>\n",
       "      <th>blue-collar</th>\n",
       "      <th>management</th>\n",
       "      <th>technician</th>\n",
       "      <th>admin.</th>\n",
       "      <th>services</th>\n",
       "      <th>retired</th>\n",
       "      <th>self-employed</th>\n",
       "      <th>entrepreneur</th>\n",
       "      <th>unemployed</th>\n",
       "      <th>housemaid</th>\n",
       "      <th>student</th>\n",
       "    </tr>\n",
       "  </thead>\n",
       "  <tbody>\n",
       "    <tr>\n",
       "      <th>count</th>\n",
       "      <td>10020</td>\n",
       "      <td>9458</td>\n",
       "      <td>7597</td>\n",
       "      <td>5171</td>\n",
       "      <td>4154</td>\n",
       "      <td>2264</td>\n",
       "      <td>1579</td>\n",
       "      <td>1487</td>\n",
       "      <td>1303</td>\n",
       "      <td>1240</td>\n",
       "      <td>938</td>\n",
       "    </tr>\n",
       "  </tbody>\n",
       "</table>\n",
       "</div>"
      ],
      "text/plain": [
       "job    blue-collar  management  technician  admin.  services  retired  \\\n",
       "count        10020        9458        7597    5171      4154     2264   \n",
       "\n",
       "job    self-employed  entrepreneur  unemployed  housemaid  student  \n",
       "count           1579          1487        1303       1240      938  "
      ]
     },
     "execution_count": 6,
     "metadata": {},
     "output_type": "execute_result"
    }
   ],
   "source": [
    "# replacing the unknown values using the most values containing column (mode) which 'blue-collar'\n",
    "\n",
    "data.job.replace(to_replace='unknown', value=data.job.mode()[0], inplace=True)\n",
    "data.job.value_counts().to_frame().T"
   ]
  },
  {
   "cell_type": "markdown",
   "id": "9bd2ebb3-9de5-4de6-901e-01e57532b28e",
   "metadata": {},
   "source": [
    "After replacing with the mode value, the unknown which is the missing value have gone from the column"
   ]
  },
  {
   "cell_type": "markdown",
   "id": "7c699c42-81c0-4c01-aba5-b0aa16623388",
   "metadata": {
    "jp-MarkdownHeadingCollapsed": true,
    "tags": []
   },
   "source": [
    "#### Education Variable"
   ]
  },
  {
   "cell_type": "code",
   "execution_count": 7,
   "id": "f81c5948-213f-40b4-8f2e-de7142b7d589",
   "metadata": {
    "tags": []
   },
   "outputs": [
    {
     "data": {
      "text/html": [
       "<div>\n",
       "<style scoped>\n",
       "    .dataframe tbody tr th:only-of-type {\n",
       "        vertical-align: middle;\n",
       "    }\n",
       "\n",
       "    .dataframe tbody tr th {\n",
       "        vertical-align: top;\n",
       "    }\n",
       "\n",
       "    .dataframe thead th {\n",
       "        text-align: right;\n",
       "    }\n",
       "</style>\n",
       "<table border=\"1\" class=\"dataframe\">\n",
       "  <thead>\n",
       "    <tr style=\"text-align: right;\">\n",
       "      <th>education</th>\n",
       "      <th>secondary</th>\n",
       "      <th>tertiary</th>\n",
       "      <th>primary</th>\n",
       "      <th>unknown</th>\n",
       "    </tr>\n",
       "  </thead>\n",
       "  <tbody>\n",
       "    <tr>\n",
       "      <th>count</th>\n",
       "      <td>23202</td>\n",
       "      <td>13301</td>\n",
       "      <td>6851</td>\n",
       "      <td>1857</td>\n",
       "    </tr>\n",
       "  </tbody>\n",
       "</table>\n",
       "</div>"
      ],
      "text/plain": [
       "education  secondary  tertiary  primary  unknown\n",
       "count          23202     13301     6851     1857"
      ]
     },
     "execution_count": 7,
     "metadata": {},
     "output_type": "execute_result"
    }
   ],
   "source": [
    "# Handling missing values in education column using frequent values replacing method\n",
    "\n",
    "data.education.value_counts().to_frame().T"
   ]
  },
  {
   "cell_type": "code",
   "execution_count": 8,
   "id": "46cb9537-a473-41fe-96d9-5521a7cfeca0",
   "metadata": {
    "tags": []
   },
   "outputs": [
    {
     "data": {
      "text/html": [
       "<div>\n",
       "<style scoped>\n",
       "    .dataframe tbody tr th:only-of-type {\n",
       "        vertical-align: middle;\n",
       "    }\n",
       "\n",
       "    .dataframe tbody tr th {\n",
       "        vertical-align: top;\n",
       "    }\n",
       "\n",
       "    .dataframe thead th {\n",
       "        text-align: right;\n",
       "    }\n",
       "</style>\n",
       "<table border=\"1\" class=\"dataframe\">\n",
       "  <thead>\n",
       "    <tr style=\"text-align: right;\">\n",
       "      <th>education</th>\n",
       "      <th>secondary</th>\n",
       "      <th>tertiary</th>\n",
       "      <th>primary</th>\n",
       "    </tr>\n",
       "  </thead>\n",
       "  <tbody>\n",
       "    <tr>\n",
       "      <th>count</th>\n",
       "      <td>25059</td>\n",
       "      <td>13301</td>\n",
       "      <td>6851</td>\n",
       "    </tr>\n",
       "  </tbody>\n",
       "</table>\n",
       "</div>"
      ],
      "text/plain": [
       "education  secondary  tertiary  primary\n",
       "count          25059     13301     6851"
      ]
     },
     "execution_count": 8,
     "metadata": {},
     "output_type": "execute_result"
    }
   ],
   "source": [
    "data.education.replace(to_replace='unknown', value=data.education.mode()[0], inplace=True)\n",
    "data.education.value_counts().to_frame().T"
   ]
  },
  {
   "cell_type": "markdown",
   "id": "f0244a7e-3636-41df-a64f-b2df51c5b4b7",
   "metadata": {},
   "source": [
    "After replacing with the mode value, the unknown which is the missing value have gone from the column"
   ]
  },
  {
   "cell_type": "markdown",
   "id": "698809b1-0456-4637-857e-5399ae25e89c",
   "metadata": {
    "jp-MarkdownHeadingCollapsed": true,
    "tags": []
   },
   "source": [
    "#### Contact Variable"
   ]
  },
  {
   "cell_type": "code",
   "execution_count": 9,
   "id": "b2ffb7c0-43ed-461d-a8e1-69c9ebaaec89",
   "metadata": {
    "tags": []
   },
   "outputs": [
    {
     "data": {
      "text/html": [
       "<div>\n",
       "<style scoped>\n",
       "    .dataframe tbody tr th:only-of-type {\n",
       "        vertical-align: middle;\n",
       "    }\n",
       "\n",
       "    .dataframe tbody tr th {\n",
       "        vertical-align: top;\n",
       "    }\n",
       "\n",
       "    .dataframe thead th {\n",
       "        text-align: right;\n",
       "    }\n",
       "</style>\n",
       "<table border=\"1\" class=\"dataframe\">\n",
       "  <thead>\n",
       "    <tr style=\"text-align: right;\">\n",
       "      <th>contact</th>\n",
       "      <th>cellular</th>\n",
       "      <th>unknown</th>\n",
       "      <th>telephone</th>\n",
       "    </tr>\n",
       "  </thead>\n",
       "  <tbody>\n",
       "    <tr>\n",
       "      <th>count</th>\n",
       "      <td>29285</td>\n",
       "      <td>13020</td>\n",
       "      <td>2906</td>\n",
       "    </tr>\n",
       "  </tbody>\n",
       "</table>\n",
       "</div>"
      ],
      "text/plain": [
       "contact  cellular  unknown  telephone\n",
       "count       29285    13020       2906"
      ]
     },
     "execution_count": 9,
     "metadata": {},
     "output_type": "execute_result"
    }
   ],
   "source": [
    "# Handling missing values in contact column using frequent values replacing method\n",
    "\n",
    "data.contact.value_counts().to_frame().T"
   ]
  },
  {
   "cell_type": "code",
   "execution_count": 10,
   "id": "9655385a-1e47-46c6-912a-6982c88b43a3",
   "metadata": {
    "tags": []
   },
   "outputs": [
    {
     "data": {
      "text/html": [
       "<div>\n",
       "<style scoped>\n",
       "    .dataframe tbody tr th:only-of-type {\n",
       "        vertical-align: middle;\n",
       "    }\n",
       "\n",
       "    .dataframe tbody tr th {\n",
       "        vertical-align: top;\n",
       "    }\n",
       "\n",
       "    .dataframe thead th {\n",
       "        text-align: right;\n",
       "    }\n",
       "</style>\n",
       "<table border=\"1\" class=\"dataframe\">\n",
       "  <thead>\n",
       "    <tr style=\"text-align: right;\">\n",
       "      <th>contact</th>\n",
       "      <th>cellular</th>\n",
       "      <th>telephone</th>\n",
       "    </tr>\n",
       "  </thead>\n",
       "  <tbody>\n",
       "    <tr>\n",
       "      <th>count</th>\n",
       "      <td>42305</td>\n",
       "      <td>2906</td>\n",
       "    </tr>\n",
       "  </tbody>\n",
       "</table>\n",
       "</div>"
      ],
      "text/plain": [
       "contact  cellular  telephone\n",
       "count       42305       2906"
      ]
     },
     "execution_count": 10,
     "metadata": {},
     "output_type": "execute_result"
    }
   ],
   "source": [
    "data.contact.replace(to_replace='unknown', value=data.contact.mode()[0], inplace=True)\n",
    "data.contact.value_counts().to_frame().T"
   ]
  },
  {
   "cell_type": "markdown",
   "id": "9e6eec4d-8e11-4853-bb35-708208a32f8d",
   "metadata": {},
   "source": [
    "After replacing with the mode value, the unknown which is the missing value have gone from the column"
   ]
  },
  {
   "cell_type": "markdown",
   "id": "aa834bc6-179e-46a5-80b2-a721fc9b0738",
   "metadata": {
    "jp-MarkdownHeadingCollapsed": true,
    "tags": []
   },
   "source": [
    "#### Poutcome Variable"
   ]
  },
  {
   "cell_type": "code",
   "execution_count": 11,
   "id": "350f1f16-1d65-4148-b6e3-092383301425",
   "metadata": {
    "tags": []
   },
   "outputs": [
    {
     "data": {
      "text/html": [
       "<div>\n",
       "<style scoped>\n",
       "    .dataframe tbody tr th:only-of-type {\n",
       "        vertical-align: middle;\n",
       "    }\n",
       "\n",
       "    .dataframe tbody tr th {\n",
       "        vertical-align: top;\n",
       "    }\n",
       "\n",
       "    .dataframe thead th {\n",
       "        text-align: right;\n",
       "    }\n",
       "</style>\n",
       "<table border=\"1\" class=\"dataframe\">\n",
       "  <thead>\n",
       "    <tr style=\"text-align: right;\">\n",
       "      <th>poutcome</th>\n",
       "      <th>unknown</th>\n",
       "      <th>failure</th>\n",
       "      <th>other</th>\n",
       "      <th>success</th>\n",
       "    </tr>\n",
       "  </thead>\n",
       "  <tbody>\n",
       "    <tr>\n",
       "      <th>count</th>\n",
       "      <td>36959</td>\n",
       "      <td>4901</td>\n",
       "      <td>1840</td>\n",
       "      <td>1511</td>\n",
       "    </tr>\n",
       "  </tbody>\n",
       "</table>\n",
       "</div>"
      ],
      "text/plain": [
       "poutcome  unknown  failure  other  success\n",
       "count       36959     4901   1840     1511"
      ]
     },
     "execution_count": 11,
     "metadata": {},
     "output_type": "execute_result"
    }
   ],
   "source": [
    "# handling the coloumn value named 'other' and change it to its mode value\n",
    "\n",
    "data.poutcome.value_counts().to_frame().T"
   ]
  },
  {
   "cell_type": "code",
   "execution_count": 12,
   "id": "1a3b61d1-d512-46ec-8e2b-85b620854c62",
   "metadata": {
    "tags": []
   },
   "outputs": [
    {
     "data": {
      "text/plain": [
       "Index(['age', 'job', 'marital', 'education', 'default', 'balance', 'housing',\n",
       "       'loan', 'contact', 'day', 'month', 'duration', 'campaign', 'pdays',\n",
       "       'previous', 'y'],\n",
       "      dtype='object')"
      ]
     },
     "execution_count": 12,
     "metadata": {},
     "output_type": "execute_result"
    }
   ],
   "source": [
    "# droping the column\n",
    "\n",
    "data.drop(['poutcome'], axis=1, inplace=True)\n",
    "\n",
    "# checking the column available after dropping for confirmation\n",
    "data.columns"
   ]
  },
  {
   "cell_type": "markdown",
   "id": "511d40f3-3ca8-431a-bf64-ba300a4afb3d",
   "metadata": {},
   "source": [
    "Dengan pengecekan diatas didapatkan bahwa variabel ```poutcome``` telah dihapus"
   ]
  },
  {
   "cell_type": "markdown",
   "id": "95adf617-409e-4159-b8f5-f48f5a9c30d3",
   "metadata": {
    "jp-MarkdownHeadingCollapsed": true,
    "tags": []
   },
   "source": [
    "### Handle Duplicated Data\n",
    "from the previous stage, shown that there are no duplication in dataset analyse from all column, so in this section there are no treatment needed to be done"
   ]
  },
  {
   "cell_type": "code",
   "execution_count": 13,
   "id": "2c421f09-7394-4b70-9b95-29e289fdcce2",
   "metadata": {},
   "outputs": [
    {
     "data": {
      "text/plain": [
       "0"
      ]
     },
     "execution_count": 13,
     "metadata": {},
     "output_type": "execute_result"
    }
   ],
   "source": [
    "# checking overall\n",
    "\n",
    "data.duplicated().sum()"
   ]
  },
  {
   "cell_type": "code",
   "execution_count": 14,
   "id": "79272b08-8c1e-4c90-93f7-aa18eb3a4a93",
   "metadata": {
    "tags": []
   },
   "outputs": [
    {
     "data": {
      "text/plain": [
       "1332"
      ]
     },
     "execution_count": 14,
     "metadata": {},
     "output_type": "execute_result"
    }
   ],
   "source": [
    "# checking for subset\n",
    "\n",
    "data.duplicated(subset=['age','balance','day','campaign']).sum()"
   ]
  },
  {
   "cell_type": "markdown",
   "id": "b86c3604-4cc1-465b-91ad-7cbe1e0c02f8",
   "metadata": {},
   "source": [
    "There are no duplication shown from the dataset analyse from all the column which shown there are no redundant data record in dataset"
   ]
  },
  {
   "cell_type": "markdown",
   "id": "e5ba813c-cee4-42e1-aed5-3e9c439e5c1b",
   "metadata": {
    "jp-MarkdownHeadingCollapsed": true,
    "tags": []
   },
   "source": [
    "### Handle Outliers\n",
    "from previous stage, known there are 6 numerical variables having outliers named.\n",
    "> age, balance, duration, campaign, pdays, previous\n",
    "\n",
    "from the 6 numerical variables decided for ```pdays & previous``` to be turned into categorical variables since its more fitting for its characteristic more than its own nature as numerical. The two having 0.99 correlation also making it redundant and will just picked one out of the two.\n",
    "\n",
    "From its description 4 of variables that need outlier handling in this section are.\n",
    "> **age, balance, duration, campaign**"
   ]
  },
  {
   "cell_type": "code",
   "execution_count": 15,
   "id": "2f890171-1a10-43b8-9451-343bb5fb3e9f",
   "metadata": {
    "tags": []
   },
   "outputs": [
    {
     "data": {
      "text/html": [
       "<div>\n",
       "<style scoped>\n",
       "    .dataframe tbody tr th:only-of-type {\n",
       "        vertical-align: middle;\n",
       "    }\n",
       "\n",
       "    .dataframe tbody tr th {\n",
       "        vertical-align: top;\n",
       "    }\n",
       "\n",
       "    .dataframe thead th {\n",
       "        text-align: right;\n",
       "    }\n",
       "</style>\n",
       "<table border=\"1\" class=\"dataframe\">\n",
       "  <thead>\n",
       "    <tr style=\"text-align: right;\">\n",
       "      <th></th>\n",
       "      <th>age</th>\n",
       "      <th>job</th>\n",
       "      <th>marital</th>\n",
       "      <th>education</th>\n",
       "      <th>default</th>\n",
       "      <th>balance</th>\n",
       "      <th>housing</th>\n",
       "      <th>loan</th>\n",
       "      <th>contact</th>\n",
       "      <th>day</th>\n",
       "      <th>month</th>\n",
       "      <th>duration</th>\n",
       "      <th>campaign</th>\n",
       "      <th>pdays</th>\n",
       "      <th>previous</th>\n",
       "      <th>y</th>\n",
       "    </tr>\n",
       "  </thead>\n",
       "  <tbody>\n",
       "    <tr>\n",
       "      <th>0</th>\n",
       "      <td>58</td>\n",
       "      <td>management</td>\n",
       "      <td>married</td>\n",
       "      <td>tertiary</td>\n",
       "      <td>no</td>\n",
       "      <td>2143</td>\n",
       "      <td>yes</td>\n",
       "      <td>no</td>\n",
       "      <td>cellular</td>\n",
       "      <td>5</td>\n",
       "      <td>may</td>\n",
       "      <td>261</td>\n",
       "      <td>1</td>\n",
       "      <td>-1</td>\n",
       "      <td>0</td>\n",
       "      <td>no</td>\n",
       "    </tr>\n",
       "    <tr>\n",
       "      <th>1</th>\n",
       "      <td>44</td>\n",
       "      <td>technician</td>\n",
       "      <td>single</td>\n",
       "      <td>secondary</td>\n",
       "      <td>no</td>\n",
       "      <td>29</td>\n",
       "      <td>yes</td>\n",
       "      <td>no</td>\n",
       "      <td>cellular</td>\n",
       "      <td>5</td>\n",
       "      <td>may</td>\n",
       "      <td>151</td>\n",
       "      <td>1</td>\n",
       "      <td>-1</td>\n",
       "      <td>0</td>\n",
       "      <td>no</td>\n",
       "    </tr>\n",
       "    <tr>\n",
       "      <th>2</th>\n",
       "      <td>33</td>\n",
       "      <td>entrepreneur</td>\n",
       "      <td>married</td>\n",
       "      <td>secondary</td>\n",
       "      <td>no</td>\n",
       "      <td>2</td>\n",
       "      <td>yes</td>\n",
       "      <td>yes</td>\n",
       "      <td>cellular</td>\n",
       "      <td>5</td>\n",
       "      <td>may</td>\n",
       "      <td>76</td>\n",
       "      <td>1</td>\n",
       "      <td>-1</td>\n",
       "      <td>0</td>\n",
       "      <td>no</td>\n",
       "    </tr>\n",
       "    <tr>\n",
       "      <th>3</th>\n",
       "      <td>47</td>\n",
       "      <td>blue-collar</td>\n",
       "      <td>married</td>\n",
       "      <td>secondary</td>\n",
       "      <td>no</td>\n",
       "      <td>1506</td>\n",
       "      <td>yes</td>\n",
       "      <td>no</td>\n",
       "      <td>cellular</td>\n",
       "      <td>5</td>\n",
       "      <td>may</td>\n",
       "      <td>92</td>\n",
       "      <td>1</td>\n",
       "      <td>-1</td>\n",
       "      <td>0</td>\n",
       "      <td>no</td>\n",
       "    </tr>\n",
       "    <tr>\n",
       "      <th>4</th>\n",
       "      <td>33</td>\n",
       "      <td>blue-collar</td>\n",
       "      <td>single</td>\n",
       "      <td>secondary</td>\n",
       "      <td>no</td>\n",
       "      <td>1</td>\n",
       "      <td>no</td>\n",
       "      <td>no</td>\n",
       "      <td>cellular</td>\n",
       "      <td>5</td>\n",
       "      <td>may</td>\n",
       "      <td>198</td>\n",
       "      <td>1</td>\n",
       "      <td>-1</td>\n",
       "      <td>0</td>\n",
       "      <td>no</td>\n",
       "    </tr>\n",
       "  </tbody>\n",
       "</table>\n",
       "</div>"
      ],
      "text/plain": [
       "   age           job  marital  education default  balance housing loan  \\\n",
       "0   58    management  married   tertiary      no     2143     yes   no   \n",
       "1   44    technician   single  secondary      no       29     yes   no   \n",
       "2   33  entrepreneur  married  secondary      no        2     yes  yes   \n",
       "3   47   blue-collar  married  secondary      no     1506     yes   no   \n",
       "4   33   blue-collar   single  secondary      no        1      no   no   \n",
       "\n",
       "    contact  day month  duration  campaign  pdays  previous   y  \n",
       "0  cellular    5   may       261         1     -1         0  no  \n",
       "1  cellular    5   may       151         1     -1         0  no  \n",
       "2  cellular    5   may        76         1     -1         0  no  \n",
       "3  cellular    5   may        92         1     -1         0  no  \n",
       "4  cellular    5   may       198         1     -1         0  no  "
      ]
     },
     "execution_count": 15,
     "metadata": {},
     "output_type": "execute_result"
    }
   ],
   "source": [
    "data.head()"
   ]
  },
  {
   "cell_type": "code",
   "execution_count": 16,
   "id": "848a807b-e094-40de-9cfa-661bdddb48a6",
   "metadata": {},
   "outputs": [],
   "source": [
    "# numerical setelah feature selection\n",
    "numerical = ['age','balance','duration','campaign']"
   ]
  },
  {
   "cell_type": "markdown",
   "id": "938dcc3c-7366-4ff1-9b87-364363c6b30e",
   "metadata": {
    "tags": []
   },
   "source": [
    "#### Handling Balance False Outlier 1st steps"
   ]
  },
  {
   "cell_type": "code",
   "execution_count": 17,
   "id": "7afabad4-4330-4a09-b889-6a0aaeb4ebed",
   "metadata": {
    "tags": []
   },
   "outputs": [
    {
     "data": {
      "text/plain": [
       "210"
      ]
     },
     "execution_count": 17,
     "metadata": {},
     "output_type": "execute_result"
    }
   ],
   "source": [
    "# customer with negative balance but saying yes to promotion,\n",
    "# we want to build system discriminative to negative balance customer so its categorize as false outlier and dropped\n",
    "\n",
    "data.query(\"balance < 0 & y=='yes'\").y.count()"
   ]
  },
  {
   "cell_type": "code",
   "execution_count": 18,
   "id": "92acf3f6-81f9-485c-b98c-587350b2c143",
   "metadata": {
    "tags": []
   },
   "outputs": [],
   "source": [
    "data = data.drop(data.query(\"balance < 0 & y=='yes'\").index)"
   ]
  },
  {
   "cell_type": "code",
   "execution_count": 19,
   "id": "951b1766-cbe1-49f6-9349-489fc9f53cee",
   "metadata": {
    "tags": []
   },
   "outputs": [
    {
     "data": {
      "text/plain": [
       "0"
      ]
     },
     "execution_count": 19,
     "metadata": {},
     "output_type": "execute_result"
    }
   ],
   "source": [
    "# checking when its dropped already or not\n",
    "\n",
    "data.query(\"balance < 0 & y=='yes'\").y.count()"
   ]
  },
  {
   "cell_type": "markdown",
   "id": "ddf4caf4-1dc6-4574-b8b0-a08bfe64629b",
   "metadata": {},
   "source": [
    "From the process below shown the false outlier from the definition has already dropped"
   ]
  },
  {
   "cell_type": "code",
   "execution_count": 20,
   "id": "cf823404-3ec4-4e9f-a766-0246805b22bf",
   "metadata": {
    "tags": []
   },
   "outputs": [
    {
     "data": {
      "text/html": [
       "<div>\n",
       "<style scoped>\n",
       "    .dataframe tbody tr th:only-of-type {\n",
       "        vertical-align: middle;\n",
       "    }\n",
       "\n",
       "    .dataframe tbody tr th {\n",
       "        vertical-align: top;\n",
       "    }\n",
       "\n",
       "    .dataframe thead th {\n",
       "        text-align: right;\n",
       "    }\n",
       "</style>\n",
       "<table border=\"1\" class=\"dataframe\">\n",
       "  <thead>\n",
       "    <tr style=\"text-align: right;\">\n",
       "      <th></th>\n",
       "      <th>age</th>\n",
       "      <th>balance</th>\n",
       "      <th>duration</th>\n",
       "      <th>campaign</th>\n",
       "    </tr>\n",
       "  </thead>\n",
       "  <tbody>\n",
       "    <tr>\n",
       "      <th>0</th>\n",
       "      <td>58</td>\n",
       "      <td>2143</td>\n",
       "      <td>261</td>\n",
       "      <td>1</td>\n",
       "    </tr>\n",
       "    <tr>\n",
       "      <th>1</th>\n",
       "      <td>44</td>\n",
       "      <td>29</td>\n",
       "      <td>151</td>\n",
       "      <td>1</td>\n",
       "    </tr>\n",
       "    <tr>\n",
       "      <th>2</th>\n",
       "      <td>33</td>\n",
       "      <td>2</td>\n",
       "      <td>76</td>\n",
       "      <td>1</td>\n",
       "    </tr>\n",
       "    <tr>\n",
       "      <th>3</th>\n",
       "      <td>47</td>\n",
       "      <td>1506</td>\n",
       "      <td>92</td>\n",
       "      <td>1</td>\n",
       "    </tr>\n",
       "    <tr>\n",
       "      <th>4</th>\n",
       "      <td>33</td>\n",
       "      <td>1</td>\n",
       "      <td>198</td>\n",
       "      <td>1</td>\n",
       "    </tr>\n",
       "  </tbody>\n",
       "</table>\n",
       "</div>"
      ],
      "text/plain": [
       "   age  balance  duration  campaign\n",
       "0   58     2143       261         1\n",
       "1   44       29       151         1\n",
       "2   33        2        76         1\n",
       "3   47     1506        92         1\n",
       "4   33        1       198         1"
      ]
     },
     "execution_count": 20,
     "metadata": {},
     "output_type": "execute_result"
    }
   ],
   "source": [
    "data_num = data[numerical]\n",
    "data_num.head()"
   ]
  },
  {
   "cell_type": "code",
   "execution_count": 21,
   "id": "4ef8db56-81cf-4ac3-aab3-2085f086aef8",
   "metadata": {
    "tags": []
   },
   "outputs": [
    {
     "data": {
      "image/png": "[encoded data removed]",
      "text/plain": [
       "<Figure size 1000x400 with 4 Axes>"
      ]
     },
     "metadata": {},
     "output_type": "display_data"
    }
   ],
   "source": [
    "feature = numerical\n",
    "\n",
    "plt.figure(figsize=(10,4))\n",
    "for i in range(0, len(feature)):\n",
    "    plt.subplot(2,4, i+1)\n",
    "    sns.boxplot(x=data[feature[i]], color='skyblue')\n",
    "    plt.xlabel(feature[i])\n",
    "    plt.tight_layout()"
   ]
  },
  {
   "cell_type": "markdown",
   "id": "2c066c47-53af-46e2-9fbd-fb20029311c6",
   "metadata": {
    "tags": []
   },
   "source": [
    "#### Defining function to handle the outlier"
   ]
  },
  {
   "cell_type": "code",
   "execution_count": 22,
   "id": "a76239a7-68f9-40d7-92ea-b5a218a1f13f",
   "metadata": {
    "tags": []
   },
   "outputs": [],
   "source": [
    "def iqr_treshold(variable):\n",
    "    Q1 = data[variable].quantile(.25)\n",
    "    Q3 = data[variable].quantile(.75)\n",
    "\n",
    "    IQR = Q3-Q1\n",
    "\n",
    "    min_tresh = Q1 - (1.5*IQR)\n",
    "    max_tresh = Q1 + (1.5*IQR)\n",
    "    \n",
    "    return min_tresh, max_tresh"
   ]
  },
  {
   "cell_type": "code",
   "execution_count": 23,
   "id": "333e78b2-0043-4819-ab1b-0d632bc3841d",
   "metadata": {
    "tags": []
   },
   "outputs": [],
   "source": [
    "def iqr_normalize(variable):\n",
    "    normal = ((data[variable] >= iqr_treshold(variable)[0]) & \n",
    "                (data[variable] <= iqr_treshold(variable)[1]))\n",
    "    data['outlier_label'] = normal"
   ]
  },
  {
   "cell_type": "markdown",
   "id": "4a8857df-ccd3-441a-9845-e5660ccf15f6",
   "metadata": {
    "tags": []
   },
   "source": [
    "#### Normalizing outlier in age variable"
   ]
  },
  {
   "cell_type": "code",
   "execution_count": 24,
   "id": "af12aad6-0916-416d-99d3-6821b5072948",
   "metadata": {
    "tags": []
   },
   "outputs": [
    {
     "name": "stdout",
     "output_type": "stream",
     "text": [
      "Umur yang dianggap outlier berdasarkan IQR adalah yang memiliki\n",
      "         Nilai yang kurang dari 10.5\n",
      "         Nilai yang lebih dari 55.5\n"
     ]
    }
   ],
   "source": [
    "outlier = iqr_treshold(\"age\")\n",
    "print('''Umur yang dianggap outlier berdasarkan IQR adalah yang memiliki\n",
    "         Nilai yang kurang dari '''+str(outlier[0])+\n",
    "      '''\\n         Nilai yang lebih dari '''+str(outlier[1]))"
   ]
  },
  {
   "cell_type": "code",
   "execution_count": 25,
   "id": "f750193e-74cd-4d2b-81fb-833e8f49e485",
   "metadata": {
    "tags": []
   },
   "outputs": [
    {
     "name": "stdout",
     "output_type": "stream",
     "text": [
      "Jumlah outlier yang ada pada variable age adalah sejumlah 4887\n"
     ]
    }
   ],
   "source": [
    "iqr_normalize(\"age\")\n",
    "outlier_age = data.query(\"outlier_label == False\").y.count()\n",
    "print('''Jumlah outlier yang ada pada variable age adalah sejumlah '''+str(outlier_age))"
   ]
  },
  {
   "cell_type": "code",
   "execution_count": 26,
   "id": "bd3c52d7-e40a-47a9-b484-636143ec2bfb",
   "metadata": {
    "tags": []
   },
   "outputs": [],
   "source": [
    "# Removing the outlier using drop feature\n",
    "\n",
    "data = data.drop(data.query(\"outlier_label == False\").index)"
   ]
  },
  {
   "cell_type": "markdown",
   "id": "4c9216fe-d26d-4ead-b475-728ba490a7f2",
   "metadata": {
    "tags": []
   },
   "source": [
    "#### Normalizing outlier in campaign variable"
   ]
  },
  {
   "cell_type": "code",
   "execution_count": 27,
   "id": "b0ed153a-7b32-4927-b1c3-6490ee58046a",
   "metadata": {
    "tags": []
   },
   "outputs": [
    {
     "name": "stdout",
     "output_type": "stream",
     "text": [
      "Jumlah Campaign yang dianggap outlier berdasarkan IQR adalah yang memiliki\n",
      "         Nilai yang kurang dari -2.0\n",
      "         Nilai yang lebih dari 4.0\n"
     ]
    }
   ],
   "source": [
    "outlier = iqr_treshold(\"campaign\")\n",
    "print('''Jumlah Campaign yang dianggap outlier berdasarkan IQR adalah yang memiliki\n",
    "         Nilai yang kurang dari '''+str(outlier[0])+\n",
    "      '''\\n         Nilai yang lebih dari '''+str(outlier[1]))"
   ]
  },
  {
   "cell_type": "code",
   "execution_count": 28,
   "id": "16f8ab09-9626-483d-a909-b0c30b7961ed",
   "metadata": {
    "tags": []
   },
   "outputs": [
    {
     "name": "stdout",
     "output_type": "stream",
     "text": [
      "Jumlah outlier yang ada pada variable cammpaign adalah sejumlah 5473\n"
     ]
    }
   ],
   "source": [
    "iqr_normalize(\"campaign\")\n",
    "outlier_campaign = data.query(\"outlier_label == False\").y.count()\n",
    "print('''Jumlah outlier yang ada pada variable cammpaign adalah sejumlah '''+str(outlier_campaign))"
   ]
  },
  {
   "cell_type": "code",
   "execution_count": 29,
   "id": "510574e8-982d-46bf-bdb8-1ea74cb95115",
   "metadata": {
    "tags": []
   },
   "outputs": [],
   "source": [
    "# Removing the outlier using drop feature\n",
    "\n",
    "data = data.drop(data.query(\"outlier_label == False\").index)"
   ]
  },
  {
   "cell_type": "markdown",
   "id": "18633456-24d6-42da-bdce-928d8853a0c9",
   "metadata": {
    "tags": []
   },
   "source": [
    "#### Normalizing outlier in balance variable"
   ]
  },
  {
   "cell_type": "code",
   "execution_count": 30,
   "id": "6b9d9f78-fd71-40db-b89e-3352ac309b2f",
   "metadata": {
    "tags": []
   },
   "outputs": [
    {
     "name": "stdout",
     "output_type": "stream",
     "text": [
      "Jumlah balance yang dianggap outlier berdasarkan IQR adalah yang memiliki\n",
      "         Nilai yang kurang dari -1858.5\n",
      "         Nilai yang lebih dari 2008.5\n"
     ]
    }
   ],
   "source": [
    "outlier = iqr_treshold(\"balance\")\n",
    "print('''Jumlah balance yang dianggap outlier berdasarkan IQR adalah yang memiliki\n",
    "         Nilai yang kurang dari '''+str(outlier[0])+\n",
    "      '''\\n         Nilai yang lebih dari '''+str(outlier[1]))"
   ]
  },
  {
   "cell_type": "code",
   "execution_count": 31,
   "id": "286ce1ff-4d23-4eab-9ba8-bc20b0161e3e",
   "metadata": {
    "tags": []
   },
   "outputs": [
    {
     "name": "stdout",
     "output_type": "stream",
     "text": [
      "Jumlah outlier yang ada pada variable cammpaign adalah sejumlah 6186\n"
     ]
    }
   ],
   "source": [
    "iqr_normalize(\"balance\")\n",
    "outlier_balance = data.query(\"outlier_label == False\").y.count()\n",
    "print('''Jumlah outlier yang ada pada variable cammpaign adalah sejumlah '''+str(outlier_balance))"
   ]
  },
  {
   "cell_type": "code",
   "execution_count": 32,
   "id": "491f6d3e-2626-4eb8-a554-6fda423e0b84",
   "metadata": {
    "tags": []
   },
   "outputs": [],
   "source": [
    "# Removing the outlier using drop feature\n",
    "\n",
    "data = data.drop(data.query(\"outlier_label == False\").index)"
   ]
  },
  {
   "cell_type": "markdown",
   "id": "a9f7e818-0a6a-44e4-b31e-87476a9b5e87",
   "metadata": {
    "tags": []
   },
   "source": [
    "#### Normalizing outlier in duration variable"
   ]
  },
  {
   "cell_type": "code",
   "execution_count": 33,
   "id": "751b8eaa-bfbb-4b94-8269-365588f4a25d",
   "metadata": {
    "tags": []
   },
   "outputs": [
    {
     "name": "stdout",
     "output_type": "stream",
     "text": [
      "Jumlah duration dalam detik yang dianggap outlier berdasarkan IQR adalah yang memiliki\n",
      "         Nilai yang kurang dari -206.0\n",
      "         Nilai yang lebih dari 424.0\n"
     ]
    }
   ],
   "source": [
    "outlier = iqr_treshold(\"duration\")\n",
    "print('''Jumlah duration dalam detik yang dianggap outlier berdasarkan IQR adalah yang memiliki\n",
    "         Nilai yang kurang dari '''+str(outlier[0])+\n",
    "      '''\\n         Nilai yang lebih dari '''+str(outlier[1]))"
   ]
  },
  {
   "cell_type": "code",
   "execution_count": 34,
   "id": "90980079-019d-42e8-986d-a9fa57502c71",
   "metadata": {
    "tags": []
   },
   "outputs": [
    {
     "name": "stdout",
     "output_type": "stream",
     "text": [
      "Jumlah outlier yang ada pada variable cammpaign adalah sejumlah 4358\n"
     ]
    }
   ],
   "source": [
    "iqr_normalize(\"duration\")\n",
    "outlier_duration = data.query(\"outlier_label == False\").y.count()\n",
    "print('''Jumlah outlier yang ada pada variable cammpaign adalah sejumlah '''+str(outlier_duration))"
   ]
  },
  {
   "cell_type": "code",
   "execution_count": 35,
   "id": "35b1e87e-9d72-40ee-869c-999f097bee96",
   "metadata": {
    "tags": []
   },
   "outputs": [],
   "source": [
    "# Removing the outlier using drop feature\n",
    "\n",
    "data = data.drop(data.query(\"outlier_label == False\").index)"
   ]
  },
  {
   "cell_type": "code",
   "execution_count": 36,
   "id": "6a6edd88-fe43-4770-873b-cb98b38da040",
   "metadata": {
    "tags": []
   },
   "outputs": [
    {
     "name": "stdout",
     "output_type": "stream",
     "text": [
      "Jumlah column dropped dari outlier adalah sejumlah 20904\n"
     ]
    }
   ],
   "source": [
    "# Counting outlier coloumn dropped\n",
    "\n",
    "jumlah_outlier = outlier_age + outlier_balance + outlier_campaign + outlier_duration\n",
    "print('''Jumlah column dropped dari outlier adalah sejumlah '''+str(jumlah_outlier))"
   ]
  },
  {
   "cell_type": "markdown",
   "id": "bc1b9a72-0d21-4e09-a905-65ab6de8a956",
   "metadata": {
    "tags": []
   },
   "source": [
    "#### boxplot after normalize"
   ]
  },
  {
   "cell_type": "code",
   "execution_count": 37,
   "id": "8007c28d-3aa8-4c57-930b-b3e06028905e",
   "metadata": {
    "tags": []
   },
   "outputs": [
    {
     "data": {
      "image/png": "[encoded data removed]",
      "text/plain": [
       "<Figure size 1000x400 with 4 Axes>"
      ]
     },
     "metadata": {},
     "output_type": "display_data"
    }
   ],
   "source": [
    "feature = ['age','campaign','balance','duration']\n",
    "\n",
    "plt.figure(figsize=(10,4))\n",
    "for i in range(0, len(feature)):\n",
    "    plt.subplot(2,4, i+1)\n",
    "    sns.boxplot(x=data[feature[i]], color='skyblue')\n",
    "    plt.xlabel(feature[i])\n",
    "    plt.tight_layout()"
   ]
  },
  {
   "cell_type": "code",
   "execution_count": 38,
   "id": "ed81df6e-d203-4386-b27f-d6f4d46a3b33",
   "metadata": {
    "tags": []
   },
   "outputs": [],
   "source": [
    "data.drop(['outlier_label'], axis=1, inplace=True)"
   ]
  },
  {
   "cell_type": "code",
   "execution_count": 39,
   "id": "24f2ac62-2447-4911-8e62-3bd1248d7e3d",
   "metadata": {
    "tags": []
   },
   "outputs": [
    {
     "data": {
      "text/html": [
       "<div>\n",
       "<style scoped>\n",
       "    .dataframe tbody tr th:only-of-type {\n",
       "        vertical-align: middle;\n",
       "    }\n",
       "\n",
       "    .dataframe tbody tr th {\n",
       "        vertical-align: top;\n",
       "    }\n",
       "\n",
       "    .dataframe thead th {\n",
       "        text-align: right;\n",
       "    }\n",
       "</style>\n",
       "<table border=\"1\" class=\"dataframe\">\n",
       "  <thead>\n",
       "    <tr style=\"text-align: right;\">\n",
       "      <th></th>\n",
       "      <th>age</th>\n",
       "      <th>balance</th>\n",
       "      <th>duration</th>\n",
       "      <th>campaign</th>\n",
       "    </tr>\n",
       "  </thead>\n",
       "  <tbody>\n",
       "    <tr>\n",
       "      <th>count</th>\n",
       "      <td>24097.000000</td>\n",
       "      <td>24097.000000</td>\n",
       "      <td>24097.000000</td>\n",
       "      <td>24097.000000</td>\n",
       "    </tr>\n",
       "    <tr>\n",
       "      <th>mean</th>\n",
       "      <td>38.257459</td>\n",
       "      <td>426.783334</td>\n",
       "      <td>176.935096</td>\n",
       "      <td>1.877661</td>\n",
       "    </tr>\n",
       "    <tr>\n",
       "      <th>std</th>\n",
       "      <td>8.256679</td>\n",
       "      <td>557.847780</td>\n",
       "      <td>99.421264</td>\n",
       "      <td>0.974384</td>\n",
       "    </tr>\n",
       "    <tr>\n",
       "      <th>min</th>\n",
       "      <td>18.000000</td>\n",
       "      <td>-1854.000000</td>\n",
       "      <td>0.000000</td>\n",
       "      <td>1.000000</td>\n",
       "    </tr>\n",
       "    <tr>\n",
       "      <th>25%</th>\n",
       "      <td>32.000000</td>\n",
       "      <td>25.000000</td>\n",
       "      <td>99.000000</td>\n",
       "      <td>1.000000</td>\n",
       "    </tr>\n",
       "    <tr>\n",
       "      <th>50%</th>\n",
       "      <td>37.000000</td>\n",
       "      <td>273.000000</td>\n",
       "      <td>159.000000</td>\n",
       "      <td>2.000000</td>\n",
       "    </tr>\n",
       "    <tr>\n",
       "      <th>75%</th>\n",
       "      <td>45.000000</td>\n",
       "      <td>712.000000</td>\n",
       "      <td>243.000000</td>\n",
       "      <td>2.000000</td>\n",
       "    </tr>\n",
       "    <tr>\n",
       "      <th>max</th>\n",
       "      <td>55.000000</td>\n",
       "      <td>2008.000000</td>\n",
       "      <td>424.000000</td>\n",
       "      <td>4.000000</td>\n",
       "    </tr>\n",
       "  </tbody>\n",
       "</table>\n",
       "</div>"
      ],
      "text/plain": [
       "                age       balance      duration      campaign\n",
       "count  24097.000000  24097.000000  24097.000000  24097.000000\n",
       "mean      38.257459    426.783334    176.935096      1.877661\n",
       "std        8.256679    557.847780     99.421264      0.974384\n",
       "min       18.000000  -1854.000000      0.000000      1.000000\n",
       "25%       32.000000     25.000000     99.000000      1.000000\n",
       "50%       37.000000    273.000000    159.000000      2.000000\n",
       "75%       45.000000    712.000000    243.000000      2.000000\n",
       "max       55.000000   2008.000000    424.000000      4.000000"
      ]
     },
     "execution_count": 39,
     "metadata": {},
     "output_type": "execute_result"
    }
   ],
   "source": [
    "# its central tendency info after outlier handing using IQR\n",
    "data[numerical].describe()"
   ]
  },
  {
   "cell_type": "markdown",
   "id": "4ff683e6-606a-46d7-9f8a-7e27321095a6",
   "metadata": {
    "jp-MarkdownHeadingCollapsed": true,
    "tags": []
   },
   "source": [
    "### Feature Extraction"
   ]
  },
  {
   "cell_type": "code",
   "execution_count": 40,
   "id": "8952c17b-6857-4163-a38d-4509e2171186",
   "metadata": {
    "tags": []
   },
   "outputs": [
    {
     "data": {
      "text/html": [
       "<div>\n",
       "<style scoped>\n",
       "    .dataframe tbody tr th:only-of-type {\n",
       "        vertical-align: middle;\n",
       "    }\n",
       "\n",
       "    .dataframe tbody tr th {\n",
       "        vertical-align: top;\n",
       "    }\n",
       "\n",
       "    .dataframe thead th {\n",
       "        text-align: right;\n",
       "    }\n",
       "</style>\n",
       "<table border=\"1\" class=\"dataframe\">\n",
       "  <thead>\n",
       "    <tr style=\"text-align: right;\">\n",
       "      <th></th>\n",
       "      <th>age</th>\n",
       "      <th>job</th>\n",
       "      <th>marital</th>\n",
       "      <th>education</th>\n",
       "      <th>default</th>\n",
       "      <th>balance</th>\n",
       "      <th>housing</th>\n",
       "      <th>loan</th>\n",
       "      <th>contact</th>\n",
       "      <th>day</th>\n",
       "      <th>month</th>\n",
       "      <th>duration</th>\n",
       "      <th>campaign</th>\n",
       "      <th>pdays</th>\n",
       "      <th>previous</th>\n",
       "      <th>y</th>\n",
       "    </tr>\n",
       "  </thead>\n",
       "  <tbody>\n",
       "    <tr>\n",
       "      <th>1</th>\n",
       "      <td>44</td>\n",
       "      <td>technician</td>\n",
       "      <td>single</td>\n",
       "      <td>secondary</td>\n",
       "      <td>no</td>\n",
       "      <td>29</td>\n",
       "      <td>yes</td>\n",
       "      <td>no</td>\n",
       "      <td>cellular</td>\n",
       "      <td>5</td>\n",
       "      <td>may</td>\n",
       "      <td>151</td>\n",
       "      <td>1</td>\n",
       "      <td>-1</td>\n",
       "      <td>0</td>\n",
       "      <td>no</td>\n",
       "    </tr>\n",
       "    <tr>\n",
       "      <th>2</th>\n",
       "      <td>33</td>\n",
       "      <td>entrepreneur</td>\n",
       "      <td>married</td>\n",
       "      <td>secondary</td>\n",
       "      <td>no</td>\n",
       "      <td>2</td>\n",
       "      <td>yes</td>\n",
       "      <td>yes</td>\n",
       "      <td>cellular</td>\n",
       "      <td>5</td>\n",
       "      <td>may</td>\n",
       "      <td>76</td>\n",
       "      <td>1</td>\n",
       "      <td>-1</td>\n",
       "      <td>0</td>\n",
       "      <td>no</td>\n",
       "    </tr>\n",
       "    <tr>\n",
       "      <th>3</th>\n",
       "      <td>47</td>\n",
       "      <td>blue-collar</td>\n",
       "      <td>married</td>\n",
       "      <td>secondary</td>\n",
       "      <td>no</td>\n",
       "      <td>1506</td>\n",
       "      <td>yes</td>\n",
       "      <td>no</td>\n",
       "      <td>cellular</td>\n",
       "      <td>5</td>\n",
       "      <td>may</td>\n",
       "      <td>92</td>\n",
       "      <td>1</td>\n",
       "      <td>-1</td>\n",
       "      <td>0</td>\n",
       "      <td>no</td>\n",
       "    </tr>\n",
       "    <tr>\n",
       "      <th>4</th>\n",
       "      <td>33</td>\n",
       "      <td>blue-collar</td>\n",
       "      <td>single</td>\n",
       "      <td>secondary</td>\n",
       "      <td>no</td>\n",
       "      <td>1</td>\n",
       "      <td>no</td>\n",
       "      <td>no</td>\n",
       "      <td>cellular</td>\n",
       "      <td>5</td>\n",
       "      <td>may</td>\n",
       "      <td>198</td>\n",
       "      <td>1</td>\n",
       "      <td>-1</td>\n",
       "      <td>0</td>\n",
       "      <td>no</td>\n",
       "    </tr>\n",
       "    <tr>\n",
       "      <th>5</th>\n",
       "      <td>35</td>\n",
       "      <td>management</td>\n",
       "      <td>married</td>\n",
       "      <td>tertiary</td>\n",
       "      <td>no</td>\n",
       "      <td>231</td>\n",
       "      <td>yes</td>\n",
       "      <td>no</td>\n",
       "      <td>cellular</td>\n",
       "      <td>5</td>\n",
       "      <td>may</td>\n",
       "      <td>139</td>\n",
       "      <td>1</td>\n",
       "      <td>-1</td>\n",
       "      <td>0</td>\n",
       "      <td>no</td>\n",
       "    </tr>\n",
       "  </tbody>\n",
       "</table>\n",
       "</div>"
      ],
      "text/plain": [
       "   age           job  marital  education default  balance housing loan  \\\n",
       "1   44    technician   single  secondary      no       29     yes   no   \n",
       "2   33  entrepreneur  married  secondary      no        2     yes  yes   \n",
       "3   47   blue-collar  married  secondary      no     1506     yes   no   \n",
       "4   33   blue-collar   single  secondary      no        1      no   no   \n",
       "5   35    management  married   tertiary      no      231     yes   no   \n",
       "\n",
       "    contact  day month  duration  campaign  pdays  previous   y  \n",
       "1  cellular    5   may       151         1     -1         0  no  \n",
       "2  cellular    5   may        76         1     -1         0  no  \n",
       "3  cellular    5   may        92         1     -1         0  no  \n",
       "4  cellular    5   may       198         1     -1         0  no  \n",
       "5  cellular    5   may       139         1     -1         0  no  "
      ]
     },
     "execution_count": 40,
     "metadata": {},
     "output_type": "execute_result"
    }
   ],
   "source": [
    "data.head()"
   ]
  },
  {
   "cell_type": "markdown",
   "id": "7de3d086-8558-45c2-a4a1-773e199c00ae",
   "metadata": {
    "jp-MarkdownHeadingCollapsed": true,
    "tags": []
   },
   "source": [
    "#### Transforming ```previous``` variable into categorical so its usable"
   ]
  },
  {
   "cell_type": "code",
   "execution_count": 41,
   "id": "792b0f5d-0856-4948-afc2-8809b697a2e8",
   "metadata": {
    "tags": []
   },
   "outputs": [
    {
     "data": {
      "text/plain": [
       "4532"
      ]
     },
     "execution_count": 41,
     "metadata": {},
     "output_type": "execute_result"
    }
   ],
   "source": [
    "data.query(\"previous > 0\").y.count()"
   ]
  },
  {
   "cell_type": "code",
   "execution_count": 42,
   "id": "55f59367-9f40-43b0-aa75-b6e98956c210",
   "metadata": {
    "tags": []
   },
   "outputs": [],
   "source": [
    "data.previous = np.where(data.previous == 0, 0, 1)"
   ]
  },
  {
   "cell_type": "code",
   "execution_count": 43,
   "id": "51e1979c-778f-49e1-bc78-0c4ea435012f",
   "metadata": {
    "tags": []
   },
   "outputs": [
    {
     "data": {
      "text/plain": [
       "previous\n",
       "0    19565\n",
       "1     4532\n",
       "Name: count, dtype: int64"
      ]
     },
     "execution_count": 43,
     "metadata": {},
     "output_type": "execute_result"
    }
   ],
   "source": [
    "data.previous.value_counts()"
   ]
  },
  {
   "cell_type": "markdown",
   "id": "1b0fe079-c4a0-4f7a-9d1b-1114d7018911",
   "metadata": {},
   "source": [
    "## Feature Engineering"
   ]
  },
  {
   "cell_type": "markdown",
   "id": "88ab3f96-8a44-40df-8864-94adc4783db9",
   "metadata": {
    "jp-MarkdownHeadingCollapsed": true,
    "tags": []
   },
   "source": [
    "### Feature Selection\n",
    "Feature used in modelling are.\n",
    "> age, job, marital, education, default, balance, housing, loan, contact, day, month, duration, campaign, previous\n",
    "\n",
    "Classification label\n",
    "> y"
   ]
  },
  {
   "cell_type": "code",
   "execution_count": 44,
   "id": "f9f2394a-7dbf-45dd-b2e3-0f2c780fd5ae",
   "metadata": {
    "tags": []
   },
   "outputs": [
    {
     "data": {
      "text/html": [
       "<div>\n",
       "<style scoped>\n",
       "    .dataframe tbody tr th:only-of-type {\n",
       "        vertical-align: middle;\n",
       "    }\n",
       "\n",
       "    .dataframe tbody tr th {\n",
       "        vertical-align: top;\n",
       "    }\n",
       "\n",
       "    .dataframe thead th {\n",
       "        text-align: right;\n",
       "    }\n",
       "</style>\n",
       "<table border=\"1\" class=\"dataframe\">\n",
       "  <thead>\n",
       "    <tr style=\"text-align: right;\">\n",
       "      <th></th>\n",
       "      <th>age</th>\n",
       "      <th>job</th>\n",
       "      <th>marital</th>\n",
       "      <th>education</th>\n",
       "      <th>default</th>\n",
       "      <th>balance</th>\n",
       "      <th>housing</th>\n",
       "      <th>loan</th>\n",
       "      <th>contact</th>\n",
       "      <th>day</th>\n",
       "      <th>month</th>\n",
       "      <th>duration</th>\n",
       "      <th>campaign</th>\n",
       "      <th>pdays</th>\n",
       "      <th>previous</th>\n",
       "      <th>y</th>\n",
       "    </tr>\n",
       "  </thead>\n",
       "  <tbody>\n",
       "    <tr>\n",
       "      <th>1</th>\n",
       "      <td>44</td>\n",
       "      <td>technician</td>\n",
       "      <td>single</td>\n",
       "      <td>secondary</td>\n",
       "      <td>no</td>\n",
       "      <td>29</td>\n",
       "      <td>yes</td>\n",
       "      <td>no</td>\n",
       "      <td>cellular</td>\n",
       "      <td>5</td>\n",
       "      <td>may</td>\n",
       "      <td>151</td>\n",
       "      <td>1</td>\n",
       "      <td>-1</td>\n",
       "      <td>0</td>\n",
       "      <td>no</td>\n",
       "    </tr>\n",
       "    <tr>\n",
       "      <th>2</th>\n",
       "      <td>33</td>\n",
       "      <td>entrepreneur</td>\n",
       "      <td>married</td>\n",
       "      <td>secondary</td>\n",
       "      <td>no</td>\n",
       "      <td>2</td>\n",
       "      <td>yes</td>\n",
       "      <td>yes</td>\n",
       "      <td>cellular</td>\n",
       "      <td>5</td>\n",
       "      <td>may</td>\n",
       "      <td>76</td>\n",
       "      <td>1</td>\n",
       "      <td>-1</td>\n",
       "      <td>0</td>\n",
       "      <td>no</td>\n",
       "    </tr>\n",
       "    <tr>\n",
       "      <th>3</th>\n",
       "      <td>47</td>\n",
       "      <td>blue-collar</td>\n",
       "      <td>married</td>\n",
       "      <td>secondary</td>\n",
       "      <td>no</td>\n",
       "      <td>1506</td>\n",
       "      <td>yes</td>\n",
       "      <td>no</td>\n",
       "      <td>cellular</td>\n",
       "      <td>5</td>\n",
       "      <td>may</td>\n",
       "      <td>92</td>\n",
       "      <td>1</td>\n",
       "      <td>-1</td>\n",
       "      <td>0</td>\n",
       "      <td>no</td>\n",
       "    </tr>\n",
       "    <tr>\n",
       "      <th>4</th>\n",
       "      <td>33</td>\n",
       "      <td>blue-collar</td>\n",
       "      <td>single</td>\n",
       "      <td>secondary</td>\n",
       "      <td>no</td>\n",
       "      <td>1</td>\n",
       "      <td>no</td>\n",
       "      <td>no</td>\n",
       "      <td>cellular</td>\n",
       "      <td>5</td>\n",
       "      <td>may</td>\n",
       "      <td>198</td>\n",
       "      <td>1</td>\n",
       "      <td>-1</td>\n",
       "      <td>0</td>\n",
       "      <td>no</td>\n",
       "    </tr>\n",
       "    <tr>\n",
       "      <th>5</th>\n",
       "      <td>35</td>\n",
       "      <td>management</td>\n",
       "      <td>married</td>\n",
       "      <td>tertiary</td>\n",
       "      <td>no</td>\n",
       "      <td>231</td>\n",
       "      <td>yes</td>\n",
       "      <td>no</td>\n",
       "      <td>cellular</td>\n",
       "      <td>5</td>\n",
       "      <td>may</td>\n",
       "      <td>139</td>\n",
       "      <td>1</td>\n",
       "      <td>-1</td>\n",
       "      <td>0</td>\n",
       "      <td>no</td>\n",
       "    </tr>\n",
       "  </tbody>\n",
       "</table>\n",
       "</div>"
      ],
      "text/plain": [
       "   age           job  marital  education default  balance housing loan  \\\n",
       "1   44    technician   single  secondary      no       29     yes   no   \n",
       "2   33  entrepreneur  married  secondary      no        2     yes  yes   \n",
       "3   47   blue-collar  married  secondary      no     1506     yes   no   \n",
       "4   33   blue-collar   single  secondary      no        1      no   no   \n",
       "5   35    management  married   tertiary      no      231     yes   no   \n",
       "\n",
       "    contact  day month  duration  campaign  pdays  previous   y  \n",
       "1  cellular    5   may       151         1     -1         0  no  \n",
       "2  cellular    5   may        76         1     -1         0  no  \n",
       "3  cellular    5   may        92         1     -1         0  no  \n",
       "4  cellular    5   may       198         1     -1         0  no  \n",
       "5  cellular    5   may       139         1     -1         0  no  "
      ]
     },
     "execution_count": 44,
     "metadata": {},
     "output_type": "execute_result"
    }
   ],
   "source": [
    "data.head()"
   ]
  },
  {
   "cell_type": "code",
   "execution_count": 45,
   "id": "b6a35787-64f0-45d0-93ba-3ac8921a317e",
   "metadata": {
    "tags": []
   },
   "outputs": [],
   "source": [
    "data.drop(['pdays'], axis=1, inplace=True)"
   ]
  },
  {
   "cell_type": "code",
   "execution_count": 46,
   "id": "ca9360b2-ad41-4c1a-988a-a0ec50aa0214",
   "metadata": {
    "tags": []
   },
   "outputs": [
    {
     "data": {
      "text/html": [
       "<div>\n",
       "<style scoped>\n",
       "    .dataframe tbody tr th:only-of-type {\n",
       "        vertical-align: middle;\n",
       "    }\n",
       "\n",
       "    .dataframe tbody tr th {\n",
       "        vertical-align: top;\n",
       "    }\n",
       "\n",
       "    .dataframe thead th {\n",
       "        text-align: right;\n",
       "    }\n",
       "</style>\n",
       "<table border=\"1\" class=\"dataframe\">\n",
       "  <thead>\n",
       "    <tr style=\"text-align: right;\">\n",
       "      <th></th>\n",
       "      <th>age</th>\n",
       "      <th>job</th>\n",
       "      <th>marital</th>\n",
       "      <th>education</th>\n",
       "      <th>default</th>\n",
       "      <th>balance</th>\n",
       "      <th>housing</th>\n",
       "      <th>loan</th>\n",
       "      <th>contact</th>\n",
       "      <th>day</th>\n",
       "      <th>month</th>\n",
       "      <th>duration</th>\n",
       "      <th>campaign</th>\n",
       "      <th>previous</th>\n",
       "      <th>y</th>\n",
       "    </tr>\n",
       "  </thead>\n",
       "  <tbody>\n",
       "    <tr>\n",
       "      <th>1</th>\n",
       "      <td>44</td>\n",
       "      <td>technician</td>\n",
       "      <td>single</td>\n",
       "      <td>secondary</td>\n",
       "      <td>no</td>\n",
       "      <td>29</td>\n",
       "      <td>yes</td>\n",
       "      <td>no</td>\n",
       "      <td>cellular</td>\n",
       "      <td>5</td>\n",
       "      <td>may</td>\n",
       "      <td>151</td>\n",
       "      <td>1</td>\n",
       "      <td>0</td>\n",
       "      <td>no</td>\n",
       "    </tr>\n",
       "    <tr>\n",
       "      <th>2</th>\n",
       "      <td>33</td>\n",
       "      <td>entrepreneur</td>\n",
       "      <td>married</td>\n",
       "      <td>secondary</td>\n",
       "      <td>no</td>\n",
       "      <td>2</td>\n",
       "      <td>yes</td>\n",
       "      <td>yes</td>\n",
       "      <td>cellular</td>\n",
       "      <td>5</td>\n",
       "      <td>may</td>\n",
       "      <td>76</td>\n",
       "      <td>1</td>\n",
       "      <td>0</td>\n",
       "      <td>no</td>\n",
       "    </tr>\n",
       "    <tr>\n",
       "      <th>3</th>\n",
       "      <td>47</td>\n",
       "      <td>blue-collar</td>\n",
       "      <td>married</td>\n",
       "      <td>secondary</td>\n",
       "      <td>no</td>\n",
       "      <td>1506</td>\n",
       "      <td>yes</td>\n",
       "      <td>no</td>\n",
       "      <td>cellular</td>\n",
       "      <td>5</td>\n",
       "      <td>may</td>\n",
       "      <td>92</td>\n",
       "      <td>1</td>\n",
       "      <td>0</td>\n",
       "      <td>no</td>\n",
       "    </tr>\n",
       "    <tr>\n",
       "      <th>4</th>\n",
       "      <td>33</td>\n",
       "      <td>blue-collar</td>\n",
       "      <td>single</td>\n",
       "      <td>secondary</td>\n",
       "      <td>no</td>\n",
       "      <td>1</td>\n",
       "      <td>no</td>\n",
       "      <td>no</td>\n",
       "      <td>cellular</td>\n",
       "      <td>5</td>\n",
       "      <td>may</td>\n",
       "      <td>198</td>\n",
       "      <td>1</td>\n",
       "      <td>0</td>\n",
       "      <td>no</td>\n",
       "    </tr>\n",
       "    <tr>\n",
       "      <th>5</th>\n",
       "      <td>35</td>\n",
       "      <td>management</td>\n",
       "      <td>married</td>\n",
       "      <td>tertiary</td>\n",
       "      <td>no</td>\n",
       "      <td>231</td>\n",
       "      <td>yes</td>\n",
       "      <td>no</td>\n",
       "      <td>cellular</td>\n",
       "      <td>5</td>\n",
       "      <td>may</td>\n",
       "      <td>139</td>\n",
       "      <td>1</td>\n",
       "      <td>0</td>\n",
       "      <td>no</td>\n",
       "    </tr>\n",
       "  </tbody>\n",
       "</table>\n",
       "</div>"
      ],
      "text/plain": [
       "   age           job  marital  education default  balance housing loan  \\\n",
       "1   44    technician   single  secondary      no       29     yes   no   \n",
       "2   33  entrepreneur  married  secondary      no        2     yes  yes   \n",
       "3   47   blue-collar  married  secondary      no     1506     yes   no   \n",
       "4   33   blue-collar   single  secondary      no        1      no   no   \n",
       "5   35    management  married   tertiary      no      231     yes   no   \n",
       "\n",
       "    contact  day month  duration  campaign  previous   y  \n",
       "1  cellular    5   may       151         1         0  no  \n",
       "2  cellular    5   may        76         1         0  no  \n",
       "3  cellular    5   may        92         1         0  no  \n",
       "4  cellular    5   may       198         1         0  no  \n",
       "5  cellular    5   may       139         1         0  no  "
      ]
     },
     "execution_count": 46,
     "metadata": {},
     "output_type": "execute_result"
    }
   ],
   "source": [
    "data.head()"
   ]
  },
  {
   "cell_type": "markdown",
   "id": "d17151e2-c458-452e-8b0b-72d8d549edd8",
   "metadata": {},
   "source": [
    "### Feature Encoding"
   ]
  },
  {
   "cell_type": "code",
   "execution_count": 47,
   "id": "c2f500a9-e65a-40b8-a9c4-35b3684c46a2",
   "metadata": {
    "tags": []
   },
   "outputs": [
    {
     "data": {
      "text/html": [
       "<div>\n",
       "<style scoped>\n",
       "    .dataframe tbody tr th:only-of-type {\n",
       "        vertical-align: middle;\n",
       "    }\n",
       "\n",
       "    .dataframe tbody tr th {\n",
       "        vertical-align: top;\n",
       "    }\n",
       "\n",
       "    .dataframe thead th {\n",
       "        text-align: right;\n",
       "    }\n",
       "</style>\n",
       "<table border=\"1\" class=\"dataframe\">\n",
       "  <thead>\n",
       "    <tr style=\"text-align: right;\">\n",
       "      <th></th>\n",
       "      <th>age</th>\n",
       "      <th>job</th>\n",
       "      <th>marital</th>\n",
       "      <th>education</th>\n",
       "      <th>default</th>\n",
       "      <th>balance</th>\n",
       "      <th>housing</th>\n",
       "      <th>loan</th>\n",
       "      <th>contact</th>\n",
       "      <th>day</th>\n",
       "      <th>month</th>\n",
       "      <th>duration</th>\n",
       "      <th>campaign</th>\n",
       "      <th>previous</th>\n",
       "      <th>y</th>\n",
       "    </tr>\n",
       "  </thead>\n",
       "  <tbody>\n",
       "    <tr>\n",
       "      <th>1</th>\n",
       "      <td>44</td>\n",
       "      <td>technician</td>\n",
       "      <td>single</td>\n",
       "      <td>secondary</td>\n",
       "      <td>no</td>\n",
       "      <td>29</td>\n",
       "      <td>yes</td>\n",
       "      <td>no</td>\n",
       "      <td>cellular</td>\n",
       "      <td>5</td>\n",
       "      <td>may</td>\n",
       "      <td>151</td>\n",
       "      <td>1</td>\n",
       "      <td>0</td>\n",
       "      <td>no</td>\n",
       "    </tr>\n",
       "    <tr>\n",
       "      <th>2</th>\n",
       "      <td>33</td>\n",
       "      <td>entrepreneur</td>\n",
       "      <td>married</td>\n",
       "      <td>secondary</td>\n",
       "      <td>no</td>\n",
       "      <td>2</td>\n",
       "      <td>yes</td>\n",
       "      <td>yes</td>\n",
       "      <td>cellular</td>\n",
       "      <td>5</td>\n",
       "      <td>may</td>\n",
       "      <td>76</td>\n",
       "      <td>1</td>\n",
       "      <td>0</td>\n",
       "      <td>no</td>\n",
       "    </tr>\n",
       "    <tr>\n",
       "      <th>3</th>\n",
       "      <td>47</td>\n",
       "      <td>blue-collar</td>\n",
       "      <td>married</td>\n",
       "      <td>secondary</td>\n",
       "      <td>no</td>\n",
       "      <td>1506</td>\n",
       "      <td>yes</td>\n",
       "      <td>no</td>\n",
       "      <td>cellular</td>\n",
       "      <td>5</td>\n",
       "      <td>may</td>\n",
       "      <td>92</td>\n",
       "      <td>1</td>\n",
       "      <td>0</td>\n",
       "      <td>no</td>\n",
       "    </tr>\n",
       "    <tr>\n",
       "      <th>4</th>\n",
       "      <td>33</td>\n",
       "      <td>blue-collar</td>\n",
       "      <td>single</td>\n",
       "      <td>secondary</td>\n",
       "      <td>no</td>\n",
       "      <td>1</td>\n",
       "      <td>no</td>\n",
       "      <td>no</td>\n",
       "      <td>cellular</td>\n",
       "      <td>5</td>\n",
       "      <td>may</td>\n",
       "      <td>198</td>\n",
       "      <td>1</td>\n",
       "      <td>0</td>\n",
       "      <td>no</td>\n",
       "    </tr>\n",
       "    <tr>\n",
       "      <th>5</th>\n",
       "      <td>35</td>\n",
       "      <td>management</td>\n",
       "      <td>married</td>\n",
       "      <td>tertiary</td>\n",
       "      <td>no</td>\n",
       "      <td>231</td>\n",
       "      <td>yes</td>\n",
       "      <td>no</td>\n",
       "      <td>cellular</td>\n",
       "      <td>5</td>\n",
       "      <td>may</td>\n",
       "      <td>139</td>\n",
       "      <td>1</td>\n",
       "      <td>0</td>\n",
       "      <td>no</td>\n",
       "    </tr>\n",
       "  </tbody>\n",
       "</table>\n",
       "</div>"
      ],
      "text/plain": [
       "   age           job  marital  education default  balance housing loan  \\\n",
       "1   44    technician   single  secondary      no       29     yes   no   \n",
       "2   33  entrepreneur  married  secondary      no        2     yes  yes   \n",
       "3   47   blue-collar  married  secondary      no     1506     yes   no   \n",
       "4   33   blue-collar   single  secondary      no        1      no   no   \n",
       "5   35    management  married   tertiary      no      231     yes   no   \n",
       "\n",
       "    contact  day month  duration  campaign  previous   y  \n",
       "1  cellular    5   may       151         1         0  no  \n",
       "2  cellular    5   may        76         1         0  no  \n",
       "3  cellular    5   may        92         1         0  no  \n",
       "4  cellular    5   may       198         1         0  no  \n",
       "5  cellular    5   may       139         1         0  no  "
      ]
     },
     "execution_count": 47,
     "metadata": {},
     "output_type": "execute_result"
    }
   ],
   "source": [
    "data.head()"
   ]
  },
  {
   "cell_type": "code",
   "execution_count": 48,
   "id": "d1278f74-b5cb-4960-9f31-e909e0e03924",
   "metadata": {
    "tags": []
   },
   "outputs": [],
   "source": [
    "# after feature selection\n",
    "category = ['job','marital','education','default','housing','loan','contact','month','y']\n",
    "cat_ordinal = ['education','default','housing','loan','month','y']\n",
    "cat_nominal = ['job','contact', 'marital']"
   ]
  },
  {
   "cell_type": "markdown",
   "id": "5d9e9e8a-df9c-4e2e-a0d1-25c8cc3db5de",
   "metadata": {
    "jp-MarkdownHeadingCollapsed": true,
    "tags": []
   },
   "source": [
    "#### label encoder categorical to numerical"
   ]
  },
  {
   "cell_type": "code",
   "execution_count": 49,
   "id": "f6d3e7e0-0945-4161-af92-e8d60f5fece0",
   "metadata": {
    "tags": []
   },
   "outputs": [],
   "source": [
    "mapping_month = {\n",
    "    'jan' : 0,\n",
    "    'feb' : 1,\n",
    "    'mar' : 2,\n",
    "    'apr' : 3,\n",
    "    'may' : 4,\n",
    "    'jun' : 5,\n",
    "    'jul' : 6,\n",
    "    'aug' : 7,\n",
    "    'sep' : 8,\n",
    "    'oct' : 9,\n",
    "    'nov' : 10,\n",
    "    'dec' : 11\n",
    "}\n",
    "\n",
    "data['month'] = data['month'].map(mapping_month)"
   ]
  },
  {
   "cell_type": "code",
   "execution_count": 50,
   "id": "4d3465b4-57a0-40e3-8cc1-00a490570cec",
   "metadata": {
    "tags": []
   },
   "outputs": [],
   "source": [
    "mapping_education = {\n",
    "    'primary'   : 0,\n",
    "    'secondary' : 1, \n",
    "    'tertiary'  :2\n",
    "}\n",
    "\n",
    "data['education'] = data['education'].map(mapping_education)"
   ]
  },
  {
   "cell_type": "code",
   "execution_count": 51,
   "id": "cd212854-3ce2-4097-b6f8-1b431e3c7bfe",
   "metadata": {
    "tags": []
   },
   "outputs": [],
   "source": [
    "mapping_default = {\n",
    "    'yes' : 1,\n",
    "    'no'  : 0\n",
    "}\n",
    "\n",
    "data['default'] = data['default'].map(mapping_default)"
   ]
  },
  {
   "cell_type": "code",
   "execution_count": 52,
   "id": "7c9d76f4-dfd1-4760-9e07-bdde62aece28",
   "metadata": {
    "tags": []
   },
   "outputs": [],
   "source": [
    "mapping_housing = {\n",
    "    'yes' : 1,\n",
    "    'no'  : 0\n",
    "}\n",
    "\n",
    "data['housing'] = data['housing'].map(mapping_housing)"
   ]
  },
  {
   "cell_type": "code",
   "execution_count": 53,
   "id": "997b8f24-aa37-44e7-acf7-c61ae0d61a56",
   "metadata": {
    "tags": []
   },
   "outputs": [],
   "source": [
    "mapping_loan = {\n",
    "    'yes' : 1,\n",
    "    'no'  : 0\n",
    "}\n",
    "\n",
    "data['loan'] = data['loan'].map(mapping_loan)"
   ]
  },
  {
   "cell_type": "code",
   "execution_count": 54,
   "id": "658193c6-7ecd-47f1-853b-50c0080e4a99",
   "metadata": {
    "tags": []
   },
   "outputs": [],
   "source": [
    "mapping_y = {\n",
    "    'yes' : 1,\n",
    "    'no'  : 0\n",
    "}\n",
    "\n",
    "data['y'] = data['y'].map(mapping_y)"
   ]
  },
  {
   "cell_type": "code",
   "execution_count": 55,
   "id": "c4fa9890-867e-4987-abd2-207ba50a2319",
   "metadata": {
    "tags": []
   },
   "outputs": [
    {
     "name": "stdout",
     "output_type": "stream",
     "text": [
      "<class 'pandas.core.frame.DataFrame'>\n",
      "Index: 24097 entries, 1 to 45205\n",
      "Data columns (total 15 columns):\n",
      " #   Column     Non-Null Count  Dtype \n",
      "---  ------     --------------  ----- \n",
      " 0   age        24097 non-null  int64 \n",
      " 1   job        24097 non-null  object\n",
      " 2   marital    24097 non-null  object\n",
      " 3   education  24097 non-null  int64 \n",
      " 4   default    24097 non-null  int64 \n",
      " 5   balance    24097 non-null  int64 \n",
      " 6   housing    24097 non-null  int64 \n",
      " 7   loan       24097 non-null  int64 \n",
      " 8   contact    24097 non-null  object\n",
      " 9   day        24097 non-null  int64 \n",
      " 10  month      24097 non-null  int64 \n",
      " 11  duration   24097 non-null  int64 \n",
      " 12  campaign   24097 non-null  int64 \n",
      " 13  previous   24097 non-null  int64 \n",
      " 14  y          24097 non-null  int64 \n",
      "dtypes: int64(12), object(3)\n",
      "memory usage: 2.9+ MB\n"
     ]
    }
   ],
   "source": [
    "data.info()"
   ]
  },
  {
   "cell_type": "markdown",
   "id": "18abe4ca-6abe-45b9-9e3c-54eaaf5cc48e",
   "metadata": {
    "jp-MarkdownHeadingCollapsed": true,
    "tags": []
   },
   "source": [
    "#### OHE categorical to numerical"
   ]
  },
  {
   "cell_type": "code",
   "execution_count": 56,
   "id": "ee7004e7-6b11-4ae9-8645-3c9317e9b973",
   "metadata": {
    "tags": []
   },
   "outputs": [],
   "source": [
    "data.reset_index(drop=True, inplace=True)"
   ]
  },
  {
   "cell_type": "code",
   "execution_count": 57,
   "id": "2e30f5e3-4e65-4f52-ba03-089464a42353",
   "metadata": {
    "tags": []
   },
   "outputs": [
    {
     "data": {
      "text/html": [
       "<div>\n",
       "<style scoped>\n",
       "    .dataframe tbody tr th:only-of-type {\n",
       "        vertical-align: middle;\n",
       "    }\n",
       "\n",
       "    .dataframe tbody tr th {\n",
       "        vertical-align: top;\n",
       "    }\n",
       "\n",
       "    .dataframe thead th {\n",
       "        text-align: right;\n",
       "    }\n",
       "</style>\n",
       "<table border=\"1\" class=\"dataframe\">\n",
       "  <thead>\n",
       "    <tr style=\"text-align: right;\">\n",
       "      <th></th>\n",
       "      <th>age</th>\n",
       "      <th>job</th>\n",
       "      <th>marital</th>\n",
       "      <th>education</th>\n",
       "      <th>default</th>\n",
       "      <th>balance</th>\n",
       "      <th>housing</th>\n",
       "      <th>loan</th>\n",
       "      <th>contact</th>\n",
       "      <th>day</th>\n",
       "      <th>month</th>\n",
       "      <th>duration</th>\n",
       "      <th>campaign</th>\n",
       "      <th>previous</th>\n",
       "      <th>y</th>\n",
       "    </tr>\n",
       "  </thead>\n",
       "  <tbody>\n",
       "    <tr>\n",
       "      <th>24092</th>\n",
       "      <td>37</td>\n",
       "      <td>management</td>\n",
       "      <td>married</td>\n",
       "      <td>2</td>\n",
       "      <td>0</td>\n",
       "      <td>1428</td>\n",
       "      <td>0</td>\n",
       "      <td>0</td>\n",
       "      <td>cellular</td>\n",
       "      <td>16</td>\n",
       "      <td>10</td>\n",
       "      <td>333</td>\n",
       "      <td>2</td>\n",
       "      <td>0</td>\n",
       "      <td>0</td>\n",
       "    </tr>\n",
       "    <tr>\n",
       "      <th>24093</th>\n",
       "      <td>53</td>\n",
       "      <td>management</td>\n",
       "      <td>married</td>\n",
       "      <td>2</td>\n",
       "      <td>0</td>\n",
       "      <td>583</td>\n",
       "      <td>0</td>\n",
       "      <td>0</td>\n",
       "      <td>cellular</td>\n",
       "      <td>17</td>\n",
       "      <td>10</td>\n",
       "      <td>226</td>\n",
       "      <td>1</td>\n",
       "      <td>1</td>\n",
       "      <td>1</td>\n",
       "    </tr>\n",
       "    <tr>\n",
       "      <th>24094</th>\n",
       "      <td>34</td>\n",
       "      <td>admin.</td>\n",
       "      <td>single</td>\n",
       "      <td>1</td>\n",
       "      <td>0</td>\n",
       "      <td>557</td>\n",
       "      <td>0</td>\n",
       "      <td>0</td>\n",
       "      <td>cellular</td>\n",
       "      <td>17</td>\n",
       "      <td>10</td>\n",
       "      <td>224</td>\n",
       "      <td>1</td>\n",
       "      <td>0</td>\n",
       "      <td>1</td>\n",
       "    </tr>\n",
       "    <tr>\n",
       "      <th>24095</th>\n",
       "      <td>23</td>\n",
       "      <td>student</td>\n",
       "      <td>single</td>\n",
       "      <td>2</td>\n",
       "      <td>0</td>\n",
       "      <td>113</td>\n",
       "      <td>0</td>\n",
       "      <td>0</td>\n",
       "      <td>cellular</td>\n",
       "      <td>17</td>\n",
       "      <td>10</td>\n",
       "      <td>266</td>\n",
       "      <td>1</td>\n",
       "      <td>0</td>\n",
       "      <td>1</td>\n",
       "    </tr>\n",
       "    <tr>\n",
       "      <th>24096</th>\n",
       "      <td>25</td>\n",
       "      <td>technician</td>\n",
       "      <td>single</td>\n",
       "      <td>1</td>\n",
       "      <td>0</td>\n",
       "      <td>505</td>\n",
       "      <td>0</td>\n",
       "      <td>1</td>\n",
       "      <td>cellular</td>\n",
       "      <td>17</td>\n",
       "      <td>10</td>\n",
       "      <td>386</td>\n",
       "      <td>2</td>\n",
       "      <td>0</td>\n",
       "      <td>1</td>\n",
       "    </tr>\n",
       "  </tbody>\n",
       "</table>\n",
       "</div>"
      ],
      "text/plain": [
       "       age         job  marital  education  default  balance  housing  loan  \\\n",
       "24092   37  management  married          2        0     1428        0     0   \n",
       "24093   53  management  married          2        0      583        0     0   \n",
       "24094   34      admin.   single          1        0      557        0     0   \n",
       "24095   23     student   single          2        0      113        0     0   \n",
       "24096   25  technician   single          1        0      505        0     1   \n",
       "\n",
       "        contact  day  month  duration  campaign  previous  y  \n",
       "24092  cellular   16     10       333         2         0  0  \n",
       "24093  cellular   17     10       226         1         1  1  \n",
       "24094  cellular   17     10       224         1         0  1  \n",
       "24095  cellular   17     10       266         1         0  1  \n",
       "24096  cellular   17     10       386         2         0  1  "
      ]
     },
     "execution_count": 57,
     "metadata": {},
     "output_type": "execute_result"
    }
   ],
   "source": [
    "data.tail()"
   ]
  },
  {
   "cell_type": "markdown",
   "id": "8470a032-8a36-43a4-acfc-a0bc0ec17a31",
   "metadata": {
    "tags": []
   },
   "source": [
    "##### Contact"
   ]
  },
  {
   "cell_type": "code",
   "execution_count": 58,
   "id": "7e5c5513-0989-4c89-841f-c8c3d95ed80b",
   "metadata": {
    "tags": []
   },
   "outputs": [
    {
     "data": {
      "text/plain": [
       "contact\n",
       "cellular     23022\n",
       "telephone     1075\n",
       "Name: count, dtype: int64"
      ]
     },
     "execution_count": 58,
     "metadata": {},
     "output_type": "execute_result"
    }
   ],
   "source": [
    "data.contact.value_counts()"
   ]
  },
  {
   "cell_type": "code",
   "execution_count": 59,
   "id": "b4e153ef-84d6-4ebd-824e-b51770eaf98a",
   "metadata": {
    "tags": []
   },
   "outputs": [],
   "source": [
    "contact_ohe = pd.get_dummies(data['contact'],prefix='contact', dtype=int)\n",
    "data = data.join(contact_ohe)"
   ]
  },
  {
   "cell_type": "markdown",
   "id": "73df257e-25c9-4fa5-aef3-aff426704dc2",
   "metadata": {
    "tags": []
   },
   "source": [
    "##### Marital"
   ]
  },
  {
   "cell_type": "code",
   "execution_count": 60,
   "id": "20622c5e-3c70-4f7a-b980-bf489334d28d",
   "metadata": {
    "tags": []
   },
   "outputs": [
    {
     "data": {
      "text/plain": [
       "marital\n",
       "married     13821\n",
       "single       7585\n",
       "divorced     2691\n",
       "Name: count, dtype: int64"
      ]
     },
     "execution_count": 60,
     "metadata": {},
     "output_type": "execute_result"
    }
   ],
   "source": [
    "data.marital.value_counts()"
   ]
  },
  {
   "cell_type": "code",
   "execution_count": 61,
   "id": "d17695a4-187a-4db8-8545-9162ae4b413e",
   "metadata": {
    "tags": []
   },
   "outputs": [],
   "source": [
    "marital_ohe = pd.get_dummies(data['marital'],prefix='marital', dtype=int)\n",
    "data = data.join(marital_ohe)"
   ]
  },
  {
   "cell_type": "markdown",
   "id": "9bbc9a8f-6691-40d5-ae21-c5e100dd3bbd",
   "metadata": {},
   "source": [
    "##### Job"
   ]
  },
  {
   "cell_type": "code",
   "execution_count": 62,
   "id": "23659e43-eb3f-41f2-8063-d792d4b009e6",
   "metadata": {
    "tags": []
   },
   "outputs": [
    {
     "data": {
      "text/plain": [
       "job\n",
       "blue-collar      5662\n",
       "management       4766\n",
       "technician       4312\n",
       "admin.           3120\n",
       "services         2518\n",
       "self-employed     834\n",
       "entrepreneur      782\n",
       "unemployed        677\n",
       "student           580\n",
       "housemaid         574\n",
       "retired           272\n",
       "Name: count, dtype: int64"
      ]
     },
     "execution_count": 62,
     "metadata": {},
     "output_type": "execute_result"
    }
   ],
   "source": [
    "data.job.value_counts()"
   ]
  },
  {
   "cell_type": "code",
   "execution_count": 63,
   "id": "7fbe7195-5be0-4069-9cff-cf7bc5a5c63d",
   "metadata": {
    "tags": []
   },
   "outputs": [],
   "source": [
    "job_ohe = pd.get_dummies(data['job'],prefix='job', dtype=int)\n",
    "data = data.join(job_ohe)"
   ]
  },
  {
   "cell_type": "code",
   "execution_count": 64,
   "id": "b4951f98-5ba3-4dac-ba47-0cd2f450e045",
   "metadata": {
    "tags": []
   },
   "outputs": [
    {
     "data": {
      "text/plain": [
       "Index(['age', 'job', 'marital', 'education', 'default', 'balance', 'housing',\n",
       "       'loan', 'contact', 'day', 'month', 'duration', 'campaign', 'previous',\n",
       "       'y', 'contact_cellular', 'contact_telephone', 'marital_divorced',\n",
       "       'marital_married', 'marital_single', 'job_admin.', 'job_blue-collar',\n",
       "       'job_entrepreneur', 'job_housemaid', 'job_management', 'job_retired',\n",
       "       'job_self-employed', 'job_services', 'job_student', 'job_technician',\n",
       "       'job_unemployed'],\n",
       "      dtype='object')"
      ]
     },
     "execution_count": 64,
     "metadata": {},
     "output_type": "execute_result"
    }
   ],
   "source": [
    "data.columns"
   ]
  },
  {
   "cell_type": "code",
   "execution_count": 68,
   "id": "13a3b11c-5c66-4aad-be70-cbf37df83806",
   "metadata": {
    "tags": []
   },
   "outputs": [],
   "source": [
    "data.drop(['job','marital','contact'], axis=1, inplace=True)"
   ]
  },
  {
   "cell_type": "code",
   "execution_count": 69,
   "id": "7e051bcb-25be-48d9-93ee-acfb3d660262",
   "metadata": {
    "tags": []
   },
   "outputs": [
    {
     "data": {
      "text/plain": [
       "Index(['age', 'education', 'default', 'balance', 'housing', 'loan', 'day', 'month', 'duration', 'campaign', 'previous', 'y', 'contact_cellular', 'contact_telephone', 'marital_divorced', 'marital_married', 'marital_single', 'job_admin.', 'job_blue-collar', 'job_entrepreneur', 'job_housemaid', 'job_management', 'job_retired', 'job_self-employed', 'job_services', 'job_student', 'job_technician', 'job_unemployed'], dtype='object')"
      ]
     },
     "execution_count": 69,
     "metadata": {},
     "output_type": "execute_result"
    }
   ],
   "source": [
    "data.columns"
   ]
  },
  {
   "cell_type": "markdown",
   "id": "9af9067d-b010-4f2f-9380-482faa2693d2",
   "metadata": {
    "tags": []
   },
   "source": [
    "### Feature Transformation "
   ]
  },
  {
   "cell_type": "code",
   "execution_count": 70,
   "id": "736846ad-a2eb-435f-9362-df7091a9cd2a",
   "metadata": {
    "tags": []
   },
   "outputs": [
    {
     "data": {
      "text/html": [
       "<div>\n",
       "<style scoped>\n",
       "    .dataframe tbody tr th:only-of-type {\n",
       "        vertical-align: middle;\n",
       "    }\n",
       "\n",
       "    .dataframe tbody tr th {\n",
       "        vertical-align: top;\n",
       "    }\n",
       "\n",
       "    .dataframe thead th {\n",
       "        text-align: right;\n",
       "    }\n",
       "</style>\n",
       "<table border=\"1\" class=\"dataframe\">\n",
       "  <thead>\n",
       "    <tr style=\"text-align: right;\">\n",
       "      <th></th>\n",
       "      <th>age</th>\n",
       "      <th>education</th>\n",
       "      <th>default</th>\n",
       "      <th>balance</th>\n",
       "      <th>housing</th>\n",
       "      <th>loan</th>\n",
       "      <th>day</th>\n",
       "      <th>month</th>\n",
       "      <th>duration</th>\n",
       "      <th>campaign</th>\n",
       "      <th>previous</th>\n",
       "      <th>y</th>\n",
       "      <th>contact_cellular</th>\n",
       "      <th>contact_telephone</th>\n",
       "      <th>marital_divorced</th>\n",
       "      <th>marital_married</th>\n",
       "      <th>marital_single</th>\n",
       "      <th>job_admin.</th>\n",
       "      <th>job_blue-collar</th>\n",
       "      <th>job_entrepreneur</th>\n",
       "      <th>job_housemaid</th>\n",
       "      <th>job_management</th>\n",
       "      <th>job_retired</th>\n",
       "      <th>job_self-employed</th>\n",
       "      <th>job_services</th>\n",
       "      <th>job_student</th>\n",
       "      <th>job_technician</th>\n",
       "      <th>job_unemployed</th>\n",
       "    </tr>\n",
       "  </thead>\n",
       "  <tbody>\n",
       "    <tr>\n",
       "      <th>0</th>\n",
       "      <td>44</td>\n",
       "      <td>1</td>\n",
       "      <td>0</td>\n",
       "      <td>29</td>\n",
       "      <td>1</td>\n",
       "      <td>0</td>\n",
       "      <td>5</td>\n",
       "      <td>4</td>\n",
       "      <td>151</td>\n",
       "      <td>1</td>\n",
       "      <td>0</td>\n",
       "      <td>0</td>\n",
       "      <td>1</td>\n",
       "      <td>0</td>\n",
       "      <td>0</td>\n",
       "      <td>0</td>\n",
       "      <td>1</td>\n",
       "      <td>0</td>\n",
       "      <td>0</td>\n",
       "      <td>0</td>\n",
       "      <td>0</td>\n",
       "      <td>0</td>\n",
       "      <td>0</td>\n",
       "      <td>0</td>\n",
       "      <td>0</td>\n",
       "      <td>0</td>\n",
       "      <td>1</td>\n",
       "      <td>0</td>\n",
       "    </tr>\n",
       "    <tr>\n",
       "      <th>1</th>\n",
       "      <td>33</td>\n",
       "      <td>1</td>\n",
       "      <td>0</td>\n",
       "      <td>2</td>\n",
       "      <td>1</td>\n",
       "      <td>1</td>\n",
       "      <td>5</td>\n",
       "      <td>4</td>\n",
       "      <td>76</td>\n",
       "      <td>1</td>\n",
       "      <td>0</td>\n",
       "      <td>0</td>\n",
       "      <td>1</td>\n",
       "      <td>0</td>\n",
       "      <td>0</td>\n",
       "      <td>1</td>\n",
       "      <td>0</td>\n",
       "      <td>0</td>\n",
       "      <td>0</td>\n",
       "      <td>1</td>\n",
       "      <td>0</td>\n",
       "      <td>0</td>\n",
       "      <td>0</td>\n",
       "      <td>0</td>\n",
       "      <td>0</td>\n",
       "      <td>0</td>\n",
       "      <td>0</td>\n",
       "      <td>0</td>\n",
       "    </tr>\n",
       "    <tr>\n",
       "      <th>2</th>\n",
       "      <td>47</td>\n",
       "      <td>1</td>\n",
       "      <td>0</td>\n",
       "      <td>1506</td>\n",
       "      <td>1</td>\n",
       "      <td>0</td>\n",
       "      <td>5</td>\n",
       "      <td>4</td>\n",
       "      <td>92</td>\n",
       "      <td>1</td>\n",
       "      <td>0</td>\n",
       "      <td>0</td>\n",
       "      <td>1</td>\n",
       "      <td>0</td>\n",
       "      <td>0</td>\n",
       "      <td>1</td>\n",
       "      <td>0</td>\n",
       "      <td>0</td>\n",
       "      <td>1</td>\n",
       "      <td>0</td>\n",
       "      <td>0</td>\n",
       "      <td>0</td>\n",
       "      <td>0</td>\n",
       "      <td>0</td>\n",
       "      <td>0</td>\n",
       "      <td>0</td>\n",
       "      <td>0</td>\n",
       "      <td>0</td>\n",
       "    </tr>\n",
       "    <tr>\n",
       "      <th>3</th>\n",
       "      <td>33</td>\n",
       "      <td>1</td>\n",
       "      <td>0</td>\n",
       "      <td>1</td>\n",
       "      <td>0</td>\n",
       "      <td>0</td>\n",
       "      <td>5</td>\n",
       "      <td>4</td>\n",
       "      <td>198</td>\n",
       "      <td>1</td>\n",
       "      <td>0</td>\n",
       "      <td>0</td>\n",
       "      <td>1</td>\n",
       "      <td>0</td>\n",
       "      <td>0</td>\n",
       "      <td>0</td>\n",
       "      <td>1</td>\n",
       "      <td>0</td>\n",
       "      <td>1</td>\n",
       "      <td>0</td>\n",
       "      <td>0</td>\n",
       "      <td>0</td>\n",
       "      <td>0</td>\n",
       "      <td>0</td>\n",
       "      <td>0</td>\n",
       "      <td>0</td>\n",
       "      <td>0</td>\n",
       "      <td>0</td>\n",
       "    </tr>\n",
       "    <tr>\n",
       "      <th>4</th>\n",
       "      <td>35</td>\n",
       "      <td>2</td>\n",
       "      <td>0</td>\n",
       "      <td>231</td>\n",
       "      <td>1</td>\n",
       "      <td>0</td>\n",
       "      <td>5</td>\n",
       "      <td>4</td>\n",
       "      <td>139</td>\n",
       "      <td>1</td>\n",
       "      <td>0</td>\n",
       "      <td>0</td>\n",
       "      <td>1</td>\n",
       "      <td>0</td>\n",
       "      <td>0</td>\n",
       "      <td>1</td>\n",
       "      <td>0</td>\n",
       "      <td>0</td>\n",
       "      <td>0</td>\n",
       "      <td>0</td>\n",
       "      <td>0</td>\n",
       "      <td>1</td>\n",
       "      <td>0</td>\n",
       "      <td>0</td>\n",
       "      <td>0</td>\n",
       "      <td>0</td>\n",
       "      <td>0</td>\n",
       "      <td>0</td>\n",
       "    </tr>\n",
       "  </tbody>\n",
       "</table>\n",
       "</div>"
      ],
      "text/plain": [
       "   age  education  default  balance  housing  loan  day  month  duration  campaign  previous  y  contact_cellular  contact_telephone  marital_divorced  marital_married  marital_single  job_admin.  job_blue-collar  job_entrepreneur  job_housemaid  job_management  job_retired  job_self-employed  job_services  job_student  job_technician  job_unemployed\n",
       "0   44          1        0       29        1     0    5      4       151         1         0  0                 1                  0                 0                0               1           0                0                 0              0               0            0                  0             0            0               1               0\n",
       "1   33          1        0        2        1     1    5      4        76         1         0  0                 1                  0                 0                1               0           0                0                 1              0               0            0                  0             0            0               0               0\n",
       "2   47          1        0     1506        1     0    5      4        92         1         0  0                 1                  0                 0                1               0           0                1                 0              0               0            0                  0             0            0               0               0\n",
       "3   33          1        0        1        0     0    5      4       198         1         0  0                 1                  0                 0                0               1           0                1                 0              0               0            0                  0             0            0               0               0\n",
       "4   35          2        0      231        1     0    5      4       139         1         0  0                 1                  0                 0                1               0           0                0                 0              0               1            0                  0             0            0               0               0"
      ]
     },
     "execution_count": 70,
     "metadata": {},
     "output_type": "execute_result"
    }
   ],
   "source": [
    "pd.set_option('display.max_rows', 500)\n",
    "pd.set_option('display.max_columns', 500)\n",
    "pd.set_option('display.width', 1000)\n",
    "\n",
    "data.head()"
   ]
  },
  {
   "cell_type": "code",
   "execution_count": 71,
   "id": "7969ecc3-e1a9-404d-9646-4582b2aff005",
   "metadata": {
    "tags": []
   },
   "outputs": [
    {
     "name": "stdout",
     "output_type": "stream",
     "text": [
      "<class 'pandas.core.frame.DataFrame'>\n",
      "RangeIndex: 24097 entries, 0 to 24096\n",
      "Data columns (total 28 columns):\n",
      " #   Column             Non-Null Count  Dtype\n",
      "---  ------             --------------  -----\n",
      " 0   age                24097 non-null  int64\n",
      " 1   education          24097 non-null  int64\n",
      " 2   default            24097 non-null  int64\n",
      " 3   balance            24097 non-null  int64\n",
      " 4   housing            24097 non-null  int64\n",
      " 5   loan               24097 non-null  int64\n",
      " 6   day                24097 non-null  int64\n",
      " 7   month              24097 non-null  int64\n",
      " 8   duration           24097 non-null  int64\n",
      " 9   campaign           24097 non-null  int64\n",
      " 10  previous           24097 non-null  int64\n",
      " 11  y                  24097 non-null  int64\n",
      " 12  contact_cellular   24097 non-null  int64\n",
      " 13  contact_telephone  24097 non-null  int64\n",
      " 14  marital_divorced   24097 non-null  int64\n",
      " 15  marital_married    24097 non-null  int64\n",
      " 16  marital_single     24097 non-null  int64\n",
      " 17  job_admin.         24097 non-null  int64\n",
      " 18  job_blue-collar    24097 non-null  int64\n",
      " 19  job_entrepreneur   24097 non-null  int64\n",
      " 20  job_housemaid      24097 non-null  int64\n",
      " 21  job_management     24097 non-null  int64\n",
      " 22  job_retired        24097 non-null  int64\n",
      " 23  job_self-employed  24097 non-null  int64\n",
      " 24  job_services       24097 non-null  int64\n",
      " 25  job_student        24097 non-null  int64\n",
      " 26  job_technician     24097 non-null  int64\n",
      " 27  job_unemployed     24097 non-null  int64\n",
      "dtypes: int64(28)\n",
      "memory usage: 5.1 MB\n"
     ]
    }
   ],
   "source": [
    "data.info()"
   ]
  },
  {
   "cell_type": "code",
   "execution_count": 72,
   "id": "46521bb8-9b34-48cf-b305-b591b1b4288d",
   "metadata": {
    "tags": []
   },
   "outputs": [
    {
     "data": {
      "text/plain": [
       "Index(['age', 'balance', 'duration', 'campaign'], dtype='object')"
      ]
     },
     "execution_count": 72,
     "metadata": {},
     "output_type": "execute_result"
    }
   ],
   "source": [
    "data[numerical].columns"
   ]
  },
  {
   "cell_type": "code",
   "execution_count": 73,
   "id": "ad72d42a-a509-4041-a452-a699022c07ed",
   "metadata": {
    "tags": []
   },
   "outputs": [],
   "source": [
    "# numerical scalling\n",
    "data.loc[:,['age']] = StandardScaler().fit_transform(data['age'].values.reshape(len(data),1))\n",
    "data.loc[:,['campaign']] = StandardScaler().fit_transform(data['campaign'].values.reshape(len(data),1))\n",
    "data.loc[:,['balance']] = StandardScaler().fit_transform(data['balance'].values.reshape(len(data),1))\n",
    "data.loc[:,['duration']] = StandardScaler().fit_transform(data['duration'].values.reshape(len(data),1))\n",
    "data.loc[:,['day']] = StandardScaler().fit_transform(data['age'].values.reshape(len(data),1))"
   ]
  },
  {
   "cell_type": "code",
   "execution_count": 77,
   "id": "8ef3bdf5-11a0-4c1d-893c-cb1b4d487f18",
   "metadata": {},
   "outputs": [
    {
     "data": {
      "text/plain": [
       "['education', 'default', 'housing', 'loan', 'month', 'y']"
      ]
     },
     "execution_count": 77,
     "metadata": {},
     "output_type": "execute_result"
    }
   ],
   "source": [
    "cat_ordinal"
   ]
  },
  {
   "cell_type": "code",
   "execution_count": 78,
   "id": "04f5a646-206b-4193-b69b-b2798f292423",
   "metadata": {
    "tags": []
   },
   "outputs": [],
   "source": [
    "# categorical ordinal more than 2 value scalling\n",
    "data.loc[:,['education']] = StandardScaler().fit_transform(data['education'].values.reshape(len(data),1))\n",
    "data.loc[:,['month']] = StandardScaler().fit_transform(data['month'].values.reshape(len(data),1))"
   ]
  },
  {
   "cell_type": "code",
   "execution_count": 79,
   "id": "b60dfa59-fc6d-4db2-9a3d-a323041b5a4a",
   "metadata": {
    "tags": []
   },
   "outputs": [
    {
     "data": {
      "text/html": [
       "<div>\n",
       "<style scoped>\n",
       "    .dataframe tbody tr th:only-of-type {\n",
       "        vertical-align: middle;\n",
       "    }\n",
       "\n",
       "    .dataframe tbody tr th {\n",
       "        vertical-align: top;\n",
       "    }\n",
       "\n",
       "    .dataframe thead th {\n",
       "        text-align: right;\n",
       "    }\n",
       "</style>\n",
       "<table border=\"1\" class=\"dataframe\">\n",
       "  <thead>\n",
       "    <tr style=\"text-align: right;\">\n",
       "      <th></th>\n",
       "      <th>age</th>\n",
       "      <th>education</th>\n",
       "      <th>default</th>\n",
       "      <th>balance</th>\n",
       "      <th>housing</th>\n",
       "      <th>loan</th>\n",
       "      <th>day</th>\n",
       "      <th>month</th>\n",
       "      <th>duration</th>\n",
       "      <th>campaign</th>\n",
       "      <th>previous</th>\n",
       "      <th>y</th>\n",
       "      <th>contact_cellular</th>\n",
       "      <th>contact_telephone</th>\n",
       "      <th>marital_divorced</th>\n",
       "      <th>marital_married</th>\n",
       "      <th>marital_single</th>\n",
       "      <th>job_admin.</th>\n",
       "      <th>job_blue-collar</th>\n",
       "      <th>job_entrepreneur</th>\n",
       "      <th>job_housemaid</th>\n",
       "      <th>job_management</th>\n",
       "      <th>job_retired</th>\n",
       "      <th>job_self-employed</th>\n",
       "      <th>job_services</th>\n",
       "      <th>job_student</th>\n",
       "      <th>job_technician</th>\n",
       "      <th>job_unemployed</th>\n",
       "    </tr>\n",
       "  </thead>\n",
       "  <tbody>\n",
       "    <tr>\n",
       "      <th>0</th>\n",
       "      <td>0.695517</td>\n",
       "      <td>-0.232452</td>\n",
       "      <td>0</td>\n",
       "      <td>-0.713083</td>\n",
       "      <td>1</td>\n",
       "      <td>0</td>\n",
       "      <td>0.695517</td>\n",
       "      <td>-0.401396</td>\n",
       "      <td>-0.260866</td>\n",
       "      <td>-0.900753</td>\n",
       "      <td>0</td>\n",
       "      <td>0</td>\n",
       "      <td>1</td>\n",
       "      <td>0</td>\n",
       "      <td>0</td>\n",
       "      <td>0</td>\n",
       "      <td>1</td>\n",
       "      <td>0</td>\n",
       "      <td>0</td>\n",
       "      <td>0</td>\n",
       "      <td>0</td>\n",
       "      <td>0</td>\n",
       "      <td>0</td>\n",
       "      <td>0</td>\n",
       "      <td>0</td>\n",
       "      <td>0</td>\n",
       "      <td>1</td>\n",
       "      <td>0</td>\n",
       "    </tr>\n",
       "    <tr>\n",
       "      <th>1</th>\n",
       "      <td>-0.636765</td>\n",
       "      <td>-0.232452</td>\n",
       "      <td>0</td>\n",
       "      <td>-0.761484</td>\n",
       "      <td>1</td>\n",
       "      <td>1</td>\n",
       "      <td>-0.636765</td>\n",
       "      <td>-0.401396</td>\n",
       "      <td>-1.015248</td>\n",
       "      <td>-0.900753</td>\n",
       "      <td>0</td>\n",
       "      <td>0</td>\n",
       "      <td>1</td>\n",
       "      <td>0</td>\n",
       "      <td>0</td>\n",
       "      <td>1</td>\n",
       "      <td>0</td>\n",
       "      <td>0</td>\n",
       "      <td>0</td>\n",
       "      <td>1</td>\n",
       "      <td>0</td>\n",
       "      <td>0</td>\n",
       "      <td>0</td>\n",
       "      <td>0</td>\n",
       "      <td>0</td>\n",
       "      <td>0</td>\n",
       "      <td>0</td>\n",
       "      <td>0</td>\n",
       "    </tr>\n",
       "    <tr>\n",
       "      <th>2</th>\n",
       "      <td>1.058867</td>\n",
       "      <td>-0.232452</td>\n",
       "      <td>0</td>\n",
       "      <td>1.934648</td>\n",
       "      <td>1</td>\n",
       "      <td>0</td>\n",
       "      <td>1.058867</td>\n",
       "      <td>-0.401396</td>\n",
       "      <td>-0.854313</td>\n",
       "      <td>-0.900753</td>\n",
       "      <td>0</td>\n",
       "      <td>0</td>\n",
       "      <td>1</td>\n",
       "      <td>0</td>\n",
       "      <td>0</td>\n",
       "      <td>1</td>\n",
       "      <td>0</td>\n",
       "      <td>0</td>\n",
       "      <td>1</td>\n",
       "      <td>0</td>\n",
       "      <td>0</td>\n",
       "      <td>0</td>\n",
       "      <td>0</td>\n",
       "      <td>0</td>\n",
       "      <td>0</td>\n",
       "      <td>0</td>\n",
       "      <td>0</td>\n",
       "      <td>0</td>\n",
       "    </tr>\n",
       "    <tr>\n",
       "      <th>3</th>\n",
       "      <td>-0.636765</td>\n",
       "      <td>-0.232452</td>\n",
       "      <td>0</td>\n",
       "      <td>-0.763277</td>\n",
       "      <td>0</td>\n",
       "      <td>0</td>\n",
       "      <td>-0.636765</td>\n",
       "      <td>-0.401396</td>\n",
       "      <td>0.211880</td>\n",
       "      <td>-0.900753</td>\n",
       "      <td>0</td>\n",
       "      <td>0</td>\n",
       "      <td>1</td>\n",
       "      <td>0</td>\n",
       "      <td>0</td>\n",
       "      <td>0</td>\n",
       "      <td>1</td>\n",
       "      <td>0</td>\n",
       "      <td>1</td>\n",
       "      <td>0</td>\n",
       "      <td>0</td>\n",
       "      <td>0</td>\n",
       "      <td>0</td>\n",
       "      <td>0</td>\n",
       "      <td>0</td>\n",
       "      <td>0</td>\n",
       "      <td>0</td>\n",
       "      <td>0</td>\n",
       "    </tr>\n",
       "    <tr>\n",
       "      <th>4</th>\n",
       "      <td>-0.394532</td>\n",
       "      <td>1.353897</td>\n",
       "      <td>0</td>\n",
       "      <td>-0.350969</td>\n",
       "      <td>1</td>\n",
       "      <td>0</td>\n",
       "      <td>-0.394532</td>\n",
       "      <td>-0.401396</td>\n",
       "      <td>-0.381567</td>\n",
       "      <td>-0.900753</td>\n",
       "      <td>0</td>\n",
       "      <td>0</td>\n",
       "      <td>1</td>\n",
       "      <td>0</td>\n",
       "      <td>0</td>\n",
       "      <td>1</td>\n",
       "      <td>0</td>\n",
       "      <td>0</td>\n",
       "      <td>0</td>\n",
       "      <td>0</td>\n",
       "      <td>0</td>\n",
       "      <td>1</td>\n",
       "      <td>0</td>\n",
       "      <td>0</td>\n",
       "      <td>0</td>\n",
       "      <td>0</td>\n",
       "      <td>0</td>\n",
       "      <td>0</td>\n",
       "    </tr>\n",
       "  </tbody>\n",
       "</table>\n",
       "</div>"
      ],
      "text/plain": [
       "        age  education  default   balance  housing  loan       day     month  duration  campaign  previous  y  contact_cellular  contact_telephone  marital_divorced  marital_married  marital_single  job_admin.  job_blue-collar  job_entrepreneur  job_housemaid  job_management  job_retired  job_self-employed  job_services  job_student  job_technician  job_unemployed\n",
       "0  0.695517  -0.232452        0 -0.713083        1     0  0.695517 -0.401396 -0.260866 -0.900753         0  0                 1                  0                 0                0               1           0                0                 0              0               0            0                  0             0            0               1               0\n",
       "1 -0.636765  -0.232452        0 -0.761484        1     1 -0.636765 -0.401396 -1.015248 -0.900753         0  0                 1                  0                 0                1               0           0                0                 1              0               0            0                  0             0            0               0               0\n",
       "2  1.058867  -0.232452        0  1.934648        1     0  1.058867 -0.401396 -0.854313 -0.900753         0  0                 1                  0                 0                1               0           0                1                 0              0               0            0                  0             0            0               0               0\n",
       "3 -0.636765  -0.232452        0 -0.763277        0     0 -0.636765 -0.401396  0.211880 -0.900753         0  0                 1                  0                 0                0               1           0                1                 0              0               0            0                  0             0            0               0               0\n",
       "4 -0.394532   1.353897        0 -0.350969        1     0 -0.394532 -0.401396 -0.381567 -0.900753         0  0                 1                  0                 0                1               0           0                0                 0              0               1            0                  0             0            0               0               0"
      ]
     },
     "execution_count": 79,
     "metadata": {},
     "output_type": "execute_result"
    }
   ],
   "source": [
    "data.head()"
   ]
  },
  {
   "cell_type": "code",
   "execution_count": 80,
   "id": "e829687b-ef55-4ecc-a70c-69b181eae64a",
   "metadata": {
    "tags": []
   },
   "outputs": [
    {
     "data": {
      "text/html": [
       "<div>\n",
       "<style scoped>\n",
       "    .dataframe tbody tr th:only-of-type {\n",
       "        vertical-align: middle;\n",
       "    }\n",
       "\n",
       "    .dataframe tbody tr th {\n",
       "        vertical-align: top;\n",
       "    }\n",
       "\n",
       "    .dataframe thead th {\n",
       "        text-align: right;\n",
       "    }\n",
       "</style>\n",
       "<table border=\"1\" class=\"dataframe\">\n",
       "  <thead>\n",
       "    <tr style=\"text-align: right;\">\n",
       "      <th></th>\n",
       "      <th>age</th>\n",
       "      <th>education</th>\n",
       "      <th>default</th>\n",
       "      <th>balance</th>\n",
       "      <th>housing</th>\n",
       "      <th>loan</th>\n",
       "      <th>day</th>\n",
       "      <th>month</th>\n",
       "      <th>duration</th>\n",
       "      <th>campaign</th>\n",
       "      <th>previous</th>\n",
       "      <th>y</th>\n",
       "      <th>contact_cellular</th>\n",
       "      <th>contact_telephone</th>\n",
       "      <th>marital_divorced</th>\n",
       "      <th>marital_married</th>\n",
       "      <th>marital_single</th>\n",
       "      <th>job_admin.</th>\n",
       "      <th>job_blue-collar</th>\n",
       "      <th>job_entrepreneur</th>\n",
       "      <th>job_housemaid</th>\n",
       "      <th>job_management</th>\n",
       "      <th>job_retired</th>\n",
       "      <th>job_self-employed</th>\n",
       "      <th>job_services</th>\n",
       "      <th>job_student</th>\n",
       "      <th>job_technician</th>\n",
       "      <th>job_unemployed</th>\n",
       "    </tr>\n",
       "  </thead>\n",
       "  <tbody>\n",
       "    <tr>\n",
       "      <th>count</th>\n",
       "      <td>2.409700e+04</td>\n",
       "      <td>2.409700e+04</td>\n",
       "      <td>24097.000000</td>\n",
       "      <td>2.409700e+04</td>\n",
       "      <td>24097.000000</td>\n",
       "      <td>24097.000000</td>\n",
       "      <td>2.409700e+04</td>\n",
       "      <td>2.409700e+04</td>\n",
       "      <td>2.409700e+04</td>\n",
       "      <td>2.409700e+04</td>\n",
       "      <td>24097.000000</td>\n",
       "      <td>24097.000000</td>\n",
       "      <td>24097.000000</td>\n",
       "      <td>24097.000000</td>\n",
       "      <td>24097.000000</td>\n",
       "      <td>24097.000000</td>\n",
       "      <td>24097.000000</td>\n",
       "      <td>24097.000000</td>\n",
       "      <td>24097.000000</td>\n",
       "      <td>24097.000000</td>\n",
       "      <td>24097.000000</td>\n",
       "      <td>24097.000000</td>\n",
       "      <td>24097.000000</td>\n",
       "      <td>24097.000000</td>\n",
       "      <td>24097.000000</td>\n",
       "      <td>24097.000000</td>\n",
       "      <td>24097.000000</td>\n",
       "      <td>24097.000000</td>\n",
       "    </tr>\n",
       "    <tr>\n",
       "      <th>mean</th>\n",
       "      <td>-2.925088e-16</td>\n",
       "      <td>-1.509723e-16</td>\n",
       "      <td>0.021704</td>\n",
       "      <td>-3.774307e-17</td>\n",
       "      <td>0.604930</td>\n",
       "      <td>0.177449</td>\n",
       "      <td>-9.435767e-18</td>\n",
       "      <td>-1.321007e-16</td>\n",
       "      <td>4.010201e-17</td>\n",
       "      <td>-8.492190e-17</td>\n",
       "      <td>0.188073</td>\n",
       "      <td>0.060547</td>\n",
       "      <td>0.955389</td>\n",
       "      <td>0.044611</td>\n",
       "      <td>0.111674</td>\n",
       "      <td>0.573557</td>\n",
       "      <td>0.314769</td>\n",
       "      <td>0.129477</td>\n",
       "      <td>0.234967</td>\n",
       "      <td>0.032452</td>\n",
       "      <td>0.023820</td>\n",
       "      <td>0.197784</td>\n",
       "      <td>0.011288</td>\n",
       "      <td>0.034610</td>\n",
       "      <td>0.104494</td>\n",
       "      <td>0.024069</td>\n",
       "      <td>0.178943</td>\n",
       "      <td>0.028095</td>\n",
       "    </tr>\n",
       "    <tr>\n",
       "      <th>std</th>\n",
       "      <td>1.000021e+00</td>\n",
       "      <td>1.000021e+00</td>\n",
       "      <td>0.145718</td>\n",
       "      <td>1.000021e+00</td>\n",
       "      <td>0.488876</td>\n",
       "      <td>0.382057</td>\n",
       "      <td>1.000021e+00</td>\n",
       "      <td>1.000021e+00</td>\n",
       "      <td>1.000021e+00</td>\n",
       "      <td>1.000021e+00</td>\n",
       "      <td>0.390779</td>\n",
       "      <td>0.238502</td>\n",
       "      <td>0.206453</td>\n",
       "      <td>0.206453</td>\n",
       "      <td>0.314971</td>\n",
       "      <td>0.494570</td>\n",
       "      <td>0.464434</td>\n",
       "      <td>0.335734</td>\n",
       "      <td>0.423987</td>\n",
       "      <td>0.177201</td>\n",
       "      <td>0.152492</td>\n",
       "      <td>0.398337</td>\n",
       "      <td>0.105645</td>\n",
       "      <td>0.182794</td>\n",
       "      <td>0.305907</td>\n",
       "      <td>0.153268</td>\n",
       "      <td>0.383313</td>\n",
       "      <td>0.165247</td>\n",
       "    </tr>\n",
       "    <tr>\n",
       "      <th>min</th>\n",
       "      <td>-2.453514e+00</td>\n",
       "      <td>-1.818801e+00</td>\n",
       "      <td>0.000000</td>\n",
       "      <td>-4.088626e+00</td>\n",
       "      <td>0.000000</td>\n",
       "      <td>0.000000</td>\n",
       "      <td>-2.453514e+00</td>\n",
       "      <td>-2.087957e+00</td>\n",
       "      <td>-1.779687e+00</td>\n",
       "      <td>-9.007526e-01</td>\n",
       "      <td>0.000000</td>\n",
       "      <td>0.000000</td>\n",
       "      <td>0.000000</td>\n",
       "      <td>0.000000</td>\n",
       "      <td>0.000000</td>\n",
       "      <td>0.000000</td>\n",
       "      <td>0.000000</td>\n",
       "      <td>0.000000</td>\n",
       "      <td>0.000000</td>\n",
       "      <td>0.000000</td>\n",
       "      <td>0.000000</td>\n",
       "      <td>0.000000</td>\n",
       "      <td>0.000000</td>\n",
       "      <td>0.000000</td>\n",
       "      <td>0.000000</td>\n",
       "      <td>0.000000</td>\n",
       "      <td>0.000000</td>\n",
       "      <td>0.000000</td>\n",
       "    </tr>\n",
       "    <tr>\n",
       "      <th>25%</th>\n",
       "      <td>-7.578821e-01</td>\n",
       "      <td>-2.324521e-01</td>\n",
       "      <td>0.000000</td>\n",
       "      <td>-7.202532e-01</td>\n",
       "      <td>0.000000</td>\n",
       "      <td>0.000000</td>\n",
       "      <td>-7.578821e-01</td>\n",
       "      <td>-4.013956e-01</td>\n",
       "      <td>-7.839039e-01</td>\n",
       "      <td>-9.007526e-01</td>\n",
       "      <td>0.000000</td>\n",
       "      <td>0.000000</td>\n",
       "      <td>1.000000</td>\n",
       "      <td>0.000000</td>\n",
       "      <td>0.000000</td>\n",
       "      <td>0.000000</td>\n",
       "      <td>0.000000</td>\n",
       "      <td>0.000000</td>\n",
       "      <td>0.000000</td>\n",
       "      <td>0.000000</td>\n",
       "      <td>0.000000</td>\n",
       "      <td>0.000000</td>\n",
       "      <td>0.000000</td>\n",
       "      <td>0.000000</td>\n",
       "      <td>0.000000</td>\n",
       "      <td>0.000000</td>\n",
       "      <td>0.000000</td>\n",
       "      <td>0.000000</td>\n",
       "    </tr>\n",
       "    <tr>\n",
       "      <th>50%</th>\n",
       "      <td>-1.522992e-01</td>\n",
       "      <td>-2.324521e-01</td>\n",
       "      <td>0.000000</td>\n",
       "      <td>-2.756783e-01</td>\n",
       "      <td>1.000000</td>\n",
       "      <td>0.000000</td>\n",
       "      <td>-1.522992e-01</td>\n",
       "      <td>-4.013956e-01</td>\n",
       "      <td>-1.803987e-01</td>\n",
       "      <td>1.255577e-01</td>\n",
       "      <td>0.000000</td>\n",
       "      <td>0.000000</td>\n",
       "      <td>1.000000</td>\n",
       "      <td>0.000000</td>\n",
       "      <td>0.000000</td>\n",
       "      <td>1.000000</td>\n",
       "      <td>0.000000</td>\n",
       "      <td>0.000000</td>\n",
       "      <td>0.000000</td>\n",
       "      <td>0.000000</td>\n",
       "      <td>0.000000</td>\n",
       "      <td>0.000000</td>\n",
       "      <td>0.000000</td>\n",
       "      <td>0.000000</td>\n",
       "      <td>0.000000</td>\n",
       "      <td>0.000000</td>\n",
       "      <td>0.000000</td>\n",
       "      <td>0.000000</td>\n",
       "    </tr>\n",
       "    <tr>\n",
       "      <th>75%</th>\n",
       "      <td>8.166334e-01</td>\n",
       "      <td>1.353897e+00</td>\n",
       "      <td>0.000000</td>\n",
       "      <td>5.112911e-01</td>\n",
       "      <td>1.000000</td>\n",
       "      <td>0.000000</td>\n",
       "      <td>8.166334e-01</td>\n",
       "      <td>4.418852e-01</td>\n",
       "      <td>6.645085e-01</td>\n",
       "      <td>1.255577e-01</td>\n",
       "      <td>0.000000</td>\n",
       "      <td>0.000000</td>\n",
       "      <td>1.000000</td>\n",
       "      <td>0.000000</td>\n",
       "      <td>0.000000</td>\n",
       "      <td>1.000000</td>\n",
       "      <td>1.000000</td>\n",
       "      <td>0.000000</td>\n",
       "      <td>0.000000</td>\n",
       "      <td>0.000000</td>\n",
       "      <td>0.000000</td>\n",
       "      <td>0.000000</td>\n",
       "      <td>0.000000</td>\n",
       "      <td>0.000000</td>\n",
       "      <td>0.000000</td>\n",
       "      <td>0.000000</td>\n",
       "      <td>0.000000</td>\n",
       "      <td>0.000000</td>\n",
       "    </tr>\n",
       "    <tr>\n",
       "      <th>max</th>\n",
       "      <td>2.027799e+00</td>\n",
       "      <td>1.353897e+00</td>\n",
       "      <td>1.000000</td>\n",
       "      <td>2.834554e+00</td>\n",
       "      <td>1.000000</td>\n",
       "      <td>1.000000</td>\n",
       "      <td>2.027799e+00</td>\n",
       "      <td>2.550087e+00</td>\n",
       "      <td>2.485082e+00</td>\n",
       "      <td>2.178178e+00</td>\n",
       "      <td>1.000000</td>\n",
       "      <td>1.000000</td>\n",
       "      <td>1.000000</td>\n",
       "      <td>1.000000</td>\n",
       "      <td>1.000000</td>\n",
       "      <td>1.000000</td>\n",
       "      <td>1.000000</td>\n",
       "      <td>1.000000</td>\n",
       "      <td>1.000000</td>\n",
       "      <td>1.000000</td>\n",
       "      <td>1.000000</td>\n",
       "      <td>1.000000</td>\n",
       "      <td>1.000000</td>\n",
       "      <td>1.000000</td>\n",
       "      <td>1.000000</td>\n",
       "      <td>1.000000</td>\n",
       "      <td>1.000000</td>\n",
       "      <td>1.000000</td>\n",
       "    </tr>\n",
       "  </tbody>\n",
       "</table>\n",
       "</div>"
      ],
      "text/plain": [
       "                age     education       default       balance       housing          loan           day         month      duration      campaign      previous             y  contact_cellular  contact_telephone  marital_divorced  marital_married  marital_single    job_admin.  job_blue-collar  job_entrepreneur  job_housemaid  job_management   job_retired  job_self-employed  job_services   job_student  job_technician  job_unemployed\n",
       "count  2.409700e+04  2.409700e+04  24097.000000  2.409700e+04  24097.000000  24097.000000  2.409700e+04  2.409700e+04  2.409700e+04  2.409700e+04  24097.000000  24097.000000      24097.000000       24097.000000      24097.000000     24097.000000    24097.000000  24097.000000     24097.000000      24097.000000   24097.000000    24097.000000  24097.000000       24097.000000  24097.000000  24097.000000    24097.000000    24097.000000\n",
       "mean  -2.925088e-16 -1.509723e-16      0.021704 -3.774307e-17      0.604930      0.177449 -9.435767e-18 -1.321007e-16  4.010201e-17 -8.492190e-17      0.188073      0.060547          0.955389           0.044611          0.111674         0.573557        0.314769      0.129477         0.234967          0.032452       0.023820        0.197784      0.011288           0.034610      0.104494      0.024069        0.178943        0.028095\n",
       "std    1.000021e+00  1.000021e+00      0.145718  1.000021e+00      0.488876      0.382057  1.000021e+00  1.000021e+00  1.000021e+00  1.000021e+00      0.390779      0.238502          0.206453           0.206453          0.314971         0.494570        0.464434      0.335734         0.423987          0.177201       0.152492        0.398337      0.105645           0.182794      0.305907      0.153268        0.383313        0.165247\n",
       "min   -2.453514e+00 -1.818801e+00      0.000000 -4.088626e+00      0.000000      0.000000 -2.453514e+00 -2.087957e+00 -1.779687e+00 -9.007526e-01      0.000000      0.000000          0.000000           0.000000          0.000000         0.000000        0.000000      0.000000         0.000000          0.000000       0.000000        0.000000      0.000000           0.000000      0.000000      0.000000        0.000000        0.000000\n",
       "25%   -7.578821e-01 -2.324521e-01      0.000000 -7.202532e-01      0.000000      0.000000 -7.578821e-01 -4.013956e-01 -7.839039e-01 -9.007526e-01      0.000000      0.000000          1.000000           0.000000          0.000000         0.000000        0.000000      0.000000         0.000000          0.000000       0.000000        0.000000      0.000000           0.000000      0.000000      0.000000        0.000000        0.000000\n",
       "50%   -1.522992e-01 -2.324521e-01      0.000000 -2.756783e-01      1.000000      0.000000 -1.522992e-01 -4.013956e-01 -1.803987e-01  1.255577e-01      0.000000      0.000000          1.000000           0.000000          0.000000         1.000000        0.000000      0.000000         0.000000          0.000000       0.000000        0.000000      0.000000           0.000000      0.000000      0.000000        0.000000        0.000000\n",
       "75%    8.166334e-01  1.353897e+00      0.000000  5.112911e-01      1.000000      0.000000  8.166334e-01  4.418852e-01  6.645085e-01  1.255577e-01      0.000000      0.000000          1.000000           0.000000          0.000000         1.000000        1.000000      0.000000         0.000000          0.000000       0.000000        0.000000      0.000000           0.000000      0.000000      0.000000        0.000000        0.000000\n",
       "max    2.027799e+00  1.353897e+00      1.000000  2.834554e+00      1.000000      1.000000  2.027799e+00  2.550087e+00  2.485082e+00  2.178178e+00      1.000000      1.000000          1.000000           1.000000          1.000000         1.000000        1.000000      1.000000         1.000000          1.000000       1.000000        1.000000      1.000000           1.000000      1.000000      1.000000        1.000000        1.000000"
      ]
     },
     "execution_count": 80,
     "metadata": {},
     "output_type": "execute_result"
    }
   ],
   "source": [
    "data.describe()"
   ]
  }
 ],
 "metadata": {
  "kernelspec": {
   "display_name": "final_project",
   "language": "python",
   "name": "final_project"
  },
  "language_info": {
   "codemirror_mode": {
    "name": "ipython",
    "version": 3
   },
   "file_extension": ".py",
   "mimetype": "text/x-python",
   "name": "python",
   "nbconvert_exporter": "python",
   "pygments_lexer": "ipython3",
   "version": "3.11.4"
  }
 },
 "nbformat": 4,
 "nbformat_minor": 5
}
