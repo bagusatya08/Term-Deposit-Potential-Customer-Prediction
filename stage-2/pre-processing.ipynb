{
 "cells": [
  {
   "cell_type": "code",
   "execution_count": 1,
   "id": "56d54e8e-57c6-4571-bfe9-b6abedd81644",
   "metadata": {
    "tags": []
   },
   "outputs": [],
   "source": [
    "# math & tables module\n",
    "import numpy as np\n",
    "import pandas as pd\n",
    "\n",
    "# plotting module\n",
    "from matplotlib import pyplot as plt\n",
    "import seaborn as sns\n",
    "\n",
    "# module to show version used in project\n",
    "import session_info\n",
    "\n",
    "# statistics module\n",
    "from scipy import stats as st\n",
    "import statsmodels.stats.proportion as sp\n",
    "\n",
    "# pre-processing\n",
    "from sklearn.preprocessing import RobustScaler, StandardScaler"
   ]
  },
  {
   "cell_type": "code",
   "execution_count": 2,
   "id": "e7fe40d5-25b8-4ab3-ac27-083026a73b99",
   "metadata": {
    "tags": []
   },
   "outputs": [
    {
     "data": {
      "text/html": [
       "<details>\n",
       "<summary>Click to view session information</summary>\n",
       "<pre>\n",
       "-----\n",
       "matplotlib          3.8.0\n",
       "numpy               1.26.1\n",
       "pandas              2.1.1\n",
       "scipy               1.11.3\n",
       "seaborn             0.13.0\n",
       "session_info        1.0.0\n",
       "sklearn             1.3.1\n",
       "statsmodels         0.14.0\n",
       "-----\n",
       "</pre>\n",
       "<details>\n",
       "<summary>Click to view modules imported as dependencies</summary>\n",
       "<pre>\n",
       "PIL                 10.1.0\n",
       "appnope             0.1.3\n",
       "asttokens           NA\n",
       "backcall            0.2.0\n",
       "comm                0.1.4\n",
       "cycler              0.12.1\n",
       "cython_runtime      NA\n",
       "dateutil            2.8.2\n",
       "debugpy             1.8.0\n",
       "decorator           5.1.1\n",
       "executing           2.0.0\n",
       "ipykernel           6.25.2\n",
       "jedi                0.19.1\n",
       "joblib              1.3.2\n",
       "kiwisolver          1.4.5\n",
       "mpl_toolkits        NA\n",
       "packaging           23.2\n",
       "parso               0.8.3\n",
       "patsy               0.5.3\n",
       "pexpect             4.8.0\n",
       "pickleshare         0.7.5\n",
       "platformdirs        3.11.0\n",
       "prompt_toolkit      3.0.39\n",
       "psutil              5.9.6\n",
       "ptyprocess          0.7.0\n",
       "pure_eval           0.2.2\n",
       "pydev_ipython       NA\n",
       "pydevconsole        NA\n",
       "pydevd              2.9.5\n",
       "pydevd_file_utils   NA\n",
       "pydevd_plugins      NA\n",
       "pydevd_tracing      NA\n",
       "pygments            2.16.1\n",
       "pyparsing           3.1.1\n",
       "pytz                2023.3.post1\n",
       "six                 1.16.0\n",
       "stack_data          0.6.3\n",
       "threadpoolctl       3.2.0\n",
       "tornado             6.3.3\n",
       "traitlets           5.11.2\n",
       "wcwidth             0.2.8\n",
       "zmq                 25.1.1\n",
       "</pre>\n",
       "</details> <!-- seems like this ends pre, so might as well be explicit -->\n",
       "<pre>\n",
       "-----\n",
       "IPython             8.16.1\n",
       "jupyter_client      8.4.0\n",
       "jupyter_core        5.4.0\n",
       "-----\n",
       "Python 3.11.4 (main, Jul  5 2023, 08:54:11) [Clang 14.0.6 ]\n",
       "macOS-13.5.2-arm64-i386-64bit\n",
       "-----\n",
       "Session information updated at 2023-10-23 19:32\n",
       "</pre>\n",
       "</details>"
      ],
      "text/plain": [
       "<IPython.core.display.HTML object>"
      ]
     },
     "execution_count": 2,
     "metadata": {},
     "output_type": "execute_result"
    }
   ],
   "source": [
    "# session module version\n",
    "session_info.show()"
   ]
  },
  {
   "cell_type": "code",
   "execution_count": 3,
   "id": "55cfae60-3f69-4924-8784-673050d19eda",
   "metadata": {
    "tags": []
   },
   "outputs": [],
   "source": [
    "# reading dataset\n",
    "data = pd.read_csv(\"train.csv\", sep=';')"
   ]
  },
  {
   "cell_type": "code",
   "execution_count": 4,
   "id": "0d2aa526-9d1d-44b2-997b-dad8ccd26487",
   "metadata": {
    "tags": []
   },
   "outputs": [
    {
     "data": {
      "text/html": [
       "<div>\n",
       "<style scoped>\n",
       "    .dataframe tbody tr th:only-of-type {\n",
       "        vertical-align: middle;\n",
       "    }\n",
       "\n",
       "    .dataframe tbody tr th {\n",
       "        vertical-align: top;\n",
       "    }\n",
       "\n",
       "    .dataframe thead th {\n",
       "        text-align: right;\n",
       "    }\n",
       "</style>\n",
       "<table border=\"1\" class=\"dataframe\">\n",
       "  <thead>\n",
       "    <tr style=\"text-align: right;\">\n",
       "      <th></th>\n",
       "      <th>age</th>\n",
       "      <th>job</th>\n",
       "      <th>marital</th>\n",
       "      <th>education</th>\n",
       "      <th>default</th>\n",
       "      <th>balance</th>\n",
       "      <th>housing</th>\n",
       "      <th>loan</th>\n",
       "      <th>contact</th>\n",
       "      <th>day</th>\n",
       "      <th>month</th>\n",
       "      <th>duration</th>\n",
       "      <th>campaign</th>\n",
       "      <th>pdays</th>\n",
       "      <th>previous</th>\n",
       "      <th>poutcome</th>\n",
       "      <th>y</th>\n",
       "    </tr>\n",
       "  </thead>\n",
       "  <tbody>\n",
       "    <tr>\n",
       "      <th>0</th>\n",
       "      <td>58</td>\n",
       "      <td>management</td>\n",
       "      <td>married</td>\n",
       "      <td>tertiary</td>\n",
       "      <td>no</td>\n",
       "      <td>2143</td>\n",
       "      <td>yes</td>\n",
       "      <td>no</td>\n",
       "      <td>unknown</td>\n",
       "      <td>5</td>\n",
       "      <td>may</td>\n",
       "      <td>261</td>\n",
       "      <td>1</td>\n",
       "      <td>-1</td>\n",
       "      <td>0</td>\n",
       "      <td>unknown</td>\n",
       "      <td>no</td>\n",
       "    </tr>\n",
       "    <tr>\n",
       "      <th>1</th>\n",
       "      <td>44</td>\n",
       "      <td>technician</td>\n",
       "      <td>single</td>\n",
       "      <td>secondary</td>\n",
       "      <td>no</td>\n",
       "      <td>29</td>\n",
       "      <td>yes</td>\n",
       "      <td>no</td>\n",
       "      <td>unknown</td>\n",
       "      <td>5</td>\n",
       "      <td>may</td>\n",
       "      <td>151</td>\n",
       "      <td>1</td>\n",
       "      <td>-1</td>\n",
       "      <td>0</td>\n",
       "      <td>unknown</td>\n",
       "      <td>no</td>\n",
       "    </tr>\n",
       "    <tr>\n",
       "      <th>2</th>\n",
       "      <td>33</td>\n",
       "      <td>entrepreneur</td>\n",
       "      <td>married</td>\n",
       "      <td>secondary</td>\n",
       "      <td>no</td>\n",
       "      <td>2</td>\n",
       "      <td>yes</td>\n",
       "      <td>yes</td>\n",
       "      <td>unknown</td>\n",
       "      <td>5</td>\n",
       "      <td>may</td>\n",
       "      <td>76</td>\n",
       "      <td>1</td>\n",
       "      <td>-1</td>\n",
       "      <td>0</td>\n",
       "      <td>unknown</td>\n",
       "      <td>no</td>\n",
       "    </tr>\n",
       "    <tr>\n",
       "      <th>3</th>\n",
       "      <td>47</td>\n",
       "      <td>blue-collar</td>\n",
       "      <td>married</td>\n",
       "      <td>unknown</td>\n",
       "      <td>no</td>\n",
       "      <td>1506</td>\n",
       "      <td>yes</td>\n",
       "      <td>no</td>\n",
       "      <td>unknown</td>\n",
       "      <td>5</td>\n",
       "      <td>may</td>\n",
       "      <td>92</td>\n",
       "      <td>1</td>\n",
       "      <td>-1</td>\n",
       "      <td>0</td>\n",
       "      <td>unknown</td>\n",
       "      <td>no</td>\n",
       "    </tr>\n",
       "    <tr>\n",
       "      <th>4</th>\n",
       "      <td>33</td>\n",
       "      <td>unknown</td>\n",
       "      <td>single</td>\n",
       "      <td>unknown</td>\n",
       "      <td>no</td>\n",
       "      <td>1</td>\n",
       "      <td>no</td>\n",
       "      <td>no</td>\n",
       "      <td>unknown</td>\n",
       "      <td>5</td>\n",
       "      <td>may</td>\n",
       "      <td>198</td>\n",
       "      <td>1</td>\n",
       "      <td>-1</td>\n",
       "      <td>0</td>\n",
       "      <td>unknown</td>\n",
       "      <td>no</td>\n",
       "    </tr>\n",
       "  </tbody>\n",
       "</table>\n",
       "</div>"
      ],
      "text/plain": [
       "   age           job  marital  education default  balance housing loan  \\\n",
       "0   58    management  married   tertiary      no     2143     yes   no   \n",
       "1   44    technician   single  secondary      no       29     yes   no   \n",
       "2   33  entrepreneur  married  secondary      no        2     yes  yes   \n",
       "3   47   blue-collar  married    unknown      no     1506     yes   no   \n",
       "4   33       unknown   single    unknown      no        1      no   no   \n",
       "\n",
       "   contact  day month  duration  campaign  pdays  previous poutcome   y  \n",
       "0  unknown    5   may       261         1     -1         0  unknown  no  \n",
       "1  unknown    5   may       151         1     -1         0  unknown  no  \n",
       "2  unknown    5   may        76         1     -1         0  unknown  no  \n",
       "3  unknown    5   may        92         1     -1         0  unknown  no  \n",
       "4  unknown    5   may       198         1     -1         0  unknown  no  "
      ]
     },
     "execution_count": 4,
     "metadata": {},
     "output_type": "execute_result"
    }
   ],
   "source": [
    "data.head()"
   ]
  },
  {
   "cell_type": "markdown",
   "id": "2bb0d1e0-5984-45bf-a4f9-25fa0d7f7263",
   "metadata": {
    "tags": []
   },
   "source": [
    "## Data Cleaning"
   ]
  },
  {
   "cell_type": "markdown",
   "id": "88b7b6c7-24dc-42e8-80e3-59c2111675ff",
   "metadata": {
    "tags": []
   },
   "source": [
    "### Handle Missing Values\n",
    "from descriptive statistics shown that there are 4 column contain missing-values but not in form of null-values, however in form of value of 'unknown' & 'other' in 4 column named: *job, education, contact, poutcome*. ```poutcome``` are variable that having the most unknown value which consist of more than its 50% data, the best decision taken is to just take out and not use the variables.."
   ]
  },
  {
   "cell_type": "markdown",
   "id": "d508334c-6266-4a05-b8b8-9fa9ac5cf90e",
   "metadata": {
    "jp-MarkdownHeadingCollapsed": true,
    "tags": []
   },
   "source": [
    "#### Job Variable"
   ]
  },
  {
   "cell_type": "code",
   "execution_count": 5,
   "id": "51f91a86-879c-4497-867b-5ac10f4e4f5c",
   "metadata": {
    "tags": []
   },
   "outputs": [
    {
     "data": {
      "text/html": [
       "<div>\n",
       "<style scoped>\n",
       "    .dataframe tbody tr th:only-of-type {\n",
       "        vertical-align: middle;\n",
       "    }\n",
       "\n",
       "    .dataframe tbody tr th {\n",
       "        vertical-align: top;\n",
       "    }\n",
       "\n",
       "    .dataframe thead th {\n",
       "        text-align: right;\n",
       "    }\n",
       "</style>\n",
       "<table border=\"1\" class=\"dataframe\">\n",
       "  <thead>\n",
       "    <tr style=\"text-align: right;\">\n",
       "      <th>job</th>\n",
       "      <th>blue-collar</th>\n",
       "      <th>management</th>\n",
       "      <th>technician</th>\n",
       "      <th>admin.</th>\n",
       "      <th>services</th>\n",
       "      <th>retired</th>\n",
       "      <th>self-employed</th>\n",
       "      <th>entrepreneur</th>\n",
       "      <th>unemployed</th>\n",
       "      <th>housemaid</th>\n",
       "      <th>student</th>\n",
       "      <th>unknown</th>\n",
       "    </tr>\n",
       "  </thead>\n",
       "  <tbody>\n",
       "    <tr>\n",
       "      <th>count</th>\n",
       "      <td>9732</td>\n",
       "      <td>9458</td>\n",
       "      <td>7597</td>\n",
       "      <td>5171</td>\n",
       "      <td>4154</td>\n",
       "      <td>2264</td>\n",
       "      <td>1579</td>\n",
       "      <td>1487</td>\n",
       "      <td>1303</td>\n",
       "      <td>1240</td>\n",
       "      <td>938</td>\n",
       "      <td>288</td>\n",
       "    </tr>\n",
       "  </tbody>\n",
       "</table>\n",
       "</div>"
      ],
      "text/plain": [
       "job    blue-collar  management  technician  admin.  services  retired  \\\n",
       "count         9732        9458        7597    5171      4154     2264   \n",
       "\n",
       "job    self-employed  entrepreneur  unemployed  housemaid  student  unknown  \n",
       "count           1579          1487        1303       1240      938      288  "
      ]
     },
     "execution_count": 5,
     "metadata": {},
     "output_type": "execute_result"
    }
   ],
   "source": [
    "# Handling missing values in job column using frequent values replacing method\n",
    "data.job.value_counts().to_frame().T"
   ]
  },
  {
   "cell_type": "code",
   "execution_count": 6,
   "id": "6ce9f64b-389b-4ce9-861d-3727b5e46299",
   "metadata": {
    "tags": []
   },
   "outputs": [
    {
     "data": {
      "text/html": [
       "<div>\n",
       "<style scoped>\n",
       "    .dataframe tbody tr th:only-of-type {\n",
       "        vertical-align: middle;\n",
       "    }\n",
       "\n",
       "    .dataframe tbody tr th {\n",
       "        vertical-align: top;\n",
       "    }\n",
       "\n",
       "    .dataframe thead th {\n",
       "        text-align: right;\n",
       "    }\n",
       "</style>\n",
       "<table border=\"1\" class=\"dataframe\">\n",
       "  <thead>\n",
       "    <tr style=\"text-align: right;\">\n",
       "      <th>job</th>\n",
       "      <th>blue-collar</th>\n",
       "      <th>management</th>\n",
       "      <th>technician</th>\n",
       "      <th>admin.</th>\n",
       "      <th>services</th>\n",
       "      <th>retired</th>\n",
       "      <th>self-employed</th>\n",
       "      <th>entrepreneur</th>\n",
       "      <th>unemployed</th>\n",
       "      <th>housemaid</th>\n",
       "      <th>student</th>\n",
       "    </tr>\n",
       "  </thead>\n",
       "  <tbody>\n",
       "    <tr>\n",
       "      <th>count</th>\n",
       "      <td>10020</td>\n",
       "      <td>9458</td>\n",
       "      <td>7597</td>\n",
       "      <td>5171</td>\n",
       "      <td>4154</td>\n",
       "      <td>2264</td>\n",
       "      <td>1579</td>\n",
       "      <td>1487</td>\n",
       "      <td>1303</td>\n",
       "      <td>1240</td>\n",
       "      <td>938</td>\n",
       "    </tr>\n",
       "  </tbody>\n",
       "</table>\n",
       "</div>"
      ],
      "text/plain": [
       "job    blue-collar  management  technician  admin.  services  retired  \\\n",
       "count        10020        9458        7597    5171      4154     2264   \n",
       "\n",
       "job    self-employed  entrepreneur  unemployed  housemaid  student  \n",
       "count           1579          1487        1303       1240      938  "
      ]
     },
     "execution_count": 6,
     "metadata": {},
     "output_type": "execute_result"
    }
   ],
   "source": [
    "# replacing the unknown values using the most values containing column (mode) which 'blue-collar'\n",
    "data.job.replace(to_replace='unknown', value=data.job.mode()[0], inplace=True)\n",
    "data.job.value_counts().to_frame().T"
   ]
  },
  {
   "cell_type": "markdown",
   "id": "9bd2ebb3-9de5-4de6-901e-01e57532b28e",
   "metadata": {},
   "source": [
    "After replacing with the mode value, the unknown which is the missing value have gone from the column"
   ]
  },
  {
   "cell_type": "markdown",
   "id": "7c699c42-81c0-4c01-aba5-b0aa16623388",
   "metadata": {
    "jp-MarkdownHeadingCollapsed": true,
    "tags": []
   },
   "source": [
    "#### Education Variable"
   ]
  },
  {
   "cell_type": "code",
   "execution_count": 7,
   "id": "f81c5948-213f-40b4-8f2e-de7142b7d589",
   "metadata": {
    "tags": []
   },
   "outputs": [
    {
     "data": {
      "text/html": [
       "<div>\n",
       "<style scoped>\n",
       "    .dataframe tbody tr th:only-of-type {\n",
       "        vertical-align: middle;\n",
       "    }\n",
       "\n",
       "    .dataframe tbody tr th {\n",
       "        vertical-align: top;\n",
       "    }\n",
       "\n",
       "    .dataframe thead th {\n",
       "        text-align: right;\n",
       "    }\n",
       "</style>\n",
       "<table border=\"1\" class=\"dataframe\">\n",
       "  <thead>\n",
       "    <tr style=\"text-align: right;\">\n",
       "      <th>education</th>\n",
       "      <th>secondary</th>\n",
       "      <th>tertiary</th>\n",
       "      <th>primary</th>\n",
       "      <th>unknown</th>\n",
       "    </tr>\n",
       "  </thead>\n",
       "  <tbody>\n",
       "    <tr>\n",
       "      <th>count</th>\n",
       "      <td>23202</td>\n",
       "      <td>13301</td>\n",
       "      <td>6851</td>\n",
       "      <td>1857</td>\n",
       "    </tr>\n",
       "  </tbody>\n",
       "</table>\n",
       "</div>"
      ],
      "text/plain": [
       "education  secondary  tertiary  primary  unknown\n",
       "count          23202     13301     6851     1857"
      ]
     },
     "execution_count": 7,
     "metadata": {},
     "output_type": "execute_result"
    }
   ],
   "source": [
    "# Handling missing values in education column using frequent values replacing method\n",
    "data.education.value_counts().to_frame().T"
   ]
  },
  {
   "cell_type": "code",
   "execution_count": 8,
   "id": "46cb9537-a473-41fe-96d9-5521a7cfeca0",
   "metadata": {
    "tags": []
   },
   "outputs": [
    {
     "data": {
      "text/html": [
       "<div>\n",
       "<style scoped>\n",
       "    .dataframe tbody tr th:only-of-type {\n",
       "        vertical-align: middle;\n",
       "    }\n",
       "\n",
       "    .dataframe tbody tr th {\n",
       "        vertical-align: top;\n",
       "    }\n",
       "\n",
       "    .dataframe thead th {\n",
       "        text-align: right;\n",
       "    }\n",
       "</style>\n",
       "<table border=\"1\" class=\"dataframe\">\n",
       "  <thead>\n",
       "    <tr style=\"text-align: right;\">\n",
       "      <th>education</th>\n",
       "      <th>secondary</th>\n",
       "      <th>tertiary</th>\n",
       "      <th>primary</th>\n",
       "    </tr>\n",
       "  </thead>\n",
       "  <tbody>\n",
       "    <tr>\n",
       "      <th>count</th>\n",
       "      <td>25059</td>\n",
       "      <td>13301</td>\n",
       "      <td>6851</td>\n",
       "    </tr>\n",
       "  </tbody>\n",
       "</table>\n",
       "</div>"
      ],
      "text/plain": [
       "education  secondary  tertiary  primary\n",
       "count          25059     13301     6851"
      ]
     },
     "execution_count": 8,
     "metadata": {},
     "output_type": "execute_result"
    }
   ],
   "source": [
    "data.education.replace(to_replace='unknown', value=data.education.mode()[0], inplace=True)\n",
    "data.education.value_counts().to_frame().T"
   ]
  },
  {
   "cell_type": "markdown",
   "id": "f0244a7e-3636-41df-a64f-b2df51c5b4b7",
   "metadata": {},
   "source": [
    "After replacing with the mode value, the unknown which is the missing value have gone from the column"
   ]
  },
  {
   "cell_type": "markdown",
   "id": "698809b1-0456-4637-857e-5399ae25e89c",
   "metadata": {
    "jp-MarkdownHeadingCollapsed": true,
    "tags": []
   },
   "source": [
    "#### Contact Variable"
   ]
  },
  {
   "cell_type": "code",
   "execution_count": 9,
   "id": "b2ffb7c0-43ed-461d-a8e1-69c9ebaaec89",
   "metadata": {
    "tags": []
   },
   "outputs": [
    {
     "data": {
      "text/html": [
       "<div>\n",
       "<style scoped>\n",
       "    .dataframe tbody tr th:only-of-type {\n",
       "        vertical-align: middle;\n",
       "    }\n",
       "\n",
       "    .dataframe tbody tr th {\n",
       "        vertical-align: top;\n",
       "    }\n",
       "\n",
       "    .dataframe thead th {\n",
       "        text-align: right;\n",
       "    }\n",
       "</style>\n",
       "<table border=\"1\" class=\"dataframe\">\n",
       "  <thead>\n",
       "    <tr style=\"text-align: right;\">\n",
       "      <th>contact</th>\n",
       "      <th>cellular</th>\n",
       "      <th>unknown</th>\n",
       "      <th>telephone</th>\n",
       "    </tr>\n",
       "  </thead>\n",
       "  <tbody>\n",
       "    <tr>\n",
       "      <th>count</th>\n",
       "      <td>29285</td>\n",
       "      <td>13020</td>\n",
       "      <td>2906</td>\n",
       "    </tr>\n",
       "  </tbody>\n",
       "</table>\n",
       "</div>"
      ],
      "text/plain": [
       "contact  cellular  unknown  telephone\n",
       "count       29285    13020       2906"
      ]
     },
     "execution_count": 9,
     "metadata": {},
     "output_type": "execute_result"
    }
   ],
   "source": [
    "# Handling missing values in contact column using frequent values replacing method\n",
    "data.contact.value_counts().to_frame().T"
   ]
  },
  {
   "cell_type": "code",
   "execution_count": 10,
   "id": "9655385a-1e47-46c6-912a-6982c88b43a3",
   "metadata": {
    "tags": []
   },
   "outputs": [
    {
     "data": {
      "text/html": [
       "<div>\n",
       "<style scoped>\n",
       "    .dataframe tbody tr th:only-of-type {\n",
       "        vertical-align: middle;\n",
       "    }\n",
       "\n",
       "    .dataframe tbody tr th {\n",
       "        vertical-align: top;\n",
       "    }\n",
       "\n",
       "    .dataframe thead th {\n",
       "        text-align: right;\n",
       "    }\n",
       "</style>\n",
       "<table border=\"1\" class=\"dataframe\">\n",
       "  <thead>\n",
       "    <tr style=\"text-align: right;\">\n",
       "      <th>contact</th>\n",
       "      <th>cellular</th>\n",
       "      <th>telephone</th>\n",
       "    </tr>\n",
       "  </thead>\n",
       "  <tbody>\n",
       "    <tr>\n",
       "      <th>count</th>\n",
       "      <td>42305</td>\n",
       "      <td>2906</td>\n",
       "    </tr>\n",
       "  </tbody>\n",
       "</table>\n",
       "</div>"
      ],
      "text/plain": [
       "contact  cellular  telephone\n",
       "count       42305       2906"
      ]
     },
     "execution_count": 10,
     "metadata": {},
     "output_type": "execute_result"
    }
   ],
   "source": [
    "data.contact.replace(to_replace='unknown', value=data.contact.mode()[0], inplace=True)\n",
    "data.contact.value_counts().to_frame().T"
   ]
  },
  {
   "cell_type": "markdown",
   "id": "9e6eec4d-8e11-4853-bb35-708208a32f8d",
   "metadata": {},
   "source": [
    "After replacing with the mode value, the unknown which is the missing value have gone from the column"
   ]
  },
  {
   "cell_type": "markdown",
   "id": "aa834bc6-179e-46a5-80b2-a721fc9b0738",
   "metadata": {
    "jp-MarkdownHeadingCollapsed": true,
    "tags": []
   },
   "source": [
    "#### Poutcome Variable"
   ]
  },
  {
   "cell_type": "code",
   "execution_count": 11,
   "id": "350f1f16-1d65-4148-b6e3-092383301425",
   "metadata": {
    "tags": []
   },
   "outputs": [
    {
     "data": {
      "text/html": [
       "<div>\n",
       "<style scoped>\n",
       "    .dataframe tbody tr th:only-of-type {\n",
       "        vertical-align: middle;\n",
       "    }\n",
       "\n",
       "    .dataframe tbody tr th {\n",
       "        vertical-align: top;\n",
       "    }\n",
       "\n",
       "    .dataframe thead th {\n",
       "        text-align: right;\n",
       "    }\n",
       "</style>\n",
       "<table border=\"1\" class=\"dataframe\">\n",
       "  <thead>\n",
       "    <tr style=\"text-align: right;\">\n",
       "      <th>poutcome</th>\n",
       "      <th>unknown</th>\n",
       "      <th>failure</th>\n",
       "      <th>other</th>\n",
       "      <th>success</th>\n",
       "    </tr>\n",
       "  </thead>\n",
       "  <tbody>\n",
       "    <tr>\n",
       "      <th>count</th>\n",
       "      <td>36959</td>\n",
       "      <td>4901</td>\n",
       "      <td>1840</td>\n",
       "      <td>1511</td>\n",
       "    </tr>\n",
       "  </tbody>\n",
       "</table>\n",
       "</div>"
      ],
      "text/plain": [
       "poutcome  unknown  failure  other  success\n",
       "count       36959     4901   1840     1511"
      ]
     },
     "execution_count": 11,
     "metadata": {},
     "output_type": "execute_result"
    }
   ],
   "source": [
    "# handling the coloumn value named 'other' and change it to its mode value\n",
    "data.poutcome.value_counts().to_frame().T"
   ]
  },
  {
   "cell_type": "code",
   "execution_count": 12,
   "id": "1a3b61d1-d512-46ec-8e2b-85b620854c62",
   "metadata": {
    "tags": []
   },
   "outputs": [
    {
     "data": {
      "text/plain": [
       "Index(['age', 'job', 'marital', 'education', 'default', 'balance', 'housing',\n",
       "       'loan', 'contact', 'day', 'month', 'duration', 'campaign', 'pdays',\n",
       "       'previous', 'y'],\n",
       "      dtype='object')"
      ]
     },
     "execution_count": 12,
     "metadata": {},
     "output_type": "execute_result"
    }
   ],
   "source": [
    "# droping the column\n",
    "data.drop(['poutcome'], axis=1, inplace=True)\n",
    "data.columns"
   ]
  },
  {
   "cell_type": "markdown",
   "id": "511d40f3-3ca8-431a-bf64-ba300a4afb3d",
   "metadata": {},
   "source": [
    "Dengan pengecekan diatas didapatkan bahwa variabel ```poutcome``` telah dihapus"
   ]
  },
  {
   "cell_type": "markdown",
   "id": "95adf617-409e-4159-b8f5-f48f5a9c30d3",
   "metadata": {
    "jp-MarkdownHeadingCollapsed": true,
    "tags": []
   },
   "source": [
    "### Handle Duplicated Data\n",
    "from the previous stage, shown that there are no duplication in dataset analyse from all column, so in this section there are no treatment needed to be done"
   ]
  },
  {
   "cell_type": "code",
   "execution_count": 13,
   "id": "2c421f09-7394-4b70-9b95-29e289fdcce2",
   "metadata": {},
   "outputs": [
    {
     "data": {
      "text/plain": [
       "0"
      ]
     },
     "execution_count": 13,
     "metadata": {},
     "output_type": "execute_result"
    }
   ],
   "source": [
    "# checking overall\n",
    "data.duplicated().sum()"
   ]
  },
  {
   "cell_type": "markdown",
   "id": "b86c3604-4cc1-465b-91ad-7cbe1e0c02f8",
   "metadata": {},
   "source": [
    "There are no duplication shown from the dataset analyse from all the column"
   ]
  },
  {
   "cell_type": "code",
   "execution_count": 14,
   "id": "79272b08-8c1e-4c90-93f7-aa18eb3a4a93",
   "metadata": {
    "tags": []
   },
   "outputs": [
    {
     "data": {
      "text/plain": [
       "1332"
      ]
     },
     "execution_count": 14,
     "metadata": {},
     "output_type": "execute_result"
    }
   ],
   "source": [
    "# checking for subset\n",
    "data.duplicated(subset=['age','balance','day','campaign']).sum()"
   ]
  },
  {
   "cell_type": "markdown",
   "id": "e5ba813c-cee4-42e1-aed5-3e9c439e5c1b",
   "metadata": {
    "tags": []
   },
   "source": [
    "### Handle Outliers\n",
    "from previous stage, known there are 6 numerical variables having outliers"
   ]
  },
  {
   "cell_type": "code",
   "execution_count": 15,
   "id": "2f890171-1a10-43b8-9451-343bb5fb3e9f",
   "metadata": {
    "tags": []
   },
   "outputs": [
    {
     "data": {
      "text/html": [
       "<div>\n",
       "<style scoped>\n",
       "    .dataframe tbody tr th:only-of-type {\n",
       "        vertical-align: middle;\n",
       "    }\n",
       "\n",
       "    .dataframe tbody tr th {\n",
       "        vertical-align: top;\n",
       "    }\n",
       "\n",
       "    .dataframe thead th {\n",
       "        text-align: right;\n",
       "    }\n",
       "</style>\n",
       "<table border=\"1\" class=\"dataframe\">\n",
       "  <thead>\n",
       "    <tr style=\"text-align: right;\">\n",
       "      <th></th>\n",
       "      <th>age</th>\n",
       "      <th>job</th>\n",
       "      <th>marital</th>\n",
       "      <th>education</th>\n",
       "      <th>default</th>\n",
       "      <th>balance</th>\n",
       "      <th>housing</th>\n",
       "      <th>loan</th>\n",
       "      <th>contact</th>\n",
       "      <th>day</th>\n",
       "      <th>month</th>\n",
       "      <th>duration</th>\n",
       "      <th>campaign</th>\n",
       "      <th>pdays</th>\n",
       "      <th>previous</th>\n",
       "      <th>y</th>\n",
       "    </tr>\n",
       "  </thead>\n",
       "  <tbody>\n",
       "    <tr>\n",
       "      <th>0</th>\n",
       "      <td>58</td>\n",
       "      <td>management</td>\n",
       "      <td>married</td>\n",
       "      <td>tertiary</td>\n",
       "      <td>no</td>\n",
       "      <td>2143</td>\n",
       "      <td>yes</td>\n",
       "      <td>no</td>\n",
       "      <td>cellular</td>\n",
       "      <td>5</td>\n",
       "      <td>may</td>\n",
       "      <td>261</td>\n",
       "      <td>1</td>\n",
       "      <td>-1</td>\n",
       "      <td>0</td>\n",
       "      <td>no</td>\n",
       "    </tr>\n",
       "    <tr>\n",
       "      <th>1</th>\n",
       "      <td>44</td>\n",
       "      <td>technician</td>\n",
       "      <td>single</td>\n",
       "      <td>secondary</td>\n",
       "      <td>no</td>\n",
       "      <td>29</td>\n",
       "      <td>yes</td>\n",
       "      <td>no</td>\n",
       "      <td>cellular</td>\n",
       "      <td>5</td>\n",
       "      <td>may</td>\n",
       "      <td>151</td>\n",
       "      <td>1</td>\n",
       "      <td>-1</td>\n",
       "      <td>0</td>\n",
       "      <td>no</td>\n",
       "    </tr>\n",
       "    <tr>\n",
       "      <th>2</th>\n",
       "      <td>33</td>\n",
       "      <td>entrepreneur</td>\n",
       "      <td>married</td>\n",
       "      <td>secondary</td>\n",
       "      <td>no</td>\n",
       "      <td>2</td>\n",
       "      <td>yes</td>\n",
       "      <td>yes</td>\n",
       "      <td>cellular</td>\n",
       "      <td>5</td>\n",
       "      <td>may</td>\n",
       "      <td>76</td>\n",
       "      <td>1</td>\n",
       "      <td>-1</td>\n",
       "      <td>0</td>\n",
       "      <td>no</td>\n",
       "    </tr>\n",
       "    <tr>\n",
       "      <th>3</th>\n",
       "      <td>47</td>\n",
       "      <td>blue-collar</td>\n",
       "      <td>married</td>\n",
       "      <td>secondary</td>\n",
       "      <td>no</td>\n",
       "      <td>1506</td>\n",
       "      <td>yes</td>\n",
       "      <td>no</td>\n",
       "      <td>cellular</td>\n",
       "      <td>5</td>\n",
       "      <td>may</td>\n",
       "      <td>92</td>\n",
       "      <td>1</td>\n",
       "      <td>-1</td>\n",
       "      <td>0</td>\n",
       "      <td>no</td>\n",
       "    </tr>\n",
       "    <tr>\n",
       "      <th>4</th>\n",
       "      <td>33</td>\n",
       "      <td>blue-collar</td>\n",
       "      <td>single</td>\n",
       "      <td>secondary</td>\n",
       "      <td>no</td>\n",
       "      <td>1</td>\n",
       "      <td>no</td>\n",
       "      <td>no</td>\n",
       "      <td>cellular</td>\n",
       "      <td>5</td>\n",
       "      <td>may</td>\n",
       "      <td>198</td>\n",
       "      <td>1</td>\n",
       "      <td>-1</td>\n",
       "      <td>0</td>\n",
       "      <td>no</td>\n",
       "    </tr>\n",
       "  </tbody>\n",
       "</table>\n",
       "</div>"
      ],
      "text/plain": [
       "   age           job  marital  education default  balance housing loan  \\\n",
       "0   58    management  married   tertiary      no     2143     yes   no   \n",
       "1   44    technician   single  secondary      no       29     yes   no   \n",
       "2   33  entrepreneur  married  secondary      no        2     yes  yes   \n",
       "3   47   blue-collar  married  secondary      no     1506     yes   no   \n",
       "4   33   blue-collar   single  secondary      no        1      no   no   \n",
       "\n",
       "    contact  day month  duration  campaign  pdays  previous   y  \n",
       "0  cellular    5   may       261         1     -1         0  no  \n",
       "1  cellular    5   may       151         1     -1         0  no  \n",
       "2  cellular    5   may        76         1     -1         0  no  \n",
       "3  cellular    5   may        92         1     -1         0  no  \n",
       "4  cellular    5   may       198         1     -1         0  no  "
      ]
     },
     "execution_count": 15,
     "metadata": {},
     "output_type": "execute_result"
    }
   ],
   "source": [
    "data.head()"
   ]
  },
  {
   "cell_type": "code",
   "execution_count": 16,
   "id": "848a807b-e094-40de-9cfa-661bdddb48a6",
   "metadata": {},
   "outputs": [],
   "source": [
    "# numerical setelah feature selection\n",
    "numerical = ['age','balance','day','duration','campaign']"
   ]
  },
  {
   "cell_type": "code",
   "execution_count": 17,
   "id": "cf823404-3ec4-4e9f-a766-0246805b22bf",
   "metadata": {
    "tags": []
   },
   "outputs": [
    {
     "data": {
      "text/html": [
       "<div>\n",
       "<style scoped>\n",
       "    .dataframe tbody tr th:only-of-type {\n",
       "        vertical-align: middle;\n",
       "    }\n",
       "\n",
       "    .dataframe tbody tr th {\n",
       "        vertical-align: top;\n",
       "    }\n",
       "\n",
       "    .dataframe thead th {\n",
       "        text-align: right;\n",
       "    }\n",
       "</style>\n",
       "<table border=\"1\" class=\"dataframe\">\n",
       "  <thead>\n",
       "    <tr style=\"text-align: right;\">\n",
       "      <th></th>\n",
       "      <th>age</th>\n",
       "      <th>balance</th>\n",
       "      <th>day</th>\n",
       "      <th>duration</th>\n",
       "      <th>campaign</th>\n",
       "    </tr>\n",
       "  </thead>\n",
       "  <tbody>\n",
       "    <tr>\n",
       "      <th>0</th>\n",
       "      <td>58</td>\n",
       "      <td>2143</td>\n",
       "      <td>5</td>\n",
       "      <td>261</td>\n",
       "      <td>1</td>\n",
       "    </tr>\n",
       "    <tr>\n",
       "      <th>1</th>\n",
       "      <td>44</td>\n",
       "      <td>29</td>\n",
       "      <td>5</td>\n",
       "      <td>151</td>\n",
       "      <td>1</td>\n",
       "    </tr>\n",
       "    <tr>\n",
       "      <th>2</th>\n",
       "      <td>33</td>\n",
       "      <td>2</td>\n",
       "      <td>5</td>\n",
       "      <td>76</td>\n",
       "      <td>1</td>\n",
       "    </tr>\n",
       "    <tr>\n",
       "      <th>3</th>\n",
       "      <td>47</td>\n",
       "      <td>1506</td>\n",
       "      <td>5</td>\n",
       "      <td>92</td>\n",
       "      <td>1</td>\n",
       "    </tr>\n",
       "    <tr>\n",
       "      <th>4</th>\n",
       "      <td>33</td>\n",
       "      <td>1</td>\n",
       "      <td>5</td>\n",
       "      <td>198</td>\n",
       "      <td>1</td>\n",
       "    </tr>\n",
       "  </tbody>\n",
       "</table>\n",
       "</div>"
      ],
      "text/plain": [
       "   age  balance  day  duration  campaign\n",
       "0   58     2143    5       261         1\n",
       "1   44       29    5       151         1\n",
       "2   33        2    5        76         1\n",
       "3   47     1506    5        92         1\n",
       "4   33        1    5       198         1"
      ]
     },
     "execution_count": 17,
     "metadata": {},
     "output_type": "execute_result"
    }
   ],
   "source": [
    "data_used = data\n",
    "data_num = data_used[numerical]\n",
    "data_num.head()"
   ]
  },
  {
   "cell_type": "code",
   "execution_count": 18,
   "id": "4ef8db56-81cf-4ac3-aab3-2085f086aef8",
   "metadata": {
    "tags": []
   },
   "outputs": [
    {
     "data": {
      "image/png": "[encoded data removed]",
      "text/plain": [
       "<Figure size 1000x400 with 5 Axes>"
      ]
     },
     "metadata": {},
     "output_type": "display_data"
    }
   ],
   "source": [
    "feature = numerical\n",
    "\n",
    "plt.figure(figsize=(10,4))\n",
    "for i in range(0, len(feature)):\n",
    "    plt.subplot(2,4, i+1)\n",
    "    sns.boxplot(x=data[feature[i]], color='skyblue')\n",
    "    plt.xlabel(feature[i])\n",
    "    plt.tight_layout()"
   ]
  },
  {
   "cell_type": "code",
   "execution_count": 19,
   "id": "a76239a7-68f9-40d7-92ea-b5a218a1f13f",
   "metadata": {
    "tags": []
   },
   "outputs": [],
   "source": [
    "output_normal = pd.DataFrame({})\n",
    "def iqr_treshold(variable):\n",
    "    Q1 = data_num[variable].quantile(.25)\n",
    "    Q3 = data_num[variable].quantile(.75)\n",
    "\n",
    "    IQR = Q3-Q1\n",
    "\n",
    "    min_tresh = Q1 - (1.5*IQR)\n",
    "    max_tresh = Q1 + (1.5*IQR)\n",
    "    \n",
    "    return min_tresh, max_tresh"
   ]
  },
  {
   "cell_type": "code",
   "execution_count": 20,
   "id": "333e78b2-0043-4819-ab1b-0d632bc3841d",
   "metadata": {
    "tags": []
   },
   "outputs": [],
   "source": [
    "def iqr_normalize(variable):\n",
    "    threshold = ((data_num[variable] >= iqr_treshold(variable)[0]) & \n",
    "                (data_num[variable] <= iqr_treshold(variable)[1]))\n",
    "    data_num.loc[:,['normal_label']] = threshold\n",
    "    kolom = data_num.query(\"normal_label == True\")[variable]\n",
    "    return kolom"
   ]
  },
  {
   "cell_type": "code",
   "execution_count": 21,
   "id": "630f60d8-beaf-44ae-815f-47756d211b2e",
   "metadata": {
    "tags": []
   },
   "outputs": [],
   "source": [
    "output_normal['age'] = iqr_normalize(\"age\")\n",
    "output_normal['campaign'] = iqr_normalize(\"campaign\")\n",
    "output_normal['balance']  = iqr_normalize(\"balance\")\n",
    "output_normal['duration'] = iqr_normalize(\"duration\")\n",
    "output_normal['day'] = data_num.loc[:,['day']]"
   ]
  },
  {
   "cell_type": "code",
   "execution_count": 22,
   "id": "869ee8c7-8166-4fbe-a6c4-2bdd9365f71a",
   "metadata": {
    "tags": []
   },
   "outputs": [
    {
     "data": {
      "text/html": [
       "<div>\n",
       "<style scoped>\n",
       "    .dataframe tbody tr th:only-of-type {\n",
       "        vertical-align: middle;\n",
       "    }\n",
       "\n",
       "    .dataframe tbody tr th {\n",
       "        vertical-align: top;\n",
       "    }\n",
       "\n",
       "    .dataframe thead th {\n",
       "        text-align: right;\n",
       "    }\n",
       "</style>\n",
       "<table border=\"1\" class=\"dataframe\">\n",
       "  <thead>\n",
       "    <tr style=\"text-align: right;\">\n",
       "      <th></th>\n",
       "      <th>age</th>\n",
       "      <th>campaign</th>\n",
       "      <th>balance</th>\n",
       "      <th>duration</th>\n",
       "      <th>day</th>\n",
       "    </tr>\n",
       "  </thead>\n",
       "  <tbody>\n",
       "    <tr>\n",
       "      <th>1</th>\n",
       "      <td>44</td>\n",
       "      <td>1.0</td>\n",
       "      <td>29.0</td>\n",
       "      <td>151.0</td>\n",
       "      <td>5</td>\n",
       "    </tr>\n",
       "    <tr>\n",
       "      <th>2</th>\n",
       "      <td>33</td>\n",
       "      <td>1.0</td>\n",
       "      <td>2.0</td>\n",
       "      <td>76.0</td>\n",
       "      <td>5</td>\n",
       "    </tr>\n",
       "    <tr>\n",
       "      <th>3</th>\n",
       "      <td>47</td>\n",
       "      <td>1.0</td>\n",
       "      <td>1506.0</td>\n",
       "      <td>92.0</td>\n",
       "      <td>5</td>\n",
       "    </tr>\n",
       "    <tr>\n",
       "      <th>4</th>\n",
       "      <td>33</td>\n",
       "      <td>1.0</td>\n",
       "      <td>1.0</td>\n",
       "      <td>198.0</td>\n",
       "      <td>5</td>\n",
       "    </tr>\n",
       "    <tr>\n",
       "      <th>5</th>\n",
       "      <td>35</td>\n",
       "      <td>1.0</td>\n",
       "      <td>231.0</td>\n",
       "      <td>139.0</td>\n",
       "      <td>5</td>\n",
       "    </tr>\n",
       "  </tbody>\n",
       "</table>\n",
       "</div>"
      ],
      "text/plain": [
       "   age  campaign  balance  duration  day\n",
       "1   44       1.0     29.0     151.0    5\n",
       "2   33       1.0      2.0      76.0    5\n",
       "3   47       1.0   1506.0      92.0    5\n",
       "4   33       1.0      1.0     198.0    5\n",
       "5   35       1.0    231.0     139.0    5"
      ]
     },
     "execution_count": 22,
     "metadata": {},
     "output_type": "execute_result"
    }
   ],
   "source": [
    "output_normal.head()"
   ]
  },
  {
   "cell_type": "code",
   "execution_count": 23,
   "id": "8007c28d-3aa8-4c57-930b-b3e06028905e",
   "metadata": {
    "tags": []
   },
   "outputs": [
    {
     "data": {
      "image/png": "[encoded data removed]",
      "text/plain": [
       "<Figure size 1000x400 with 5 Axes>"
      ]
     },
     "metadata": {},
     "output_type": "display_data"
    }
   ],
   "source": [
    "feature = ['age','campaign','balance','duration','day']\n",
    "\n",
    "plt.figure(figsize=(10,4))\n",
    "for i in range(0, len(feature)):\n",
    "    plt.subplot(2,4, i+1)\n",
    "    sns.boxplot(x=output_normal[feature[i]], color='skyblue')\n",
    "    plt.xlabel(feature[i])\n",
    "    plt.tight_layout()"
   ]
  },
  {
   "cell_type": "code",
   "execution_count": 24,
   "id": "85b3c271-63d2-4aa4-b97a-d5b09317fd52",
   "metadata": {
    "tags": []
   },
   "outputs": [
    {
     "name": "stdout",
     "output_type": "stream",
     "text": [
      "<class 'pandas.core.frame.DataFrame'>\n",
      "Index: 40311 entries, 1 to 45210\n",
      "Data columns (total 5 columns):\n",
      " #   Column    Non-Null Count  Dtype  \n",
      "---  ------    --------------  -----  \n",
      " 0   age       40311 non-null  int64  \n",
      " 1   campaign  34818 non-null  float64\n",
      " 2   balance   33528 non-null  float64\n",
      " 3   duration  34094 non-null  float64\n",
      " 4   day       40311 non-null  int64  \n",
      "dtypes: float64(3), int64(2)\n",
      "memory usage: 1.8 MB\n"
     ]
    }
   ],
   "source": [
    "output_normal.info()"
   ]
  },
  {
   "cell_type": "code",
   "execution_count": 25,
   "id": "03710d20-c8bd-478d-9c67-63970cbacd96",
   "metadata": {
    "tags": []
   },
   "outputs": [
    {
     "data": {
      "text/plain": [
       "age            0\n",
       "campaign    5493\n",
       "balance     6783\n",
       "duration    6217\n",
       "day            0\n",
       "dtype: int64"
      ]
     },
     "execution_count": 25,
     "metadata": {},
     "output_type": "execute_result"
    }
   ],
   "source": [
    "output_normal.isna().sum()"
   ]
  },
  {
   "cell_type": "markdown",
   "id": "1b0fe079-c4a0-4f7a-9d1b-1114d7018911",
   "metadata": {},
   "source": [
    "## Feature Engineering"
   ]
  },
  {
   "cell_type": "markdown",
   "id": "d17151e2-c458-452e-8b0b-72d8d549edd8",
   "metadata": {},
   "source": [
    "### Feature Encoding"
   ]
  },
  {
   "cell_type": "code",
   "execution_count": 26,
   "id": "c2f500a9-e65a-40b8-a9c4-35b3684c46a2",
   "metadata": {
    "tags": []
   },
   "outputs": [
    {
     "data": {
      "text/html": [
       "<div>\n",
       "<style scoped>\n",
       "    .dataframe tbody tr th:only-of-type {\n",
       "        vertical-align: middle;\n",
       "    }\n",
       "\n",
       "    .dataframe tbody tr th {\n",
       "        vertical-align: top;\n",
       "    }\n",
       "\n",
       "    .dataframe thead th {\n",
       "        text-align: right;\n",
       "    }\n",
       "</style>\n",
       "<table border=\"1\" class=\"dataframe\">\n",
       "  <thead>\n",
       "    <tr style=\"text-align: right;\">\n",
       "      <th></th>\n",
       "      <th>age</th>\n",
       "      <th>job</th>\n",
       "      <th>marital</th>\n",
       "      <th>education</th>\n",
       "      <th>default</th>\n",
       "      <th>balance</th>\n",
       "      <th>housing</th>\n",
       "      <th>loan</th>\n",
       "      <th>contact</th>\n",
       "      <th>day</th>\n",
       "      <th>month</th>\n",
       "      <th>duration</th>\n",
       "      <th>campaign</th>\n",
       "      <th>pdays</th>\n",
       "      <th>previous</th>\n",
       "      <th>y</th>\n",
       "    </tr>\n",
       "  </thead>\n",
       "  <tbody>\n",
       "    <tr>\n",
       "      <th>0</th>\n",
       "      <td>58</td>\n",
       "      <td>management</td>\n",
       "      <td>married</td>\n",
       "      <td>tertiary</td>\n",
       "      <td>no</td>\n",
       "      <td>2143</td>\n",
       "      <td>yes</td>\n",
       "      <td>no</td>\n",
       "      <td>cellular</td>\n",
       "      <td>5</td>\n",
       "      <td>may</td>\n",
       "      <td>261</td>\n",
       "      <td>1</td>\n",
       "      <td>-1</td>\n",
       "      <td>0</td>\n",
       "      <td>no</td>\n",
       "    </tr>\n",
       "    <tr>\n",
       "      <th>1</th>\n",
       "      <td>44</td>\n",
       "      <td>technician</td>\n",
       "      <td>single</td>\n",
       "      <td>secondary</td>\n",
       "      <td>no</td>\n",
       "      <td>29</td>\n",
       "      <td>yes</td>\n",
       "      <td>no</td>\n",
       "      <td>cellular</td>\n",
       "      <td>5</td>\n",
       "      <td>may</td>\n",
       "      <td>151</td>\n",
       "      <td>1</td>\n",
       "      <td>-1</td>\n",
       "      <td>0</td>\n",
       "      <td>no</td>\n",
       "    </tr>\n",
       "    <tr>\n",
       "      <th>2</th>\n",
       "      <td>33</td>\n",
       "      <td>entrepreneur</td>\n",
       "      <td>married</td>\n",
       "      <td>secondary</td>\n",
       "      <td>no</td>\n",
       "      <td>2</td>\n",
       "      <td>yes</td>\n",
       "      <td>yes</td>\n",
       "      <td>cellular</td>\n",
       "      <td>5</td>\n",
       "      <td>may</td>\n",
       "      <td>76</td>\n",
       "      <td>1</td>\n",
       "      <td>-1</td>\n",
       "      <td>0</td>\n",
       "      <td>no</td>\n",
       "    </tr>\n",
       "    <tr>\n",
       "      <th>3</th>\n",
       "      <td>47</td>\n",
       "      <td>blue-collar</td>\n",
       "      <td>married</td>\n",
       "      <td>secondary</td>\n",
       "      <td>no</td>\n",
       "      <td>1506</td>\n",
       "      <td>yes</td>\n",
       "      <td>no</td>\n",
       "      <td>cellular</td>\n",
       "      <td>5</td>\n",
       "      <td>may</td>\n",
       "      <td>92</td>\n",
       "      <td>1</td>\n",
       "      <td>-1</td>\n",
       "      <td>0</td>\n",
       "      <td>no</td>\n",
       "    </tr>\n",
       "    <tr>\n",
       "      <th>4</th>\n",
       "      <td>33</td>\n",
       "      <td>blue-collar</td>\n",
       "      <td>single</td>\n",
       "      <td>secondary</td>\n",
       "      <td>no</td>\n",
       "      <td>1</td>\n",
       "      <td>no</td>\n",
       "      <td>no</td>\n",
       "      <td>cellular</td>\n",
       "      <td>5</td>\n",
       "      <td>may</td>\n",
       "      <td>198</td>\n",
       "      <td>1</td>\n",
       "      <td>-1</td>\n",
       "      <td>0</td>\n",
       "      <td>no</td>\n",
       "    </tr>\n",
       "  </tbody>\n",
       "</table>\n",
       "</div>"
      ],
      "text/plain": [
       "   age           job  marital  education default  balance housing loan  \\\n",
       "0   58    management  married   tertiary      no     2143     yes   no   \n",
       "1   44    technician   single  secondary      no       29     yes   no   \n",
       "2   33  entrepreneur  married  secondary      no        2     yes  yes   \n",
       "3   47   blue-collar  married  secondary      no     1506     yes   no   \n",
       "4   33   blue-collar   single  secondary      no        1      no   no   \n",
       "\n",
       "    contact  day month  duration  campaign  pdays  previous   y  \n",
       "0  cellular    5   may       261         1     -1         0  no  \n",
       "1  cellular    5   may       151         1     -1         0  no  \n",
       "2  cellular    5   may        76         1     -1         0  no  \n",
       "3  cellular    5   may        92         1     -1         0  no  \n",
       "4  cellular    5   may       198         1     -1         0  no  "
      ]
     },
     "execution_count": 26,
     "metadata": {},
     "output_type": "execute_result"
    }
   ],
   "source": [
    "data_used.head()"
   ]
  },
  {
   "cell_type": "code",
   "execution_count": 27,
   "id": "d1278f74-b5cb-4960-9f31-e909e0e03924",
   "metadata": {
    "tags": []
   },
   "outputs": [],
   "source": [
    "# after feature selection\n",
    "category = ['job','marital','education','default','housing','loan','contact','month','y']\n",
    "cat_ordinal = ['education','default','housing','loan','month','y']\n",
    "cat_nominal = ['job','contact', 'marital']"
   ]
  },
  {
   "cell_type": "code",
   "execution_count": 28,
   "id": "49d6da70-7d97-4367-9061-ed612edcbfc4",
   "metadata": {
    "tags": []
   },
   "outputs": [
    {
     "data": {
      "text/plain": [
       "contact\n",
       "cellular     42305\n",
       "telephone     2906\n",
       "Name: count, dtype: int64"
      ]
     },
     "execution_count": 28,
     "metadata": {},
     "output_type": "execute_result"
    }
   ],
   "source": [
    "data_used.contact.value_counts()"
   ]
  },
  {
   "cell_type": "code",
   "execution_count": 29,
   "id": "f6d3e7e0-0945-4161-af92-e8d60f5fece0",
   "metadata": {
    "tags": []
   },
   "outputs": [],
   "source": [
    "mapping_month = {\n",
    "    'jan' : 0,\n",
    "    'feb' : 1,\n",
    "    'mar' : 2,\n",
    "    'apr' : 3,\n",
    "    'may' : 4,\n",
    "    'jun' : 5,\n",
    "    'jul' : 6,\n",
    "    'aug' : 7,\n",
    "    'sep' : 8,\n",
    "    'oct' : 9,\n",
    "    'nov' : 10,\n",
    "    'dec' : 11\n",
    "}\n",
    "\n",
    "data_used['month'] = data_used['month'].map(mapping_month)"
   ]
  },
  {
   "cell_type": "code",
   "execution_count": 30,
   "id": "4d3465b4-57a0-40e3-8cc1-00a490570cec",
   "metadata": {
    "tags": []
   },
   "outputs": [],
   "source": [
    "mapping_education = {\n",
    "    'primary'   : 0,\n",
    "    'secondary' : 1, \n",
    "    'tertiary'  :2\n",
    "}\n",
    "\n",
    "data_used['education'] = data_used['education'].map(mapping_education)"
   ]
  },
  {
   "cell_type": "code",
   "execution_count": 31,
   "id": "cd212854-3ce2-4097-b6f8-1b431e3c7bfe",
   "metadata": {
    "tags": []
   },
   "outputs": [],
   "source": [
    "mapping_default = {\n",
    "    'yes' : 1,\n",
    "    'no'  : 0\n",
    "}\n",
    "\n",
    "data_used['default'] = data_used['default'].map(mapping_default)"
   ]
  },
  {
   "cell_type": "code",
   "execution_count": 32,
   "id": "7c9d76f4-dfd1-4760-9e07-bdde62aece28",
   "metadata": {
    "tags": []
   },
   "outputs": [],
   "source": [
    "mapping_housing = {\n",
    "    'yes' : 1,\n",
    "    'no'  : 0\n",
    "}\n",
    "\n",
    "data_used['housing'] = data_used['housing'].map(mapping_housing)"
   ]
  },
  {
   "cell_type": "code",
   "execution_count": 33,
   "id": "997b8f24-aa37-44e7-acf7-c61ae0d61a56",
   "metadata": {
    "tags": []
   },
   "outputs": [],
   "source": [
    "mapping_loan = {\n",
    "    'yes' : 1,\n",
    "    'no'  : 0\n",
    "}\n",
    "\n",
    "data_used['loan'] = data_used['loan'].map(mapping_loan)"
   ]
  },
  {
   "cell_type": "code",
   "execution_count": 34,
   "id": "658193c6-7ecd-47f1-853b-50c0080e4a99",
   "metadata": {
    "tags": []
   },
   "outputs": [],
   "source": [
    "mapping_y = {\n",
    "    'yes' : 1,\n",
    "    'no'  : 0\n",
    "}\n",
    "\n",
    "data_used['y'] = data_used['y'].map(mapping_y)"
   ]
  },
  {
   "cell_type": "code",
   "execution_count": 45,
   "id": "c4fa9890-867e-4987-abd2-207ba50a2319",
   "metadata": {
    "tags": []
   },
   "outputs": [
    {
     "name": "stdout",
     "output_type": "stream",
     "text": [
      "<class 'pandas.core.frame.DataFrame'>\n",
      "RangeIndex: 45211 entries, 0 to 45210\n",
      "Data columns (total 16 columns):\n",
      " #   Column     Non-Null Count  Dtype \n",
      "---  ------     --------------  ----- \n",
      " 0   age        45211 non-null  int64 \n",
      " 1   job        45211 non-null  object\n",
      " 2   marital    45211 non-null  object\n",
      " 3   education  45211 non-null  int64 \n",
      " 4   default    45211 non-null  int64 \n",
      " 5   balance    45211 non-null  int64 \n",
      " 6   housing    45211 non-null  int64 \n",
      " 7   loan       45211 non-null  int64 \n",
      " 8   contact    45211 non-null  object\n",
      " 9   day        45211 non-null  int64 \n",
      " 10  month      45211 non-null  int64 \n",
      " 11  duration   45211 non-null  int64 \n",
      " 12  campaign   45211 non-null  int64 \n",
      " 13  pdays      45211 non-null  int64 \n",
      " 14  previous   45211 non-null  int64 \n",
      " 15  y          45211 non-null  int64 \n",
      "dtypes: int64(13), object(3)\n",
      "memory usage: 5.5+ MB\n"
     ]
    }
   ],
   "source": [
    "data_used.info()"
   ]
  },
  {
   "cell_type": "code",
   "execution_count": 35,
   "id": "0906f7ba-db2f-4ea2-9684-981139056a6b",
   "metadata": {
    "tags": []
   },
   "outputs": [],
   "source": [
    "output_normal['month'] = data_used.loc[:,['month']]\n",
    "output_normal['education'] = data_used.loc[:,['education']]\n",
    "output_normal['default'] = data_used.loc[:,['default']]\n",
    "output_normal['housing'] = data_used.loc[:,['housing']]\n",
    "output_normal['loan'] = data_used.loc[:,['loan']]\n",
    "output_normal['y'] = data_used.loc[:,['y']]"
   ]
  },
  {
   "cell_type": "code",
   "execution_count": 46,
   "id": "b0fa9030-0997-4fbb-a3a6-67813f97e8d1",
   "metadata": {
    "tags": []
   },
   "outputs": [
    {
     "name": "stdout",
     "output_type": "stream",
     "text": [
      "<class 'pandas.core.frame.DataFrame'>\n",
      "Index: 45211 entries, 1 to 45209\n",
      "Data columns (total 13 columns):\n",
      " #   Column             Non-Null Count  Dtype  \n",
      "---  ------             --------------  -----  \n",
      " 0   age                40311 non-null  float64\n",
      " 1   campaign           34818 non-null  float64\n",
      " 2   balance            33528 non-null  float64\n",
      " 3   duration           34094 non-null  float64\n",
      " 4   day                40311 non-null  float64\n",
      " 5   month              40311 non-null  float64\n",
      " 6   education          40311 non-null  float64\n",
      " 7   default            40311 non-null  float64\n",
      " 8   housing            40311 non-null  float64\n",
      " 9   loan               40311 non-null  float64\n",
      " 10  y                  40311 non-null  float64\n",
      " 11  contact_cellular   45211 non-null  bool   \n",
      " 12  contact_telephone  45211 non-null  bool   \n",
      "dtypes: bool(2), float64(11)\n",
      "memory usage: 4.2 MB\n"
     ]
    }
   ],
   "source": [
    "output_normal.info()"
   ]
  },
  {
   "cell_type": "code",
   "execution_count": 37,
   "id": "b4e153ef-84d6-4ebd-824e-b51770eaf98a",
   "metadata": {
    "tags": []
   },
   "outputs": [
    {
     "data": {
      "text/html": [
       "<div>\n",
       "<style scoped>\n",
       "    .dataframe tbody tr th:only-of-type {\n",
       "        vertical-align: middle;\n",
       "    }\n",
       "\n",
       "    .dataframe tbody tr th {\n",
       "        vertical-align: top;\n",
       "    }\n",
       "\n",
       "    .dataframe thead th {\n",
       "        text-align: right;\n",
       "    }\n",
       "</style>\n",
       "<table border=\"1\" class=\"dataframe\">\n",
       "  <thead>\n",
       "    <tr style=\"text-align: right;\">\n",
       "      <th></th>\n",
       "      <th>contact_cellular</th>\n",
       "      <th>contact_telephone</th>\n",
       "    </tr>\n",
       "  </thead>\n",
       "  <tbody>\n",
       "    <tr>\n",
       "      <th>0</th>\n",
       "      <td>True</td>\n",
       "      <td>False</td>\n",
       "    </tr>\n",
       "    <tr>\n",
       "      <th>1</th>\n",
       "      <td>True</td>\n",
       "      <td>False</td>\n",
       "    </tr>\n",
       "    <tr>\n",
       "      <th>2</th>\n",
       "      <td>True</td>\n",
       "      <td>False</td>\n",
       "    </tr>\n",
       "    <tr>\n",
       "      <th>3</th>\n",
       "      <td>True</td>\n",
       "      <td>False</td>\n",
       "    </tr>\n",
       "    <tr>\n",
       "      <th>4</th>\n",
       "      <td>True</td>\n",
       "      <td>False</td>\n",
       "    </tr>\n",
       "    <tr>\n",
       "      <th>...</th>\n",
       "      <td>...</td>\n",
       "      <td>...</td>\n",
       "    </tr>\n",
       "    <tr>\n",
       "      <th>45206</th>\n",
       "      <td>True</td>\n",
       "      <td>False</td>\n",
       "    </tr>\n",
       "    <tr>\n",
       "      <th>45207</th>\n",
       "      <td>True</td>\n",
       "      <td>False</td>\n",
       "    </tr>\n",
       "    <tr>\n",
       "      <th>45208</th>\n",
       "      <td>True</td>\n",
       "      <td>False</td>\n",
       "    </tr>\n",
       "    <tr>\n",
       "      <th>45209</th>\n",
       "      <td>False</td>\n",
       "      <td>True</td>\n",
       "    </tr>\n",
       "    <tr>\n",
       "      <th>45210</th>\n",
       "      <td>True</td>\n",
       "      <td>False</td>\n",
       "    </tr>\n",
       "  </tbody>\n",
       "</table>\n",
       "<p>45211 rows × 2 columns</p>\n",
       "</div>"
      ],
      "text/plain": [
       "       contact_cellular  contact_telephone\n",
       "0                  True              False\n",
       "1                  True              False\n",
       "2                  True              False\n",
       "3                  True              False\n",
       "4                  True              False\n",
       "...                 ...                ...\n",
       "45206              True              False\n",
       "45207              True              False\n",
       "45208              True              False\n",
       "45209             False               True\n",
       "45210              True              False\n",
       "\n",
       "[45211 rows x 2 columns]"
      ]
     },
     "execution_count": 37,
     "metadata": {},
     "output_type": "execute_result"
    }
   ],
   "source": [
    "contact_ohe = pd.get_dummies(data_used['contact'], prefix='contact')\n",
    "contact_ohe"
   ]
  },
  {
   "cell_type": "code",
   "execution_count": 38,
   "id": "9f33ec33-7eb5-44c8-86d5-7be73e35ad86",
   "metadata": {
    "tags": []
   },
   "outputs": [],
   "source": [
    "output_normal = pd.concat([output_normal,contact_ohe], axis=1)"
   ]
  },
  {
   "cell_type": "code",
   "execution_count": 39,
   "id": "ef54b9e4-b03c-4b2e-863a-ad94ed7a5f20",
   "metadata": {
    "tags": []
   },
   "outputs": [
    {
     "data": {
      "text/html": [
       "<div>\n",
       "<style scoped>\n",
       "    .dataframe tbody tr th:only-of-type {\n",
       "        vertical-align: middle;\n",
       "    }\n",
       "\n",
       "    .dataframe tbody tr th {\n",
       "        vertical-align: top;\n",
       "    }\n",
       "\n",
       "    .dataframe thead th {\n",
       "        text-align: right;\n",
       "    }\n",
       "</style>\n",
       "<table border=\"1\" class=\"dataframe\">\n",
       "  <thead>\n",
       "    <tr style=\"text-align: right;\">\n",
       "      <th></th>\n",
       "      <th>age</th>\n",
       "      <th>campaign</th>\n",
       "      <th>balance</th>\n",
       "      <th>duration</th>\n",
       "      <th>day</th>\n",
       "      <th>month</th>\n",
       "      <th>education</th>\n",
       "      <th>default</th>\n",
       "      <th>housing</th>\n",
       "      <th>loan</th>\n",
       "      <th>y</th>\n",
       "      <th>contact_cellular</th>\n",
       "      <th>contact_telephone</th>\n",
       "    </tr>\n",
       "  </thead>\n",
       "  <tbody>\n",
       "    <tr>\n",
       "      <th>1</th>\n",
       "      <td>44.0</td>\n",
       "      <td>1.0</td>\n",
       "      <td>29.0</td>\n",
       "      <td>151.0</td>\n",
       "      <td>5.0</td>\n",
       "      <td>4.0</td>\n",
       "      <td>1.0</td>\n",
       "      <td>0.0</td>\n",
       "      <td>1.0</td>\n",
       "      <td>0.0</td>\n",
       "      <td>0.0</td>\n",
       "      <td>True</td>\n",
       "      <td>False</td>\n",
       "    </tr>\n",
       "    <tr>\n",
       "      <th>2</th>\n",
       "      <td>33.0</td>\n",
       "      <td>1.0</td>\n",
       "      <td>2.0</td>\n",
       "      <td>76.0</td>\n",
       "      <td>5.0</td>\n",
       "      <td>4.0</td>\n",
       "      <td>1.0</td>\n",
       "      <td>0.0</td>\n",
       "      <td>1.0</td>\n",
       "      <td>1.0</td>\n",
       "      <td>0.0</td>\n",
       "      <td>True</td>\n",
       "      <td>False</td>\n",
       "    </tr>\n",
       "    <tr>\n",
       "      <th>3</th>\n",
       "      <td>47.0</td>\n",
       "      <td>1.0</td>\n",
       "      <td>1506.0</td>\n",
       "      <td>92.0</td>\n",
       "      <td>5.0</td>\n",
       "      <td>4.0</td>\n",
       "      <td>1.0</td>\n",
       "      <td>0.0</td>\n",
       "      <td>1.0</td>\n",
       "      <td>0.0</td>\n",
       "      <td>0.0</td>\n",
       "      <td>True</td>\n",
       "      <td>False</td>\n",
       "    </tr>\n",
       "    <tr>\n",
       "      <th>4</th>\n",
       "      <td>33.0</td>\n",
       "      <td>1.0</td>\n",
       "      <td>1.0</td>\n",
       "      <td>198.0</td>\n",
       "      <td>5.0</td>\n",
       "      <td>4.0</td>\n",
       "      <td>1.0</td>\n",
       "      <td>0.0</td>\n",
       "      <td>0.0</td>\n",
       "      <td>0.0</td>\n",
       "      <td>0.0</td>\n",
       "      <td>True</td>\n",
       "      <td>False</td>\n",
       "    </tr>\n",
       "    <tr>\n",
       "      <th>5</th>\n",
       "      <td>35.0</td>\n",
       "      <td>1.0</td>\n",
       "      <td>231.0</td>\n",
       "      <td>139.0</td>\n",
       "      <td>5.0</td>\n",
       "      <td>4.0</td>\n",
       "      <td>2.0</td>\n",
       "      <td>0.0</td>\n",
       "      <td>1.0</td>\n",
       "      <td>0.0</td>\n",
       "      <td>0.0</td>\n",
       "      <td>True</td>\n",
       "      <td>False</td>\n",
       "    </tr>\n",
       "  </tbody>\n",
       "</table>\n",
       "</div>"
      ],
      "text/plain": [
       "    age  campaign  balance  duration  day  month  education  default  housing  \\\n",
       "1  44.0       1.0     29.0     151.0  5.0    4.0        1.0      0.0      1.0   \n",
       "2  33.0       1.0      2.0      76.0  5.0    4.0        1.0      0.0      1.0   \n",
       "3  47.0       1.0   1506.0      92.0  5.0    4.0        1.0      0.0      1.0   \n",
       "4  33.0       1.0      1.0     198.0  5.0    4.0        1.0      0.0      0.0   \n",
       "5  35.0       1.0    231.0     139.0  5.0    4.0        2.0      0.0      1.0   \n",
       "\n",
       "   loan    y  contact_cellular  contact_telephone  \n",
       "1   0.0  0.0              True              False  \n",
       "2   1.0  0.0              True              False  \n",
       "3   0.0  0.0              True              False  \n",
       "4   0.0  0.0              True              False  \n",
       "5   0.0  0.0              True              False  "
      ]
     },
     "execution_count": 39,
     "metadata": {},
     "output_type": "execute_result"
    }
   ],
   "source": [
    "output_normal.head()"
   ]
  },
  {
   "cell_type": "code",
   "execution_count": 40,
   "id": "350b5b48-20e2-4615-9d31-867e57d7be31",
   "metadata": {
    "tags": []
   },
   "outputs": [
    {
     "data": {
      "text/plain": [
       "age                   4900\n",
       "campaign             10393\n",
       "balance              11683\n",
       "duration             11117\n",
       "day                   4900\n",
       "month                 4900\n",
       "education             4900\n",
       "default               4900\n",
       "housing               4900\n",
       "loan                  4900\n",
       "y                     4900\n",
       "contact_cellular         0\n",
       "contact_telephone        0\n",
       "dtype: int64"
      ]
     },
     "execution_count": 40,
     "metadata": {},
     "output_type": "execute_result"
    }
   ],
   "source": [
    "output_normal.isna().sum()"
   ]
  },
  {
   "cell_type": "markdown",
   "id": "9af9067d-b010-4f2f-9380-482faa2693d2",
   "metadata": {},
   "source": [
    "### Feature Transformation "
   ]
  },
  {
   "cell_type": "code",
   "execution_count": 41,
   "id": "ad72d42a-a509-4041-a452-a699022c07ed",
   "metadata": {
    "tags": []
   },
   "outputs": [],
   "source": [
    "output_normal.loc[:,['age']] = StandardScaler().fit_transform(output_normal['age'].values.reshape(len(output_normal),1))\n",
    "output_normal.loc[:,['campaign']] = StandardScaler().fit_transform(output_normal['campaign'].values.reshape(len(output_normal),1))\n",
    "output_normal.loc[:,['balance']] = StandardScaler().fit_transform(output_normal['balance'].values.reshape(len(output_normal),1))\n",
    "output_normal.loc[:,['duration']] = StandardScaler().fit_transform(output_normal['duration'].values.reshape(len(output_normal),1))\n",
    "output_normal.loc[:,['day']] = StandardScaler().fit_transform(output_normal['age'].values.reshape(len(output_normal),1))"
   ]
  },
  {
   "cell_type": "code",
   "execution_count": 42,
   "id": "13279bdb-9c67-4403-8fab-646b029d10ab",
   "metadata": {
    "tags": []
   },
   "outputs": [
    {
     "data": {
      "text/html": [
       "<div>\n",
       "<style scoped>\n",
       "    .dataframe tbody tr th:only-of-type {\n",
       "        vertical-align: middle;\n",
       "    }\n",
       "\n",
       "    .dataframe tbody tr th {\n",
       "        vertical-align: top;\n",
       "    }\n",
       "\n",
       "    .dataframe thead th {\n",
       "        text-align: right;\n",
       "    }\n",
       "</style>\n",
       "<table border=\"1\" class=\"dataframe\">\n",
       "  <thead>\n",
       "    <tr style=\"text-align: right;\">\n",
       "      <th></th>\n",
       "      <th>age</th>\n",
       "      <th>campaign</th>\n",
       "      <th>balance</th>\n",
       "      <th>duration</th>\n",
       "      <th>day</th>\n",
       "      <th>month</th>\n",
       "      <th>education</th>\n",
       "      <th>default</th>\n",
       "      <th>housing</th>\n",
       "      <th>loan</th>\n",
       "      <th>y</th>\n",
       "      <th>contact_cellular</th>\n",
       "      <th>contact_telephone</th>\n",
       "    </tr>\n",
       "  </thead>\n",
       "  <tbody>\n",
       "    <tr>\n",
       "      <th>1</th>\n",
       "      <td>0.661874</td>\n",
       "      <td>-0.905714</td>\n",
       "      <td>-0.714990</td>\n",
       "      <td>-0.198504</td>\n",
       "      <td>0.661874</td>\n",
       "      <td>4.0</td>\n",
       "      <td>1.0</td>\n",
       "      <td>0.0</td>\n",
       "      <td>1.0</td>\n",
       "      <td>0.0</td>\n",
       "      <td>0.0</td>\n",
       "      <td>True</td>\n",
       "      <td>False</td>\n",
       "    </tr>\n",
       "    <tr>\n",
       "      <th>2</th>\n",
       "      <td>-0.669147</td>\n",
       "      <td>-0.905714</td>\n",
       "      <td>-0.761848</td>\n",
       "      <td>-0.933178</td>\n",
       "      <td>-0.669147</td>\n",
       "      <td>4.0</td>\n",
       "      <td>1.0</td>\n",
       "      <td>0.0</td>\n",
       "      <td>1.0</td>\n",
       "      <td>1.0</td>\n",
       "      <td>0.0</td>\n",
       "      <td>True</td>\n",
       "      <td>False</td>\n",
       "    </tr>\n",
       "    <tr>\n",
       "      <th>3</th>\n",
       "      <td>1.024880</td>\n",
       "      <td>-0.905714</td>\n",
       "      <td>1.848317</td>\n",
       "      <td>-0.776447</td>\n",
       "      <td>1.024880</td>\n",
       "      <td>4.0</td>\n",
       "      <td>1.0</td>\n",
       "      <td>0.0</td>\n",
       "      <td>1.0</td>\n",
       "      <td>0.0</td>\n",
       "      <td>0.0</td>\n",
       "      <td>True</td>\n",
       "      <td>False</td>\n",
       "    </tr>\n",
       "    <tr>\n",
       "      <th>4</th>\n",
       "      <td>-0.669147</td>\n",
       "      <td>-0.905714</td>\n",
       "      <td>-0.763583</td>\n",
       "      <td>0.261891</td>\n",
       "      <td>-0.669147</td>\n",
       "      <td>4.0</td>\n",
       "      <td>1.0</td>\n",
       "      <td>0.0</td>\n",
       "      <td>0.0</td>\n",
       "      <td>0.0</td>\n",
       "      <td>0.0</td>\n",
       "      <td>True</td>\n",
       "      <td>False</td>\n",
       "    </tr>\n",
       "    <tr>\n",
       "      <th>5</th>\n",
       "      <td>-0.427143</td>\n",
       "      <td>-0.905714</td>\n",
       "      <td>-0.364423</td>\n",
       "      <td>-0.316052</td>\n",
       "      <td>-0.427143</td>\n",
       "      <td>4.0</td>\n",
       "      <td>2.0</td>\n",
       "      <td>0.0</td>\n",
       "      <td>1.0</td>\n",
       "      <td>0.0</td>\n",
       "      <td>0.0</td>\n",
       "      <td>True</td>\n",
       "      <td>False</td>\n",
       "    </tr>\n",
       "  </tbody>\n",
       "</table>\n",
       "</div>"
      ],
      "text/plain": [
       "        age  campaign   balance  duration       day  month  education  \\\n",
       "1  0.661874 -0.905714 -0.714990 -0.198504  0.661874    4.0        1.0   \n",
       "2 -0.669147 -0.905714 -0.761848 -0.933178 -0.669147    4.0        1.0   \n",
       "3  1.024880 -0.905714  1.848317 -0.776447  1.024880    4.0        1.0   \n",
       "4 -0.669147 -0.905714 -0.763583  0.261891 -0.669147    4.0        1.0   \n",
       "5 -0.427143 -0.905714 -0.364423 -0.316052 -0.427143    4.0        2.0   \n",
       "\n",
       "   default  housing  loan    y  contact_cellular  contact_telephone  \n",
       "1      0.0      1.0   0.0  0.0              True              False  \n",
       "2      0.0      1.0   1.0  0.0              True              False  \n",
       "3      0.0      1.0   0.0  0.0              True              False  \n",
       "4      0.0      0.0   0.0  0.0              True              False  \n",
       "5      0.0      1.0   0.0  0.0              True              False  "
      ]
     },
     "execution_count": 42,
     "metadata": {},
     "output_type": "execute_result"
    }
   ],
   "source": [
    "output_normal.head()"
   ]
  },
  {
   "cell_type": "code",
   "execution_count": null,
   "id": "8ef3bdf5-11a0-4c1d-893c-cb1b4d487f18",
   "metadata": {},
   "outputs": [],
   "source": []
  }
 ],
 "metadata": {
  "kernelspec": {
   "display_name": "final_project",
   "language": "python",
   "name": "final_project"
  },
  "language_info": {
   "codemirror_mode": {
    "name": "ipython",
    "version": 3
   },
   "file_extension": ".py",
   "mimetype": "text/x-python",
   "name": "python",
   "nbconvert_exporter": "python",
   "pygments_lexer": "ipython3",
   "version": "3.11.4"
  }
 },
 "nbformat": 4,
 "nbformat_minor": 5
}
